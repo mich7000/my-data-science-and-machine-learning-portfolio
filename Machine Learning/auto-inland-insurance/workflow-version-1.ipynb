{
 "cells": [
  {
   "cell_type": "markdown",
   "metadata": {
    "id": "_I-46nWjP2-z"
   },
   "source": [
    "## Objective\n",
    "The objective is to develop a predictive model that determines if a customer will submit a vehicle insurance claim in the next three months. This solution will help streamline financial planning at AutoInland and allow them to better serve their customers by understanding which customers are likely to submit a claim."
   ]
  },
  {
   "cell_type": "code",
   "execution_count": null,
   "metadata": {
    "colab": {
     "base_uri": "https://localhost:8080/",
     "height": 35
    },
    "id": "td5K9MRHdLA3",
    "outputId": "2f950483-2aa4-4a51-ca32-d68100ba9150"
   },
   "outputs": [
    {
     "data": {
      "application/vnd.google.colaboratory.intrinsic+json": {
       "type": "string"
      },
      "text/plain": [
       "'0.90'"
      ]
     },
     "execution_count": 144,
     "metadata": {
      "tags": []
     },
     "output_type": "execute_result"
    }
   ],
   "source": [
    "import xgboost\n",
    "xgboost.__version__"
   ]
  },
  {
   "cell_type": "code",
   "execution_count": 1,
   "metadata": {
    "id": "g3lES5ZNWHzQ"
   },
   "outputs": [],
   "source": [
    "# Loading the required packages\n",
    "\n",
    "import random\n",
    "random.seed(12)\n",
    "\n",
    "import pandas as pd\n",
    "import numpy as np\n",
    "import matplotlib.pyplot as plt\n",
    "import seaborn as sns\n",
    "\n",
    "\n",
    "\n",
    "from sklearn.model_selection import train_test_split, learning_curve\n",
    "from sklearn.preprocessing import StandardScaler, OneHotEncoder, MinMaxScaler, LabelEncoder, OrdinalEncoder\n",
    "from sklearn.compose import ColumnTransformer\n",
    "from sklearn.metrics import confusion_matrix, f1_score, plot_confusion_matrix, classification_report\n",
    "from sklearn.pipeline import Pipeline\n",
    "\n",
    "\n",
    "\n",
    "from sklearn.ensemble import RandomForestClassifier\n",
    "from sklearn.linear_model import LogisticRegression\n",
    "from xgboost import XGBClassifier\n",
    "\n",
    "plt.rcParams[\"figure.figsize\"] = (12,7)"
   ]
  },
  {
   "cell_type": "markdown",
   "metadata": {
    "id": "u4q1GFLJteQn"
   },
   "source": [
    "# Looking at the data\n",
    "\n",
    "* Exploring the data and performing feature engineering."
   ]
  },
  {
   "cell_type": "markdown",
   "metadata": {
    "id": "UpbdS2H-7MbH"
   },
   "source": [
    "Before working with this data, personal data in this dataset must be protected according to the data protection law.\n",
    "You must read this article to get the understanding of data minimisation and privacy preserving.<br>\n",
    "https://ico.org.uk/about-the-ico/news-and-events/ai-blog-data-minimisation-and-privacy-preserving-techniques-in-ai-systems/"
   ]
  },
  {
   "cell_type": "code",
   "execution_count": 2,
   "metadata": {
    "id": "eFDUF1EQX8iS"
   },
   "outputs": [],
   "source": [
    "train= pd.read_csv('Train.csv') # loads the training set\n",
    "test= pd.read_csv('Test.csv') # loadsd the test set"
   ]
  },
  {
   "cell_type": "code",
   "execution_count": 3,
   "metadata": {
    "colab": {
     "base_uri": "https://localhost:8080/",
     "height": 281
    },
    "id": "3j8YL1TEZQHq",
    "outputId": "6a6be870-d572-4fea-86ef-85e1f13b63c2"
   },
   "outputs": [
    {
     "data": {
      "text/plain": [
       "<matplotlib.axes._subplots.AxesSubplot at 0x7f1aa0498110>"
      ]
     },
     "execution_count": 3,
     "metadata": {
      "tags": []
     },
     "output_type": "execute_result"
    },
    {
     "data": {
      "image/png": "[encoded data removed]",
      "text/plain": [
       "<Figure size 432x288 with 1 Axes>"
      ]
     },
     "metadata": {
      "needs_background": "light",
      "tags": []
     },
     "output_type": "display_data"
    }
   ],
   "source": [
    "# the figure below shows the frtequency of missing values\n",
    "# in each feature of the training data.\n",
    "train.isnull().sum().plot(kind='barh', color= 'grey')"
   ]
  },
  {
   "cell_type": "code",
   "execution_count": 4,
   "metadata": {
    "colab": {
     "base_uri": "https://localhost:8080/"
    },
    "id": "K6CftVcwZ0_L",
    "outputId": "a4a4604b-f53a-46fa-8a22-e9b5ebf25cda"
   },
   "outputs": [
    {
     "data": {
      "text/plain": [
       "ID                           0\n",
       "Policy Start Date            0\n",
       "Policy End Date              0\n",
       "Gender                     359\n",
       "Age                          0\n",
       "First Transaction Date       0\n",
       "No_Pol                       0\n",
       "Car_Category              3738\n",
       "Subject_Car_Colour        6962\n",
       "Subject_Car_Make          2476\n",
       "LGA_Name                  6476\n",
       "State                     6488\n",
       "ProductName                  0\n",
       "target                       0\n",
       "dtype: int64"
      ]
     },
     "execution_count": 4,
     "metadata": {
      "tags": []
     },
     "output_type": "execute_result"
    }
   ],
   "source": [
    "train.isnull().sum() # it the number of missing values in wach feature."
   ]
  },
  {
   "cell_type": "code",
   "execution_count": 5,
   "metadata": {
    "colab": {
     "base_uri": "https://localhost:8080/",
     "height": 281
    },
    "id": "zijrkQ5pZZYx",
    "outputId": "9f85a4da-516e-40c3-fe43-d5ce7685ed48"
   },
   "outputs": [
    {
     "data": {
      "text/plain": [
       "<matplotlib.axes._subplots.AxesSubplot at 0x7f1a9feeb950>"
      ]
     },
     "execution_count": 5,
     "metadata": {
      "tags": []
     },
     "output_type": "execute_result"
    },
    {
     "data": {
      "image/png": "[encoded data removed]",
      "text/plain": [
       "<Figure size 432x288 with 1 Axes>"
      ]
     },
     "metadata": {
      "needs_background": "light",
      "tags": []
     },
     "output_type": "display_data"
    }
   ],
   "source": [
    "test.isnull().sum().plot(kind='barh', color= 'grey') # shows the plot of missing values in the\n",
    "                                                        # test set"
   ]
  },
  {
   "cell_type": "code",
   "execution_count": null,
   "metadata": {
    "colab": {
     "base_uri": "https://localhost:8080/"
    },
    "id": "KfQAcKChZ805",
    "outputId": "441398de-3e59-4e4c-c2ca-02d10cdf89c8"
   },
   "outputs": [
    {
     "data": {
      "text/plain": [
       "ID                          0\n",
       "Policy Start Date           0\n",
       "Policy End Date             0\n",
       "Gender                     41\n",
       "Age                         0\n",
       "First Transaction Date      0\n",
       "No_Pol                      0\n",
       "Car_Category              372\n",
       "Subject_Car_Colour        697\n",
       "Subject_Car_Make          248\n",
       "LGA_Name                  656\n",
       "State                     656\n",
       "ProductName                 0\n",
       "dtype: int64"
      ]
     },
     "execution_count": 194,
     "metadata": {
      "tags": []
     },
     "output_type": "execute_result"
    }
   ],
   "source": [
    "test.isnull().sum() # shows the number of missing values of the test set."
   ]
  },
  {
   "cell_type": "code",
   "execution_count": null,
   "metadata": {
    "colab": {
     "base_uri": "https://localhost:8080/",
     "height": 204
    },
    "id": "33r3RHELX8lJ",
    "outputId": "aa9a74ce-7be5-4e5a-dd5a-da4e38bf38a9"
   },
   "outputs": [
    {
     "data": {
      "text/html": [
       "<div>\n",
       "<style scoped>\n",
       "    .dataframe tbody tr th:only-of-type {\n",
       "        vertical-align: middle;\n",
       "    }\n",
       "\n",
       "    .dataframe tbody tr th {\n",
       "        vertical-align: top;\n",
       "    }\n",
       "\n",
       "    .dataframe thead th {\n",
       "        text-align: right;\n",
       "    }\n",
       "</style>\n",
       "<table border=\"1\" class=\"dataframe\">\n",
       "  <thead>\n",
       "    <tr style=\"text-align: right;\">\n",
       "      <th></th>\n",
       "      <th>ID</th>\n",
       "      <th>Policy Start Date</th>\n",
       "      <th>Policy End Date</th>\n",
       "      <th>Gender</th>\n",
       "      <th>Age</th>\n",
       "      <th>First Transaction Date</th>\n",
       "      <th>No_Pol</th>\n",
       "      <th>Car_Category</th>\n",
       "      <th>Subject_Car_Colour</th>\n",
       "      <th>Subject_Car_Make</th>\n",
       "      <th>LGA_Name</th>\n",
       "      <th>State</th>\n",
       "      <th>ProductName</th>\n",
       "      <th>target</th>\n",
       "    </tr>\n",
       "  </thead>\n",
       "  <tbody>\n",
       "    <tr>\n",
       "      <th>0</th>\n",
       "      <td>ID_0040R73</td>\n",
       "      <td>2010-05-14</td>\n",
       "      <td>2011-05-13</td>\n",
       "      <td>Male</td>\n",
       "      <td>30</td>\n",
       "      <td>2010-05-14</td>\n",
       "      <td>1</td>\n",
       "      <td>Saloon</td>\n",
       "      <td>Black</td>\n",
       "      <td>TOYOTA</td>\n",
       "      <td>NaN</td>\n",
       "      <td>NaN</td>\n",
       "      <td>Car Classic</td>\n",
       "      <td>0</td>\n",
       "    </tr>\n",
       "    <tr>\n",
       "      <th>1</th>\n",
       "      <td>ID_0046BNK</td>\n",
       "      <td>2010-11-29</td>\n",
       "      <td>2011-11-28</td>\n",
       "      <td>Female</td>\n",
       "      <td>79</td>\n",
       "      <td>2010-11-29</td>\n",
       "      <td>1</td>\n",
       "      <td>JEEP</td>\n",
       "      <td>Grey</td>\n",
       "      <td>TOYOTA</td>\n",
       "      <td>NaN</td>\n",
       "      <td>NaN</td>\n",
       "      <td>Car Classic</td>\n",
       "      <td>1</td>\n",
       "    </tr>\n",
       "    <tr>\n",
       "      <th>2</th>\n",
       "      <td>ID_005QMC3</td>\n",
       "      <td>2010-03-21</td>\n",
       "      <td>2011-03-20</td>\n",
       "      <td>Male</td>\n",
       "      <td>43</td>\n",
       "      <td>2010-03-21</td>\n",
       "      <td>1</td>\n",
       "      <td>Saloon</td>\n",
       "      <td>Red</td>\n",
       "      <td>TOYOTA</td>\n",
       "      <td>NaN</td>\n",
       "      <td>NaN</td>\n",
       "      <td>Car Classic</td>\n",
       "      <td>0</td>\n",
       "    </tr>\n",
       "    <tr>\n",
       "      <th>3</th>\n",
       "      <td>ID_0079OHW</td>\n",
       "      <td>2010-08-21</td>\n",
       "      <td>2011-08-20</td>\n",
       "      <td>Male</td>\n",
       "      <td>2</td>\n",
       "      <td>2010-08-21</td>\n",
       "      <td>1</td>\n",
       "      <td>NaN</td>\n",
       "      <td>NaN</td>\n",
       "      <td>NaN</td>\n",
       "      <td>NaN</td>\n",
       "      <td>NaN</td>\n",
       "      <td>CarSafe</td>\n",
       "      <td>0</td>\n",
       "    </tr>\n",
       "    <tr>\n",
       "      <th>4</th>\n",
       "      <td>ID_00BRP63</td>\n",
       "      <td>2010-08-29</td>\n",
       "      <td>2010-12-31</td>\n",
       "      <td>Entity</td>\n",
       "      <td>20</td>\n",
       "      <td>2010-08-29</td>\n",
       "      <td>3</td>\n",
       "      <td>NaN</td>\n",
       "      <td>NaN</td>\n",
       "      <td>NaN</td>\n",
       "      <td>Lagos</td>\n",
       "      <td>Lagos</td>\n",
       "      <td>Muuve</td>\n",
       "      <td>1</td>\n",
       "    </tr>\n",
       "  </tbody>\n",
       "</table>\n",
       "</div>"
      ],
      "text/plain": [
       "           ID Policy Start Date Policy End Date  ...  State  ProductName target\n",
       "0  ID_0040R73        2010-05-14      2011-05-13  ...    NaN  Car Classic      0\n",
       "1  ID_0046BNK        2010-11-29      2011-11-28  ...    NaN  Car Classic      1\n",
       "2  ID_005QMC3        2010-03-21      2011-03-20  ...    NaN  Car Classic      0\n",
       "3  ID_0079OHW        2010-08-21      2011-08-20  ...    NaN      CarSafe      0\n",
       "4  ID_00BRP63        2010-08-29      2010-12-31  ...  Lagos        Muuve      1\n",
       "\n",
       "[5 rows x 14 columns]"
      ]
     },
     "execution_count": 195,
     "metadata": {
      "tags": []
     },
     "output_type": "execute_result"
    }
   ],
   "source": [
    "train.head()"
   ]
  },
  {
   "cell_type": "code",
   "execution_count": null,
   "metadata": {
    "colab": {
     "base_uri": "https://localhost:8080/",
     "height": 204
    },
    "id": "Yt3qn2sbX8nh",
    "outputId": "43651a03-5c4c-4fa6-9f00-1a0960263a7e"
   },
   "outputs": [
    {
     "data": {
      "text/html": [
       "<div>\n",
       "<style scoped>\n",
       "    .dataframe tbody tr th:only-of-type {\n",
       "        vertical-align: middle;\n",
       "    }\n",
       "\n",
       "    .dataframe tbody tr th {\n",
       "        vertical-align: top;\n",
       "    }\n",
       "\n",
       "    .dataframe thead th {\n",
       "        text-align: right;\n",
       "    }\n",
       "</style>\n",
       "<table border=\"1\" class=\"dataframe\">\n",
       "  <thead>\n",
       "    <tr style=\"text-align: right;\">\n",
       "      <th></th>\n",
       "      <th>ID</th>\n",
       "      <th>Policy Start Date</th>\n",
       "      <th>Policy End Date</th>\n",
       "      <th>Gender</th>\n",
       "      <th>Age</th>\n",
       "      <th>First Transaction Date</th>\n",
       "      <th>No_Pol</th>\n",
       "      <th>Car_Category</th>\n",
       "      <th>Subject_Car_Colour</th>\n",
       "      <th>Subject_Car_Make</th>\n",
       "      <th>LGA_Name</th>\n",
       "      <th>State</th>\n",
       "      <th>ProductName</th>\n",
       "    </tr>\n",
       "  </thead>\n",
       "  <tbody>\n",
       "    <tr>\n",
       "      <th>0</th>\n",
       "      <td>ID_01QM0NU</td>\n",
       "      <td>2010-10-23</td>\n",
       "      <td>2011-10-22</td>\n",
       "      <td>Female</td>\n",
       "      <td>46</td>\n",
       "      <td>2010-10-23</td>\n",
       "      <td>1</td>\n",
       "      <td>NaN</td>\n",
       "      <td>NaN</td>\n",
       "      <td>Ford</td>\n",
       "      <td>Abuja Municipal</td>\n",
       "      <td>Abuja-Municipal</td>\n",
       "      <td>Car Classic</td>\n",
       "    </tr>\n",
       "    <tr>\n",
       "      <th>1</th>\n",
       "      <td>ID_024NJLZ</td>\n",
       "      <td>2010-10-14</td>\n",
       "      <td>2011-10-13</td>\n",
       "      <td>Male</td>\n",
       "      <td>32</td>\n",
       "      <td>2010-10-14</td>\n",
       "      <td>1</td>\n",
       "      <td>NaN</td>\n",
       "      <td>NaN</td>\n",
       "      <td>NaN</td>\n",
       "      <td>Kosofe</td>\n",
       "      <td>Benue</td>\n",
       "      <td>Car Classic</td>\n",
       "    </tr>\n",
       "    <tr>\n",
       "      <th>2</th>\n",
       "      <td>ID_02NOVWQ</td>\n",
       "      <td>2010-08-29</td>\n",
       "      <td>2011-08-28</td>\n",
       "      <td>Female</td>\n",
       "      <td>45</td>\n",
       "      <td>2010-08-29</td>\n",
       "      <td>2</td>\n",
       "      <td>Saloon</td>\n",
       "      <td>Black</td>\n",
       "      <td>Honda</td>\n",
       "      <td>Wuse 11</td>\n",
       "      <td>Abuja</td>\n",
       "      <td>Car Classic</td>\n",
       "    </tr>\n",
       "    <tr>\n",
       "      <th>3</th>\n",
       "      <td>ID_02VSP68</td>\n",
       "      <td>2010-06-13</td>\n",
       "      <td>2011-06-12</td>\n",
       "      <td>Female</td>\n",
       "      <td>58</td>\n",
       "      <td>2010-06-13</td>\n",
       "      <td>1</td>\n",
       "      <td>Saloon</td>\n",
       "      <td>NaN</td>\n",
       "      <td>TOYOTA</td>\n",
       "      <td>NaN</td>\n",
       "      <td>NaN</td>\n",
       "      <td>CarSafe</td>\n",
       "    </tr>\n",
       "    <tr>\n",
       "      <th>4</th>\n",
       "      <td>ID_02YB37K</td>\n",
       "      <td>2010-07-01</td>\n",
       "      <td>2011-06-30</td>\n",
       "      <td>NaN</td>\n",
       "      <td>120</td>\n",
       "      <td>2010-07-01</td>\n",
       "      <td>1</td>\n",
       "      <td>Saloon</td>\n",
       "      <td>Red</td>\n",
       "      <td>Hyundai</td>\n",
       "      <td>Victoria Island</td>\n",
       "      <td>Lagos</td>\n",
       "      <td>Car Classic</td>\n",
       "    </tr>\n",
       "  </tbody>\n",
       "</table>\n",
       "</div>"
      ],
      "text/plain": [
       "           ID Policy Start Date  ...            State  ProductName\n",
       "0  ID_01QM0NU        2010-10-23  ...  Abuja-Municipal  Car Classic\n",
       "1  ID_024NJLZ        2010-10-14  ...            Benue  Car Classic\n",
       "2  ID_02NOVWQ        2010-08-29  ...            Abuja  Car Classic\n",
       "3  ID_02VSP68        2010-06-13  ...              NaN      CarSafe\n",
       "4  ID_02YB37K        2010-07-01  ...            Lagos  Car Classic\n",
       "\n",
       "[5 rows x 13 columns]"
      ]
     },
     "execution_count": 196,
     "metadata": {
      "tags": []
     },
     "output_type": "execute_result"
    }
   ],
   "source": [
    "test.head()"
   ]
  },
  {
   "cell_type": "markdown",
   "metadata": {
    "id": "61xYRgwA__PA"
   },
   "source": [
    "## processing the data"
   ]
  },
  {
   "cell_type": "code",
   "execution_count": 6,
   "metadata": {
    "id": "G3LcAg-iX8qI"
   },
   "outputs": [],
   "source": [
    "combined_data= pd.concat((train, test)).reset_index(drop=True)"
   ]
  },
  {
   "cell_type": "code",
   "execution_count": 7,
   "metadata": {
    "colab": {
     "base_uri": "https://localhost:8080/"
    },
    "id": "kt1f6wuJX8tA",
    "outputId": "9362c322-fb24-42f4-842a-585d804825dd"
   },
   "outputs": [
    {
     "name": "stdout",
     "output_type": "stream",
     "text": [
      "<class 'pandas.core.frame.DataFrame'>\n",
      "RangeIndex: 13281 entries, 0 to 13280\n",
      "Data columns (total 14 columns):\n",
      " #   Column                  Non-Null Count  Dtype  \n",
      "---  ------                  --------------  -----  \n",
      " 0   ID                      13281 non-null  object \n",
      " 1   Policy Start Date       13281 non-null  object \n",
      " 2   Policy End Date         13281 non-null  object \n",
      " 3   Gender                  12881 non-null  object \n",
      " 4   Age                     13281 non-null  int64  \n",
      " 5   First Transaction Date  13281 non-null  object \n",
      " 6   No_Pol                  13281 non-null  int64  \n",
      " 7   Car_Category            9171 non-null   object \n",
      " 8   Subject_Car_Colour      5622 non-null   object \n",
      " 9   Subject_Car_Make        10557 non-null  object \n",
      " 10  LGA_Name                6149 non-null   object \n",
      " 11  State                   6137 non-null   object \n",
      " 12  ProductName             13281 non-null  object \n",
      " 13  target                  12079 non-null  float64\n",
      "dtypes: float64(1), int64(2), object(11)\n",
      "memory usage: 1.4+ MB\n",
      "None\n",
      "-----\n",
      "shape::  (13281, 14)\n"
     ]
    }
   ],
   "source": [
    "print(combined_data.info())\n",
    "print('-----')\n",
    "print('shape:: ', combined_data.shape)"
   ]
  },
  {
   "cell_type": "code",
   "execution_count": 8,
   "metadata": {
    "id": "WXTRjyo5X82p"
   },
   "outputs": [],
   "source": [
    "# Assigning the correct data type to each feature in the \"combined data\".\n",
    "\n",
    "for i in ['Policy Start Date', 'Policy End Date', 'First Transaction Date']:\n",
    "     combined_data[i] = pd.to_datetime(combined_data[i])\n",
    "\n",
    "for i in ['Gender', 'Car_Category', 'Subject_Car_Colour', 'Subject_Car_Make', \n",
    "          'LGA_Name', 'State', 'ProductName']:\n",
    "      combined_data[i] = combined_data[i].astype('category')"
   ]
  },
  {
   "cell_type": "code",
   "execution_count": 9,
   "metadata": {
    "colab": {
     "base_uri": "https://localhost:8080/"
    },
    "id": "fdkYHapxX85a",
    "outputId": "490b1ddc-7beb-4266-9eb4-9e4c6180b100"
   },
   "outputs": [
    {
     "name": "stdout",
     "output_type": "stream",
     "text": [
      "<class 'pandas.core.frame.DataFrame'>\n",
      "RangeIndex: 13281 entries, 0 to 13280\n",
      "Data columns (total 14 columns):\n",
      " #   Column                  Non-Null Count  Dtype         \n",
      "---  ------                  --------------  -----         \n",
      " 0   ID                      13281 non-null  object        \n",
      " 1   Policy Start Date       13281 non-null  datetime64[ns]\n",
      " 2   Policy End Date         13281 non-null  datetime64[ns]\n",
      " 3   Gender                  12881 non-null  category      \n",
      " 4   Age                     13281 non-null  int64         \n",
      " 5   First Transaction Date  13281 non-null  datetime64[ns]\n",
      " 6   No_Pol                  13281 non-null  int64         \n",
      " 7   Car_Category            9171 non-null   category      \n",
      " 8   Subject_Car_Colour      5622 non-null   category      \n",
      " 9   Subject_Car_Make        10557 non-null  category      \n",
      " 10  LGA_Name                6149 non-null   category      \n",
      " 11  State                   6137 non-null   category      \n",
      " 12  ProductName             13281 non-null  category      \n",
      " 13  target                  12079 non-null  float64       \n",
      "dtypes: category(7), datetime64[ns](3), float64(1), int64(2), object(1)\n",
      "memory usage: 854.4+ KB\n",
      "shape  (13281, 14)\n"
     ]
    }
   ],
   "source": [
    "combined_data.info()\n",
    "print('shape ', combined_data.shape)"
   ]
  },
  {
   "cell_type": "markdown",
   "metadata": {
    "id": "LqUJPvoHt0BR"
   },
   "source": [
    "# Distribution of features in the data."
   ]
  },
  {
   "cell_type": "markdown",
   "metadata": {
    "id": "RfMIAge1bofI"
   },
   "source": [
    "## Distribution of genders"
   ]
  },
  {
   "cell_type": "code",
   "execution_count": 10,
   "metadata": {
    "colab": {
     "base_uri": "https://localhost:8080/",
     "height": 295
    },
    "id": "xcsIRIu3X9HY",
    "outputId": "778feff0-b792-4a15-8f42-8379bc1cfbb3"
   },
   "outputs": [
    {
     "data": {
      "text/plain": [
       "<matplotlib.axes._subplots.AxesSubplot at 0x7f1a9fea5590>"
      ]
     },
     "execution_count": 10,
     "metadata": {
      "tags": []
     },
     "output_type": "execute_result"
    },
    {
     "data": {
      "image/png": "[encoded data removed]",
      "text/plain": [
       "<Figure size 432x288 with 1 Axes>"
      ]
     },
     "metadata": {
      "needs_background": "light",
      "tags": []
     },
     "output_type": "display_data"
    }
   ],
   "source": [
    "sns.countplot(y = combined_data['Gender'], color= 'grey')"
   ]
  },
  {
   "cell_type": "markdown",
   "metadata": {
    "id": "oKlyv8l4cHZT"
   },
   "source": [
    "## Distribution of Ages"
   ]
  },
  {
   "cell_type": "code",
   "execution_count": null,
   "metadata": {
    "colab": {
     "base_uri": "https://localhost:8080/",
     "height": 459
    },
    "id": "yPeBAQ_YcL_C",
    "outputId": "a5f89c88-53b1-4b48-8a7b-3fd55bda5df7"
   },
   "outputs": [
    {
     "data": {
      "text/plain": [
       "<matplotlib.axes._subplots.AxesSubplot at 0x7f73b2111d50>"
      ]
     },
     "execution_count": 202,
     "metadata": {
      "tags": []
     },
     "output_type": "execute_result"
    },
    {
     "data": {
      "image/png": "[encoded data removed]",
      "text/plain": [
       "<Figure size 864x504 with 1 Axes>"
      ]
     },
     "metadata": {
      "needs_background": "light",
      "tags": []
     },
     "output_type": "display_data"
    }
   ],
   "source": [
    "sns.histplot(combined_data['Age'], color='grey')"
   ]
  },
  {
   "cell_type": "markdown",
   "metadata": {
    "id": "gj0ut4b8AX-D"
   },
   "source": [
    "The plot below suggests that age columns is full of messy inputs, so the best thing to do is to set the ideal age of which one could get insured."
   ]
  },
  {
   "cell_type": "markdown",
   "metadata": {
    "id": "XIsmTthLAxFB"
   },
   "source": [
    "Now, the age is close to normal, this makes it a perfect feature for generalization in many ML algorithms."
   ]
  },
  {
   "cell_type": "code",
   "execution_count": 11,
   "metadata": {
    "colab": {
     "base_uri": "https://localhost:8080/"
    },
    "id": "ImxW6SYacMHZ",
    "outputId": "e84de7d4-ea24-4652-f04e-d8b857fe8825"
   },
   "outputs": [
    {
     "name": "stdout",
     "output_type": "stream",
     "text": [
      "number of uniques of Gender:   7\n",
      "number of uniques of Car_Category:   16\n",
      "number of uniques of Subject_Car_Colour:   46\n",
      "number of uniques of Subject_Car_Make:   75\n",
      "number of uniques of LGA_Name:   270\n",
      "number of uniques of State:   113\n",
      "number of uniques of ProductName:   9\n"
     ]
    }
   ],
   "source": [
    "# checking the number of uniques in the categorical data..\n",
    "for i in list(combined_data.select_dtypes('category')):\n",
    "     print('number of uniques of '+str(i)+ \":  \" , combined_data[i].nunique())"
   ]
  },
  {
   "cell_type": "code",
   "execution_count": 12,
   "metadata": {
    "id": "zIJffW7EkZO2"
   },
   "outputs": [],
   "source": [
    "# replacing extreme values in ages with **nan**\n",
    "combined_data['Age'] = np.where((combined_data['Age'] <18),np.nan, combined_data['Age'])\n",
    "combined_data['Age'] = np.where((combined_data['Age'] >80),np.nan, combined_data['Age'])"
   ]
  },
  {
   "cell_type": "code",
   "execution_count": 13,
   "metadata": {
    "colab": {
     "base_uri": "https://localhost:8080/"
    },
    "id": "JaAMRdznhQqv",
    "outputId": "b9dedc08-dd84-4932-fcee-945ebd65f574"
   },
   "outputs": [
    {
     "data": {
      "text/plain": [
       "array([30., 79., 43., nan, 20., 37., 40., 71., 58., 45., 51., 38., 69.,\n",
       "       31., 70., 34., 41., 47., 36., 46., 48., 39., 63., 42., 27., 64.,\n",
       "       50., 53., 33., 23., 32., 59., 60., 52., 54., 44., 78., 28., 29.,\n",
       "       57., 65., 35., 73., 56., 55., 26., 49., 18., 62., 25., 61., 72.,\n",
       "       67., 68., 21., 76., 24., 66., 22., 77., 19., 80., 74., 75.])"
      ]
     },
     "execution_count": 13,
     "metadata": {
      "tags": []
     },
     "output_type": "execute_result"
    }
   ],
   "source": [
    "combined_data['Age'].unique()"
   ]
  },
  {
   "cell_type": "code",
   "execution_count": 14,
   "metadata": {
    "colab": {
     "base_uri": "https://localhost:8080/",
     "height": 311
    },
    "id": "XSAbI_fHcMEv",
    "outputId": "4904ad6f-ff54-410b-d79f-b4d3f923bbd7"
   },
   "outputs": [
    {
     "data": {
      "text/plain": [
       "Text(0.5, 1.0, 'Age Distribution')"
      ]
     },
     "execution_count": 14,
     "metadata": {
      "tags": []
     },
     "output_type": "execute_result"
    },
    {
     "data": {
      "image/png": "[encoded data removed]",
      "text/plain": [
       "<Figure size 432x288 with 1 Axes>"
      ]
     },
     "metadata": {
      "needs_background": "light",
      "tags": []
     },
     "output_type": "display_data"
    }
   ],
   "source": [
    "sns.histplot(combined_data['Age'], color = 'grey') # shows the histogram plot of the ages column\n",
    "plt.title('Age Distribution')"
   ]
  },
  {
   "cell_type": "code",
   "execution_count": 15,
   "metadata": {
    "id": "afHkCaTUcMKM"
   },
   "outputs": [],
   "source": [
    "# Cleaning up the data.\n",
    "combined_data['Age'].fillna(combined_data['Age'].mean(), inplace= True)\n",
    "\n",
    "for i in list(combined_data.select_dtypes('category')):\n",
    "    combined_data[i] = combined_data[i].fillna(combined_data[i].mode()[0]) # replaces mising categorical data with\n",
    "                                                                           # its mode..\n",
    "\n",
    "for i in list(combined_data.select_dtypes('number')):\n",
    "    combined_data[i] = combined_data[i].fillna(9999) # replaces missing numerical data with 9999"
   ]
  },
  {
   "cell_type": "code",
   "execution_count": 16,
   "metadata": {
    "colab": {
     "base_uri": "https://localhost:8080/"
    },
    "id": "weKKPcUrcMMh",
    "outputId": "7deec3e3-d2dc-4717-8827-bf4c1b3a4b51"
   },
   "outputs": [
    {
     "data": {
      "text/plain": [
       "ID                        0\n",
       "Policy Start Date         0\n",
       "Policy End Date           0\n",
       "Gender                    0\n",
       "Age                       0\n",
       "First Transaction Date    0\n",
       "No_Pol                    0\n",
       "Car_Category              0\n",
       "Subject_Car_Colour        0\n",
       "Subject_Car_Make          0\n",
       "LGA_Name                  0\n",
       "State                     0\n",
       "ProductName               0\n",
       "target                    0\n",
       "dtype: int64"
      ]
     },
     "execution_count": 16,
     "metadata": {
      "tags": []
     },
     "output_type": "execute_result"
    }
   ],
   "source": [
    "combined_data.isnull().sum() # checking if there is still missing values"
   ]
  },
  {
   "cell_type": "markdown",
   "metadata": {
    "id": "5RgDRk3HfsDC"
   },
   "source": [
    "## Feature engineering"
   ]
  },
  {
   "cell_type": "code",
   "execution_count": 17,
   "metadata": {
    "id": "piy0475AfnFl"
   },
   "outputs": [],
   "source": [
    "# the code below extracts variuos features from the **datetime** datatype.\n",
    "date_cols= combined_data.select_dtypes('datetime')\n",
    "for col in date_cols:\n",
    "    for date_feature in ['year', 'month', 'day']:\n",
    "        combined_data[col+date_feature] = getattr(combined_data[col].dt, date_feature)"
   ]
  },
  {
   "cell_type": "code",
   "execution_count": 18,
   "metadata": {
    "id": "32dwZjAJjsvb"
   },
   "outputs": [],
   "source": [
    "### Reducing the number of categorical features \n",
    "\n",
    "# Product Name \n",
    "prod_map1= {\n",
    "           'Customized Motor':'other', \n",
    "           'Motor Cycle':'other', \n",
    "           'Car Vintage':'other',\n",
    "           'Muuve': 'other'\n",
    "           }\n",
    "combined_data['ProductName'].replace(prod_map1, inplace= True)\n",
    "\n",
    "# gender\n",
    "gender_mapper = {\n",
    "                 'Entity':'Other', \n",
    "                 'Joint Gender':'Other', \n",
    "                 'NOT STATED':'Other', \n",
    "                 'NO GENDER': 'Other', \n",
    "                 'SEX':\"Other\"\n",
    "                 }\n",
    "combined_data['Gender'] .replace(gender_mapper, inplace= True)\n",
    "\n",
    "# car category\n",
    "vehi_mapper = {'Station 4 Wheel':'Other', \n",
    "               'Shape Of Vehicle Chasis':'Other', \n",
    "               'JEEP':'SUV', \n",
    "               'Wagon': 'Other', \n",
    "               'Mini Van': 'Van',\n",
    "               'Mini Bus': 'Bus',\n",
    "               'CAMRY CAR HIRE':\"Sedan\",\n",
    "               'Tipper Truck':'Truck',\n",
    "               'Pick Up': 'Truck',\n",
    "               'Pick Up > 3 Tons': 'Truck',\n",
    "               'Sedan':'Other',\n",
    "               'Van':'Other',\n",
    "               'Motorcycle':'Other'\n",
    "               }\n",
    "combined_data['Car_Category'] .replace(vehi_mapper, inplace= True)\n",
    "\n",
    "# car make\n",
    "map_make= {'Tata':'other', 'Motorcycle':'other',\n",
    "           'ZOYTE':'other','Lincoln':'other',\n",
    "           'CHANGAN':'other','ABG':'other',\n",
    "           'Yamaha':'other', \n",
    "           'Ashok Leyland':'other', \n",
    "           'FOTON':'other', \n",
    "           'Geely':'other', \n",
    "           'Raston':'other',\n",
    "           'MG':'other',\n",
    "            'Black':'other' , \n",
    "           'Innson':'other',  'Man':'other', 'Fiat':'other',  'Black':'other', 'Opel':'other', 'Astra':'other', 'Howo':'other',\n",
    "           'MINI COOPER':'other', 'LIBERTY':'other','GMC':'other', 'Caddillac':'other', 'Wrangler Jeep':'other', 'COMMANDER':'other',\n",
    "           'Subaru':'other','Renault':'other','As Attached':'other', 'Bajaj':'other', 'Datsun':'other', 'Jincheng':'other',\n",
    "           'Dodge':'other','Dodge':'other','Scania':'other',\n",
    "           'Buik':'other','BRILLIANCE':'other','Chrysler':'other',\n",
    "           'Jaguar':'other','Man':'other','Isuzu':'other',\n",
    "           'GAC':'other','Land Rover.':'other','GMC':'other',\n",
    "           'Rols Royce':'other','Hummer':'other','KA':'other',\n",
    "           'Grand Cherokee':'other','Dodge':'other','Scania':'other',\n",
    "           'Infiniti':'other','Volvo':'other','BMW':'other','Mack':'other',\n",
    "           'Porsche':'other','Peugeot':'other','Land Rover':'other',\n",
    "           'Mazda':'other','Jeep':'other','Audi':'other',\n",
    "           'Suzuki':'other','Chevrolet':'other','Skoda':'other',\n",
    "           'Seat':'other',\n",
    "           'Pontiac':'other',\n",
    "           'DAF':'other',\n",
    "           'REXTON':'other',\n",
    "           '.':'other', \n",
    "           }\n",
    "combined_data['Subject_Car_Make'].replace(map_make, inplace= True)\n",
    "\n",
    "# car color\n",
    "col_map= {'Ash':'other', 'Yellow':'other','Gold':'other',\n",
    "          'Gray & Gray':'other','Green':'other',\n",
    "          'Silver':'other','Cream':'other', 'Blue & Red':'other',\n",
    "          'Gray & Gray':'other','Green':'other',\n",
    "          'As Attached':'other', 'Red & Blue':'other','Gray & Silver':'other',\n",
    "          'Orange':'other','B.Silver':'other','Purple':'other',\n",
    "          'Red & Yellow':'other','Red & White':'other','Dark Green':'other',\n",
    "          'Black & White':'other',\n",
    "          'White & Red':'other', 'Dark Grey':'other','Light Green':'other',\n",
    "          'Dark Gray':'other','D. Gold':'other','Champagne':'other','Light Blue':'other',\n",
    "          'Blue&White&Red':'other','White & Yellow':'other','Dark Blue':'other',\n",
    "          'D. Red':'other','Dark Red':'other','Black & Orange':'other','Burgundy':'other',\n",
    "          'Yellow & White':'other','Beige Mitalic':'other','Light Gray':'other',\n",
    "          'Blue Sky':'other','Red Maroon':'other','Red & Black':'other',\n",
    "          'White & Blue':'other',\n",
    "          }\n",
    "combined_data['Subject_Car_Colour'].replace(col_map, inplace=True)\n"
   ]
  },
  {
   "cell_type": "code",
   "execution_count": 19,
   "metadata": {
    "colab": {
     "base_uri": "https://localhost:8080/"
    },
    "id": "pnxMtD4EOHbm",
    "outputId": "4f75389e-6e85-424a-c925-1f14d893746a"
   },
   "outputs": [
    {
     "data": {
      "text/plain": [
       "array(['Car Classic', 'CarSafe', 'other', 'CVTP', 'Car Plus', 'CarFlex'],\n",
       "      dtype=object)"
      ]
     },
     "execution_count": 19,
     "metadata": {
      "tags": []
     },
     "output_type": "execute_result"
    }
   ],
   "source": [
    "combined_data['ProductName'].unique()"
   ]
  },
  {
   "cell_type": "code",
   "execution_count": 20,
   "metadata": {
    "colab": {
     "base_uri": "https://localhost:8080/",
     "height": 316
    },
    "id": "Vzf8PhSdNhoI",
    "outputId": "ad0664bb-51b1-4e55-9820-c5cd4c563564"
   },
   "outputs": [
    {
     "data": {
      "text/plain": [
       "Text(0.5, 1.0, 'Produt Name')"
      ]
     },
     "execution_count": 20,
     "metadata": {
      "tags": []
     },
     "output_type": "execute_result"
    },
    {
     "data": {
      "image/png": "[encoded data removed]",
      "text/plain": [
       "<Figure size 432x288 with 1 Axes>"
      ]
     },
     "metadata": {
      "needs_background": "light",
      "tags": []
     },
     "output_type": "display_data"
    }
   ],
   "source": [
    "sns.countplot(y = combined_data['ProductName'], color='grey')\n",
    "plt.title('Produt Name', size= 20)"
   ]
  },
  {
   "cell_type": "code",
   "execution_count": null,
   "metadata": {
    "colab": {
     "base_uri": "https://localhost:8080/",
     "height": 480
    },
    "id": "i8HndgUKiNib",
    "outputId": "1df5af29-b8c0-44e7-f0ed-853f4826c830"
   },
   "outputs": [
    {
     "data": {
      "text/plain": [
       "Text(0.5, 1.0, 'Car Make')"
      ]
     },
     "execution_count": 18,
     "metadata": {
      "tags": []
     },
     "output_type": "execute_result"
    },
    {
     "data": {
      "image/png": "[encoded data removed]",
      "text/plain": [
       "<Figure size 864x504 with 1 Axes>"
      ]
     },
     "metadata": {
      "needs_background": "light",
      "tags": []
     },
     "output_type": "display_data"
    }
   ],
   "source": [
    "sns.countplot(y= combined_data['Subject_Car_Make'], color= 'grey')\n",
    "plt.title('Car Make', size= 20)"
   ]
  },
  {
   "cell_type": "code",
   "execution_count": null,
   "metadata": {
    "colab": {
     "base_uri": "https://localhost:8080/",
     "height": 480
    },
    "id": "Z4rEoSztoj18",
    "outputId": "808c28de-aae6-4735-b6b0-f7b19ae25da7"
   },
   "outputs": [
    {
     "data": {
      "text/plain": [
       "Text(0.5, 1.0, 'Car Color')"
      ]
     },
     "execution_count": 19,
     "metadata": {
      "tags": []
     },
     "output_type": "execute_result"
    },
    {
     "data": {
      "image/png": "[encoded data removed]",
      "text/plain": [
       "<Figure size 864x504 with 1 Axes>"
      ]
     },
     "metadata": {
      "needs_background": "light",
      "tags": []
     },
     "output_type": "display_data"
    }
   ],
   "source": [
    "sns.countplot(y = combined_data['Subject_Car_Colour'], color= 'grey')\n",
    "plt.title('Car Color', size= 20)"
   ]
  },
  {
   "cell_type": "code",
   "execution_count": null,
   "metadata": {
    "colab": {
     "base_uri": "https://localhost:8080/",
     "height": 459
    },
    "id": "fOfMUGtBNO0W",
    "outputId": "eb906e59-58a0-444c-d14d-360cfed87938"
   },
   "outputs": [
    {
     "data": {
      "text/plain": [
       "<matplotlib.axes._subplots.AxesSubplot at 0x7f3434c2cf10>"
      ]
     },
     "execution_count": 20,
     "metadata": {
      "tags": []
     },
     "output_type": "execute_result"
    },
    {
     "data": {
      "image/png": "[encoded data removed]",
      "text/plain": [
       "<Figure size 864x504 with 1 Axes>"
      ]
     },
     "metadata": {
      "needs_background": "light",
      "tags": []
     },
     "output_type": "display_data"
    }
   ],
   "source": [
    "sns.countplot(y = combined_data['ProductName'], color= 'grey')"
   ]
  },
  {
   "cell_type": "code",
   "execution_count": null,
   "metadata": {
    "colab": {
     "base_uri": "https://localhost:8080/",
     "height": 665
    },
    "id": "OxVJgTmtGqvt",
    "outputId": "b9e760db-65b2-4421-a737-d4cab1e8fe81"
   },
   "outputs": [
    {
     "data": {
      "image/png": "[encoded data removed]",
      "text/plain": [
       "<Figure size 504x1080 with 3 Axes>"
      ]
     },
     "metadata": {
      "needs_background": "light",
      "tags": []
     },
     "output_type": "display_data"
    }
   ],
   "source": [
    "plt.figure(figsize= (7, 15))\n",
    "\n",
    "for index, col in enumerate(['Car_Category', 'Gender', 'ProductName']):\n",
    "    plt.subplot(4, 1, index+1)\n",
    "    sns.countplot(y= combined_data[col], color= 'grey')\n"
   ]
  },
  {
   "cell_type": "code",
   "execution_count": 21,
   "metadata": {
    "colab": {
     "base_uri": "https://localhost:8080/"
    },
    "id": "5lfSnngT04BF",
    "outputId": "9850ea67-59b4-4d30-ce31-4978dde18452"
   },
   "outputs": [
    {
     "data": {
      "text/plain": [
       "count    13281.000000\n",
       "mean        42.634535\n",
       "std         10.825180\n",
       "min         18.000000\n",
       "25%         36.000000\n",
       "50%         42.000000\n",
       "75%         48.000000\n",
       "max         80.000000\n",
       "Name: Age, dtype: float64"
      ]
     },
     "execution_count": 21,
     "metadata": {
      "tags": []
     },
     "output_type": "execute_result"
    }
   ],
   "source": [
    "combined_data['Age'].describe()"
   ]
  },
  {
   "cell_type": "code",
   "execution_count": 22,
   "metadata": {
    "id": "4ZB_hGQw04D9"
   },
   "outputs": [],
   "source": [
    "# creating new feature for the ages by grouping them into age groups.\n",
    "combined_data['adult'] = combined_data['Age'].apply(lambda x: 1 if x >= 18 and x<= 35 else 0)\n",
    "combined_data['middle age']= combined_data['Age'].apply(lambda x: 1 if x >= 36 and x<= 55 else 0)\n",
    "combined_data['old age']= combined_data['Age'].apply(lambda x: 1 if x >= 56 and x<= 80 else 0)"
   ]
  },
  {
   "cell_type": "code",
   "execution_count": 35,
   "metadata": {
    "colab": {
     "base_uri": "https://localhost:8080/",
     "height": 243
    },
    "id": "jVuFkuW0ux5a",
    "outputId": "66acbbc2-ebc8-4df8-e1ed-4849c7ec0cc3"
   },
   "outputs": [
    {
     "data": {
      "text/html": [
       "<div>\n",
       "<style scoped>\n",
       "    .dataframe tbody tr th:only-of-type {\n",
       "        vertical-align: middle;\n",
       "    }\n",
       "\n",
       "    .dataframe tbody tr th {\n",
       "        vertical-align: top;\n",
       "    }\n",
       "\n",
       "    .dataframe thead th {\n",
       "        text-align: right;\n",
       "    }\n",
       "</style>\n",
       "<table border=\"1\" class=\"dataframe\">\n",
       "  <thead>\n",
       "    <tr style=\"text-align: right;\">\n",
       "      <th></th>\n",
       "      <th>ID</th>\n",
       "      <th>Policy Start Dateyear</th>\n",
       "      <th>Policy Start Datemonth</th>\n",
       "      <th>Policy Start Dateday</th>\n",
       "      <th>Policy End Dateyear</th>\n",
       "      <th>Policy End Datemonth</th>\n",
       "      <th>Policy End Dateday</th>\n",
       "      <th>First Transaction Dateyear</th>\n",
       "      <th>First Transaction Datemonth</th>\n",
       "      <th>First Transaction Dateday</th>\n",
       "      <th>Gender</th>\n",
       "      <th>Age</th>\n",
       "      <th>adult</th>\n",
       "      <th>middle age</th>\n",
       "      <th>old age</th>\n",
       "      <th>No_Pol</th>\n",
       "      <th>Car_Category</th>\n",
       "      <th>Subject_Car_Colour</th>\n",
       "      <th>Subject_Car_Make</th>\n",
       "      <th>ProductName</th>\n",
       "      <th>target</th>\n",
       "    </tr>\n",
       "  </thead>\n",
       "  <tbody>\n",
       "    <tr>\n",
       "      <th>0</th>\n",
       "      <td>ID_0040R73</td>\n",
       "      <td>2010</td>\n",
       "      <td>5</td>\n",
       "      <td>14</td>\n",
       "      <td>2011</td>\n",
       "      <td>5</td>\n",
       "      <td>13</td>\n",
       "      <td>2010</td>\n",
       "      <td>5</td>\n",
       "      <td>14</td>\n",
       "      <td>Male</td>\n",
       "      <td>30.000000</td>\n",
       "      <td>1</td>\n",
       "      <td>0</td>\n",
       "      <td>0</td>\n",
       "      <td>1</td>\n",
       "      <td>Saloon</td>\n",
       "      <td>Black</td>\n",
       "      <td>TOYOTA</td>\n",
       "      <td>Car Classic</td>\n",
       "      <td>0.0</td>\n",
       "    </tr>\n",
       "    <tr>\n",
       "      <th>1</th>\n",
       "      <td>ID_0046BNK</td>\n",
       "      <td>2010</td>\n",
       "      <td>11</td>\n",
       "      <td>29</td>\n",
       "      <td>2011</td>\n",
       "      <td>11</td>\n",
       "      <td>28</td>\n",
       "      <td>2010</td>\n",
       "      <td>11</td>\n",
       "      <td>29</td>\n",
       "      <td>Female</td>\n",
       "      <td>79.000000</td>\n",
       "      <td>0</td>\n",
       "      <td>0</td>\n",
       "      <td>1</td>\n",
       "      <td>1</td>\n",
       "      <td>SUV</td>\n",
       "      <td>Grey</td>\n",
       "      <td>TOYOTA</td>\n",
       "      <td>Car Classic</td>\n",
       "      <td>1.0</td>\n",
       "    </tr>\n",
       "    <tr>\n",
       "      <th>2</th>\n",
       "      <td>ID_005QMC3</td>\n",
       "      <td>2010</td>\n",
       "      <td>3</td>\n",
       "      <td>21</td>\n",
       "      <td>2011</td>\n",
       "      <td>3</td>\n",
       "      <td>20</td>\n",
       "      <td>2010</td>\n",
       "      <td>3</td>\n",
       "      <td>21</td>\n",
       "      <td>Male</td>\n",
       "      <td>43.000000</td>\n",
       "      <td>0</td>\n",
       "      <td>1</td>\n",
       "      <td>0</td>\n",
       "      <td>1</td>\n",
       "      <td>Saloon</td>\n",
       "      <td>Red</td>\n",
       "      <td>TOYOTA</td>\n",
       "      <td>Car Classic</td>\n",
       "      <td>0.0</td>\n",
       "    </tr>\n",
       "    <tr>\n",
       "      <th>3</th>\n",
       "      <td>ID_0079OHW</td>\n",
       "      <td>2010</td>\n",
       "      <td>8</td>\n",
       "      <td>21</td>\n",
       "      <td>2011</td>\n",
       "      <td>8</td>\n",
       "      <td>20</td>\n",
       "      <td>2010</td>\n",
       "      <td>8</td>\n",
       "      <td>21</td>\n",
       "      <td>Male</td>\n",
       "      <td>42.634535</td>\n",
       "      <td>0</td>\n",
       "      <td>1</td>\n",
       "      <td>0</td>\n",
       "      <td>1</td>\n",
       "      <td>Saloon</td>\n",
       "      <td>Black</td>\n",
       "      <td>TOYOTA</td>\n",
       "      <td>CarSafe</td>\n",
       "      <td>0.0</td>\n",
       "    </tr>\n",
       "    <tr>\n",
       "      <th>4</th>\n",
       "      <td>ID_00BRP63</td>\n",
       "      <td>2010</td>\n",
       "      <td>8</td>\n",
       "      <td>29</td>\n",
       "      <td>2010</td>\n",
       "      <td>12</td>\n",
       "      <td>31</td>\n",
       "      <td>2010</td>\n",
       "      <td>8</td>\n",
       "      <td>29</td>\n",
       "      <td>Other</td>\n",
       "      <td>20.000000</td>\n",
       "      <td>1</td>\n",
       "      <td>0</td>\n",
       "      <td>0</td>\n",
       "      <td>3</td>\n",
       "      <td>Saloon</td>\n",
       "      <td>Black</td>\n",
       "      <td>TOYOTA</td>\n",
       "      <td>other</td>\n",
       "      <td>1.0</td>\n",
       "    </tr>\n",
       "  </tbody>\n",
       "</table>\n",
       "</div>"
      ],
      "text/plain": [
       "           ID  Policy Start Dateyear  ...  ProductName  target\n",
       "0  ID_0040R73                   2010  ...  Car Classic     0.0\n",
       "1  ID_0046BNK                   2010  ...  Car Classic     1.0\n",
       "2  ID_005QMC3                   2010  ...  Car Classic     0.0\n",
       "3  ID_0079OHW                   2010  ...      CarSafe     0.0\n",
       "4  ID_00BRP63                   2010  ...        other     1.0\n",
       "\n",
       "[5 rows x 21 columns]"
      ]
     },
     "execution_count": 35,
     "metadata": {
      "tags": []
     },
     "output_type": "execute_result"
    }
   ],
   "source": [
    "combined_data.head()"
   ]
  },
  {
   "cell_type": "code",
   "execution_count": 36,
   "metadata": {
    "id": "BEnYUE7uidre"
   },
   "outputs": [],
   "source": [
    "# Now we rearrange the columns and selecting specific columns\n",
    "\n",
    "combined_data = combined_data[[\n",
    " 'ID',\n",
    " 'Policy Start Dateyear',\n",
    " 'Policy Start Datemonth',\n",
    " 'Policy Start Dateday',\n",
    " 'Policy End Dateyear',\n",
    " 'Policy End Datemonth',\n",
    " 'Policy End Dateday',\n",
    " 'First Transaction Dateyear',\n",
    " 'First Transaction Datemonth',\n",
    " 'First Transaction Dateday',\n",
    " 'Gender',\n",
    " 'Age',\n",
    " 'adult',\n",
    " 'middle age',\n",
    " 'old age',\n",
    " 'No_Pol',\n",
    " 'Car_Category',\n",
    " 'Subject_Car_Colour',\n",
    " 'Subject_Car_Make',\n",
    " 'ProductName',\n",
    " 'target']  ]"
   ]
  },
  {
   "cell_type": "code",
   "execution_count": 26,
   "metadata": {
    "colab": {
     "base_uri": "https://localhost:8080/",
     "height": 243
    },
    "id": "UhS70flXvDb9",
    "outputId": "42dcfd78-a382-43f6-b229-2c42be3d7355"
   },
   "outputs": [
    {
     "data": {
      "text/html": [
       "<div>\n",
       "<style scoped>\n",
       "    .dataframe tbody tr th:only-of-type {\n",
       "        vertical-align: middle;\n",
       "    }\n",
       "\n",
       "    .dataframe tbody tr th {\n",
       "        vertical-align: top;\n",
       "    }\n",
       "\n",
       "    .dataframe thead th {\n",
       "        text-align: right;\n",
       "    }\n",
       "</style>\n",
       "<table border=\"1\" class=\"dataframe\">\n",
       "  <thead>\n",
       "    <tr style=\"text-align: right;\">\n",
       "      <th></th>\n",
       "      <th>ID</th>\n",
       "      <th>Policy Start Dateyear</th>\n",
       "      <th>Policy Start Datemonth</th>\n",
       "      <th>Policy Start Dateday</th>\n",
       "      <th>Policy End Dateyear</th>\n",
       "      <th>Policy End Datemonth</th>\n",
       "      <th>Policy End Dateday</th>\n",
       "      <th>First Transaction Dateyear</th>\n",
       "      <th>First Transaction Datemonth</th>\n",
       "      <th>First Transaction Dateday</th>\n",
       "      <th>Gender</th>\n",
       "      <th>Age</th>\n",
       "      <th>adult</th>\n",
       "      <th>middle age</th>\n",
       "      <th>old age</th>\n",
       "      <th>No_Pol</th>\n",
       "      <th>Car_Category</th>\n",
       "      <th>Subject_Car_Colour</th>\n",
       "      <th>Subject_Car_Make</th>\n",
       "      <th>ProductName</th>\n",
       "      <th>target</th>\n",
       "    </tr>\n",
       "  </thead>\n",
       "  <tbody>\n",
       "    <tr>\n",
       "      <th>0</th>\n",
       "      <td>ID_0040R73</td>\n",
       "      <td>2010</td>\n",
       "      <td>5</td>\n",
       "      <td>14</td>\n",
       "      <td>2011</td>\n",
       "      <td>5</td>\n",
       "      <td>13</td>\n",
       "      <td>2010</td>\n",
       "      <td>5</td>\n",
       "      <td>14</td>\n",
       "      <td>Male</td>\n",
       "      <td>30.000000</td>\n",
       "      <td>1</td>\n",
       "      <td>0</td>\n",
       "      <td>0</td>\n",
       "      <td>1</td>\n",
       "      <td>Saloon</td>\n",
       "      <td>Black</td>\n",
       "      <td>TOYOTA</td>\n",
       "      <td>Car Classic</td>\n",
       "      <td>0.0</td>\n",
       "    </tr>\n",
       "    <tr>\n",
       "      <th>1</th>\n",
       "      <td>ID_0046BNK</td>\n",
       "      <td>2010</td>\n",
       "      <td>11</td>\n",
       "      <td>29</td>\n",
       "      <td>2011</td>\n",
       "      <td>11</td>\n",
       "      <td>28</td>\n",
       "      <td>2010</td>\n",
       "      <td>11</td>\n",
       "      <td>29</td>\n",
       "      <td>Female</td>\n",
       "      <td>79.000000</td>\n",
       "      <td>0</td>\n",
       "      <td>0</td>\n",
       "      <td>1</td>\n",
       "      <td>1</td>\n",
       "      <td>SUV</td>\n",
       "      <td>Grey</td>\n",
       "      <td>TOYOTA</td>\n",
       "      <td>Car Classic</td>\n",
       "      <td>1.0</td>\n",
       "    </tr>\n",
       "    <tr>\n",
       "      <th>2</th>\n",
       "      <td>ID_005QMC3</td>\n",
       "      <td>2010</td>\n",
       "      <td>3</td>\n",
       "      <td>21</td>\n",
       "      <td>2011</td>\n",
       "      <td>3</td>\n",
       "      <td>20</td>\n",
       "      <td>2010</td>\n",
       "      <td>3</td>\n",
       "      <td>21</td>\n",
       "      <td>Male</td>\n",
       "      <td>43.000000</td>\n",
       "      <td>0</td>\n",
       "      <td>1</td>\n",
       "      <td>0</td>\n",
       "      <td>1</td>\n",
       "      <td>Saloon</td>\n",
       "      <td>Red</td>\n",
       "      <td>TOYOTA</td>\n",
       "      <td>Car Classic</td>\n",
       "      <td>0.0</td>\n",
       "    </tr>\n",
       "    <tr>\n",
       "      <th>3</th>\n",
       "      <td>ID_0079OHW</td>\n",
       "      <td>2010</td>\n",
       "      <td>8</td>\n",
       "      <td>21</td>\n",
       "      <td>2011</td>\n",
       "      <td>8</td>\n",
       "      <td>20</td>\n",
       "      <td>2010</td>\n",
       "      <td>8</td>\n",
       "      <td>21</td>\n",
       "      <td>Male</td>\n",
       "      <td>42.634535</td>\n",
       "      <td>0</td>\n",
       "      <td>1</td>\n",
       "      <td>0</td>\n",
       "      <td>1</td>\n",
       "      <td>Saloon</td>\n",
       "      <td>Black</td>\n",
       "      <td>TOYOTA</td>\n",
       "      <td>CarSafe</td>\n",
       "      <td>0.0</td>\n",
       "    </tr>\n",
       "    <tr>\n",
       "      <th>4</th>\n",
       "      <td>ID_00BRP63</td>\n",
       "      <td>2010</td>\n",
       "      <td>8</td>\n",
       "      <td>29</td>\n",
       "      <td>2010</td>\n",
       "      <td>12</td>\n",
       "      <td>31</td>\n",
       "      <td>2010</td>\n",
       "      <td>8</td>\n",
       "      <td>29</td>\n",
       "      <td>Other</td>\n",
       "      <td>20.000000</td>\n",
       "      <td>1</td>\n",
       "      <td>0</td>\n",
       "      <td>0</td>\n",
       "      <td>3</td>\n",
       "      <td>Saloon</td>\n",
       "      <td>Black</td>\n",
       "      <td>TOYOTA</td>\n",
       "      <td>other</td>\n",
       "      <td>1.0</td>\n",
       "    </tr>\n",
       "  </tbody>\n",
       "</table>\n",
       "</div>"
      ],
      "text/plain": [
       "           ID  Policy Start Dateyear  ...  ProductName  target\n",
       "0  ID_0040R73                   2010  ...  Car Classic     0.0\n",
       "1  ID_0046BNK                   2010  ...  Car Classic     1.0\n",
       "2  ID_005QMC3                   2010  ...  Car Classic     0.0\n",
       "3  ID_0079OHW                   2010  ...      CarSafe     0.0\n",
       "4  ID_00BRP63                   2010  ...        other     1.0\n",
       "\n",
       "[5 rows x 21 columns]"
      ]
     },
     "execution_count": 26,
     "metadata": {
      "tags": []
     },
     "output_type": "execute_result"
    }
   ],
   "source": [
    "combined_data.head()"
   ]
  },
  {
   "cell_type": "code",
   "execution_count": null,
   "metadata": {
    "colab": {
     "base_uri": "https://localhost:8080/"
    },
    "id": "bD7mVF50v6PX",
    "outputId": "19fad56d-949d-408a-a05a-fabbb975d0db"
   },
   "outputs": [
    {
     "name": "stdout",
     "output_type": "stream",
     "text": [
      "Number of Adults::  3164\n",
      "Number of Middle-Age::  8584\n",
      "Number of Old-Age::  1533\n"
     ]
    }
   ],
   "source": [
    "print('Number of Adults:: ', np.sum(combined_data['adult']))\n",
    "print('Number of Middle-Age:: ', np.sum(combined_data['middle age']))\n",
    "print('Number of Old-Age:: ', np.sum(combined_data['old age']))"
   ]
  },
  {
   "cell_type": "code",
   "execution_count": 27,
   "metadata": {
    "colab": {
     "base_uri": "https://localhost:8080/",
     "height": 368
    },
    "id": "_rfr9m8hfnb7",
    "outputId": "968ad4fa-4920-4c42-8c4e-f72dde51ee80"
   },
   "outputs": [
    {
     "name": "stderr",
     "output_type": "stream",
     "text": [
      "/usr/local/lib/python3.7/dist-packages/seaborn/_decorators.py:43: FutureWarning: Pass the following variable as a keyword arg: x. From version 0.12, the only valid positional argument will be `data`, and passing other arguments without an explicit keyword will result in an error or misinterpretation.\n",
      "  FutureWarning\n"
     ]
    },
    {
     "data": {
      "text/plain": [
       "Text(0.5, 1.0, 'Target Class')"
      ]
     },
     "execution_count": 27,
     "metadata": {
      "tags": []
     },
     "output_type": "execute_result"
    },
    {
     "data": {
      "image/png": "[encoded data removed]",
      "text/plain": [
       "<Figure size 432x288 with 1 Axes>"
      ]
     },
     "metadata": {
      "needs_background": "light",
      "tags": []
     },
     "output_type": "display_data"
    }
   ],
   "source": [
    "sns.countplot(train['target'], color= 'grey')\n",
    "plt.title('Target Class', size= 20)"
   ]
  },
  {
   "cell_type": "code",
   "execution_count": 28,
   "metadata": {
    "colab": {
     "base_uri": "https://localhost:8080/"
    },
    "id": "0e8lpKIvfneC",
    "outputId": "8db279d9-778d-4119-c7de-120e5c8fb274"
   },
   "outputs": [
    {
     "data": {
      "text/plain": [
       "0    0.879543\n",
       "1    0.120457\n",
       "Name: target, dtype: float64"
      ]
     },
     "execution_count": 28,
     "metadata": {
      "tags": []
     },
     "output_type": "execute_result"
    }
   ],
   "source": [
    "train['target'].value_counts(normalize=True)"
   ]
  },
  {
   "cell_type": "markdown",
   "metadata": {
    "id": "u-bnF2eqKEim"
   },
   "source": [
    "The plot above makes it clear that, the data is very unbalance with about 12% of the target belonging to  **class 1** and 87% of the target belonging to **class 0**"
   ]
  },
  {
   "cell_type": "markdown",
   "metadata": {
    "id": "OWxRpEC98evz"
   },
   "source": [
    "# Model building phase.\n",
    "\n",
    "* Splitting the data, transforming and fitting several Machine Learning Models to the dataset.\n",
    "* I will be using **Random Forest Classifier, XGboost and Logistic Regression**"
   ]
  },
  {
   "cell_type": "code",
   "execution_count": 37,
   "metadata": {
    "colab": {
     "base_uri": "https://localhost:8080/"
    },
    "id": "uV2ORizkAb2O",
    "outputId": "e2789c18-024c-49cb-f796-099eaeb1f05f"
   },
   "outputs": [
    {
     "name": "stdout",
     "output_type": "stream",
     "text": [
      "<class 'pandas.core.frame.DataFrame'>\n",
      "RangeIndex: 13281 entries, 0 to 13280\n",
      "Data columns (total 21 columns):\n",
      " #   Column                       Non-Null Count  Dtype   \n",
      "---  ------                       --------------  -----   \n",
      " 0   ID                           13281 non-null  object  \n",
      " 1   Policy Start Dateyear        13281 non-null  int64   \n",
      " 2   Policy Start Datemonth       13281 non-null  int64   \n",
      " 3   Policy Start Dateday         13281 non-null  int64   \n",
      " 4   Policy End Dateyear          13281 non-null  int64   \n",
      " 5   Policy End Datemonth         13281 non-null  int64   \n",
      " 6   Policy End Dateday           13281 non-null  int64   \n",
      " 7   First Transaction Dateyear   13281 non-null  int64   \n",
      " 8   First Transaction Datemonth  13281 non-null  int64   \n",
      " 9   First Transaction Dateday    13281 non-null  int64   \n",
      " 10  Gender                       13281 non-null  category\n",
      " 11  Age                          13281 non-null  float64 \n",
      " 12  adult                        13281 non-null  int64   \n",
      " 13  middle age                   13281 non-null  int64   \n",
      " 14  old age                      13281 non-null  int64   \n",
      " 15  No_Pol                       13281 non-null  int64   \n",
      " 16  Car_Category                 13281 non-null  category\n",
      " 17  Subject_Car_Colour           13281 non-null  category\n",
      " 18  Subject_Car_Make             13281 non-null  category\n",
      " 19  ProductName                  13281 non-null  category\n",
      " 20  target                       13281 non-null  float64 \n",
      "dtypes: category(5), float64(2), int64(13), object(1)\n",
      "memory usage: 1.7+ MB\n"
     ]
    }
   ],
   "source": [
    "combined_data.info()"
   ]
  },
  {
   "cell_type": "code",
   "execution_count": 38,
   "metadata": {
    "colab": {
     "base_uri": "https://localhost:8080/"
    },
    "id": "PG7UJ2HFs5py",
    "outputId": "e6c7d0b6-1e37-449c-be7c-ccccf7efc6cf"
   },
   "outputs": [
    {
     "name": "stdout",
     "output_type": "stream",
     "text": [
      "number of uniques of Gender:   3\n",
      "number of uniques of Car_Category:   7\n",
      "number of uniques of Subject_Car_Colour:   8\n",
      "number of uniques of Subject_Car_Make:   14\n",
      "number of uniques of ProductName:   6\n"
     ]
    }
   ],
   "source": [
    "# re-checking the unique categories\n",
    "for i in list(combined_data.select_dtypes('category')):\n",
    "    print('number of uniques of '+str(i)+ \":  \" , combined_data[i].nunique())"
   ]
  },
  {
   "cell_type": "markdown",
   "metadata": {
    "id": "ho5fCyMOF8e-"
   },
   "source": [
    "# Model Building Phase"
   ]
  },
  {
   "cell_type": "code",
   "execution_count": null,
   "metadata": {
    "id": "jpCCSNjKxASZ"
   },
   "outputs": [],
   "source": []
  },
  {
   "cell_type": "code",
   "execution_count": 39,
   "metadata": {
    "id": "9H37WY0A2mZ9"
   },
   "outputs": [],
   "source": [
    "rf = RandomForestClassifier(max_features=4, max_depth=3, n_estimators=500) # Initialize the Random Forest Classifier\n",
    "lgm = LogisticRegression(C= 1000, max_iter=10000)  # Initialize the Logistic Regression Classifier\n",
    "xgb= XGBClassifier(silent=False,                     # Initialize the XGBoost Claassifier\n",
    "                      scale_pos_weight=1,\n",
    "                      learning_rate=0.01,  \n",
    "                      colsample_bytree = 0.4,\n",
    "                      subsample = 0.8,\n",
    "                      objective='binary:logistic', \n",
    "                      n_estimators=1000, \n",
    "                      reg_alpha = 0.3,\n",
    "                      max_depth=4, \n",
    "                      gamma=10)\n",
    "\n",
    "# initializes the encoders and scalers\n",
    "ohe = OneHotEncoder()\n",
    "sc = StandardScaler()\n",
    "minmax = MinMaxScaler()\n",
    "le = LabelEncoder()\n",
    "oe = OrdinalEncoder()\n",
    "\n",
    "# we omit 'Subject_Car_Make', 'LGA_Name' for now, due to data minimization and privacy preserving\n",
    "\n",
    "# Categorical columns\n",
    "cat_col = ['Gender', 'Car_Category', 'ProductName', 'Subject_Car_Colour', 'Subject_Car_Make', ]\n",
    "\n",
    "# numeric columns \n",
    "num_col= ['Policy Start Dateyear', 'Policy Start Datemonth', \n",
    "           'Policy Start Dateday', 'Policy End Dateyear',\n",
    "            'Policy End Datemonth', 'Policy End Dateday', \n",
    "           'First Transaction Dateyear', 'First Transaction Datemonth',\n",
    "          'First Transaction Dateday', 'Age', 'adult',\n",
    "          'middle age', 'old age','No_Pol']\n",
    "\n",
    "# Initializes the column transformer and creates pipeline the data will pass through\n",
    "# before it gets trained by the ML algorithm.\n",
    "transformer = ColumnTransformer([('ohe', ohe, cat_col),  ('sc', sc, num_col)], remainder= 'drop')\n",
    "pipe_logit= Pipeline([('transformer', transformer),  ('logit', lgm)])\n",
    "pipe_rf= Pipeline([('transformer', transformer), ('rf', rf)])\n",
    "pipe_xgb = Pipeline([('transformer', transformer), ('rf', xgb)])"
   ]
  },
  {
   "cell_type": "code",
   "execution_count": 40,
   "metadata": {
    "id": "WWlJl7AY2mcX"
   },
   "outputs": [],
   "source": [
    "# creating new training data with the new features.\n",
    "# we will be using **df1** for now\n",
    "df1 = combined_data[[\n",
    "                    'Policy Start Dateyear', 'Policy Start Datemonth', \n",
    "                 'Policy Start Dateday', 'Policy End Dateyear',\n",
    "               'Policy End Datemonth', 'Policy End Dateday', \n",
    "                  'First Transaction Dateyear', 'First Transaction Datemonth',\n",
    "                  'First Transaction Dateday', 'Gender', 'Car_Category','Age',\n",
    "                   'Subject_Car_Make',  'ProductName',  'adult', 'middle age',\n",
    "  'Subject_Car_Colour', 'old age','No_Pol', 'target'\n",
    "                    ]]\n",
    "\n",
    "traindf = df1[df1['target'] < 2]\n",
    "testdf = combined_data[combined_data['target'] > 2].iloc[:, 0:-1]"
   ]
  },
  {
   "cell_type": "code",
   "execution_count": 41,
   "metadata": {
    "colab": {
     "base_uri": "https://localhost:8080/"
    },
    "id": "b62Dqv9kA5gp",
    "outputId": "bd086ebb-866d-4c3f-e2ae-63d7c4b6e2e8"
   },
   "outputs": [
    {
     "name": "stdout",
     "output_type": "stream",
     "text": [
      "unique target:  [0. 1.]\n"
     ]
    }
   ],
   "source": [
    "print('unique target: ',traindf['target'].unique()) # checks whether the target is truly binary"
   ]
  },
  {
   "cell_type": "code",
   "execution_count": 42,
   "metadata": {
    "colab": {
     "base_uri": "https://localhost:8080/"
    },
    "id": "A8SEo5ehm2GP",
    "outputId": "fa43580b-2ad7-42ce-ef24-f48c7ed030e5"
   },
   "outputs": [
    {
     "name": "stdout",
     "output_type": "stream",
     "text": [
      "test set before:  (1202, 13)\n",
      "test set after:  (1202, 20)\n",
      "----\n",
      "train set before:  (12079, 14)\n",
      "train set after:  (12079, 20)\n"
     ]
    }
   ],
   "source": [
    "print('test set before: ', test.shape)\n",
    "print('test set after: ', testdf.shape)\n",
    "print('----')\n",
    "print('train set before: ', train.shape)\n",
    "print('train set after: ', traindf.shape)\n"
   ]
  },
  {
   "cell_type": "code",
   "execution_count": 43,
   "metadata": {
    "id": "tMk9SKH42mgp"
   },
   "outputs": [],
   "source": [
    "# splitting up the data into training and validation set\n",
    "# we will be using (30%)of the training set for validation\n",
    "X_train, X_val,  y_train, y_val= train_test_split(\n",
    "                                                  traindf.iloc[:, :-1], \n",
    "                                                  traindf.iloc[:, -1], \n",
    "                                                  stratify=  traindf.iloc[:, -1], \n",
    "                                                  test_size= .3)"
   ]
  },
  {
   "cell_type": "code",
   "execution_count": 44,
   "metadata": {
    "colab": {
     "base_uri": "https://localhost:8080/"
    },
    "id": "04HsybrY0y2e",
    "outputId": "f6cfcccc-0afb-4c10-c4eb-dcd6c2282e07"
   },
   "outputs": [
    {
     "name": "stdout",
     "output_type": "stream",
     "text": [
      "acc score -> 0.8805187637969095\n",
      "f1-score -> 0.03991130820399113\n"
     ]
    }
   ],
   "source": [
    "# fits the xgboost classifer\n",
    "# makes prediction \n",
    "# then gets its f1_score, we used weighted average because it takes into consideration unbalance data\n",
    "pipe_xgb.fit(X_train, y_train)\n",
    "y_xgb_prd= pipe_xgb.predict(X_val)\n",
    "print('acc score -> '+str(pipe_xgb.score(X_val, y_val)))\n",
    "print('f1-score -> '+str(f1_score(y_val, y_xgb_prd)))"
   ]
  },
  {
   "cell_type": "code",
   "execution_count": 45,
   "metadata": {
    "colab": {
     "base_uri": "https://localhost:8080/"
    },
    "id": "KEpq2C929335",
    "outputId": "9726c9b2-fd57-4fef-f5a1-c8b798a6bb6b"
   },
   "outputs": [
    {
     "name": "stdout",
     "output_type": "stream",
     "text": [
      "acc score -> 0.8807947019867549\n",
      "f1-score -> 0.08085106382978724\n"
     ]
    }
   ],
   "source": [
    "# fits the Logit classifer\n",
    "# makes prediction \n",
    "# then gets its f1_score, we used weighted average because it takes into consideration unbalance data\n",
    "\n",
    "pipe_logit.fit(X_train, y_train)\n",
    "pipe_logit.predict(X_val)\n",
    "y_lg_prd= pipe_logit.predict(X_val)\n",
    "print('acc score -> '+str(pipe_logit.score(X_val, y_val)))\n",
    "print('f1-score -> '+str(f1_score(y_val, y_lg_prd)))"
   ]
  },
  {
   "cell_type": "code",
   "execution_count": 46,
   "metadata": {
    "colab": {
     "base_uri": "https://localhost:8080/"
    },
    "id": "jAy1ENH7ObjS",
    "outputId": "72237d0f-5592-40d7-ba26-b4c5d31b14eb"
   },
   "outputs": [
    {
     "name": "stdout",
     "output_type": "stream",
     "text": [
      "acc score -> 0.8794150110375276\n",
      "f1-score -> 0.0\n"
     ]
    }
   ],
   "source": [
    "# fits the random forest classifer\n",
    "# makes prediction \n",
    "# then gets its f1_score, we used weighted average because it takes into consideration unbalance data\n",
    "\n",
    "pipe_rf.fit(X_train, y_train)\n",
    "pipe_rf.predict(X_val)\n",
    "y_rf_pred = pipe_rf.predict(X_val)\n",
    "print('acc score -> '+str(pipe_rf.score(X_val, y_val)))\n",
    "print('f1-score -> '+str(f1_score(y_val, y_rf_pred)))"
   ]
  },
  {
   "cell_type": "code",
   "execution_count": null,
   "metadata": {
    "id": "jRQyK6CAxld8"
   },
   "outputs": [],
   "source": []
  },
  {
   "cell_type": "markdown",
   "metadata": {
    "id": "nVrW_kL0Kzce"
   },
   "source": [
    "From the above results, we can see that Logistics regression classifier performed better than  the rest of the algorithms.\n",
    "next we will be evaluating how well the models predict."
   ]
  },
  {
   "cell_type": "markdown",
   "metadata": {
    "id": "H9u3yciQz1JC"
   },
   "source": [
    "# Bagging"
   ]
  },
  {
   "cell_type": "code",
   "execution_count": 51,
   "metadata": {
    "colab": {
     "base_uri": "https://localhost:8080/"
    },
    "id": "cS0064Lhxmzt",
    "outputId": "3e67852e-d837-4d4b-fc4f-ef4ebc0e700c"
   },
   "outputs": [
    {
     "name": "stdout",
     "output_type": "stream",
     "text": [
      "acc score -> 0.8807947019867549\n",
      "f1-score -> 0.08085106382978724\n"
     ]
    }
   ],
   "source": [
    "from sklearn.ensemble import BaggingClassifier\n",
    "from sklearn.pipeline import Pipeline\n",
    "bagging= BaggingClassifier(base_estimator= LogisticRegression(C = 100, max_iter=1000000), n_estimators=50)\n",
    "\n",
    "pipe_1 = Pipeline([('trans', transformer), ('clf', bagging)])\n",
    "pipe_1.fit(X_train, y_train);\n",
    "\n",
    "y_p1_pred = pipe_1.predict(X_val)\n",
    "print('acc score -> '+str(pipe_1.score(X_val, y_val)))\n",
    "print('f1-score -> '+str(f1_score(y_val, y_p1_pred)))"
   ]
  },
  {
   "cell_type": "markdown",
   "metadata": {
    "id": "Odk0jeYOz8Y2"
   },
   "source": [
    "# Votting"
   ]
  },
  {
   "cell_type": "code",
   "execution_count": 53,
   "metadata": {
    "colab": {
     "base_uri": "https://localhost:8080/"
    },
    "id": "zJn4sdEVz7X5",
    "outputId": "9ae97e61-e045-4757-db52-bad99c212756"
   },
   "outputs": [
    {
     "name": "stdout",
     "output_type": "stream",
     "text": [
      "acc score -> 0.8813465783664459\n",
      "f1-score -> 0.06521739130434782\n"
     ]
    }
   ],
   "source": [
    "from sklearn.ensemble import VotingClassifier\n",
    "\n",
    "c1 = LogisticRegression(C = 1000, max_iter=1000)\n",
    "c2 = RandomForestClassifier(max_depth=12, n_estimators=80, max_features=8)\n",
    "c3 = XGBClassifier(silent=False,                     # Initialize the XGBoost Claassifier\n",
    "                      scale_pos_weight=1,\n",
    "                      learning_rate=0.01,  \n",
    "                      colsample_bytree = 0.4,\n",
    "                      subsample = 0.8,\n",
    "                      objective='binary:logistic', \n",
    "                      n_estimators=1000, \n",
    "                      reg_alpha = 0.3,\n",
    "                      max_depth=4, \n",
    "                      gamma=10)\n",
    "\n",
    "\n",
    "vote = VotingClassifier(estimators=[('lr', c1), ('rf', c2), ('xgb', c3)], voting='hard')\n",
    "\n",
    "pipe_2 = Pipeline([('t', transformer ), ('clf', vote)])\n",
    "pipe_2.fit(X_train, y_train);\n",
    "\n",
    "y_p2_pred = pipe_2.predict(X_val)\n",
    "print('acc score -> '+str(pipe_2.score(X_val, y_val)))\n",
    "print('f1-score -> '+str(f1_score(y_val, y_p2_pred)))"
   ]
  },
  {
   "cell_type": "code",
   "execution_count": null,
   "metadata": {
    "id": "LdCAOI562N8d"
   },
   "outputs": [],
   "source": []
  },
  {
   "cell_type": "markdown",
   "metadata": {
    "id": "4ydIHLwd2Oyw"
   },
   "source": [
    "# Feature Selection"
   ]
  },
  {
   "cell_type": "code",
   "execution_count": 61,
   "metadata": {
    "colab": {
     "base_uri": "https://localhost:8080/"
    },
    "id": "G08H4udK1_Qa",
    "outputId": "f1b79490-3781-4de3-bc72-97f604881c47"
   },
   "outputs": [
    {
     "name": "stdout",
     "output_type": "stream",
     "text": [
      "acc score -> 0.880242825607064\n",
      "f1-score -> 0.07264957264957266\n"
     ]
    }
   ],
   "source": [
    "from sklearn.feature_selection import SelectFromModel\n",
    "\n",
    "c1 = LogisticRegression(C = 1000, max_iter=1000)\n",
    "c2 = RandomForestClassifier(max_depth=12, n_estimators=80, max_features=8)\n",
    "c3 = XGBClassifier(silent=False,                     # Initialize the XGBoost Claassifier\n",
    "                      scale_pos_weight=1,\n",
    "                      learning_rate=0.01,  \n",
    "                      colsample_bytree = 0.4,\n",
    "                      subsample = 0.8,\n",
    "                      objective='binary:logistic', \n",
    "                      n_estimators=1000, \n",
    "                      reg_alpha = 0.3,\n",
    "                      max_depth=4, \n",
    "                      gamma=10)\n",
    "pipe_3 = Pipeline([('transf', transformer), \n",
    "                    ('feature select', SelectFromModel(c3)), \n",
    "                   ('clf', c1)])\n",
    "\n",
    "pipe_3.fit(X_train, y_train);\n",
    "\n",
    "y_p3_pred = pipe_3.predict(X_val)\n",
    "print('acc score -> '+str(pipe_3.score(X_val, y_val)))\n",
    "print('f1-score -> '+str(f1_score(y_val, y_p3_pred)))"
   ]
  },
  {
   "cell_type": "code",
   "execution_count": null,
   "metadata": {
    "id": "PPTKJFiALGga"
   },
   "outputs": [],
   "source": [
    "# This function plots the learning curve of the models\n",
    "def learn_curve_plot(name = '', model= None, xtrain = None, ytrain= None, xtest = None, ytest = None):\n",
    "    \n",
    "    train_sizes, train_scores, test_scores = \\\n",
    "                               learning_curve(estimator=model, X=xtrain, y=ytrain,\n",
    "                               train_sizes=np.linspace( 0.1, 1.0, 10), \n",
    "                               cv=10, n_jobs=-1)\n",
    " \n",
    " \n",
    "    train_mean = np.mean(train_scores, axis=1)\n",
    "    train_std = np.std(train_scores, axis=1)\n",
    "    test_mean = np.mean(test_scores, axis=1)\n",
    "    test_std = np.std(test_scores, axis=1)\n",
    "    \n",
    "    plt.plot(train_sizes, train_mean, color='blue', marker='o', markersize=5, label='Training accuracy')\n",
    "    plt.fill_between(train_sizes, train_mean + train_std, train_mean - train_std,  alpha=0.15, color='blue')\n",
    "    plt.axhline(y = model.score(xtest, ytest), ls = \"--\", color = 'red')\n",
    "    p = plt.plot(train_sizes, test_mean, \n",
    "                 color='green', linestyle='--', \n",
    "                 marker='s', markersize=5, \n",
    "             label='Validation accuracy')\n",
    "    plt.title(name)\n",
    "    \n",
    "    return p"
   ]
  },
  {
   "cell_type": "code",
   "execution_count": null,
   "metadata": {
    "colab": {
     "base_uri": "https://localhost:8080/",
     "height": 461
    },
    "id": "H30hAASaLGi4",
    "outputId": "20646d70-4f13-4260-e513-a9bbf1efbd05"
   },
   "outputs": [
    {
     "data": {
      "text/plain": [
       "[<matplotlib.lines.Line2D at 0x7f73ada79dd0>]"
      ]
     },
     "execution_count": 282,
     "metadata": {
      "tags": []
     },
     "output_type": "execute_result"
    },
    {
     "data": {
      "image/png": "[encoded data removed]",
      "text/plain": [
       "<Figure size 864x504 with 1 Axes>"
      ]
     },
     "metadata": {
      "needs_background": "light",
      "tags": []
     },
     "output_type": "display_data"
    }
   ],
   "source": [
    "# Evaluating the Random Forest\n",
    "learn_curve_plot(name = 'Random-Forest', \n",
    "                 model = pipe_rf, \n",
    "                 xtrain = X_train, \n",
    "                 ytrain= y_train,\n",
    "                ytest = y_val,\n",
    "                xtest = X_val)"
   ]
  },
  {
   "cell_type": "code",
   "execution_count": null,
   "metadata": {
    "colab": {
     "base_uri": "https://localhost:8080/",
     "height": 461
    },
    "id": "qmTQ1pugLGlW",
    "outputId": "ed907771-acad-4175-ecb0-53eff8811b5a"
   },
   "outputs": [
    {
     "data": {
      "text/plain": [
       "[<matplotlib.lines.Line2D at 0x7f73ad941510>]"
      ]
     },
     "execution_count": 283,
     "metadata": {
      "tags": []
     },
     "output_type": "execute_result"
    },
    {
     "data": {
      "image/png": "[encoded data removed]",
      "text/plain": [
       "<Figure size 864x504 with 1 Axes>"
      ]
     },
     "metadata": {
      "needs_background": "light",
      "tags": []
     },
     "output_type": "display_data"
    }
   ],
   "source": [
    "# Evaluating the XGboost\n",
    "learn_curve_plot(name = 'XGBoost', \n",
    "                 model = pipe_xgb, \n",
    "                 xtrain = X_train, \n",
    "                 ytrain= y_train,\n",
    "                ytest = y_val,\n",
    "                xtest = X_val)"
   ]
  },
  {
   "cell_type": "code",
   "execution_count": null,
   "metadata": {
    "colab": {
     "base_uri": "https://localhost:8080/",
     "height": 461
    },
    "id": "taZB25mgLGnk",
    "outputId": "dd8a489d-b199-45c6-ed1f-c6f720119296"
   },
   "outputs": [
    {
     "data": {
      "text/plain": [
       "[<matplotlib.lines.Line2D at 0x7f73ad9c9a50>]"
      ]
     },
     "execution_count": 284,
     "metadata": {
      "tags": []
     },
     "output_type": "execute_result"
    },
    {
     "data": {
      "image/png": "[encoded data removed]",
      "text/plain": [
       "<Figure size 864x504 with 1 Axes>"
      ]
     },
     "metadata": {
      "needs_background": "light",
      "tags": []
     },
     "output_type": "display_data"
    }
   ],
   "source": [
    "# Evaluating the Logit\n",
    "learn_curve_plot(name = 'Logit', \n",
    "                 model = pipe_logit, \n",
    "                 xtrain = X_train, \n",
    "                 ytrain= y_train,\n",
    "                ytest = y_val,\n",
    "                xtest = X_val)"
   ]
  },
  {
   "cell_type": "markdown",
   "metadata": {
    "id": "KK-M6KQVSTYX"
   },
   "source": [
    "We go for Logistics Regression Model, because it has low tendency of overfitting, this is proven in the learning curve."
   ]
  },
  {
   "cell_type": "code",
   "execution_count": null,
   "metadata": {
    "colab": {
     "base_uri": "https://localhost:8080/",
     "height": 459
    },
    "id": "sVg03Q54LGqh",
    "outputId": "85484079-122d-4506-89a6-df54cd04a384"
   },
   "outputs": [
    {
     "data": {
      "text/plain": [
       "<sklearn.metrics._plot.confusion_matrix.ConfusionMatrixDisplay at 0x7f3434a740d0>"
      ]
     },
     "execution_count": 36,
     "metadata": {
      "tags": []
     },
     "output_type": "execute_result"
    },
    {
     "data": {
      "image/png": "[encoded data removed]",
      "text/plain": [
       "<Figure size 864x504 with 2 Axes>"
      ]
     },
     "metadata": {
      "needs_background": "light",
      "tags": []
     },
     "output_type": "display_data"
    }
   ],
   "source": [
    "plot_confusion_matrix(pipe_logit, X_val, y_val, normalize='true', cmap= 'Blues')"
   ]
  },
  {
   "cell_type": "code",
   "execution_count": null,
   "metadata": {
    "colab": {
     "base_uri": "https://localhost:8080/",
     "height": 459
    },
    "id": "7wPbEf_jsWUT",
    "outputId": "b028e3dc-5034-4230-b154-70cb4d6b6e6e"
   },
   "outputs": [
    {
     "data": {
      "text/plain": [
       "<sklearn.metrics._plot.confusion_matrix.ConfusionMatrixDisplay at 0x7f342c18fc90>"
      ]
     },
     "execution_count": 37,
     "metadata": {
      "tags": []
     },
     "output_type": "execute_result"
    },
    {
     "data": {
      "image/png": "[encoded data removed]",
      "text/plain": [
       "<Figure size 864x504 with 2 Axes>"
      ]
     },
     "metadata": {
      "needs_background": "light",
      "tags": []
     },
     "output_type": "display_data"
    }
   ],
   "source": [
    "plot_confusion_matrix(pipe_xgb, X_val, y_val, normalize='true', cmap= 'Blues')"
   ]
  },
  {
   "cell_type": "code",
   "execution_count": null,
   "metadata": {
    "colab": {
     "base_uri": "https://localhost:8080/",
     "height": 463
    },
    "id": "4vEbaN4YsWYJ",
    "outputId": "0b608953-c887-4ad4-b204-ab723eee0505"
   },
   "outputs": [
    {
     "data": {
      "text/plain": [
       "<sklearn.metrics._plot.confusion_matrix.ConfusionMatrixDisplay at 0x7f342c09ee50>"
      ]
     },
     "execution_count": 38,
     "metadata": {
      "tags": []
     },
     "output_type": "execute_result"
    },
    {
     "data": {
      "image/png": "[encoded data removed]",
      "text/plain": [
       "<Figure size 864x504 with 2 Axes>"
      ]
     },
     "metadata": {
      "needs_background": "light",
      "tags": []
     },
     "output_type": "display_data"
    }
   ],
   "source": [
    "plot_confusion_matrix(pipe_rf, X_val, y_val, normalize='true', cmap= 'Blues')"
   ]
  },
  {
   "cell_type": "code",
   "execution_count": 62,
   "metadata": {
    "colab": {
     "base_uri": "https://localhost:8080/"
    },
    "id": "C3Fx472QUOCf",
    "outputId": "deedc59d-acec-47a1-c8c5-9d3c836f696f"
   },
   "outputs": [
    {
     "name": "stdout",
     "output_type": "stream",
     "text": [
      "Initial train data:  (12079, 14)\n",
      "Train data after processing:  (12079, 20)\n",
      "---\n",
      "Initial test data:  (1202, 13)\n",
      "Test data after processing:  (1202, 20)\n"
     ]
    }
   ],
   "source": [
    "print('Initial train data: ', train.shape)\n",
    "print('Train data after processing: ', traindf.shape)\n",
    "print('---')\n",
    "print('Initial test data: ', test.shape)\n",
    "print('Test data after processing: ', testdf.shape)\n"
   ]
  },
  {
   "cell_type": "code",
   "execution_count": null,
   "metadata": {
    "colab": {
     "base_uri": "https://localhost:8080/"
    },
    "id": "vspmGwsbT1gd",
    "outputId": "b3bdb6ff-6992-434d-a491-c32392453cac"
   },
   "outputs": [
    {
     "name": "stderr",
     "output_type": "stream",
     "text": [
      "/usr/local/lib/python3.7/dist-packages/sklearn/compose/_column_transformer.py:430: FutureWarning: Given feature/column names or counts do not match the ones for the data given during fit. This will fail from v0.24.\n",
      "  FutureWarning)\n"
     ]
    }
   ],
   "source": [
    "test_features =testdf.iloc[:, 1:]\n",
    "pred = pipe_logit.predict(test_features )\n",
    "sub_dict= {'ID': testdf['ID'], 'target': pred}\n",
    "submission = pd.DataFrame(sub_dict).set_index('ID')\n",
    "submission.to_csv('first_submission.csv')"
   ]
  },
  {
   "cell_type": "markdown",
   "metadata": {
    "id": "sHhg5Xh0wtBJ"
   },
   "source": [
    "# Undersampling and Over Sampling"
   ]
  },
  {
   "cell_type": "code",
   "execution_count": 68,
   "metadata": {
    "id": "Dc31kyiW1xJX"
   },
   "outputs": [],
   "source": [
    "\n",
    "# example of random oversampling to balance the class distribution\n",
    "from collections import Counter\n",
    "from sklearn.datasets import make_classification\n",
    "from imblearn.over_sampling import RandomOverSampler, SMOTE\n",
    "from imblearn.under_sampling import RandomUnderSampler\n",
    "from imblearn.pipeline import Pipeline\n",
    "from sklearn.feature_selection import SelectFromModel\n",
    "from sklearn.tree import DecisionTreeClassifier"
   ]
  },
  {
   "cell_type": "code",
   "execution_count": 113,
   "metadata": {
    "colab": {
     "base_uri": "https://localhost:8080/"
    },
    "id": "AWOMZJhS2Br-",
    "outputId": "14f5c4ea-26ec-49a7-b4f9-b54ece088057"
   },
   "outputs": [
    {
     "name": "stderr",
     "output_type": "stream",
     "text": [
      "/usr/local/lib/python3.7/dist-packages/sklearn/utils/deprecation.py:87: FutureWarning: Function safe_indexing is deprecated; safe_indexing is deprecated in version 0.22 and will be removed in version 0.24.\n",
      "  warnings.warn(msg, category=FutureWarning)\n",
      "/usr/local/lib/python3.7/dist-packages/sklearn/utils/deprecation.py:87: FutureWarning: Function safe_indexing is deprecated; safe_indexing is deprecated in version 0.22 and will be removed in version 0.24.\n",
      "  warnings.warn(msg, category=FutureWarning)\n"
     ]
    },
    {
     "name": "stdout",
     "output_type": "stream",
     "text": [
      "acc score -> 0.6396247240618101\n",
      "f1-score -> 0.3274974253347065\n"
     ]
    }
   ],
   "source": [
    "# Logit\n",
    "c0 = RandomForestClassifier(n_estimators=100, class_weight='balanced')\n",
    "c01 = DecisionTreeClassifier()\n",
    "l1 = LogisticRegression(C = 0.01, max_iter=120000)\n",
    "\n",
    "ov = RandomOverSampler()\n",
    "ud = RandomUnderSampler()\n",
    "logit2 = Pipeline([('t', transformer), \n",
    "                   ('under', ud), ('over', ov),\n",
    "                   \n",
    "                  ('feature select', SelectFromModel(l1)),\n",
    "                   ('model', c0)])\n",
    "logit2.fit(X_train,y_train)\n",
    "\n",
    "logit2.predict(X_val)\n",
    "y_lg2_prd= logit2.predict(X_val)\n",
    "print('acc score -> '+str(logit2.score(X_val, y_val)))\n",
    "print('f1-score -> '+str(f1_score(y_val, y_lg2_prd)))"
   ]
  },
  {
   "cell_type": "code",
   "execution_count": 161,
   "metadata": {
    "colab": {
     "base_uri": "https://localhost:8080/"
    },
    "id": "YyqolKwy4pUH",
    "outputId": "2b15523c-a8db-44a6-d96d-31ae91d2f1a7"
   },
   "outputs": [
    {
     "name": "stderr",
     "output_type": "stream",
     "text": [
      "/usr/local/lib/python3.7/dist-packages/sklearn/utils/deprecation.py:87: FutureWarning: Function safe_indexing is deprecated; safe_indexing is deprecated in version 0.22 and will be removed in version 0.24.\n",
      "  warnings.warn(msg, category=FutureWarning)\n",
      "/usr/local/lib/python3.7/dist-packages/sklearn/utils/deprecation.py:87: FutureWarning: Function safe_indexing is deprecated; safe_indexing is deprecated in version 0.22 and will be removed in version 0.24.\n",
      "  warnings.warn(msg, category=FutureWarning)\n"
     ]
    },
    {
     "name": "stdout",
     "output_type": "stream",
     "text": [
      "acc score -> 0.6931567328918322\n",
      "f1-score -> 0.35046728971962615\n"
     ]
    }
   ],
   "source": [
    "# XGBoost\n",
    "# Initialize the XGBoost Claassifier\n",
    "c0 = RandomForestClassifier(n_estimators=100, class_weight='balanced')\n",
    "c01 = DecisionTreeClassifier()\n",
    "l1 = LogisticRegression(C = 100, max_iter=120000, class_weight='balanced')\n",
    "\n",
    "xgb0= XGBClassifier(silent=True,                     \n",
    "                      scale_pos_weight=0.9,\n",
    "                      learning_rate=0.001,  \n",
    "                      colsample_bytree = 0.2,\n",
    "                      subsample = 0.8,\n",
    "                      objective='binary:logistic', \n",
    "                      reg_alpha = 1,\n",
    "                      max_depth=10, \n",
    "                      gamma=1)\n",
    "\n",
    "ov = RandomOverSampler()\n",
    "ud = RandomUnderSampler()\n",
    "xgb2 = Pipeline([  ('t', transformer), \n",
    "                   ('over', ud), ('under', ud),('model selection', SelectFromModel(c0)),\n",
    "                   ('model', xgb0)]);\n",
    "\n",
    "xgb2.fit(X_train,y_train);\n",
    "\n",
    "preds =xgb2.predict(X_val) \n",
    "y_xgb2_prd= preds\n",
    "print('acc score -> '+str(xgb2.score(X_val, y_val)))\n",
    "print('f1-score -> '+str(f1_score(y_val, y_xgb2_prd)))"
   ]
  },
  {
   "cell_type": "code",
   "execution_count": 154,
   "metadata": {
    "colab": {
     "base_uri": "https://localhost:8080/"
    },
    "id": "OfPI4kTNCQLB",
    "outputId": "0c7c9400-d20a-4a9a-c435-aba6d79e0258"
   },
   "outputs": [
    {
     "name": "stdout",
     "output_type": "stream",
     "text": [
      "              precision    recall  f1-score   support\n",
      "\n",
      "         0.0       0.94      0.70      0.81      3187\n",
      "         1.0       0.24      0.70      0.36       437\n",
      "\n",
      "    accuracy                           0.70      3624\n",
      "   macro avg       0.59      0.70      0.58      3624\n",
      "weighted avg       0.86      0.70      0.75      3624\n",
      "\n"
     ]
    }
   ],
   "source": [
    "print(classification_report(y_val, y_xgb2_prd))"
   ]
  },
  {
   "cell_type": "markdown",
   "metadata": {
    "id": "4JD9Fs9VGXp1"
   },
   "source": [
    "# ROC plot"
   ]
  },
  {
   "cell_type": "code",
   "execution_count": 129,
   "metadata": {
    "colab": {
     "base_uri": "https://localhost:8080/",
     "height": 297
    },
    "id": "S6sZgf6eGcFu",
    "outputId": "d0e75110-9737-4b45-b70a-5fe30e170598"
   },
   "outputs": [
    {
     "data": {
      "text/plain": [
       "[<matplotlib.lines.Line2D at 0x7f1a8f28e650>]"
      ]
     },
     "execution_count": 129,
     "metadata": {
      "tags": []
     },
     "output_type": "execute_result"
    },
    {
     "data": {
      "image/png": "[encoded data removed]",
      "text/plain": [
       "<Figure size 432x288 with 1 Axes>"
      ]
     },
     "metadata": {
      "needs_background": "light",
      "tags": []
     },
     "output_type": "display_data"
    }
   ],
   "source": [
    "from sklearn.metrics import roc_curve, auc\n",
    "\n",
    "xgb_probs =  xgb2.predict_proba(X_val)\n",
    "\n",
    "\n",
    "preds = xgb_probs[:,1]\n",
    "fpr, tpr, threshold = roc_curve(y_val, preds)\n",
    "roc_auc = auc(fpr, tpr)\n",
    "\n",
    "plt.title('Receiver Operating Characteristic')\n",
    "plt.plot(fpr, tpr, 'b', label = 'AUC = %0.2f' % roc_auc)"
   ]
  },
  {
   "cell_type": "code",
   "execution_count": null,
   "metadata": {
    "id": "M-10Oy_qIe9n"
   },
   "outputs": [],
   "source": []
  },
  {
   "cell_type": "code",
   "execution_count": 107,
   "metadata": {
    "colab": {
     "base_uri": "https://localhost:8080/"
    },
    "id": "nLJplc3QHAwG",
    "outputId": "db3626e9-7b90-48ac-ec84-7378fc7595d8"
   },
   "outputs": [
    {
     "name": "stderr",
     "output_type": "stream",
     "text": [
      "/usr/local/lib/python3.7/dist-packages/sklearn/compose/_column_transformer.py:430: FutureWarning: Given feature/column names or counts do not match the ones for the data given during fit. This will fail from v0.24.\n",
      "  FutureWarning)\n"
     ]
    }
   ],
   "source": [
    "test_features =testdf.iloc[:, 1:]\n",
    "pred = xgb2.predict(test_features )\n",
    "sub_dict= {'ID': testdf['ID'], 'target': pred}\n",
    "submission = pd.DataFrame(sub_dict).set_index('ID')\n",
    "submission.to_csv('3nd_submission.csv')"
   ]
  },
  {
   "cell_type": "code",
   "execution_count": null,
   "metadata": {
    "id": "JxoWFj0bOdgu"
   },
   "outputs": [],
   "source": []
  }
 ],
 "metadata": {
  "colab": {
   "collapsed_sections": [],
   "name": "Copy_of_Auto_In_Land_(4).ipynb",
   "provenance": []
  },
  "hide_input": false,
  "kernelspec": {
   "display_name": "Python 3",
   "language": "python",
   "name": "python3"
  },
  "language_info": {
   "codemirror_mode": {
    "name": "ipython",
    "version": 3
   },
   "file_extension": ".py",
   "mimetype": "text/x-python",
   "name": "python",
   "nbconvert_exporter": "python",
   "pygments_lexer": "ipython3",
   "version": "3.8.8"
  }
 },
 "nbformat": 4,
 "nbformat_minor": 1
}
