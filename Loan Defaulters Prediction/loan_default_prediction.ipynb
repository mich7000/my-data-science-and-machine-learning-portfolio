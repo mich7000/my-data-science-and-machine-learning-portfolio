{
 "cells": [
  {
   "cell_type": "markdown",
   "id": "e06bd8c0",
   "metadata": {},
   "source": [
    "# Machine Learning\n",
    "Predict  whether a loan applicant is likely to default a loan or not.<br>\n",
    "\n",
    "**Type:**<br>\n",
    "Classification (Supervised Segmentation)\n",
    "\n",
    "**Method**\n",
    "* Data loading, data inspection and cleaning\n",
    "* Missing value handling\n",
    "* Plotting distribution and countplots\n",
    "* Feature engineering (creating bins)\n",
    "* Split the data into train and test set\n",
    "* fit sevaral models and compare them\n",
    "* Choose the best model & tune with [gridsearch and bayesian search]\n",
    "* deploy final model in a web application."
   ]
  },
  {
   "cell_type": "code",
   "execution_count": 1,
   "id": "00dd0af9",
   "metadata": {},
   "outputs": [],
   "source": [
    "# sets a seeding\n",
    "import random\n",
    "random.seed(12)"
   ]
  },
  {
   "cell_type": "code",
   "execution_count": null,
   "id": "42dd5bfe",
   "metadata": {},
   "outputs": [],
   "source": []
  },
  {
   "cell_type": "code",
   "execution_count": 2,
   "id": "691513dd",
   "metadata": {},
   "outputs": [],
   "source": [
    "# loads the required libraries for data analysis and statistical analysis\n",
    "import pandas as pd\n",
    "import numpy as np\n",
    "import scipy.stats as ss\n",
    "import matplotlib.pyplot as plt\n",
    "import seaborn as sns\n"
   ]
  },
  {
   "cell_type": "code",
   "execution_count": 3,
   "id": "b7f1e40c",
   "metadata": {},
   "outputs": [],
   "source": [
    "%matplotlib inline"
   ]
  },
  {
   "cell_type": "markdown",
   "id": "c355b445",
   "metadata": {},
   "source": [
    "## data loading and preprocessing."
   ]
  },
  {
   "cell_type": "code",
   "execution_count": 4,
   "id": "ff59f3b4",
   "metadata": {},
   "outputs": [
    {
     "data": {
      "text/html": [
       "<div>\n",
       "<style scoped>\n",
       "    .dataframe tbody tr th:only-of-type {\n",
       "        vertical-align: middle;\n",
       "    }\n",
       "\n",
       "    .dataframe tbody tr th {\n",
       "        vertical-align: top;\n",
       "    }\n",
       "\n",
       "    .dataframe thead th {\n",
       "        text-align: right;\n",
       "    }\n",
       "</style>\n",
       "<table border=\"1\" class=\"dataframe\">\n",
       "  <thead>\n",
       "    <tr style=\"text-align: right;\">\n",
       "      <th></th>\n",
       "      <th>Loan_ID</th>\n",
       "      <th>Gender</th>\n",
       "      <th>Married</th>\n",
       "      <th>Dependents</th>\n",
       "      <th>Education</th>\n",
       "      <th>Self_Employed</th>\n",
       "      <th>ApplicantIncome</th>\n",
       "      <th>CoapplicantIncome</th>\n",
       "      <th>LoanAmount</th>\n",
       "      <th>Loan_Amount_Term</th>\n",
       "      <th>Credit_History</th>\n",
       "      <th>Property_Area</th>\n",
       "      <th>Loan_Status</th>\n",
       "    </tr>\n",
       "  </thead>\n",
       "  <tbody>\n",
       "    <tr>\n",
       "      <th>0</th>\n",
       "      <td>LP001002</td>\n",
       "      <td>Male</td>\n",
       "      <td>No</td>\n",
       "      <td>0</td>\n",
       "      <td>Graduate</td>\n",
       "      <td>No</td>\n",
       "      <td>5849</td>\n",
       "      <td>0.0</td>\n",
       "      <td>NaN</td>\n",
       "      <td>360.0</td>\n",
       "      <td>1.0</td>\n",
       "      <td>Urban</td>\n",
       "      <td>Y</td>\n",
       "    </tr>\n",
       "    <tr>\n",
       "      <th>1</th>\n",
       "      <td>LP001003</td>\n",
       "      <td>Male</td>\n",
       "      <td>Yes</td>\n",
       "      <td>1</td>\n",
       "      <td>Graduate</td>\n",
       "      <td>No</td>\n",
       "      <td>4583</td>\n",
       "      <td>1508.0</td>\n",
       "      <td>128.0</td>\n",
       "      <td>360.0</td>\n",
       "      <td>1.0</td>\n",
       "      <td>Rural</td>\n",
       "      <td>N</td>\n",
       "    </tr>\n",
       "    <tr>\n",
       "      <th>2</th>\n",
       "      <td>LP001005</td>\n",
       "      <td>Male</td>\n",
       "      <td>Yes</td>\n",
       "      <td>0</td>\n",
       "      <td>Graduate</td>\n",
       "      <td>Yes</td>\n",
       "      <td>3000</td>\n",
       "      <td>0.0</td>\n",
       "      <td>66.0</td>\n",
       "      <td>360.0</td>\n",
       "      <td>1.0</td>\n",
       "      <td>Urban</td>\n",
       "      <td>Y</td>\n",
       "    </tr>\n",
       "    <tr>\n",
       "      <th>3</th>\n",
       "      <td>LP001006</td>\n",
       "      <td>Male</td>\n",
       "      <td>Yes</td>\n",
       "      <td>0</td>\n",
       "      <td>Not Graduate</td>\n",
       "      <td>No</td>\n",
       "      <td>2583</td>\n",
       "      <td>2358.0</td>\n",
       "      <td>120.0</td>\n",
       "      <td>360.0</td>\n",
       "      <td>1.0</td>\n",
       "      <td>Urban</td>\n",
       "      <td>Y</td>\n",
       "    </tr>\n",
       "    <tr>\n",
       "      <th>4</th>\n",
       "      <td>LP001008</td>\n",
       "      <td>Male</td>\n",
       "      <td>No</td>\n",
       "      <td>0</td>\n",
       "      <td>Graduate</td>\n",
       "      <td>No</td>\n",
       "      <td>6000</td>\n",
       "      <td>0.0</td>\n",
       "      <td>141.0</td>\n",
       "      <td>360.0</td>\n",
       "      <td>1.0</td>\n",
       "      <td>Urban</td>\n",
       "      <td>Y</td>\n",
       "    </tr>\n",
       "  </tbody>\n",
       "</table>\n",
       "</div>"
      ],
      "text/plain": [
       "    Loan_ID Gender Married Dependents     Education Self_Employed  \\\n",
       "0  LP001002   Male      No          0      Graduate            No   \n",
       "1  LP001003   Male     Yes          1      Graduate            No   \n",
       "2  LP001005   Male     Yes          0      Graduate           Yes   \n",
       "3  LP001006   Male     Yes          0  Not Graduate            No   \n",
       "4  LP001008   Male      No          0      Graduate            No   \n",
       "\n",
       "   ApplicantIncome  CoapplicantIncome  LoanAmount  Loan_Amount_Term  \\\n",
       "0             5849                0.0         NaN             360.0   \n",
       "1             4583             1508.0       128.0             360.0   \n",
       "2             3000                0.0        66.0             360.0   \n",
       "3             2583             2358.0       120.0             360.0   \n",
       "4             6000                0.0       141.0             360.0   \n",
       "\n",
       "   Credit_History Property_Area Loan_Status  \n",
       "0             1.0         Urban           Y  \n",
       "1             1.0         Rural           N  \n",
       "2             1.0         Urban           Y  \n",
       "3             1.0         Urban           Y  \n",
       "4             1.0         Urban           Y  "
      ]
     },
     "execution_count": 4,
     "metadata": {},
     "output_type": "execute_result"
    }
   ],
   "source": [
    "# loads the data and creates a copy of it \n",
    "# for ML processes..\n",
    "f = 'data/loan_data.xlsx'\n",
    "file= pd.ExcelFile(f)\n",
    "data = file.parse('loan')\n",
    "\n",
    "df = data.copy()\n",
    "df.head()"
   ]
  },
  {
   "cell_type": "code",
   "execution_count": 5,
   "id": "47fa4bbc",
   "metadata": {},
   "outputs": [
    {
     "name": "stdout",
     "output_type": "stream",
     "text": [
      "No. of columns:  13\n",
      "No. of rows:  614\n"
     ]
    }
   ],
   "source": [
    "print(\"No. of columns: \",df.shape[1])\n",
    "print('No. of rows: ', df.shape[0])"
   ]
  },
  {
   "cell_type": "code",
   "execution_count": 6,
   "id": "aa385923",
   "metadata": {},
   "outputs": [
    {
     "data": {
      "text/plain": [
       "Loan_ID               0\n",
       "Gender               13\n",
       "Married               3\n",
       "Dependents           15\n",
       "Education             0\n",
       "Self_Employed        32\n",
       "ApplicantIncome       0\n",
       "CoapplicantIncome     0\n",
       "LoanAmount           22\n",
       "Loan_Amount_Term     14\n",
       "Credit_History       50\n",
       "Property_Area         0\n",
       "Loan_Status           0\n",
       "dtype: int64"
      ]
     },
     "execution_count": 6,
     "metadata": {},
     "output_type": "execute_result"
    }
   ],
   "source": [
    "df.isnull().sum(axis=0) # checks for total numbr of missing values in the data.."
   ]
  },
  {
   "cell_type": "code",
   "execution_count": 7,
   "id": "3fd67084",
   "metadata": {},
   "outputs": [
    {
     "name": "stdout",
     "output_type": "stream",
     "text": [
      "<class 'pandas.core.frame.DataFrame'>\n",
      "RangeIndex: 614 entries, 0 to 613\n",
      "Data columns (total 13 columns):\n",
      " #   Column             Non-Null Count  Dtype  \n",
      "---  ------             --------------  -----  \n",
      " 0   Loan_ID            614 non-null    object \n",
      " 1   Gender             601 non-null    object \n",
      " 2   Married            611 non-null    object \n",
      " 3   Dependents         599 non-null    object \n",
      " 4   Education          614 non-null    object \n",
      " 5   Self_Employed      582 non-null    object \n",
      " 6   ApplicantIncome    614 non-null    int64  \n",
      " 7   CoapplicantIncome  614 non-null    float64\n",
      " 8   LoanAmount         592 non-null    float64\n",
      " 9   Loan_Amount_Term   600 non-null    float64\n",
      " 10  Credit_History     564 non-null    float64\n",
      " 11  Property_Area      614 non-null    object \n",
      " 12  Loan_Status        614 non-null    object \n",
      "dtypes: float64(4), int64(1), object(8)\n",
      "memory usage: 62.5+ KB\n"
     ]
    }
   ],
   "source": [
    "df.info()"
   ]
  },
  {
   "cell_type": "code",
   "execution_count": 8,
   "id": "3fb9ed9b",
   "metadata": {},
   "outputs": [
    {
     "data": {
      "text/html": [
       "<div>\n",
       "<style scoped>\n",
       "    .dataframe tbody tr th:only-of-type {\n",
       "        vertical-align: middle;\n",
       "    }\n",
       "\n",
       "    .dataframe tbody tr th {\n",
       "        vertical-align: top;\n",
       "    }\n",
       "\n",
       "    .dataframe thead th {\n",
       "        text-align: right;\n",
       "    }\n",
       "</style>\n",
       "<table border=\"1\" class=\"dataframe\">\n",
       "  <thead>\n",
       "    <tr style=\"text-align: right;\">\n",
       "      <th></th>\n",
       "      <th>ApplicantIncome</th>\n",
       "      <th>CoapplicantIncome</th>\n",
       "      <th>LoanAmount</th>\n",
       "      <th>Loan_Amount_Term</th>\n",
       "      <th>Credit_History</th>\n",
       "    </tr>\n",
       "  </thead>\n",
       "  <tbody>\n",
       "    <tr>\n",
       "      <th>count</th>\n",
       "      <td>614.000</td>\n",
       "      <td>614.000</td>\n",
       "      <td>592.000</td>\n",
       "      <td>600.00</td>\n",
       "      <td>564.000</td>\n",
       "    </tr>\n",
       "    <tr>\n",
       "      <th>mean</th>\n",
       "      <td>5403.459</td>\n",
       "      <td>1621.246</td>\n",
       "      <td>146.412</td>\n",
       "      <td>342.00</td>\n",
       "      <td>0.842</td>\n",
       "    </tr>\n",
       "    <tr>\n",
       "      <th>std</th>\n",
       "      <td>6109.042</td>\n",
       "      <td>2926.248</td>\n",
       "      <td>85.587</td>\n",
       "      <td>65.12</td>\n",
       "      <td>0.365</td>\n",
       "    </tr>\n",
       "    <tr>\n",
       "      <th>min</th>\n",
       "      <td>150.000</td>\n",
       "      <td>0.000</td>\n",
       "      <td>9.000</td>\n",
       "      <td>12.00</td>\n",
       "      <td>0.000</td>\n",
       "    </tr>\n",
       "    <tr>\n",
       "      <th>25%</th>\n",
       "      <td>2877.500</td>\n",
       "      <td>0.000</td>\n",
       "      <td>100.000</td>\n",
       "      <td>360.00</td>\n",
       "      <td>1.000</td>\n",
       "    </tr>\n",
       "    <tr>\n",
       "      <th>50%</th>\n",
       "      <td>3812.500</td>\n",
       "      <td>1188.500</td>\n",
       "      <td>128.000</td>\n",
       "      <td>360.00</td>\n",
       "      <td>1.000</td>\n",
       "    </tr>\n",
       "    <tr>\n",
       "      <th>75%</th>\n",
       "      <td>5795.000</td>\n",
       "      <td>2297.250</td>\n",
       "      <td>168.000</td>\n",
       "      <td>360.00</td>\n",
       "      <td>1.000</td>\n",
       "    </tr>\n",
       "    <tr>\n",
       "      <th>max</th>\n",
       "      <td>81000.000</td>\n",
       "      <td>41667.000</td>\n",
       "      <td>700.000</td>\n",
       "      <td>480.00</td>\n",
       "      <td>1.000</td>\n",
       "    </tr>\n",
       "  </tbody>\n",
       "</table>\n",
       "</div>"
      ],
      "text/plain": [
       "       ApplicantIncome  CoapplicantIncome  LoanAmount  Loan_Amount_Term  \\\n",
       "count          614.000            614.000     592.000            600.00   \n",
       "mean          5403.459           1621.246     146.412            342.00   \n",
       "std           6109.042           2926.248      85.587             65.12   \n",
       "min            150.000              0.000       9.000             12.00   \n",
       "25%           2877.500              0.000     100.000            360.00   \n",
       "50%           3812.500           1188.500     128.000            360.00   \n",
       "75%           5795.000           2297.250     168.000            360.00   \n",
       "max          81000.000          41667.000     700.000            480.00   \n",
       "\n",
       "       Credit_History  \n",
       "count         564.000  \n",
       "mean            0.842  \n",
       "std             0.365  \n",
       "min             0.000  \n",
       "25%             1.000  \n",
       "50%             1.000  \n",
       "75%             1.000  \n",
       "max             1.000  "
      ]
     },
     "execution_count": 8,
     "metadata": {},
     "output_type": "execute_result"
    }
   ],
   "source": [
    "df.describe().round(3)"
   ]
  },
  {
   "cell_type": "code",
   "execution_count": 9,
   "id": "8a9a822d",
   "metadata": {},
   "outputs": [],
   "source": [
    "df['Dependents'] = df['Dependents'].astype('str') # sets the right data-type for this column"
   ]
  },
  {
   "cell_type": "code",
   "execution_count": 10,
   "id": "1494de79",
   "metadata": {},
   "outputs": [
    {
     "data": {
      "text/plain": [
       "array(['0', '1', '2', '3+', 'nan'], dtype=object)"
      ]
     },
     "execution_count": 10,
     "metadata": {},
     "output_type": "execute_result"
    }
   ],
   "source": [
    "df['Dependents'].unique()"
   ]
  },
  {
   "cell_type": "code",
   "execution_count": 11,
   "id": "d4937800",
   "metadata": {},
   "outputs": [
    {
     "data": {
      "text/plain": [
       "array(['No', 'Yes', nan], dtype=object)"
      ]
     },
     "execution_count": 11,
     "metadata": {},
     "output_type": "execute_result"
    }
   ],
   "source": [
    "df['Married'].unique()"
   ]
  },
  {
   "cell_type": "code",
   "execution_count": null,
   "id": "62e4e46a",
   "metadata": {},
   "outputs": [],
   "source": []
  },
  {
   "cell_type": "markdown",
   "id": "1108124b",
   "metadata": {},
   "source": [
    "## check for missing values"
   ]
  },
  {
   "cell_type": "code",
   "execution_count": 12,
   "id": "08c3f800",
   "metadata": {},
   "outputs": [
    {
     "data": {
      "image/png": "[encoded data removed]",
      "text/plain": [
       "<Figure size 432x288 with 1 Axes>"
      ]
     },
     "metadata": {
      "needs_background": "light"
     },
     "output_type": "display_data"
    }
   ],
   "source": [
    "df.isnull().sum().plot(kind= 'barh', title= 'missing data')\n",
    "plt.show()"
   ]
  },
  {
   "cell_type": "code",
   "execution_count": 13,
   "id": "16a4a4be",
   "metadata": {},
   "outputs": [],
   "source": [
    "numeric_col = ['Loan_Amount_Term', 'LoanAmount']\n",
    "categorical_col = ['Self_Employed', 'Married', 'Gender']"
   ]
  },
  {
   "cell_type": "code",
   "execution_count": 14,
   "id": "d902d3bf",
   "metadata": {},
   "outputs": [
    {
     "name": "stdout",
     "output_type": "stream",
     "text": [
      "No. of Columns:  13\n",
      "No. of observation:  614\n"
     ]
    }
   ],
   "source": [
    "print('No. of Columns: ', df.shape[1])\n",
    "print('No. of observation: ', df.shape[0])"
   ]
  },
  {
   "cell_type": "code",
   "execution_count": 15,
   "id": "29094bd4",
   "metadata": {},
   "outputs": [
    {
     "data": {
      "text/plain": [
       "Loan_ID              0.000000\n",
       "Gender               0.021207\n",
       "Married              0.004894\n",
       "Dependents           0.000000\n",
       "Education            0.000000\n",
       "Self_Employed        0.052202\n",
       "ApplicantIncome      0.000000\n",
       "CoapplicantIncome    0.000000\n",
       "LoanAmount           0.035889\n",
       "Loan_Amount_Term     0.022838\n",
       "Credit_History       0.081566\n",
       "Property_Area        0.000000\n",
       "Loan_Status          0.000000\n",
       "dtype: float64"
      ]
     },
     "execution_count": 15,
     "metadata": {},
     "output_type": "execute_result"
    }
   ],
   "source": [
    "df.isna().sum()/613"
   ]
  },
  {
   "cell_type": "code",
   "execution_count": 16,
   "id": "a0fce1dc",
   "metadata": {},
   "outputs": [],
   "source": [
    "# i dropped the row with missing values\n",
    "# they are less in amount and will not really affect the model performance..\n",
    "df.dropna(axis = 0, inplace=True)"
   ]
  },
  {
   "cell_type": "code",
   "execution_count": 17,
   "id": "bc63465a",
   "metadata": {},
   "outputs": [
    {
     "data": {
      "image/png": "[encoded data removed]",
      "text/plain": [
       "<Figure size 432x288 with 1 Axes>"
      ]
     },
     "metadata": {
      "needs_background": "light"
     },
     "output_type": "display_data"
    }
   ],
   "source": [
    "df.isnull().sum().plot(kind= 'barh', title= 'missing data')\n",
    "plt.show()"
   ]
  },
  {
   "cell_type": "code",
   "execution_count": null,
   "id": "ab685c00",
   "metadata": {},
   "outputs": [],
   "source": []
  },
  {
   "cell_type": "markdown",
   "id": "4e9b4ff3",
   "metadata": {},
   "source": [
    "## check for normality"
   ]
  },
  {
   "cell_type": "code",
   "execution_count": 18,
   "id": "419e3623",
   "metadata": {},
   "outputs": [],
   "source": [
    "numeric_columns= df.select_dtypes('number')\n",
    "categorical_columns= df.select_dtypes('object')"
   ]
  },
  {
   "cell_type": "code",
   "execution_count": 74,
   "id": "c2bc736e",
   "metadata": {},
   "outputs": [
    {
     "data": {
      "image/png": "[encoded data removed]",
      "text/plain": [
       "<Figure size 864x360 with 4 Axes>"
      ]
     },
     "metadata": {},
     "output_type": "display_data"
    }
   ],
   "source": [
    "# plots a histogram of each numeric columns\n",
    "f = plt.figure(figsize= (12, 5))\n",
    "for index, col in enumerate(numeric_columns.columns[:-1]):\n",
    "    \n",
    "    plt.subplot(2, 3, index+1)\n",
    "    plt.tight_layout()\n",
    "    plt.hist(df[col])\n",
    "    plt.title(col)"
   ]
  },
  {
   "cell_type": "code",
   "execution_count": null,
   "id": "5529b8cd",
   "metadata": {},
   "outputs": [],
   "source": []
  },
  {
   "cell_type": "markdown",
   "id": "480207e4",
   "metadata": {},
   "source": [
    "## plot the categorical columns"
   ]
  },
  {
   "cell_type": "code",
   "execution_count": 20,
   "id": "2d398217",
   "metadata": {},
   "outputs": [
    {
     "data": {
      "image/png": "[encoded data removed]",
      "text/plain": [
       "<Figure size 864x720 with 5 Axes>"
      ]
     },
     "metadata": {
      "needs_background": "light"
     },
     "output_type": "display_data"
    }
   ],
   "source": [
    "# creates barplot for the categorical column\n",
    "f2 = plt.figure(figsize= (12, 10))\n",
    "for index, col in enumerate(categorical_columns.columns[1:-2]):\n",
    "    \n",
    "    plt.subplot(5  , 4, index+1)\n",
    "    plt.tight_layout()\n",
    "    sns.countplot(y = df[col])\n",
    "    plt.title(col)\n",
    "    "
   ]
  },
  {
   "cell_type": "code",
   "execution_count": 21,
   "id": "36ca5380",
   "metadata": {},
   "outputs": [
    {
     "data": {
      "image/png": "[encoded data removed]",
      "text/plain": [
       "<Figure size 360x360 with 1 Axes>"
      ]
     },
     "metadata": {
      "needs_background": "light"
     },
     "output_type": "display_data"
    }
   ],
   "source": [
    "# get the distribution of \"applicant's income\"\n",
    "plt.figure(figsize=(5, 5))\n",
    "plt.boxplot(df['ApplicantIncome'])\n",
    "plt.title('applicant income')\n",
    "plt.show()"
   ]
  },
  {
   "cell_type": "code",
   "execution_count": null,
   "id": "b6541537",
   "metadata": {},
   "outputs": [],
   "source": []
  },
  {
   "cell_type": "markdown",
   "id": "4668f474",
   "metadata": {},
   "source": [
    "## Feature engineering"
   ]
  },
  {
   "cell_type": "code",
   "execution_count": 22,
   "id": "0a472093",
   "metadata": {},
   "outputs": [
    {
     "data": {
      "text/plain": [
       "0.25     2904.25\n",
       "0.50     3858.50\n",
       "0.75     5818.75\n",
       "0.95    13988.55\n",
       "Name: applicant income, dtype: float64"
      ]
     },
     "execution_count": 22,
     "metadata": {},
     "output_type": "execute_result"
    }
   ],
   "source": [
    "# quantiles of \"Applicant's income\"\n",
    "dictionary = {}\n",
    "for i in [.25, .5, .75, .95]:\n",
    "    q = np.quantile(df['ApplicantIncome'], q = i)\n",
    "    dictionary[i] = q\n",
    "    \n",
    "pd.Series(dictionary, name='applicant income')"
   ]
  },
  {
   "cell_type": "code",
   "execution_count": 23,
   "id": "ab0efca8",
   "metadata": {},
   "outputs": [
    {
     "data": {
      "text/plain": [
       "0.25       0.00\n",
       "0.50    1084.50\n",
       "0.75    2252.25\n",
       "0.95    4990.15\n",
       "Name: co-applicant income, dtype: float64"
      ]
     },
     "execution_count": 23,
     "metadata": {},
     "output_type": "execute_result"
    }
   ],
   "source": [
    "# quantiles of \"co-Applicant's income\"\n",
    "dictionary1 = {}\n",
    "for i in [.25, .5, .75, .95]:\n",
    "    q = np.quantile(df['CoapplicantIncome'], q = i)\n",
    "    dictionary1[i] = q\n",
    "    \n",
    "pd.Series(dictionary1, name='co-applicant income')"
   ]
  },
  {
   "cell_type": "code",
   "execution_count": 24,
   "id": "688fe775",
   "metadata": {},
   "outputs": [
    {
     "data": {
      "image/png": "[encoded data removed]",
      "text/plain": [
       "<Figure size 360x360 with 1 Axes>"
      ]
     },
     "metadata": {
      "needs_background": "light"
     },
     "output_type": "display_data"
    }
   ],
   "source": [
    "# boxplot of \"co-applicant income\"\n",
    "plt.figure(figsize=(5, 5))\n",
    "plt.boxplot(df['CoapplicantIncome'])\n",
    "plt.title('co-applicant income')\n",
    "plt.show()"
   ]
  },
  {
   "cell_type": "code",
   "execution_count": 25,
   "id": "f6bdaf5e",
   "metadata": {},
   "outputs": [],
   "source": [
    "# creating bins for the \"loan amount term\" , \"applicant income\"  and \"co applicant\" column"
   ]
  },
  {
   "cell_type": "code",
   "execution_count": 26,
   "id": "8c2b797a",
   "metadata": {},
   "outputs": [
    {
     "name": "stdout",
     "output_type": "stream",
     "text": [
      "[360. 120. 180.  60. 300. 480. 240.  36.  84.]\n"
     ]
    },
    {
     "data": {
      "text/plain": [
       "<AxesSubplot:>"
      ]
     },
     "execution_count": 26,
     "metadata": {},
     "output_type": "execute_result"
    },
    {
     "data": {
      "image/png": "[encoded data removed]",
      "text/plain": [
       "<Figure size 432x288 with 1 Axes>"
      ]
     },
     "metadata": {
      "needs_background": "light"
     },
     "output_type": "display_data"
    }
   ],
   "source": [
    "print(df['Loan_Amount_Term'].unique())\n",
    "df['Loan_Amount_Term'].hist()"
   ]
  },
  {
   "cell_type": "code",
   "execution_count": 27,
   "id": "58439ea9",
   "metadata": {},
   "outputs": [],
   "source": [
    "# creates bins for \"Loan Amount Term\" column\n",
    "df['Loan_Amount_Term1'] = np.where(df['Loan_Amount_Term'].between(10, 100, inclusive='neither'), '10-100', '')\n",
    "df['Loan_Amount_Term1'] = np.where(df['Loan_Amount_Term'].between(100, 200, inclusive='neither'), '100-200', df['Loan_Amount_Term1'] )\n",
    "df['Loan_Amount_Term1'] = np.where(df['Loan_Amount_Term'].between(200, 500, inclusive='neither'), '200-500', df['Loan_Amount_Term1'] )"
   ]
  },
  {
   "cell_type": "code",
   "execution_count": 28,
   "id": "9a6a8390",
   "metadata": {},
   "outputs": [
    {
     "data": {
      "text/plain": [
       "array(['200-500', '100-200', '10-100'], dtype=object)"
      ]
     },
     "execution_count": 28,
     "metadata": {},
     "output_type": "execute_result"
    }
   ],
   "source": [
    "df['Loan_Amount_Term1'].unique()"
   ]
  },
  {
   "cell_type": "code",
   "execution_count": 29,
   "id": "bcc8195b",
   "metadata": {},
   "outputs": [
    {
     "name": "stdout",
     "output_type": "stream",
     "text": [
      "[    0. 12500. 25000.]\n",
      "[    0.  5000. 10000.]\n"
     ]
    }
   ],
   "source": [
    "# helps me choose the right values \n",
    "# during bins creation.\n",
    "\n",
    "print(np.linspace(0, 25000, 3))\n",
    "print(np.linspace(0, 10000, 3))"
   ]
  },
  {
   "cell_type": "code",
   "execution_count": 30,
   "id": "51a9af58",
   "metadata": {},
   "outputs": [],
   "source": [
    "#we therefore create bins for income\n",
    "bins= [     0., 12500., 25000., np.inf]\n",
    "labels = ['0-12.5K','12.5K-25K','25K+']\n",
    "df['app_income_cut'] =pd.cut(df['ApplicantIncome'], bins = bins, labels=labels)\n",
    "\n",
    "\n",
    "\n",
    "bins2= [  -1., 5000., 10000., np.inf]\n",
    "labels2 = ['0-5K','5K-10K','10K+']\n",
    "df['coapp_income_cut'] =pd.cut(df['CoapplicantIncome'], bins = bins2, labels=labels2)"
   ]
  },
  {
   "cell_type": "code",
   "execution_count": 31,
   "id": "16e4acf0",
   "metadata": {},
   "outputs": [
    {
     "data": {
      "text/plain": [
       "Text(0.5, 1.0, 'loan amount term (bins)')"
      ]
     },
     "execution_count": 31,
     "metadata": {},
     "output_type": "execute_result"
    },
    {
     "data": {
      "image/png": "[encoded data removed]",
      "text/plain": [
       "<Figure size 432x288 with 1 Axes>"
      ]
     },
     "metadata": {
      "needs_background": "light"
     },
     "output_type": "display_data"
    }
   ],
   "source": [
    "df['Loan_Amount_Term1'].value_counts().plot(kind='barh').set_title('loan amount term (bins)', size=18)"
   ]
  },
  {
   "cell_type": "code",
   "execution_count": 32,
   "id": "e6d7df9e",
   "metadata": {},
   "outputs": [
    {
     "data": {
      "text/plain": [
       "Text(0.5, 1.0, 'applcation amount (bins)')"
      ]
     },
     "execution_count": 32,
     "metadata": {},
     "output_type": "execute_result"
    },
    {
     "data": {
      "image/png": "[encoded data removed]",
      "text/plain": [
       "<Figure size 432x288 with 1 Axes>"
      ]
     },
     "metadata": {
      "needs_background": "light"
     },
     "output_type": "display_data"
    }
   ],
   "source": [
    "df['app_income_cut'].value_counts().plot(kind='barh').set_title('applcation amount (bins)',size=18)"
   ]
  },
  {
   "cell_type": "code",
   "execution_count": 33,
   "id": "ee12fa85",
   "metadata": {},
   "outputs": [
    {
     "data": {
      "text/plain": [
       "['0-12.5K', '12.5K-25K', '25K+']\n",
       "Categories (3, object): ['0-12.5K' < '12.5K-25K' < '25K+']"
      ]
     },
     "execution_count": 33,
     "metadata": {},
     "output_type": "execute_result"
    }
   ],
   "source": [
    "df['app_income_cut'].unique()"
   ]
  },
  {
   "cell_type": "code",
   "execution_count": 34,
   "id": "09d23cbe",
   "metadata": {},
   "outputs": [
    {
     "data": {
      "text/plain": [
       "Text(0.5, 1.0, 'coapplicant amount (bins)')"
      ]
     },
     "execution_count": 34,
     "metadata": {},
     "output_type": "execute_result"
    },
    {
     "data": {
      "image/png": "[encoded data removed]",
      "text/plain": [
       "<Figure size 432x288 with 1 Axes>"
      ]
     },
     "metadata": {
      "needs_background": "light"
     },
     "output_type": "display_data"
    }
   ],
   "source": [
    "df['coapp_income_cut'].value_counts().plot(kind='barh').set_title('coapplicant amount (bins)', size=18)"
   ]
  },
  {
   "cell_type": "code",
   "execution_count": 35,
   "id": "dde70d77",
   "metadata": {},
   "outputs": [
    {
     "data": {
      "text/plain": [
       "['0-5K', '10K+', '5K-10K']\n",
       "Categories (3, object): ['0-5K' < '5K-10K' < '10K+']"
      ]
     },
     "execution_count": 35,
     "metadata": {},
     "output_type": "execute_result"
    }
   ],
   "source": [
    "df['coapp_income_cut'].unique()"
   ]
  },
  {
   "cell_type": "code",
   "execution_count": null,
   "id": "6ffa80e8",
   "metadata": {},
   "outputs": [],
   "source": []
  },
  {
   "cell_type": "code",
   "execution_count": 36,
   "id": "f13fc2c2",
   "metadata": {},
   "outputs": [
    {
     "data": {
      "text/html": [
       "<div>\n",
       "<style scoped>\n",
       "    .dataframe tbody tr th:only-of-type {\n",
       "        vertical-align: middle;\n",
       "    }\n",
       "\n",
       "    .dataframe tbody tr th {\n",
       "        vertical-align: top;\n",
       "    }\n",
       "\n",
       "    .dataframe thead th {\n",
       "        text-align: right;\n",
       "    }\n",
       "</style>\n",
       "<table border=\"1\" class=\"dataframe\">\n",
       "  <thead>\n",
       "    <tr style=\"text-align: right;\">\n",
       "      <th></th>\n",
       "      <th>Loan_ID</th>\n",
       "      <th>Gender</th>\n",
       "      <th>Married</th>\n",
       "      <th>Dependents</th>\n",
       "      <th>Education</th>\n",
       "      <th>Self_Employed</th>\n",
       "      <th>ApplicantIncome</th>\n",
       "      <th>CoapplicantIncome</th>\n",
       "      <th>LoanAmount</th>\n",
       "      <th>Loan_Amount_Term</th>\n",
       "      <th>Credit_History</th>\n",
       "      <th>Property_Area</th>\n",
       "      <th>Loan_Status</th>\n",
       "      <th>Loan_Amount_Term1</th>\n",
       "      <th>app_income_cut</th>\n",
       "      <th>coapp_income_cut</th>\n",
       "    </tr>\n",
       "  </thead>\n",
       "  <tbody>\n",
       "    <tr>\n",
       "      <th>1</th>\n",
       "      <td>LP001003</td>\n",
       "      <td>Male</td>\n",
       "      <td>Yes</td>\n",
       "      <td>1</td>\n",
       "      <td>Graduate</td>\n",
       "      <td>No</td>\n",
       "      <td>4583</td>\n",
       "      <td>1508.0</td>\n",
       "      <td>128.0</td>\n",
       "      <td>360.0</td>\n",
       "      <td>1.0</td>\n",
       "      <td>Rural</td>\n",
       "      <td>N</td>\n",
       "      <td>200-500</td>\n",
       "      <td>0-12.5K</td>\n",
       "      <td>0-5K</td>\n",
       "    </tr>\n",
       "    <tr>\n",
       "      <th>2</th>\n",
       "      <td>LP001005</td>\n",
       "      <td>Male</td>\n",
       "      <td>Yes</td>\n",
       "      <td>0</td>\n",
       "      <td>Graduate</td>\n",
       "      <td>Yes</td>\n",
       "      <td>3000</td>\n",
       "      <td>0.0</td>\n",
       "      <td>66.0</td>\n",
       "      <td>360.0</td>\n",
       "      <td>1.0</td>\n",
       "      <td>Urban</td>\n",
       "      <td>Y</td>\n",
       "      <td>200-500</td>\n",
       "      <td>0-12.5K</td>\n",
       "      <td>0-5K</td>\n",
       "    </tr>\n",
       "    <tr>\n",
       "      <th>3</th>\n",
       "      <td>LP001006</td>\n",
       "      <td>Male</td>\n",
       "      <td>Yes</td>\n",
       "      <td>0</td>\n",
       "      <td>Not Graduate</td>\n",
       "      <td>No</td>\n",
       "      <td>2583</td>\n",
       "      <td>2358.0</td>\n",
       "      <td>120.0</td>\n",
       "      <td>360.0</td>\n",
       "      <td>1.0</td>\n",
       "      <td>Urban</td>\n",
       "      <td>Y</td>\n",
       "      <td>200-500</td>\n",
       "      <td>0-12.5K</td>\n",
       "      <td>0-5K</td>\n",
       "    </tr>\n",
       "    <tr>\n",
       "      <th>4</th>\n",
       "      <td>LP001008</td>\n",
       "      <td>Male</td>\n",
       "      <td>No</td>\n",
       "      <td>0</td>\n",
       "      <td>Graduate</td>\n",
       "      <td>No</td>\n",
       "      <td>6000</td>\n",
       "      <td>0.0</td>\n",
       "      <td>141.0</td>\n",
       "      <td>360.0</td>\n",
       "      <td>1.0</td>\n",
       "      <td>Urban</td>\n",
       "      <td>Y</td>\n",
       "      <td>200-500</td>\n",
       "      <td>0-12.5K</td>\n",
       "      <td>0-5K</td>\n",
       "    </tr>\n",
       "    <tr>\n",
       "      <th>5</th>\n",
       "      <td>LP001011</td>\n",
       "      <td>Male</td>\n",
       "      <td>Yes</td>\n",
       "      <td>2</td>\n",
       "      <td>Graduate</td>\n",
       "      <td>Yes</td>\n",
       "      <td>5417</td>\n",
       "      <td>4196.0</td>\n",
       "      <td>267.0</td>\n",
       "      <td>360.0</td>\n",
       "      <td>1.0</td>\n",
       "      <td>Urban</td>\n",
       "      <td>Y</td>\n",
       "      <td>200-500</td>\n",
       "      <td>0-12.5K</td>\n",
       "      <td>0-5K</td>\n",
       "    </tr>\n",
       "    <tr>\n",
       "      <th>6</th>\n",
       "      <td>LP001013</td>\n",
       "      <td>Male</td>\n",
       "      <td>Yes</td>\n",
       "      <td>0</td>\n",
       "      <td>Not Graduate</td>\n",
       "      <td>No</td>\n",
       "      <td>2333</td>\n",
       "      <td>1516.0</td>\n",
       "      <td>95.0</td>\n",
       "      <td>360.0</td>\n",
       "      <td>1.0</td>\n",
       "      <td>Urban</td>\n",
       "      <td>Y</td>\n",
       "      <td>200-500</td>\n",
       "      <td>0-12.5K</td>\n",
       "      <td>0-5K</td>\n",
       "    </tr>\n",
       "    <tr>\n",
       "      <th>7</th>\n",
       "      <td>LP001014</td>\n",
       "      <td>Male</td>\n",
       "      <td>Yes</td>\n",
       "      <td>3+</td>\n",
       "      <td>Graduate</td>\n",
       "      <td>No</td>\n",
       "      <td>3036</td>\n",
       "      <td>2504.0</td>\n",
       "      <td>158.0</td>\n",
       "      <td>360.0</td>\n",
       "      <td>0.0</td>\n",
       "      <td>Semiurban</td>\n",
       "      <td>N</td>\n",
       "      <td>200-500</td>\n",
       "      <td>0-12.5K</td>\n",
       "      <td>0-5K</td>\n",
       "    </tr>\n",
       "    <tr>\n",
       "      <th>8</th>\n",
       "      <td>LP001018</td>\n",
       "      <td>Male</td>\n",
       "      <td>Yes</td>\n",
       "      <td>2</td>\n",
       "      <td>Graduate</td>\n",
       "      <td>No</td>\n",
       "      <td>4006</td>\n",
       "      <td>1526.0</td>\n",
       "      <td>168.0</td>\n",
       "      <td>360.0</td>\n",
       "      <td>1.0</td>\n",
       "      <td>Urban</td>\n",
       "      <td>Y</td>\n",
       "      <td>200-500</td>\n",
       "      <td>0-12.5K</td>\n",
       "      <td>0-5K</td>\n",
       "    </tr>\n",
       "    <tr>\n",
       "      <th>9</th>\n",
       "      <td>LP001020</td>\n",
       "      <td>Male</td>\n",
       "      <td>Yes</td>\n",
       "      <td>1</td>\n",
       "      <td>Graduate</td>\n",
       "      <td>No</td>\n",
       "      <td>12841</td>\n",
       "      <td>10968.0</td>\n",
       "      <td>349.0</td>\n",
       "      <td>360.0</td>\n",
       "      <td>1.0</td>\n",
       "      <td>Semiurban</td>\n",
       "      <td>N</td>\n",
       "      <td>200-500</td>\n",
       "      <td>12.5K-25K</td>\n",
       "      <td>10K+</td>\n",
       "    </tr>\n",
       "    <tr>\n",
       "      <th>10</th>\n",
       "      <td>LP001024</td>\n",
       "      <td>Male</td>\n",
       "      <td>Yes</td>\n",
       "      <td>2</td>\n",
       "      <td>Graduate</td>\n",
       "      <td>No</td>\n",
       "      <td>3200</td>\n",
       "      <td>700.0</td>\n",
       "      <td>70.0</td>\n",
       "      <td>360.0</td>\n",
       "      <td>1.0</td>\n",
       "      <td>Urban</td>\n",
       "      <td>Y</td>\n",
       "      <td>200-500</td>\n",
       "      <td>0-12.5K</td>\n",
       "      <td>0-5K</td>\n",
       "    </tr>\n",
       "  </tbody>\n",
       "</table>\n",
       "</div>"
      ],
      "text/plain": [
       "     Loan_ID Gender Married Dependents     Education Self_Employed  \\\n",
       "1   LP001003   Male     Yes          1      Graduate            No   \n",
       "2   LP001005   Male     Yes          0      Graduate           Yes   \n",
       "3   LP001006   Male     Yes          0  Not Graduate            No   \n",
       "4   LP001008   Male      No          0      Graduate            No   \n",
       "5   LP001011   Male     Yes          2      Graduate           Yes   \n",
       "6   LP001013   Male     Yes          0  Not Graduate            No   \n",
       "7   LP001014   Male     Yes         3+      Graduate            No   \n",
       "8   LP001018   Male     Yes          2      Graduate            No   \n",
       "9   LP001020   Male     Yes          1      Graduate            No   \n",
       "10  LP001024   Male     Yes          2      Graduate            No   \n",
       "\n",
       "    ApplicantIncome  CoapplicantIncome  LoanAmount  Loan_Amount_Term  \\\n",
       "1              4583             1508.0       128.0             360.0   \n",
       "2              3000                0.0        66.0             360.0   \n",
       "3              2583             2358.0       120.0             360.0   \n",
       "4              6000                0.0       141.0             360.0   \n",
       "5              5417             4196.0       267.0             360.0   \n",
       "6              2333             1516.0        95.0             360.0   \n",
       "7              3036             2504.0       158.0             360.0   \n",
       "8              4006             1526.0       168.0             360.0   \n",
       "9             12841            10968.0       349.0             360.0   \n",
       "10             3200              700.0        70.0             360.0   \n",
       "\n",
       "    Credit_History Property_Area Loan_Status Loan_Amount_Term1 app_income_cut  \\\n",
       "1              1.0         Rural           N           200-500        0-12.5K   \n",
       "2              1.0         Urban           Y           200-500        0-12.5K   \n",
       "3              1.0         Urban           Y           200-500        0-12.5K   \n",
       "4              1.0         Urban           Y           200-500        0-12.5K   \n",
       "5              1.0         Urban           Y           200-500        0-12.5K   \n",
       "6              1.0         Urban           Y           200-500        0-12.5K   \n",
       "7              0.0     Semiurban           N           200-500        0-12.5K   \n",
       "8              1.0         Urban           Y           200-500        0-12.5K   \n",
       "9              1.0     Semiurban           N           200-500      12.5K-25K   \n",
       "10             1.0         Urban           Y           200-500        0-12.5K   \n",
       "\n",
       "   coapp_income_cut  \n",
       "1              0-5K  \n",
       "2              0-5K  \n",
       "3              0-5K  \n",
       "4              0-5K  \n",
       "5              0-5K  \n",
       "6              0-5K  \n",
       "7              0-5K  \n",
       "8              0-5K  \n",
       "9              10K+  \n",
       "10             0-5K  "
      ]
     },
     "execution_count": 36,
     "metadata": {},
     "output_type": "execute_result"
    }
   ],
   "source": [
    "# final data at a glance\n",
    "df.head(10)"
   ]
  },
  {
   "cell_type": "code",
   "execution_count": 37,
   "id": "31130f72",
   "metadata": {},
   "outputs": [
    {
     "name": "stdout",
     "output_type": "stream",
     "text": [
      "Y    0.685714\n",
      "N    0.314286\n",
      "Name: Loan_Status, dtype: float64\n"
     ]
    },
    {
     "data": {
      "image/png": "[encoded data removed]",
      "text/plain": [
       "<Figure size 432x288 with 1 Axes>"
      ]
     },
     "metadata": {
      "needs_background": "light"
     },
     "output_type": "display_data"
    }
   ],
   "source": [
    "# checks for the distribution of **target** column\n",
    "f5= df['Loan_Status'].value_counts(normalize= False).plot(kind='barh')\n",
    "f5.set_title('target', size=18)\n",
    "print(df['Loan_Status'].value_counts(normalize=True))"
   ]
  },
  {
   "cell_type": "code",
   "execution_count": null,
   "id": "78bb4c59",
   "metadata": {},
   "outputs": [],
   "source": []
  },
  {
   "cell_type": "markdown",
   "id": "9e816e6e",
   "metadata": {},
   "source": [
    "## model building process"
   ]
  },
  {
   "cell_type": "code",
   "execution_count": 38,
   "id": "e8abd58d",
   "metadata": {},
   "outputs": [],
   "source": [
    "# Classification algorithms\n",
    "from sklearn.tree import DecisionTreeClassifier\n",
    "from sklearn.ensemble import RandomForestClassifier\n",
    "from sklearn.linear_model import LogisticRegression\n",
    "\n",
    "# to handle imbalance nature of the target class (if there exist any).\n",
    "from imblearn.over_sampling import SMOTE\n",
    "from imblearn.under_sampling import RandomUnderSampler\n",
    "from imblearn.pipeline import Pipeline as Imblearn_Pipeline\n",
    "\n",
    "# model evaluation\n",
    "from yellowbrick.model_selection import LearningCurve \n",
    "from sklearn.metrics import f1_score, classification_report, confusion_matrix, roc_curve, roc_auc_score\n",
    "from sklearn.model_selection import train_test_split, cross_val_score, KFold, GridSearchCV\n",
    "#from sklearn.feature_selection import SelectKBest, SelectFromModel, chi2\n",
    "#import eli5\n",
    "\n",
    "# for pipeline and transformations\n",
    "from sklearn.pipeline import Pipeline\n",
    "from sklearn.compose import ColumnTransformer\n",
    "from sklearn.preprocessing import LabelEncoder, OneHotEncoder, OrdinalEncoder, MinMaxScaler, StandardScaler\n",
    "\n",
    "# serialize objects(model)\n",
    "import pickle\n",
    "from joblib import dump, load"
   ]
  },
  {
   "cell_type": "code",
   "execution_count": 39,
   "id": "847edf80",
   "metadata": {},
   "outputs": [],
   "source": [
    "# encode the target column\n",
    "df['Loan_StatusNum'] = LabelEncoder().fit_transform(df['Loan_Status'])"
   ]
  },
  {
   "cell_type": "code",
   "execution_count": 40,
   "id": "f43489a5",
   "metadata": {},
   "outputs": [
    {
     "data": {
      "text/html": [
       "<div>\n",
       "<style scoped>\n",
       "    .dataframe tbody tr th:only-of-type {\n",
       "        vertical-align: middle;\n",
       "    }\n",
       "\n",
       "    .dataframe tbody tr th {\n",
       "        vertical-align: top;\n",
       "    }\n",
       "\n",
       "    .dataframe thead th {\n",
       "        text-align: right;\n",
       "    }\n",
       "</style>\n",
       "<table border=\"1\" class=\"dataframe\">\n",
       "  <thead>\n",
       "    <tr style=\"text-align: right;\">\n",
       "      <th></th>\n",
       "      <th>Loan_ID</th>\n",
       "      <th>Gender</th>\n",
       "      <th>Married</th>\n",
       "      <th>Dependents</th>\n",
       "      <th>Education</th>\n",
       "      <th>Self_Employed</th>\n",
       "      <th>ApplicantIncome</th>\n",
       "      <th>CoapplicantIncome</th>\n",
       "      <th>LoanAmount</th>\n",
       "      <th>Loan_Amount_Term</th>\n",
       "      <th>Credit_History</th>\n",
       "      <th>Property_Area</th>\n",
       "      <th>Loan_Status</th>\n",
       "      <th>Loan_Amount_Term1</th>\n",
       "      <th>app_income_cut</th>\n",
       "      <th>coapp_income_cut</th>\n",
       "      <th>Loan_StatusNum</th>\n",
       "    </tr>\n",
       "  </thead>\n",
       "  <tbody>\n",
       "    <tr>\n",
       "      <th>1</th>\n",
       "      <td>LP001003</td>\n",
       "      <td>Male</td>\n",
       "      <td>Yes</td>\n",
       "      <td>1</td>\n",
       "      <td>Graduate</td>\n",
       "      <td>No</td>\n",
       "      <td>4583</td>\n",
       "      <td>1508.0</td>\n",
       "      <td>128.0</td>\n",
       "      <td>360.0</td>\n",
       "      <td>1.0</td>\n",
       "      <td>Rural</td>\n",
       "      <td>N</td>\n",
       "      <td>200-500</td>\n",
       "      <td>0-12.5K</td>\n",
       "      <td>0-5K</td>\n",
       "      <td>0</td>\n",
       "    </tr>\n",
       "    <tr>\n",
       "      <th>2</th>\n",
       "      <td>LP001005</td>\n",
       "      <td>Male</td>\n",
       "      <td>Yes</td>\n",
       "      <td>0</td>\n",
       "      <td>Graduate</td>\n",
       "      <td>Yes</td>\n",
       "      <td>3000</td>\n",
       "      <td>0.0</td>\n",
       "      <td>66.0</td>\n",
       "      <td>360.0</td>\n",
       "      <td>1.0</td>\n",
       "      <td>Urban</td>\n",
       "      <td>Y</td>\n",
       "      <td>200-500</td>\n",
       "      <td>0-12.5K</td>\n",
       "      <td>0-5K</td>\n",
       "      <td>1</td>\n",
       "    </tr>\n",
       "    <tr>\n",
       "      <th>3</th>\n",
       "      <td>LP001006</td>\n",
       "      <td>Male</td>\n",
       "      <td>Yes</td>\n",
       "      <td>0</td>\n",
       "      <td>Not Graduate</td>\n",
       "      <td>No</td>\n",
       "      <td>2583</td>\n",
       "      <td>2358.0</td>\n",
       "      <td>120.0</td>\n",
       "      <td>360.0</td>\n",
       "      <td>1.0</td>\n",
       "      <td>Urban</td>\n",
       "      <td>Y</td>\n",
       "      <td>200-500</td>\n",
       "      <td>0-12.5K</td>\n",
       "      <td>0-5K</td>\n",
       "      <td>1</td>\n",
       "    </tr>\n",
       "    <tr>\n",
       "      <th>4</th>\n",
       "      <td>LP001008</td>\n",
       "      <td>Male</td>\n",
       "      <td>No</td>\n",
       "      <td>0</td>\n",
       "      <td>Graduate</td>\n",
       "      <td>No</td>\n",
       "      <td>6000</td>\n",
       "      <td>0.0</td>\n",
       "      <td>141.0</td>\n",
       "      <td>360.0</td>\n",
       "      <td>1.0</td>\n",
       "      <td>Urban</td>\n",
       "      <td>Y</td>\n",
       "      <td>200-500</td>\n",
       "      <td>0-12.5K</td>\n",
       "      <td>0-5K</td>\n",
       "      <td>1</td>\n",
       "    </tr>\n",
       "    <tr>\n",
       "      <th>5</th>\n",
       "      <td>LP001011</td>\n",
       "      <td>Male</td>\n",
       "      <td>Yes</td>\n",
       "      <td>2</td>\n",
       "      <td>Graduate</td>\n",
       "      <td>Yes</td>\n",
       "      <td>5417</td>\n",
       "      <td>4196.0</td>\n",
       "      <td>267.0</td>\n",
       "      <td>360.0</td>\n",
       "      <td>1.0</td>\n",
       "      <td>Urban</td>\n",
       "      <td>Y</td>\n",
       "      <td>200-500</td>\n",
       "      <td>0-12.5K</td>\n",
       "      <td>0-5K</td>\n",
       "      <td>1</td>\n",
       "    </tr>\n",
       "  </tbody>\n",
       "</table>\n",
       "</div>"
      ],
      "text/plain": [
       "    Loan_ID Gender Married Dependents     Education Self_Employed  \\\n",
       "1  LP001003   Male     Yes          1      Graduate            No   \n",
       "2  LP001005   Male     Yes          0      Graduate           Yes   \n",
       "3  LP001006   Male     Yes          0  Not Graduate            No   \n",
       "4  LP001008   Male      No          0      Graduate            No   \n",
       "5  LP001011   Male     Yes          2      Graduate           Yes   \n",
       "\n",
       "   ApplicantIncome  CoapplicantIncome  LoanAmount  Loan_Amount_Term  \\\n",
       "1             4583             1508.0       128.0             360.0   \n",
       "2             3000                0.0        66.0             360.0   \n",
       "3             2583             2358.0       120.0             360.0   \n",
       "4             6000                0.0       141.0             360.0   \n",
       "5             5417             4196.0       267.0             360.0   \n",
       "\n",
       "   Credit_History Property_Area Loan_Status Loan_Amount_Term1 app_income_cut  \\\n",
       "1             1.0         Rural           N           200-500        0-12.5K   \n",
       "2             1.0         Urban           Y           200-500        0-12.5K   \n",
       "3             1.0         Urban           Y           200-500        0-12.5K   \n",
       "4             1.0         Urban           Y           200-500        0-12.5K   \n",
       "5             1.0         Urban           Y           200-500        0-12.5K   \n",
       "\n",
       "  coapp_income_cut  Loan_StatusNum  \n",
       "1             0-5K               0  \n",
       "2             0-5K               1  \n",
       "3             0-5K               1  \n",
       "4             0-5K               1  \n",
       "5             0-5K               1  "
      ]
     },
     "execution_count": 40,
     "metadata": {},
     "output_type": "execute_result"
    }
   ],
   "source": [
    "df.head()"
   ]
  },
  {
   "cell_type": "code",
   "execution_count": null,
   "id": "5efcf79b",
   "metadata": {},
   "outputs": [],
   "source": []
  },
  {
   "cell_type": "code",
   "execution_count": 41,
   "id": "2796859d",
   "metadata": {},
   "outputs": [],
   "source": [
    "# these columns are irrelevant for the model building process\n",
    "# some may cause bias in the prediction, so I dropped them.\n",
    "df = df.drop(['Loan_ID', 'Loan_Status', 'Gender', 'Married', 'Loan_Status'], axis=1)"
   ]
  },
  {
   "cell_type": "code",
   "execution_count": 42,
   "id": "cb39b740",
   "metadata": {},
   "outputs": [],
   "source": [
    "df.to_csv('data/clean_data.csv') # save the data to disk"
   ]
  },
  {
   "cell_type": "code",
   "execution_count": 43,
   "id": "b905945f",
   "metadata": {},
   "outputs": [],
   "source": [
    "# select the *independent variable* column.\n",
    "indp_var = list(df)\n",
    "del indp_var[-1]"
   ]
  },
  {
   "cell_type": "code",
   "execution_count": 44,
   "id": "c1d0e6dc",
   "metadata": {},
   "outputs": [],
   "source": [
    "# select the explanatory and target columns\n",
    "X= df.loc[:, indp_var]\n",
    "y = df['Loan_StatusNum']"
   ]
  },
  {
   "cell_type": "code",
   "execution_count": 45,
   "id": "8701b55b",
   "metadata": {},
   "outputs": [
    {
     "data": {
      "text/html": [
       "<div>\n",
       "<style scoped>\n",
       "    .dataframe tbody tr th:only-of-type {\n",
       "        vertical-align: middle;\n",
       "    }\n",
       "\n",
       "    .dataframe tbody tr th {\n",
       "        vertical-align: top;\n",
       "    }\n",
       "\n",
       "    .dataframe thead th {\n",
       "        text-align: right;\n",
       "    }\n",
       "</style>\n",
       "<table border=\"1\" class=\"dataframe\">\n",
       "  <thead>\n",
       "    <tr style=\"text-align: right;\">\n",
       "      <th></th>\n",
       "      <th>Dependents</th>\n",
       "      <th>Education</th>\n",
       "      <th>Self_Employed</th>\n",
       "      <th>ApplicantIncome</th>\n",
       "      <th>CoapplicantIncome</th>\n",
       "      <th>LoanAmount</th>\n",
       "      <th>Loan_Amount_Term</th>\n",
       "      <th>Credit_History</th>\n",
       "      <th>Property_Area</th>\n",
       "      <th>Loan_Amount_Term1</th>\n",
       "      <th>app_income_cut</th>\n",
       "      <th>coapp_income_cut</th>\n",
       "    </tr>\n",
       "  </thead>\n",
       "  <tbody>\n",
       "    <tr>\n",
       "      <th>1</th>\n",
       "      <td>1</td>\n",
       "      <td>Graduate</td>\n",
       "      <td>No</td>\n",
       "      <td>4583</td>\n",
       "      <td>1508.0</td>\n",
       "      <td>128.0</td>\n",
       "      <td>360.0</td>\n",
       "      <td>1.0</td>\n",
       "      <td>Rural</td>\n",
       "      <td>200-500</td>\n",
       "      <td>0-12.5K</td>\n",
       "      <td>0-5K</td>\n",
       "    </tr>\n",
       "    <tr>\n",
       "      <th>2</th>\n",
       "      <td>0</td>\n",
       "      <td>Graduate</td>\n",
       "      <td>Yes</td>\n",
       "      <td>3000</td>\n",
       "      <td>0.0</td>\n",
       "      <td>66.0</td>\n",
       "      <td>360.0</td>\n",
       "      <td>1.0</td>\n",
       "      <td>Urban</td>\n",
       "      <td>200-500</td>\n",
       "      <td>0-12.5K</td>\n",
       "      <td>0-5K</td>\n",
       "    </tr>\n",
       "    <tr>\n",
       "      <th>3</th>\n",
       "      <td>0</td>\n",
       "      <td>Not Graduate</td>\n",
       "      <td>No</td>\n",
       "      <td>2583</td>\n",
       "      <td>2358.0</td>\n",
       "      <td>120.0</td>\n",
       "      <td>360.0</td>\n",
       "      <td>1.0</td>\n",
       "      <td>Urban</td>\n",
       "      <td>200-500</td>\n",
       "      <td>0-12.5K</td>\n",
       "      <td>0-5K</td>\n",
       "    </tr>\n",
       "    <tr>\n",
       "      <th>4</th>\n",
       "      <td>0</td>\n",
       "      <td>Graduate</td>\n",
       "      <td>No</td>\n",
       "      <td>6000</td>\n",
       "      <td>0.0</td>\n",
       "      <td>141.0</td>\n",
       "      <td>360.0</td>\n",
       "      <td>1.0</td>\n",
       "      <td>Urban</td>\n",
       "      <td>200-500</td>\n",
       "      <td>0-12.5K</td>\n",
       "      <td>0-5K</td>\n",
       "    </tr>\n",
       "    <tr>\n",
       "      <th>5</th>\n",
       "      <td>2</td>\n",
       "      <td>Graduate</td>\n",
       "      <td>Yes</td>\n",
       "      <td>5417</td>\n",
       "      <td>4196.0</td>\n",
       "      <td>267.0</td>\n",
       "      <td>360.0</td>\n",
       "      <td>1.0</td>\n",
       "      <td>Urban</td>\n",
       "      <td>200-500</td>\n",
       "      <td>0-12.5K</td>\n",
       "      <td>0-5K</td>\n",
       "    </tr>\n",
       "  </tbody>\n",
       "</table>\n",
       "</div>"
      ],
      "text/plain": [
       "  Dependents     Education Self_Employed  ApplicantIncome  CoapplicantIncome  \\\n",
       "1          1      Graduate            No             4583             1508.0   \n",
       "2          0      Graduate           Yes             3000                0.0   \n",
       "3          0  Not Graduate            No             2583             2358.0   \n",
       "4          0      Graduate            No             6000                0.0   \n",
       "5          2      Graduate           Yes             5417             4196.0   \n",
       "\n",
       "   LoanAmount  Loan_Amount_Term  Credit_History Property_Area  \\\n",
       "1       128.0             360.0             1.0         Rural   \n",
       "2        66.0             360.0             1.0         Urban   \n",
       "3       120.0             360.0             1.0         Urban   \n",
       "4       141.0             360.0             1.0         Urban   \n",
       "5       267.0             360.0             1.0         Urban   \n",
       "\n",
       "  Loan_Amount_Term1 app_income_cut coapp_income_cut  \n",
       "1           200-500        0-12.5K             0-5K  \n",
       "2           200-500        0-12.5K             0-5K  \n",
       "3           200-500        0-12.5K             0-5K  \n",
       "4           200-500        0-12.5K             0-5K  \n",
       "5           200-500        0-12.5K             0-5K  "
      ]
     },
     "execution_count": 45,
     "metadata": {},
     "output_type": "execute_result"
    }
   ],
   "source": [
    "X.head()"
   ]
  },
  {
   "cell_type": "code",
   "execution_count": 46,
   "id": "ee115d9e",
   "metadata": {},
   "outputs": [],
   "source": [
    "X = X[['Dependents',\n",
    "         'Education',\n",
    "         'Self_Employed',\n",
    "              'Property_Area',\n",
    "         'Loan_Amount_Term1',\n",
    "         'app_income_cut',\n",
    "         'coapp_income_cut',\n",
    "\n",
    "              'ApplicantIncome',\n",
    "         'CoapplicantIncome',\n",
    "         'LoanAmount',\n",
    "         'Loan_Amount_Term',\n",
    "         'Credit_History',]]"
   ]
  },
  {
   "cell_type": "code",
   "execution_count": 47,
   "id": "e4f6f396",
   "metadata": {},
   "outputs": [
    {
     "data": {
      "text/html": [
       "<div>\n",
       "<style scoped>\n",
       "    .dataframe tbody tr th:only-of-type {\n",
       "        vertical-align: middle;\n",
       "    }\n",
       "\n",
       "    .dataframe tbody tr th {\n",
       "        vertical-align: top;\n",
       "    }\n",
       "\n",
       "    .dataframe thead th {\n",
       "        text-align: right;\n",
       "    }\n",
       "</style>\n",
       "<table border=\"1\" class=\"dataframe\">\n",
       "  <thead>\n",
       "    <tr style=\"text-align: right;\">\n",
       "      <th></th>\n",
       "      <th>Dependents</th>\n",
       "      <th>Education</th>\n",
       "      <th>Self_Employed</th>\n",
       "      <th>Property_Area</th>\n",
       "      <th>Loan_Amount_Term1</th>\n",
       "      <th>app_income_cut</th>\n",
       "      <th>coapp_income_cut</th>\n",
       "      <th>ApplicantIncome</th>\n",
       "      <th>CoapplicantIncome</th>\n",
       "      <th>LoanAmount</th>\n",
       "      <th>Loan_Amount_Term</th>\n",
       "      <th>Credit_History</th>\n",
       "    </tr>\n",
       "  </thead>\n",
       "  <tbody>\n",
       "    <tr>\n",
       "      <th>1</th>\n",
       "      <td>1</td>\n",
       "      <td>Graduate</td>\n",
       "      <td>No</td>\n",
       "      <td>Rural</td>\n",
       "      <td>200-500</td>\n",
       "      <td>0-12.5K</td>\n",
       "      <td>0-5K</td>\n",
       "      <td>4583</td>\n",
       "      <td>1508.0</td>\n",
       "      <td>128.0</td>\n",
       "      <td>360.0</td>\n",
       "      <td>1.0</td>\n",
       "    </tr>\n",
       "    <tr>\n",
       "      <th>2</th>\n",
       "      <td>0</td>\n",
       "      <td>Graduate</td>\n",
       "      <td>Yes</td>\n",
       "      <td>Urban</td>\n",
       "      <td>200-500</td>\n",
       "      <td>0-12.5K</td>\n",
       "      <td>0-5K</td>\n",
       "      <td>3000</td>\n",
       "      <td>0.0</td>\n",
       "      <td>66.0</td>\n",
       "      <td>360.0</td>\n",
       "      <td>1.0</td>\n",
       "    </tr>\n",
       "    <tr>\n",
       "      <th>3</th>\n",
       "      <td>0</td>\n",
       "      <td>Not Graduate</td>\n",
       "      <td>No</td>\n",
       "      <td>Urban</td>\n",
       "      <td>200-500</td>\n",
       "      <td>0-12.5K</td>\n",
       "      <td>0-5K</td>\n",
       "      <td>2583</td>\n",
       "      <td>2358.0</td>\n",
       "      <td>120.0</td>\n",
       "      <td>360.0</td>\n",
       "      <td>1.0</td>\n",
       "    </tr>\n",
       "    <tr>\n",
       "      <th>4</th>\n",
       "      <td>0</td>\n",
       "      <td>Graduate</td>\n",
       "      <td>No</td>\n",
       "      <td>Urban</td>\n",
       "      <td>200-500</td>\n",
       "      <td>0-12.5K</td>\n",
       "      <td>0-5K</td>\n",
       "      <td>6000</td>\n",
       "      <td>0.0</td>\n",
       "      <td>141.0</td>\n",
       "      <td>360.0</td>\n",
       "      <td>1.0</td>\n",
       "    </tr>\n",
       "    <tr>\n",
       "      <th>5</th>\n",
       "      <td>2</td>\n",
       "      <td>Graduate</td>\n",
       "      <td>Yes</td>\n",
       "      <td>Urban</td>\n",
       "      <td>200-500</td>\n",
       "      <td>0-12.5K</td>\n",
       "      <td>0-5K</td>\n",
       "      <td>5417</td>\n",
       "      <td>4196.0</td>\n",
       "      <td>267.0</td>\n",
       "      <td>360.0</td>\n",
       "      <td>1.0</td>\n",
       "    </tr>\n",
       "    <tr>\n",
       "      <th>...</th>\n",
       "      <td>...</td>\n",
       "      <td>...</td>\n",
       "      <td>...</td>\n",
       "      <td>...</td>\n",
       "      <td>...</td>\n",
       "      <td>...</td>\n",
       "      <td>...</td>\n",
       "      <td>...</td>\n",
       "      <td>...</td>\n",
       "      <td>...</td>\n",
       "      <td>...</td>\n",
       "      <td>...</td>\n",
       "    </tr>\n",
       "    <tr>\n",
       "      <th>609</th>\n",
       "      <td>0</td>\n",
       "      <td>Graduate</td>\n",
       "      <td>No</td>\n",
       "      <td>Rural</td>\n",
       "      <td>200-500</td>\n",
       "      <td>0-12.5K</td>\n",
       "      <td>0-5K</td>\n",
       "      <td>2900</td>\n",
       "      <td>0.0</td>\n",
       "      <td>71.0</td>\n",
       "      <td>360.0</td>\n",
       "      <td>1.0</td>\n",
       "    </tr>\n",
       "    <tr>\n",
       "      <th>610</th>\n",
       "      <td>3+</td>\n",
       "      <td>Graduate</td>\n",
       "      <td>No</td>\n",
       "      <td>Rural</td>\n",
       "      <td>100-200</td>\n",
       "      <td>0-12.5K</td>\n",
       "      <td>0-5K</td>\n",
       "      <td>4106</td>\n",
       "      <td>0.0</td>\n",
       "      <td>40.0</td>\n",
       "      <td>180.0</td>\n",
       "      <td>1.0</td>\n",
       "    </tr>\n",
       "    <tr>\n",
       "      <th>611</th>\n",
       "      <td>1</td>\n",
       "      <td>Graduate</td>\n",
       "      <td>No</td>\n",
       "      <td>Urban</td>\n",
       "      <td>200-500</td>\n",
       "      <td>0-12.5K</td>\n",
       "      <td>0-5K</td>\n",
       "      <td>8072</td>\n",
       "      <td>240.0</td>\n",
       "      <td>253.0</td>\n",
       "      <td>360.0</td>\n",
       "      <td>1.0</td>\n",
       "    </tr>\n",
       "    <tr>\n",
       "      <th>612</th>\n",
       "      <td>2</td>\n",
       "      <td>Graduate</td>\n",
       "      <td>No</td>\n",
       "      <td>Urban</td>\n",
       "      <td>200-500</td>\n",
       "      <td>0-12.5K</td>\n",
       "      <td>0-5K</td>\n",
       "      <td>7583</td>\n",
       "      <td>0.0</td>\n",
       "      <td>187.0</td>\n",
       "      <td>360.0</td>\n",
       "      <td>1.0</td>\n",
       "    </tr>\n",
       "    <tr>\n",
       "      <th>613</th>\n",
       "      <td>0</td>\n",
       "      <td>Graduate</td>\n",
       "      <td>Yes</td>\n",
       "      <td>Semiurban</td>\n",
       "      <td>200-500</td>\n",
       "      <td>0-12.5K</td>\n",
       "      <td>0-5K</td>\n",
       "      <td>4583</td>\n",
       "      <td>0.0</td>\n",
       "      <td>133.0</td>\n",
       "      <td>360.0</td>\n",
       "      <td>0.0</td>\n",
       "    </tr>\n",
       "  </tbody>\n",
       "</table>\n",
       "<p>490 rows × 12 columns</p>\n",
       "</div>"
      ],
      "text/plain": [
       "    Dependents     Education Self_Employed Property_Area Loan_Amount_Term1  \\\n",
       "1            1      Graduate            No         Rural           200-500   \n",
       "2            0      Graduate           Yes         Urban           200-500   \n",
       "3            0  Not Graduate            No         Urban           200-500   \n",
       "4            0      Graduate            No         Urban           200-500   \n",
       "5            2      Graduate           Yes         Urban           200-500   \n",
       "..         ...           ...           ...           ...               ...   \n",
       "609          0      Graduate            No         Rural           200-500   \n",
       "610         3+      Graduate            No         Rural           100-200   \n",
       "611          1      Graduate            No         Urban           200-500   \n",
       "612          2      Graduate            No         Urban           200-500   \n",
       "613          0      Graduate           Yes     Semiurban           200-500   \n",
       "\n",
       "    app_income_cut coapp_income_cut  ApplicantIncome  CoapplicantIncome  \\\n",
       "1          0-12.5K             0-5K             4583             1508.0   \n",
       "2          0-12.5K             0-5K             3000                0.0   \n",
       "3          0-12.5K             0-5K             2583             2358.0   \n",
       "4          0-12.5K             0-5K             6000                0.0   \n",
       "5          0-12.5K             0-5K             5417             4196.0   \n",
       "..             ...              ...              ...                ...   \n",
       "609        0-12.5K             0-5K             2900                0.0   \n",
       "610        0-12.5K             0-5K             4106                0.0   \n",
       "611        0-12.5K             0-5K             8072              240.0   \n",
       "612        0-12.5K             0-5K             7583                0.0   \n",
       "613        0-12.5K             0-5K             4583                0.0   \n",
       "\n",
       "     LoanAmount  Loan_Amount_Term  Credit_History  \n",
       "1         128.0             360.0             1.0  \n",
       "2          66.0             360.0             1.0  \n",
       "3         120.0             360.0             1.0  \n",
       "4         141.0             360.0             1.0  \n",
       "5         267.0             360.0             1.0  \n",
       "..          ...               ...             ...  \n",
       "609        71.0             360.0             1.0  \n",
       "610        40.0             180.0             1.0  \n",
       "611       253.0             360.0             1.0  \n",
       "612       187.0             360.0             1.0  \n",
       "613       133.0             360.0             0.0  \n",
       "\n",
       "[490 rows x 12 columns]"
      ]
     },
     "execution_count": 47,
     "metadata": {},
     "output_type": "execute_result"
    }
   ],
   "source": [
    "X"
   ]
  },
  {
   "cell_type": "code",
   "execution_count": 48,
   "id": "277675eb",
   "metadata": {},
   "outputs": [
    {
     "name": "stdout",
     "output_type": "stream",
     "text": [
      "<class 'pandas.core.frame.DataFrame'>\n",
      "Int64Index: 490 entries, 1 to 613\n",
      "Data columns (total 12 columns):\n",
      " #   Column             Non-Null Count  Dtype   \n",
      "---  ------             --------------  -----   \n",
      " 0   Dependents         490 non-null    object  \n",
      " 1   Education          490 non-null    object  \n",
      " 2   Self_Employed      490 non-null    object  \n",
      " 3   Property_Area      490 non-null    object  \n",
      " 4   Loan_Amount_Term1  490 non-null    object  \n",
      " 5   app_income_cut     490 non-null    category\n",
      " 6   coapp_income_cut   490 non-null    category\n",
      " 7   ApplicantIncome    490 non-null    int64   \n",
      " 8   CoapplicantIncome  490 non-null    float64 \n",
      " 9   LoanAmount         490 non-null    float64 \n",
      " 10  Loan_Amount_Term   490 non-null    float64 \n",
      " 11  Credit_History     490 non-null    float64 \n",
      "dtypes: category(2), float64(4), int64(1), object(5)\n",
      "memory usage: 59.5+ KB\n"
     ]
    }
   ],
   "source": [
    "X.info()"
   ]
  },
  {
   "cell_type": "code",
   "execution_count": 49,
   "id": "86b2af58",
   "metadata": {},
   "outputs": [
    {
     "data": {
      "text/plain": [
       "1    0\n",
       "2    1\n",
       "3    1\n",
       "4    1\n",
       "5    1\n",
       "Name: Loan_StatusNum, dtype: int32"
      ]
     },
     "execution_count": 49,
     "metadata": {},
     "output_type": "execute_result"
    }
   ],
   "source": [
    "y[:5]"
   ]
  },
  {
   "cell_type": "code",
   "execution_count": 50,
   "id": "22a3114d",
   "metadata": {},
   "outputs": [
    {
     "name": "stdout",
     "output_type": "stream",
     "text": [
      "numeric columns:\n",
      " ['ApplicantIncome', 'CoapplicantIncome', 'LoanAmount', 'Loan_Amount_Term', 'Credit_History']\n",
      "\n",
      "categorical columns:\n",
      " ['Dependents', 'Education', 'Self_Employed', 'Property_Area', 'Loan_Amount_Term1', 'app_income_cut', 'coapp_income_cut']\n"
     ]
    }
   ],
   "source": [
    "categories = list(X.select_dtypes(['object', 'category']))\n",
    "numerics = list(X.select_dtypes('number'))\n",
    "\n",
    "print('numeric columns:\\n',numerics)\n",
    "print()\n",
    "print('categorical columns:\\n',categories)\n"
   ]
  },
  {
   "cell_type": "code",
   "execution_count": 51,
   "id": "880b1898",
   "metadata": {},
   "outputs": [],
   "source": [
    "# check if the no. of columns of the independent values\n",
    "# is equal to the number of categorical and numerical data selected\n",
    "assert len(X.columns) == len(categories) + len(numerics)"
   ]
  },
  {
   "cell_type": "code",
   "execution_count": null,
   "id": "891679d0",
   "metadata": {},
   "outputs": [],
   "source": []
  },
  {
   "cell_type": "markdown",
   "id": "e46c80d6",
   "metadata": {},
   "source": [
    "## Train different models"
   ]
  },
  {
   "cell_type": "code",
   "execution_count": 52,
   "id": "85f46daf",
   "metadata": {},
   "outputs": [],
   "source": [
    "# instantiate the endcoders, transfromers and the classifiers\n",
    "ohe= OneHotEncoder()\n",
    "le = LabelEncoder()\n",
    "minmax= MinMaxScaler()\n",
    "sc = StandardScaler()\n",
    "smote = SMOTE()\n",
    "under = RandomUnderSampler()\n",
    "\n",
    "clf1 = DecisionTreeClassifier(max_depth=20, max_features=3)\n",
    "clf2  =RandomForestClassifier(max_depth=15, max_features=10, class_weight='balanced', max_samples=20)\n",
    "clf3 = LogisticRegression(C= 10, max_iter=1000, class_weight='balance', tol=0.01)"
   ]
  },
  {
   "cell_type": "code",
   "execution_count": 53,
   "id": "27e0a8fd",
   "metadata": {},
   "outputs": [],
   "source": [
    "# split the data into train and test sets..\n",
    "X_train, X_test, y_train, y_test = train_test_split(X, y,  random_state=12,  stratify=y)"
   ]
  },
  {
   "cell_type": "code",
   "execution_count": 54,
   "id": "0de156d2",
   "metadata": {},
   "outputs": [],
   "source": [
    "classifiers = [clf1, clf2, clf3]\n",
    "names = ['decision tree', 'random forest', 'logistic regression']\n",
    "\n",
    "models_list = []\n",
    "\n",
    "y_pred_list = []\n",
    "ypred_prob_list= []\n",
    "\n",
    "f1_scores_list = []\n",
    "accuracy_scores_list= []\n",
    "\n",
    "postive_pred_list = []\n",
    "negative_pred_list= []\n",
    "\n",
    "for name, clf in zip(names, classifiers):\n",
    "    transformer = ColumnTransformer([('one hot', ohe, categories), ('norm', sc, numerics)])\n",
    "    model = Imblearn_Pipeline([('col transf', transformer), ('smote', smote), (name+' classifier', clf)])\n",
    "    model.fit(X_train, y_train)\n",
    "    ypred= model.predict(X_test)\n",
    "    ypred_prob= model.predict_proba(X_test)\n",
    "    f1_scores = f1_score(y_test, ypred)\n",
    "    accuracy_scores= model.score(X_test, y_test)\n",
    "    ypredprobPositive = ypred_prob[:,[1]].ravel()\n",
    "    ypredprobNegative = ypred_prob[:,[0]].ravel()\n",
    "    \n",
    "    models_list.append(model)\n",
    "    f1_scores_list.append(f1_scores)\n",
    "    accuracy_scores_list.append(accuracy_scores)\n",
    "    \n",
    "    y_pred_list.append(ypred)\n",
    "    ypred_prob_list.append(ypred_prob)\n",
    "    postive_pred_list.append(ypredprobPositive)\n",
    "    negative_pred_list.append(ypredprobNegative)\n",
    "\n",
    "    "
   ]
  },
  {
   "cell_type": "code",
   "execution_count": 55,
   "id": "e45bd119",
   "metadata": {},
   "outputs": [
    {
     "data": {
      "text/html": [
       "<div>\n",
       "<style scoped>\n",
       "    .dataframe tbody tr th:only-of-type {\n",
       "        vertical-align: middle;\n",
       "    }\n",
       "\n",
       "    .dataframe tbody tr th {\n",
       "        vertical-align: top;\n",
       "    }\n",
       "\n",
       "    .dataframe thead th {\n",
       "        text-align: right;\n",
       "    }\n",
       "</style>\n",
       "<table border=\"1\" class=\"dataframe\">\n",
       "  <thead>\n",
       "    <tr style=\"text-align: right;\">\n",
       "      <th></th>\n",
       "      <th>f1</th>\n",
       "      <th>accuracy</th>\n",
       "    </tr>\n",
       "  </thead>\n",
       "  <tbody>\n",
       "    <tr>\n",
       "      <th>decision tree</th>\n",
       "      <td>0.784091</td>\n",
       "      <td>0.691057</td>\n",
       "    </tr>\n",
       "    <tr>\n",
       "      <th>random forest</th>\n",
       "      <td>0.843243</td>\n",
       "      <td>0.764228</td>\n",
       "    </tr>\n",
       "    <tr>\n",
       "      <th>logistic regression</th>\n",
       "      <td>0.776471</td>\n",
       "      <td>0.691057</td>\n",
       "    </tr>\n",
       "  </tbody>\n",
       "</table>\n",
       "</div>"
      ],
      "text/plain": [
       "                           f1  accuracy\n",
       "decision tree        0.784091  0.691057\n",
       "random forest        0.843243  0.764228\n",
       "logistic regression  0.776471  0.691057"
      ]
     },
     "execution_count": 55,
     "metadata": {},
     "output_type": "execute_result"
    }
   ],
   "source": [
    "report = pd.concat([pd.Series(f1_scores_list), pd.Series(accuracy_scores_list)], axis =1,)\n",
    "report.columns =['f1', 'accuracy']\n",
    "report.index = names\n",
    "report"
   ]
  },
  {
   "cell_type": "code",
   "execution_count": 56,
   "id": "5f895ba1",
   "metadata": {},
   "outputs": [
    {
     "data": {
      "text/plain": [
       "<AxesSubplot:title={'center':'f1 and accuracy'}>"
      ]
     },
     "execution_count": 56,
     "metadata": {},
     "output_type": "execute_result"
    },
    {
     "data": {
      "image/png": "[encoded data removed]",
      "text/plain": [
       "<Figure size 720x288 with 1 Axes>"
      ]
     },
     "metadata": {},
     "output_type": "display_data"
    }
   ],
   "source": [
    "report.plot(kind='barh', title='f1 and accuracy', figsize=(10, 4))"
   ]
  },
  {
   "cell_type": "code",
   "execution_count": null,
   "id": "60d230a3",
   "metadata": {},
   "outputs": [],
   "source": []
  },
  {
   "cell_type": "code",
   "execution_count": 57,
   "id": "91aab843",
   "metadata": {
    "scrolled": true
   },
   "outputs": [
    {
     "data": {
      "text/html": [
       "<div>\n",
       "<style scoped>\n",
       "    .dataframe tbody tr th:only-of-type {\n",
       "        vertical-align: middle;\n",
       "    }\n",
       "\n",
       "    .dataframe tbody tr th {\n",
       "        vertical-align: top;\n",
       "    }\n",
       "\n",
       "    .dataframe thead th {\n",
       "        text-align: right;\n",
       "    }\n",
       "</style>\n",
       "<table border=\"1\" class=\"dataframe\">\n",
       "  <thead>\n",
       "    <tr style=\"text-align: right;\">\n",
       "      <th></th>\n",
       "      <th>pred</th>\n",
       "      <th>No</th>\n",
       "      <th>Yes</th>\n",
       "    </tr>\n",
       "    <tr>\n",
       "      <th>Loan_StatusNum</th>\n",
       "      <th></th>\n",
       "      <th></th>\n",
       "      <th></th>\n",
       "    </tr>\n",
       "  </thead>\n",
       "  <tbody>\n",
       "    <tr>\n",
       "      <th>1</th>\n",
       "      <td>0</td>\n",
       "      <td>0.35</td>\n",
       "      <td>0.65</td>\n",
       "    </tr>\n",
       "    <tr>\n",
       "      <th>0</th>\n",
       "      <td>1</td>\n",
       "      <td>0.72</td>\n",
       "      <td>0.28</td>\n",
       "    </tr>\n",
       "    <tr>\n",
       "      <th>1</th>\n",
       "      <td>0</td>\n",
       "      <td>0.35</td>\n",
       "      <td>0.65</td>\n",
       "    </tr>\n",
       "    <tr>\n",
       "      <th>0</th>\n",
       "      <td>0</td>\n",
       "      <td>0.03</td>\n",
       "      <td>0.97</td>\n",
       "    </tr>\n",
       "    <tr>\n",
       "      <th>1</th>\n",
       "      <td>0</td>\n",
       "      <td>0.44</td>\n",
       "      <td>0.56</td>\n",
       "    </tr>\n",
       "    <tr>\n",
       "      <th>...</th>\n",
       "      <td>...</td>\n",
       "      <td>...</td>\n",
       "      <td>...</td>\n",
       "    </tr>\n",
       "    <tr>\n",
       "      <th>1</th>\n",
       "      <td>1</td>\n",
       "      <td>0.84</td>\n",
       "      <td>0.16</td>\n",
       "    </tr>\n",
       "    <tr>\n",
       "      <th>1</th>\n",
       "      <td>1</td>\n",
       "      <td>0.87</td>\n",
       "      <td>0.13</td>\n",
       "    </tr>\n",
       "    <tr>\n",
       "      <th>1</th>\n",
       "      <td>1</td>\n",
       "      <td>0.93</td>\n",
       "      <td>0.07</td>\n",
       "    </tr>\n",
       "    <tr>\n",
       "      <th>1</th>\n",
       "      <td>1</td>\n",
       "      <td>0.91</td>\n",
       "      <td>0.09</td>\n",
       "    </tr>\n",
       "    <tr>\n",
       "      <th>1</th>\n",
       "      <td>1</td>\n",
       "      <td>0.85</td>\n",
       "      <td>0.15</td>\n",
       "    </tr>\n",
       "  </tbody>\n",
       "</table>\n",
       "<p>123 rows × 3 columns</p>\n",
       "</div>"
      ],
      "text/plain": [
       "                pred    No   Yes\n",
       "Loan_StatusNum                  \n",
       "1                  0  0.35  0.65\n",
       "0                  1  0.72  0.28\n",
       "1                  0  0.35  0.65\n",
       "0                  0  0.03  0.97\n",
       "1                  0  0.44  0.56\n",
       "...              ...   ...   ...\n",
       "1                  1  0.84  0.16\n",
       "1                  1  0.87  0.13\n",
       "1                  1  0.93  0.07\n",
       "1                  1  0.91  0.09\n",
       "1                  1  0.85  0.15\n",
       "\n",
       "[123 rows x 3 columns]"
      ]
     },
     "execution_count": 57,
     "metadata": {},
     "output_type": "execute_result"
    }
   ],
   "source": [
    "# decision tree 0\n",
    "# random forest 1\n",
    "# logistic regression 2\n",
    "\n",
    "index= 2 # prediction from logistic regression\n",
    "p = pd.concat([\n",
    "           pd.Series(y_pred_list[index]), \n",
    "           pd.Series(postive_pred_list[index]).round(2), \n",
    "           pd.Series(negative_pred_list[index]).round(2)],axis=1)\n",
    "p.columns =['pred', 'No', 'Yes']\n",
    "p.index = y_test\n",
    "p"
   ]
  },
  {
   "cell_type": "code",
   "execution_count": null,
   "id": "0dde3eda",
   "metadata": {},
   "outputs": [],
   "source": []
  },
  {
   "cell_type": "markdown",
   "id": "bc910a79",
   "metadata": {},
   "source": [
    "## Evaluate the models and choose the best model"
   ]
  },
  {
   "cell_type": "code",
   "execution_count": 58,
   "id": "d309d53d",
   "metadata": {},
   "outputs": [],
   "source": [
    "# cross validation scores\n",
    "cv_scores_=[]\n",
    "for model in models_list: \n",
    "    k = KFold(n_splits=20, shuffle=False, random_state=None)\n",
    "    cv_scores = cross_val_score(model, X = X_train,  y = y_train, cv=k,)\n",
    "    cv_scores_.append(cv_scores)"
   ]
  },
  {
   "cell_type": "code",
   "execution_count": 59,
   "id": "4f32eba2",
   "metadata": {},
   "outputs": [
    {
     "data": {
      "text/plain": [
       "<AxesSubplot:title={'center':'Model comparison'}>"
      ]
     },
     "execution_count": 59,
     "metadata": {},
     "output_type": "execute_result"
    },
    {
     "data": {
      "image/png": "[encoded data removed]",
      "text/plain": [
       "<Figure size 576x396 with 1 Axes>"
      ]
     },
     "metadata": {},
     "output_type": "display_data"
    }
   ],
   "source": [
    "cv = pd.DataFrame(cv_scores_, index=names).T\n",
    "cv.plot(kind='box', title='Model comparison')"
   ]
  },
  {
   "cell_type": "code",
   "execution_count": 60,
   "id": "e2eb0f94",
   "metadata": {},
   "outputs": [
    {
     "data": {
      "text/plain": [
       "<AxesSubplot:title={'center':'logistic regression confusion matrix'}>"
      ]
     },
     "execution_count": 60,
     "metadata": {},
     "output_type": "execute_result"
    },
    {
     "data": {
      "image/png": "[encoded data removed]",
      "text/plain": [
       "<Figure size 1080x360 with 6 Axes>"
      ]
     },
     "metadata": {},
     "output_type": "display_data"
    }
   ],
   "source": [
    "## confusion matrix\n",
    "fig, ax = plt.subplots(1, 3, figsize= (15, 5), sharey=True)\n",
    "\n",
    "cm1= confusion_matrix(y_test,y_pred_list[0],)\n",
    "col= ['predicted-negative', 'predcited-postive']\n",
    "row= ['negative-class', 'positive-class']\n",
    "cmdf = pd.DataFrame(cm1, columns=col, index= row)\n",
    "ax[0].set_title('decision-tree confusion matrix')\n",
    "sns.heatmap(cmdf , cmap= 'Blues', annot=True, ax=ax[0])\n",
    "\n",
    "\n",
    "cm1= confusion_matrix(y_test,y_pred_list[1],)\n",
    "col= ['predicted-negative', 'predcited-postive']\n",
    "row= ['negative-class', 'positive-class']\n",
    "cmdf = pd.DataFrame(cm1, columns=col, index= row)\n",
    "sns.heatmap(cmdf, cmap='Blues', annot=True, ax=ax[1])\n",
    "ax[1].set_title('random forest confusion matrix')\n",
    "\n",
    "\n",
    "cm1= confusion_matrix(y_test,y_pred_list[2],)\n",
    "col= ['predicted-negative', 'predcited-postive']\n",
    "row= ['negative-class', 'positive-class']\n",
    "cmdf = pd.DataFrame(cm1, columns=col, index= row)\n",
    "ax[2].set_title('logistic regression confusion matrix')\n",
    "sns.heatmap(cmdf , cmap= 'Blues', annot=True, ax=ax[2] )\n"
   ]
  },
  {
   "cell_type": "code",
   "execution_count": 61,
   "id": "1b67e983",
   "metadata": {},
   "outputs": [
    {
     "name": "stdout",
     "output_type": "stream",
     "text": [
      "CLASSIFICATION REPORT FOR THE DECISION TREE CLASSIFIER\n",
      "              precision    recall  f1-score   support\n",
      "\n",
      "           0       0.52      0.41      0.46        39\n",
      "           1       0.75      0.82      0.78        84\n",
      "\n",
      "    accuracy                           0.69       123\n",
      "   macro avg       0.63      0.62      0.62       123\n",
      "weighted avg       0.68      0.69      0.68       123\n",
      "\n",
      "---------------------------------------------------------\n",
      "\n",
      " CLASSIFICATION REPORT FOR THE RANDOM FOREST\n",
      "              precision    recall  f1-score   support\n",
      "\n",
      "           0       0.73      0.41      0.52        39\n",
      "           1       0.77      0.93      0.84        84\n",
      "\n",
      "    accuracy                           0.76       123\n",
      "   macro avg       0.75      0.67      0.68       123\n",
      "weighted avg       0.76      0.76      0.74       123\n",
      "\n",
      "---------------------------------------------------------\n",
      "\n",
      " CLASSIFICATION REPORT FOR THE LOGISTIC\n",
      "              precision    recall  f1-score   support\n",
      "\n",
      "           0       0.51      0.49      0.50        39\n",
      "           1       0.77      0.79      0.78        84\n",
      "\n",
      "    accuracy                           0.69       123\n",
      "   macro avg       0.64      0.64      0.64       123\n",
      "weighted avg       0.69      0.69      0.69       123\n",
      "\n"
     ]
    }
   ],
   "source": [
    "#classification report\n",
    "from pprint import pprint\n",
    "print('CLASSIFICATION REPORT FOR THE DECISION TREE CLASSIFIER')\n",
    "print(classification_report( y_test, y_pred_list[0]), )\n",
    "print('---------------------------------------------------------')\n",
    "\n",
    "print('\\n CLASSIFICATION REPORT FOR THE RANDOM FOREST')\n",
    "print(classification_report( y_test, y_pred_list[1]), )\n",
    "print('---------------------------------------------------------')\n",
    "\n",
    "print('\\n CLASSIFICATION REPORT FOR THE LOGISTIC')\n",
    "print(classification_report( y_test, y_pred_list[2]), )"
   ]
  },
  {
   "cell_type": "code",
   "execution_count": 62,
   "id": "8cebfb6d",
   "metadata": {},
   "outputs": [
    {
     "data": {
      "text/plain": [
       "<matplotlib.legend.Legend at 0x1dc3b6cffd0>"
      ]
     },
     "execution_count": 62,
     "metadata": {},
     "output_type": "execute_result"
    },
    {
     "data": {
      "image/png": "[encoded data removed]",
      "text/plain": [
       "<Figure size 576x396 with 1 Axes>"
      ]
     },
     "metadata": {},
     "output_type": "display_data"
    }
   ],
   "source": [
    "fprdt, tprdt, _ = roc_curve(y_test,postive_pred_list[0])\n",
    "aucdt = np.round(roc_auc_score(y_test, postive_pred_list[0]), 3)\n",
    "\n",
    "plt.title('ROC-curve')\n",
    "plt.plot(fprdt, tprdt, label=\"Decison AUC: \"+str(aucdt), color=\"navy\")\n",
    "plt.plot([0,1],[0,1],color=\"red\")\n",
    "plt.xlim([0.00,1.01])\n",
    "plt.ylim([0.00,1.01])\n",
    "plt.xlabel(\"Specificity\")\n",
    "plt.ylabel(\"Sensitivity\")\n",
    "\n",
    "\n",
    "fprdt, tprdt, _ = roc_curve(y_test,postive_pred_list[1])\n",
    "aucdt = np.round(roc_auc_score(y_test, postive_pred_list[1]), 3)\n",
    "plt.plot(fprdt, tprdt, label=\"Random Forest AUC: \"+str(aucdt), color=\"green\", ls='--')\n",
    "plt.plot([0,1],[0,1],color=\"red\")\n",
    "plt.xlim([0.00,1.01])\n",
    "plt.ylim([0.00,1.01])\n",
    "\n",
    "fprdt, tprdt, _ = roc_curve(y_test,postive_pred_list[2])\n",
    "aucdt = np.round(roc_auc_score(y_test, postive_pred_list[2]), 3)\n",
    "plt.plot(fprdt, tprdt, label=\"Logistic AUC: \"+str(aucdt), color=\"blue\", ls=':')\n",
    "plt.plot([0,1],[0,1],color=\"red\")\n",
    "plt.xlim([0.00,1.01])\n",
    "plt.ylim([0.00,1.01])\n",
    "plt.legend(loc=4)\n"
   ]
  },
  {
   "cell_type": "code",
   "execution_count": 63,
   "id": "1b22c842",
   "metadata": {},
   "outputs": [
    {
     "data": {
      "image/png": "[encoded data removed]",
      "text/plain": [
       "<Figure size 576x396 with 1 Axes>"
      ]
     },
     "metadata": {},
     "output_type": "display_data"
    },
    {
     "data": {
      "image/png": "[encoded data removed]",
      "text/plain": [
       "<Figure size 576x396 with 1 Axes>"
      ]
     },
     "metadata": {},
     "output_type": "display_data"
    },
    {
     "data": {
      "image/png": "[encoded data removed]",
      "text/plain": [
       "<Figure size 576x396 with 1 Axes>"
      ]
     },
     "metadata": {},
     "output_type": "display_data"
    },
    {
     "data": {
      "text/plain": [
       "<AxesSubplot:title={'center':'Learning Curve for LogisticRegression'}, xlabel='Training Instances', ylabel='Score'>"
      ]
     },
     "execution_count": 63,
     "metadata": {},
     "output_type": "execute_result"
    }
   ],
   "source": [
    "# getting the learning curve\n",
    "\n",
    "sizes = np.linspace(0.3, 1.0, 10)\n",
    "\n",
    "\n",
    "visualizer0 = LearningCurve( models_list[0], cv=k, scoring='f1_weighted', train_sizes=sizes, n_jobs=4 )\n",
    "visualizer0.fit(X_train, y_train)        # Fit the data to the visualizer\n",
    "visualizer0.show() \n",
    "\n",
    "\n",
    "visualizer1 = LearningCurve( models_list[1], cv=k, scoring='f1_weighted', train_sizes=sizes, n_jobs=4 )\n",
    "visualizer1.fit(X_train, y_train)        # Fit the data to the visualizer\n",
    "visualizer1.show() \n",
    "\n",
    "\n",
    "visualizer2 = LearningCurve( models_list[2], cv=k, scoring='f1_weighted', train_sizes=sizes, n_jobs=4 )\n",
    "visualizer2.fit(X_train, y_train)        # Fit the data to the visualizer\n",
    "visualizer2.show() "
   ]
  },
  {
   "cell_type": "code",
   "execution_count": 64,
   "id": "ff23d385",
   "metadata": {},
   "outputs": [],
   "source": [
    "# tabulate all models [model name, accuracy score, f1-score]\n",
    "cv_scores = [np.mean(cv_scores_[0]), np.mean(cv_scores_[1]), np.mean(cv_scores_[2])]\n",
    "summary1 = pd.DataFrame({\n",
    "                         'accuracy scores': accuracy_scores_list, \n",
    "                         'f1_score': f1_scores_list, \n",
    "                         'cv-accuracy scores': cv_scores}, index = names)"
   ]
  },
  {
   "cell_type": "code",
   "execution_count": 65,
   "id": "79e26688",
   "metadata": {},
   "outputs": [
    {
     "data": {
      "text/html": [
       "<div>\n",
       "<style scoped>\n",
       "    .dataframe tbody tr th:only-of-type {\n",
       "        vertical-align: middle;\n",
       "    }\n",
       "\n",
       "    .dataframe tbody tr th {\n",
       "        vertical-align: top;\n",
       "    }\n",
       "\n",
       "    .dataframe thead th {\n",
       "        text-align: right;\n",
       "    }\n",
       "</style>\n",
       "<table border=\"1\" class=\"dataframe\">\n",
       "  <thead>\n",
       "    <tr style=\"text-align: right;\">\n",
       "      <th></th>\n",
       "      <th>accuracy scores</th>\n",
       "      <th>f1_score</th>\n",
       "      <th>cv-accuracy scores</th>\n",
       "    </tr>\n",
       "  </thead>\n",
       "  <tbody>\n",
       "    <tr>\n",
       "      <th>decision tree</th>\n",
       "      <td>0.691057</td>\n",
       "      <td>0.784091</td>\n",
       "      <td>0.714327</td>\n",
       "    </tr>\n",
       "    <tr>\n",
       "      <th>random forest</th>\n",
       "      <td>0.764228</td>\n",
       "      <td>0.843243</td>\n",
       "      <td>0.760526</td>\n",
       "    </tr>\n",
       "    <tr>\n",
       "      <th>logistic regression</th>\n",
       "      <td>0.691057</td>\n",
       "      <td>0.776471</td>\n",
       "      <td>0.770906</td>\n",
       "    </tr>\n",
       "  </tbody>\n",
       "</table>\n",
       "</div>"
      ],
      "text/plain": [
       "                     accuracy scores  f1_score  cv-accuracy scores\n",
       "decision tree               0.691057  0.784091            0.714327\n",
       "random forest               0.764228  0.843243            0.760526\n",
       "logistic regression         0.691057  0.776471            0.770906"
      ]
     },
     "execution_count": 65,
     "metadata": {},
     "output_type": "execute_result"
    }
   ],
   "source": [
    "summary1"
   ]
  },
  {
   "cell_type": "code",
   "execution_count": null,
   "id": "5073a4d9",
   "metadata": {},
   "outputs": [],
   "source": []
  },
  {
   "cell_type": "markdown",
   "id": "aa319169",
   "metadata": {},
   "source": [
    "## fine-tuning using gridsearch"
   ]
  },
  {
   "cell_type": "code",
   "execution_count": 66,
   "id": "ed68004e",
   "metadata": {},
   "outputs": [],
   "source": [
    "# we then retrain and fine-tune the random forest classifier..\n",
    "rf_pipe = Imblearn_Pipeline([('col transf', transformer), \n",
    "                             ('smote', smote), \n",
    "                             ('clf', RandomForestClassifier())]\n",
    "                           )\n",
    "param_grid = {\n",
    "    'clf__max_depth': [20, 50, 80, 90, 100, 120, 140],\n",
    "    'clf__max_features': [3, 5, 8, 9, 11],\n",
    "    'clf__criterion':['gini', 'entropy']\n",
    "}\n",
    "\n",
    "modelGCV = GridSearchCV(rf_pipe, param_grid, n_jobs=-1)\n",
    "modelGCV.fit(X_train, y_train);"
   ]
  },
  {
   "cell_type": "code",
   "execution_count": 73,
   "id": "0133746a",
   "metadata": {},
   "outputs": [
    {
     "data": {
      "text/plain": [
       "['output/tuned_rf.pkl']"
      ]
     },
     "execution_count": 73,
     "metadata": {},
     "output_type": "execute_result"
    }
   ],
   "source": [
    "# saved the tuned model\n",
    "dump(modelGCV, 'output/tuned_rf.pkl')"
   ]
  },
  {
   "cell_type": "code",
   "execution_count": null,
   "id": "69faf93a",
   "metadata": {},
   "outputs": [],
   "source": []
  },
  {
   "cell_type": "code",
   "execution_count": 67,
   "id": "2dcf6093",
   "metadata": {},
   "outputs": [
    {
     "name": "stdout",
     "output_type": "stream",
     "text": [
      "model accuracy:  73.984 %\n"
     ]
    }
   ],
   "source": [
    "print('model accuracy: ', np.round(modelGCV.score(X_test, y_test)*100,3),'%')"
   ]
  },
  {
   "cell_type": "code",
   "execution_count": 68,
   "id": "b10e05a3",
   "metadata": {},
   "outputs": [
    {
     "name": "stdout",
     "output_type": "stream",
     "text": [
      "CV best score:  79.0 %\n"
     ]
    }
   ],
   "source": [
    "print(\"CV best score: \", np.round(modelGCV.best_score_,3)*100,'%')"
   ]
  },
  {
   "cell_type": "code",
   "execution_count": 69,
   "id": "17db5464",
   "metadata": {},
   "outputs": [],
   "source": [
    "pred0= modelGCV.predict(X_test)"
   ]
  },
  {
   "cell_type": "code",
   "execution_count": 70,
   "id": "db236f5e",
   "metadata": {},
   "outputs": [
    {
     "name": "stdout",
     "output_type": "stream",
     "text": [
      "              precision    recall  f1-score   support\n",
      "\n",
      "           0       0.65      0.38      0.48        39\n",
      "           1       0.76      0.90      0.83        84\n",
      "\n",
      "    accuracy                           0.74       123\n",
      "   macro avg       0.71      0.64      0.65       123\n",
      "weighted avg       0.73      0.74      0.72       123\n",
      "\n"
     ]
    }
   ],
   "source": [
    "# classification report\n",
    "print(classification_report(y_test, pred0))"
   ]
  },
  {
   "cell_type": "code",
   "execution_count": null,
   "id": "4c32214f",
   "metadata": {},
   "outputs": [],
   "source": []
  },
  {
   "cell_type": "markdown",
   "id": "39266d7f",
   "metadata": {},
   "source": [
    "# Fine-tuning using bayesian search"
   ]
  },
  {
   "cell_type": "code",
   "execution_count": null,
   "id": "bf10ff45",
   "metadata": {},
   "outputs": [],
   "source": []
  },
  {
   "cell_type": "code",
   "execution_count": null,
   "id": "b42b5748",
   "metadata": {},
   "outputs": [],
   "source": []
  },
  {
   "cell_type": "code",
   "execution_count": null,
   "id": "b2758092",
   "metadata": {},
   "outputs": [],
   "source": []
  },
  {
   "cell_type": "code",
   "execution_count": null,
   "id": "535f91cb",
   "metadata": {},
   "outputs": [],
   "source": []
  },
  {
   "cell_type": "code",
   "execution_count": null,
   "id": "fdfe0427",
   "metadata": {},
   "outputs": [],
   "source": []
  },
  {
   "cell_type": "markdown",
   "id": "b1a46383",
   "metadata": {},
   "source": [
    "# Feature Importance"
   ]
  },
  {
   "cell_type": "code",
   "execution_count": 71,
   "id": "36f6c161",
   "metadata": {},
   "outputs": [],
   "source": [
    "imp = models_list[1].named_steps['random forest classifier'].feature_importances_\n",
    "names_ = models_list[1].named_steps['col transf'].transformers_[0][1].get_feature_names(categories)\n",
    "named = names_.tolist()\n",
    "named.extend(numerics)"
   ]
  },
  {
   "cell_type": "code",
   "execution_count": 72,
   "id": "2d5c5199",
   "metadata": {},
   "outputs": [
    {
     "data": {
      "text/plain": [
       "<AxesSubplot:title={'center':'Feature Importance'}>"
      ]
     },
     "execution_count": 72,
     "metadata": {},
     "output_type": "execute_result"
    },
    {
     "data": {
      "image/png": "[encoded data removed]",
      "text/plain": [
       "<Figure size 576x396 with 1 Axes>"
      ]
     },
     "metadata": {},
     "output_type": "display_data"
    }
   ],
   "source": [
    "pd.Series(imp, index=named).sort_values().plot(kind='barh', title='Feature Importance')"
   ]
  },
  {
   "cell_type": "code",
   "execution_count": null,
   "id": "bbdc28f5",
   "metadata": {},
   "outputs": [],
   "source": []
  },
  {
   "cell_type": "code",
   "execution_count": null,
   "id": "935c9dcb",
   "metadata": {},
   "outputs": [],
   "source": []
  }
 ],
 "metadata": {
  "kernelspec": {
   "display_name": "Python 3",
   "language": "python",
   "name": "python3"
  },
  "language_info": {
   "codemirror_mode": {
    "name": "ipython",
    "version": 3
   },
   "file_extension": ".py",
   "mimetype": "text/x-python",
   "name": "python",
   "nbconvert_exporter": "python",
   "pygments_lexer": "ipython3",
   "version": "3.8.8"
  }
 },
 "nbformat": 4,
 "nbformat_minor": 5
}
