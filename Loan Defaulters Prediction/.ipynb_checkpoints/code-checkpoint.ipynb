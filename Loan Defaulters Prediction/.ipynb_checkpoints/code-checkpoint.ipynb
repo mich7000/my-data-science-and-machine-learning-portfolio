{
 "cells": [
  {
   "cell_type": "code",
   "execution_count": 1,
   "id": "691513dd",
   "metadata": {},
   "outputs": [],
   "source": [
    "# loads the required libraries for data analysis and statistical analysis\n",
    "import pandas as pd\n",
    "import numpy as np\n",
    "import scipy.stats as ss\n",
    "import matplotlib.pyplot as plt\n",
    "import seaborn as sns\n"
   ]
  },
  {
   "cell_type": "code",
   "execution_count": 2,
   "id": "ec237e59",
   "metadata": {},
   "outputs": [],
   "source": [
    "%matplotlib inline"
   ]
  },
  {
   "cell_type": "markdown",
   "id": "c355b445",
   "metadata": {},
   "source": [
    "## ETL PROCESSES"
   ]
  },
  {
   "cell_type": "code",
   "execution_count": 3,
   "id": "ff59f3b4",
   "metadata": {},
   "outputs": [
    {
     "data": {
      "text/html": [
       "<div>\n",
       "<style scoped>\n",
       "    .dataframe tbody tr th:only-of-type {\n",
       "        vertical-align: middle;\n",
       "    }\n",
       "\n",
       "    .dataframe tbody tr th {\n",
       "        vertical-align: top;\n",
       "    }\n",
       "\n",
       "    .dataframe thead th {\n",
       "        text-align: right;\n",
       "    }\n",
       "</style>\n",
       "<table border=\"1\" class=\"dataframe\">\n",
       "  <thead>\n",
       "    <tr style=\"text-align: right;\">\n",
       "      <th></th>\n",
       "      <th>Loan_ID</th>\n",
       "      <th>Gender</th>\n",
       "      <th>Married</th>\n",
       "      <th>Dependents</th>\n",
       "      <th>Education</th>\n",
       "      <th>Self_Employed</th>\n",
       "      <th>ApplicantIncome</th>\n",
       "      <th>CoapplicantIncome</th>\n",
       "      <th>LoanAmount</th>\n",
       "      <th>Loan_Amount_Term</th>\n",
       "      <th>Credit_History</th>\n",
       "      <th>Property_Area</th>\n",
       "      <th>Loan_Status</th>\n",
       "    </tr>\n",
       "  </thead>\n",
       "  <tbody>\n",
       "    <tr>\n",
       "      <th>0</th>\n",
       "      <td>LP001002</td>\n",
       "      <td>Male</td>\n",
       "      <td>No</td>\n",
       "      <td>0</td>\n",
       "      <td>Graduate</td>\n",
       "      <td>No</td>\n",
       "      <td>5849</td>\n",
       "      <td>0.0</td>\n",
       "      <td>NaN</td>\n",
       "      <td>360.0</td>\n",
       "      <td>1.0</td>\n",
       "      <td>Urban</td>\n",
       "      <td>Y</td>\n",
       "    </tr>\n",
       "    <tr>\n",
       "      <th>1</th>\n",
       "      <td>LP001003</td>\n",
       "      <td>Male</td>\n",
       "      <td>Yes</td>\n",
       "      <td>1</td>\n",
       "      <td>Graduate</td>\n",
       "      <td>No</td>\n",
       "      <td>4583</td>\n",
       "      <td>1508.0</td>\n",
       "      <td>128.0</td>\n",
       "      <td>360.0</td>\n",
       "      <td>1.0</td>\n",
       "      <td>Rural</td>\n",
       "      <td>N</td>\n",
       "    </tr>\n",
       "    <tr>\n",
       "      <th>2</th>\n",
       "      <td>LP001005</td>\n",
       "      <td>Male</td>\n",
       "      <td>Yes</td>\n",
       "      <td>0</td>\n",
       "      <td>Graduate</td>\n",
       "      <td>Yes</td>\n",
       "      <td>3000</td>\n",
       "      <td>0.0</td>\n",
       "      <td>66.0</td>\n",
       "      <td>360.0</td>\n",
       "      <td>1.0</td>\n",
       "      <td>Urban</td>\n",
       "      <td>Y</td>\n",
       "    </tr>\n",
       "    <tr>\n",
       "      <th>3</th>\n",
       "      <td>LP001006</td>\n",
       "      <td>Male</td>\n",
       "      <td>Yes</td>\n",
       "      <td>0</td>\n",
       "      <td>Not Graduate</td>\n",
       "      <td>No</td>\n",
       "      <td>2583</td>\n",
       "      <td>2358.0</td>\n",
       "      <td>120.0</td>\n",
       "      <td>360.0</td>\n",
       "      <td>1.0</td>\n",
       "      <td>Urban</td>\n",
       "      <td>Y</td>\n",
       "    </tr>\n",
       "    <tr>\n",
       "      <th>4</th>\n",
       "      <td>LP001008</td>\n",
       "      <td>Male</td>\n",
       "      <td>No</td>\n",
       "      <td>0</td>\n",
       "      <td>Graduate</td>\n",
       "      <td>No</td>\n",
       "      <td>6000</td>\n",
       "      <td>0.0</td>\n",
       "      <td>141.0</td>\n",
       "      <td>360.0</td>\n",
       "      <td>1.0</td>\n",
       "      <td>Urban</td>\n",
       "      <td>Y</td>\n",
       "    </tr>\n",
       "  </tbody>\n",
       "</table>\n",
       "</div>"
      ],
      "text/plain": [
       "    Loan_ID Gender Married Dependents     Education Self_Employed  \\\n",
       "0  LP001002   Male      No          0      Graduate            No   \n",
       "1  LP001003   Male     Yes          1      Graduate            No   \n",
       "2  LP001005   Male     Yes          0      Graduate           Yes   \n",
       "3  LP001006   Male     Yes          0  Not Graduate            No   \n",
       "4  LP001008   Male      No          0      Graduate            No   \n",
       "\n",
       "   ApplicantIncome  CoapplicantIncome  LoanAmount  Loan_Amount_Term  \\\n",
       "0             5849                0.0         NaN             360.0   \n",
       "1             4583             1508.0       128.0             360.0   \n",
       "2             3000                0.0        66.0             360.0   \n",
       "3             2583             2358.0       120.0             360.0   \n",
       "4             6000                0.0       141.0             360.0   \n",
       "\n",
       "   Credit_History Property_Area Loan_Status  \n",
       "0             1.0         Urban           Y  \n",
       "1             1.0         Rural           N  \n",
       "2             1.0         Urban           Y  \n",
       "3             1.0         Urban           Y  \n",
       "4             1.0         Urban           Y  "
      ]
     },
     "execution_count": 3,
     "metadata": {},
     "output_type": "execute_result"
    }
   ],
   "source": [
    "f = 'data/loan.csv'\n",
    "data= pd.read_csv(f)\n",
    "df = data.copy()\n",
    "df.head()"
   ]
  },
  {
   "cell_type": "code",
   "execution_count": 4,
   "id": "dbc02c4f",
   "metadata": {},
   "outputs": [
    {
     "data": {
      "text/plain": [
       "Loan_ID               0\n",
       "Gender               13\n",
       "Married               3\n",
       "Dependents           15\n",
       "Education             0\n",
       "Self_Employed        32\n",
       "ApplicantIncome       0\n",
       "CoapplicantIncome     0\n",
       "LoanAmount           22\n",
       "Loan_Amount_Term     14\n",
       "Credit_History       50\n",
       "Property_Area         0\n",
       "Loan_Status           0\n",
       "dtype: int64"
      ]
     },
     "execution_count": 4,
     "metadata": {},
     "output_type": "execute_result"
    }
   ],
   "source": [
    "df.isnull().sum(axis=0)"
   ]
  },
  {
   "cell_type": "code",
   "execution_count": 5,
   "id": "8a9a822d",
   "metadata": {},
   "outputs": [],
   "source": [
    "df['Dependents'] = df['Dependents'].astype('str')"
   ]
  },
  {
   "cell_type": "code",
   "execution_count": 6,
   "id": "3fd67084",
   "metadata": {},
   "outputs": [
    {
     "name": "stdout",
     "output_type": "stream",
     "text": [
      "<class 'pandas.core.frame.DataFrame'>\n",
      "RangeIndex: 614 entries, 0 to 613\n",
      "Data columns (total 13 columns):\n",
      " #   Column             Non-Null Count  Dtype  \n",
      "---  ------             --------------  -----  \n",
      " 0   Loan_ID            614 non-null    object \n",
      " 1   Gender             601 non-null    object \n",
      " 2   Married            611 non-null    object \n",
      " 3   Dependents         614 non-null    object \n",
      " 4   Education          614 non-null    object \n",
      " 5   Self_Employed      582 non-null    object \n",
      " 6   ApplicantIncome    614 non-null    int64  \n",
      " 7   CoapplicantIncome  614 non-null    float64\n",
      " 8   LoanAmount         592 non-null    float64\n",
      " 9   Loan_Amount_Term   600 non-null    float64\n",
      " 10  Credit_History     564 non-null    float64\n",
      " 11  Property_Area      614 non-null    object \n",
      " 12  Loan_Status        614 non-null    object \n",
      "dtypes: float64(4), int64(1), object(8)\n",
      "memory usage: 62.5+ KB\n"
     ]
    }
   ],
   "source": [
    "df.info()"
   ]
  },
  {
   "cell_type": "code",
   "execution_count": 7,
   "id": "3fb9ed9b",
   "metadata": {},
   "outputs": [
    {
     "data": {
      "text/html": [
       "<div>\n",
       "<style scoped>\n",
       "    .dataframe tbody tr th:only-of-type {\n",
       "        vertical-align: middle;\n",
       "    }\n",
       "\n",
       "    .dataframe tbody tr th {\n",
       "        vertical-align: top;\n",
       "    }\n",
       "\n",
       "    .dataframe thead th {\n",
       "        text-align: right;\n",
       "    }\n",
       "</style>\n",
       "<table border=\"1\" class=\"dataframe\">\n",
       "  <thead>\n",
       "    <tr style=\"text-align: right;\">\n",
       "      <th></th>\n",
       "      <th>ApplicantIncome</th>\n",
       "      <th>CoapplicantIncome</th>\n",
       "      <th>LoanAmount</th>\n",
       "      <th>Loan_Amount_Term</th>\n",
       "      <th>Credit_History</th>\n",
       "    </tr>\n",
       "  </thead>\n",
       "  <tbody>\n",
       "    <tr>\n",
       "      <th>count</th>\n",
       "      <td>614.000</td>\n",
       "      <td>614.000</td>\n",
       "      <td>592.000</td>\n",
       "      <td>600.00</td>\n",
       "      <td>564.000</td>\n",
       "    </tr>\n",
       "    <tr>\n",
       "      <th>mean</th>\n",
       "      <td>5403.459</td>\n",
       "      <td>1621.246</td>\n",
       "      <td>146.412</td>\n",
       "      <td>342.00</td>\n",
       "      <td>0.842</td>\n",
       "    </tr>\n",
       "    <tr>\n",
       "      <th>std</th>\n",
       "      <td>6109.042</td>\n",
       "      <td>2926.248</td>\n",
       "      <td>85.587</td>\n",
       "      <td>65.12</td>\n",
       "      <td>0.365</td>\n",
       "    </tr>\n",
       "    <tr>\n",
       "      <th>min</th>\n",
       "      <td>150.000</td>\n",
       "      <td>0.000</td>\n",
       "      <td>9.000</td>\n",
       "      <td>12.00</td>\n",
       "      <td>0.000</td>\n",
       "    </tr>\n",
       "    <tr>\n",
       "      <th>25%</th>\n",
       "      <td>2877.500</td>\n",
       "      <td>0.000</td>\n",
       "      <td>100.000</td>\n",
       "      <td>360.00</td>\n",
       "      <td>1.000</td>\n",
       "    </tr>\n",
       "    <tr>\n",
       "      <th>50%</th>\n",
       "      <td>3812.500</td>\n",
       "      <td>1188.500</td>\n",
       "      <td>128.000</td>\n",
       "      <td>360.00</td>\n",
       "      <td>1.000</td>\n",
       "    </tr>\n",
       "    <tr>\n",
       "      <th>75%</th>\n",
       "      <td>5795.000</td>\n",
       "      <td>2297.250</td>\n",
       "      <td>168.000</td>\n",
       "      <td>360.00</td>\n",
       "      <td>1.000</td>\n",
       "    </tr>\n",
       "    <tr>\n",
       "      <th>max</th>\n",
       "      <td>81000.000</td>\n",
       "      <td>41667.000</td>\n",
       "      <td>700.000</td>\n",
       "      <td>480.00</td>\n",
       "      <td>1.000</td>\n",
       "    </tr>\n",
       "  </tbody>\n",
       "</table>\n",
       "</div>"
      ],
      "text/plain": [
       "       ApplicantIncome  CoapplicantIncome  LoanAmount  Loan_Amount_Term  \\\n",
       "count          614.000            614.000     592.000            600.00   \n",
       "mean          5403.459           1621.246     146.412            342.00   \n",
       "std           6109.042           2926.248      85.587             65.12   \n",
       "min            150.000              0.000       9.000             12.00   \n",
       "25%           2877.500              0.000     100.000            360.00   \n",
       "50%           3812.500           1188.500     128.000            360.00   \n",
       "75%           5795.000           2297.250     168.000            360.00   \n",
       "max          81000.000          41667.000     700.000            480.00   \n",
       "\n",
       "       Credit_History  \n",
       "count         564.000  \n",
       "mean            0.842  \n",
       "std             0.365  \n",
       "min             0.000  \n",
       "25%             1.000  \n",
       "50%             1.000  \n",
       "75%             1.000  \n",
       "max             1.000  "
      ]
     },
     "execution_count": 7,
     "metadata": {},
     "output_type": "execute_result"
    }
   ],
   "source": [
    "df.describe().round(3)"
   ]
  },
  {
   "cell_type": "code",
   "execution_count": 8,
   "id": "08c3f800",
   "metadata": {},
   "outputs": [
    {
     "data": {
      "image/png": "[encoded data removed]",
      "text/plain": [
       "<Figure size 432x288 with 1 Axes>"
      ]
     },
     "metadata": {
      "needs_background": "light"
     },
     "output_type": "display_data"
    }
   ],
   "source": [
    "df.isnull().sum().plot(kind= 'barh', title= 'missing data')\n",
    "plt.show()"
   ]
  },
  {
   "cell_type": "code",
   "execution_count": 9,
   "id": "1494de79",
   "metadata": {},
   "outputs": [
    {
     "data": {
      "text/plain": [
       "array(['0', '1', '2', '3+', 'nan'], dtype=object)"
      ]
     },
     "execution_count": 9,
     "metadata": {},
     "output_type": "execute_result"
    }
   ],
   "source": [
    "df['Dependents'].unique()"
   ]
  },
  {
   "cell_type": "code",
   "execution_count": 10,
   "id": "d4937800",
   "metadata": {},
   "outputs": [
    {
     "data": {
      "text/plain": [
       "array(['No', 'Yes', nan], dtype=object)"
      ]
     },
     "execution_count": 10,
     "metadata": {},
     "output_type": "execute_result"
    }
   ],
   "source": [
    "df['Married'].unique()"
   ]
  },
  {
   "cell_type": "code",
   "execution_count": 11,
   "id": "16a4a4be",
   "metadata": {},
   "outputs": [],
   "source": [
    "numeric = ['Loan_Amount_Term', 'LoanAmount']\n",
    "categorical = ['Self_Employed', 'Married', 'Gender']\n",
    "\n",
    "for col in numeric:\n",
    "    df[col] = df[col].replace(np.nan, np.mean(df[col]))"
   ]
  },
  {
   "cell_type": "code",
   "execution_count": 12,
   "id": "6ceb8bd4",
   "metadata": {},
   "outputs": [
    {
     "data": {
      "image/png": "[encoded data removed]",
      "text/plain": [
       "<Figure size 432x288 with 1 Axes>"
      ]
     },
     "metadata": {
      "needs_background": "light"
     },
     "output_type": "display_data"
    }
   ],
   "source": [
    "df.isnull().sum().plot(kind= 'barh', title= 'missing data')\n",
    "plt.show()"
   ]
  },
  {
   "cell_type": "code",
   "execution_count": null,
   "id": "3cdf9ce0",
   "metadata": {},
   "outputs": [],
   "source": []
  },
  {
   "cell_type": "raw",
   "id": "f590990b",
   "metadata": {},
   "source": [
    "for col in categorical:\n",
    "    df[col] = df[col].replace(np.nan, ss.mode(df[col])[0][0])\n",
    "\n",
    "df['Dependents'].replace('nan', ss.mode(df['Dependents'])[0][0], inplace= True)"
   ]
  },
  {
   "cell_type": "code",
   "execution_count": 13,
   "id": "47fa4bbc",
   "metadata": {},
   "outputs": [
    {
     "data": {
      "text/plain": [
       "(614, 13)"
      ]
     },
     "execution_count": 13,
     "metadata": {},
     "output_type": "execute_result"
    }
   ],
   "source": [
    "df.shape"
   ]
  },
  {
   "cell_type": "code",
   "execution_count": 14,
   "id": "a0fce1dc",
   "metadata": {},
   "outputs": [],
   "source": [
    "# we drop the missing data from the categorical columns...\n",
    "df.dropna(axis = 0, inplace=True)"
   ]
  },
  {
   "cell_type": "code",
   "execution_count": 15,
   "id": "bc63465a",
   "metadata": {},
   "outputs": [
    {
     "data": {
      "image/png": "[encoded data removed]",
      "text/plain": [
       "<Figure size 432x288 with 1 Axes>"
      ]
     },
     "metadata": {
      "needs_background": "light"
     },
     "output_type": "display_data"
    }
   ],
   "source": [
    "df.isnull().sum().plot(kind= 'barh', title= 'missing data')\n",
    "plt.show()"
   ]
  },
  {
   "cell_type": "code",
   "execution_count": 16,
   "id": "146cf102",
   "metadata": {},
   "outputs": [
    {
     "data": {
      "text/plain": [
       "(523, 13)"
      ]
     },
     "execution_count": 16,
     "metadata": {},
     "output_type": "execute_result"
    }
   ],
   "source": [
    "df.shape"
   ]
  },
  {
   "cell_type": "code",
   "execution_count": 17,
   "id": "419e3623",
   "metadata": {},
   "outputs": [],
   "source": [
    "numeric_columns= df.select_dtypes('number')\n",
    "categorical_columns= df.select_dtypes('object')"
   ]
  },
  {
   "cell_type": "code",
   "execution_count": null,
   "id": "33d1df45",
   "metadata": {},
   "outputs": [],
   "source": []
  },
  {
   "cell_type": "code",
   "execution_count": 18,
   "id": "c2bc736e",
   "metadata": {},
   "outputs": [
    {
     "data": {
      "image/png": "[encoded data removed]",
      "text/plain": [
       "<Figure size 864x360 with 5 Axes>"
      ]
     },
     "metadata": {
      "needs_background": "light"
     },
     "output_type": "display_data"
    }
   ],
   "source": [
    "f = plt.figure(figsize= (12, 5))\n",
    "for index, col in enumerate(numeric_columns.columns):\n",
    "    \n",
    "    plt.subplot(2, 3, index+1)\n",
    "    plt.tight_layout()\n",
    "    plt.hist(df[col])\n",
    "    plt.title(col)"
   ]
  },
  {
   "cell_type": "code",
   "execution_count": 19,
   "id": "12ad13ac",
   "metadata": {},
   "outputs": [
    {
     "data": {
      "image/png": "[encoded data removed]",
      "text/plain": [
       "<Figure size 360x360 with 1 Axes>"
      ]
     },
     "metadata": {
      "needs_background": "light"
     },
     "output_type": "display_data"
    }
   ],
   "source": [
    "# handling outliers for individual data\n",
    "plt.figure(figsize=(5, 5))\n",
    "plt.boxplot(df['Loan_Amount_Term'])\n",
    "plt.title('loan amount term')\n",
    "plt.show()"
   ]
  },
  {
   "cell_type": "code",
   "execution_count": 20,
   "id": "36ca5380",
   "metadata": {},
   "outputs": [
    {
     "data": {
      "image/png": "[encoded data removed]",
      "text/plain": [
       "<Figure size 360x360 with 1 Axes>"
      ]
     },
     "metadata": {
      "needs_background": "light"
     },
     "output_type": "display_data"
    }
   ],
   "source": [
    "plt.figure(figsize=(5, 5))\n",
    "plt.boxplot(df['ApplicantIncome'])\n",
    "plt.title('applicant income')\n",
    "plt.show()"
   ]
  },
  {
   "cell_type": "code",
   "execution_count": null,
   "id": "0a472093",
   "metadata": {},
   "outputs": [],
   "source": []
  },
  {
   "cell_type": "code",
   "execution_count": 21,
   "id": "688fe775",
   "metadata": {},
   "outputs": [
    {
     "data": {
      "image/png": "[encoded data removed]",
      "text/plain": [
       "<Figure size 360x360 with 1 Axes>"
      ]
     },
     "metadata": {
      "needs_background": "light"
     },
     "output_type": "display_data"
    }
   ],
   "source": [
    "plt.figure(figsize=(5, 5))\n",
    "plt.boxplot(df['CoapplicantIncome'])\n",
    "plt.title('co-applicant income')\n",
    "plt.show()"
   ]
  },
  {
   "cell_type": "markdown",
   "id": "4668f474",
   "metadata": {},
   "source": [
    "## FEATURE ENGINEERING"
   ]
  },
  {
   "cell_type": "code",
   "execution_count": 22,
   "id": "8c2b797a",
   "metadata": {},
   "outputs": [
    {
     "name": "stdout",
     "output_type": "stream",
     "text": [
      "[360. 120. 342. 180.  60. 300. 480. 240.  36.  84.]\n"
     ]
    },
    {
     "data": {
      "text/plain": [
       "<AxesSubplot:>"
      ]
     },
     "execution_count": 22,
     "metadata": {},
     "output_type": "execute_result"
    },
    {
     "data": {
      "image/png": "[encoded data removed]",
      "text/plain": [
       "<Figure size 432x288 with 1 Axes>"
      ]
     },
     "metadata": {
      "needs_background": "light"
     },
     "output_type": "display_data"
    }
   ],
   "source": [
    "print(df['Loan_Amount_Term'].unique())\n",
    "df['Loan_Amount_Term'].hist()"
   ]
  },
  {
   "cell_type": "code",
   "execution_count": 23,
   "id": "58439ea9",
   "metadata": {},
   "outputs": [],
   "source": [
    "df['Loan_Amount_Term1'] = np.where(df['Loan_Amount_Term'].between(10, 100, inclusive='neither'), '10-100', '')\n",
    "df['Loan_Amount_Term1'] = np.where(df['Loan_Amount_Term'].between(100, 200, inclusive='neither'), '100-200', df['Loan_Amount_Term1'] )\n",
    "df['Loan_Amount_Term1'] = np.where(df['Loan_Amount_Term'].between(200, 500, inclusive='neither'), '200-500', df['Loan_Amount_Term1'] )"
   ]
  },
  {
   "cell_type": "code",
   "execution_count": 24,
   "id": "9a6a8390",
   "metadata": {},
   "outputs": [
    {
     "data": {
      "text/plain": [
       "array(['200-500', '100-200', '10-100'], dtype=object)"
      ]
     },
     "execution_count": 24,
     "metadata": {},
     "output_type": "execute_result"
    }
   ],
   "source": [
    "df['Loan_Amount_Term1'].unique()"
   ]
  },
  {
   "cell_type": "code",
   "execution_count": 25,
   "id": "eee030c1",
   "metadata": {},
   "outputs": [
    {
     "data": {
      "text/plain": [
       "<AxesSubplot:>"
      ]
     },
     "execution_count": 25,
     "metadata": {},
     "output_type": "execute_result"
    },
    {
     "data": {
      "image/png": "[encoded data removed]",
      "text/plain": [
       "<Figure size 432x288 with 1 Axes>"
      ]
     },
     "metadata": {
      "needs_background": "light"
     },
     "output_type": "display_data"
    }
   ],
   "source": [
    "df['ApplicantIncome'].hist()"
   ]
  },
  {
   "cell_type": "code",
   "execution_count": 26,
   "id": "d7d2e475",
   "metadata": {},
   "outputs": [
    {
     "data": {
      "text/plain": [
       "mean       5299.533461\n",
       "max       81000.000000\n",
       "min         150.000000\n",
       "median     3858.000000\n",
       "Name: ApplicantIncome, dtype: float64"
      ]
     },
     "execution_count": 26,
     "metadata": {},
     "output_type": "execute_result"
    }
   ],
   "source": [
    "df['ApplicantIncome'].agg(['mean', 'max', 'min', 'median'])"
   ]
  },
  {
   "cell_type": "code",
   "execution_count": 27,
   "id": "e39c0f3c",
   "metadata": {},
   "outputs": [
    {
     "data": {
      "text/plain": [
       "mean       1555.581109\n",
       "max       33837.000000\n",
       "min           0.000000\n",
       "median     1086.000000\n",
       "Name: CoapplicantIncome, dtype: float64"
      ]
     },
     "execution_count": 27,
     "metadata": {},
     "output_type": "execute_result"
    }
   ],
   "source": [
    "df['CoapplicantIncome'].agg(['mean', 'max', 'min', 'median'])"
   ]
  },
  {
   "cell_type": "code",
   "execution_count": 28,
   "id": "51a7343a",
   "metadata": {},
   "outputs": [],
   "source": [
    "df['LoanAmount'] = df['LoanAmount'].round(2)"
   ]
  },
  {
   "cell_type": "code",
   "execution_count": 29,
   "id": "2753e523",
   "metadata": {},
   "outputs": [
    {
     "data": {
      "text/plain": [
       "(523, 14)"
      ]
     },
     "execution_count": 29,
     "metadata": {},
     "output_type": "execute_result"
    }
   ],
   "source": [
    "df.shape"
   ]
  },
  {
   "cell_type": "code",
   "execution_count": 30,
   "id": "ad5b7148",
   "metadata": {},
   "outputs": [],
   "source": [
    "PERSON_ID = df['Loan_ID'] # after droping some rows..."
   ]
  },
  {
   "cell_type": "code",
   "execution_count": 31,
   "id": "8dee2ea7",
   "metadata": {},
   "outputs": [],
   "source": [
    "df.drop('Loan_ID', axis=1, inplace=True)"
   ]
  },
  {
   "cell_type": "code",
   "execution_count": 32,
   "id": "46e67c93",
   "metadata": {},
   "outputs": [
    {
     "data": {
      "text/html": [
       "<div>\n",
       "<style scoped>\n",
       "    .dataframe tbody tr th:only-of-type {\n",
       "        vertical-align: middle;\n",
       "    }\n",
       "\n",
       "    .dataframe tbody tr th {\n",
       "        vertical-align: top;\n",
       "    }\n",
       "\n",
       "    .dataframe thead th {\n",
       "        text-align: right;\n",
       "    }\n",
       "</style>\n",
       "<table border=\"1\" class=\"dataframe\">\n",
       "  <thead>\n",
       "    <tr style=\"text-align: right;\">\n",
       "      <th></th>\n",
       "      <th>Gender</th>\n",
       "      <th>Married</th>\n",
       "      <th>Dependents</th>\n",
       "      <th>Education</th>\n",
       "      <th>Self_Employed</th>\n",
       "      <th>ApplicantIncome</th>\n",
       "      <th>CoapplicantIncome</th>\n",
       "      <th>LoanAmount</th>\n",
       "      <th>Loan_Amount_Term</th>\n",
       "      <th>Credit_History</th>\n",
       "      <th>Property_Area</th>\n",
       "      <th>Loan_Status</th>\n",
       "      <th>Loan_Amount_Term1</th>\n",
       "    </tr>\n",
       "  </thead>\n",
       "  <tbody>\n",
       "    <tr>\n",
       "      <th>0</th>\n",
       "      <td>Male</td>\n",
       "      <td>No</td>\n",
       "      <td>0</td>\n",
       "      <td>Graduate</td>\n",
       "      <td>No</td>\n",
       "      <td>5849</td>\n",
       "      <td>0.0</td>\n",
       "      <td>146.41</td>\n",
       "      <td>360.0</td>\n",
       "      <td>1.0</td>\n",
       "      <td>Urban</td>\n",
       "      <td>Y</td>\n",
       "      <td>200-500</td>\n",
       "    </tr>\n",
       "    <tr>\n",
       "      <th>1</th>\n",
       "      <td>Male</td>\n",
       "      <td>Yes</td>\n",
       "      <td>1</td>\n",
       "      <td>Graduate</td>\n",
       "      <td>No</td>\n",
       "      <td>4583</td>\n",
       "      <td>1508.0</td>\n",
       "      <td>128.00</td>\n",
       "      <td>360.0</td>\n",
       "      <td>1.0</td>\n",
       "      <td>Rural</td>\n",
       "      <td>N</td>\n",
       "      <td>200-500</td>\n",
       "    </tr>\n",
       "    <tr>\n",
       "      <th>2</th>\n",
       "      <td>Male</td>\n",
       "      <td>Yes</td>\n",
       "      <td>0</td>\n",
       "      <td>Graduate</td>\n",
       "      <td>Yes</td>\n",
       "      <td>3000</td>\n",
       "      <td>0.0</td>\n",
       "      <td>66.00</td>\n",
       "      <td>360.0</td>\n",
       "      <td>1.0</td>\n",
       "      <td>Urban</td>\n",
       "      <td>Y</td>\n",
       "      <td>200-500</td>\n",
       "    </tr>\n",
       "    <tr>\n",
       "      <th>3</th>\n",
       "      <td>Male</td>\n",
       "      <td>Yes</td>\n",
       "      <td>0</td>\n",
       "      <td>Not Graduate</td>\n",
       "      <td>No</td>\n",
       "      <td>2583</td>\n",
       "      <td>2358.0</td>\n",
       "      <td>120.00</td>\n",
       "      <td>360.0</td>\n",
       "      <td>1.0</td>\n",
       "      <td>Urban</td>\n",
       "      <td>Y</td>\n",
       "      <td>200-500</td>\n",
       "    </tr>\n",
       "    <tr>\n",
       "      <th>4</th>\n",
       "      <td>Male</td>\n",
       "      <td>No</td>\n",
       "      <td>0</td>\n",
       "      <td>Graduate</td>\n",
       "      <td>No</td>\n",
       "      <td>6000</td>\n",
       "      <td>0.0</td>\n",
       "      <td>141.00</td>\n",
       "      <td>360.0</td>\n",
       "      <td>1.0</td>\n",
       "      <td>Urban</td>\n",
       "      <td>Y</td>\n",
       "      <td>200-500</td>\n",
       "    </tr>\n",
       "  </tbody>\n",
       "</table>\n",
       "</div>"
      ],
      "text/plain": [
       "  Gender Married Dependents     Education Self_Employed  ApplicantIncome  \\\n",
       "0   Male      No          0      Graduate            No             5849   \n",
       "1   Male     Yes          1      Graduate            No             4583   \n",
       "2   Male     Yes          0      Graduate           Yes             3000   \n",
       "3   Male     Yes          0  Not Graduate            No             2583   \n",
       "4   Male      No          0      Graduate            No             6000   \n",
       "\n",
       "   CoapplicantIncome  LoanAmount  Loan_Amount_Term  Credit_History  \\\n",
       "0                0.0      146.41             360.0             1.0   \n",
       "1             1508.0      128.00             360.0             1.0   \n",
       "2                0.0       66.00             360.0             1.0   \n",
       "3             2358.0      120.00             360.0             1.0   \n",
       "4                0.0      141.00             360.0             1.0   \n",
       "\n",
       "  Property_Area Loan_Status Loan_Amount_Term1  \n",
       "0         Urban           Y           200-500  \n",
       "1         Rural           N           200-500  \n",
       "2         Urban           Y           200-500  \n",
       "3         Urban           Y           200-500  \n",
       "4         Urban           Y           200-500  "
      ]
     },
     "execution_count": 32,
     "metadata": {},
     "output_type": "execute_result"
    }
   ],
   "source": [
    "df.head()"
   ]
  },
  {
   "cell_type": "code",
   "execution_count": 33,
   "id": "b42f32e6",
   "metadata": {},
   "outputs": [
    {
     "name": "stdout",
     "output_type": "stream",
     "text": [
      "(523, 8)\n",
      "(523, 5)\n"
     ]
    }
   ],
   "source": [
    "print(categorical_columns.shape)\n",
    "print(numeric_columns.shape)"
   ]
  },
  {
   "cell_type": "code",
   "execution_count": 34,
   "id": "25dfc590",
   "metadata": {},
   "outputs": [
    {
     "data": {
      "image/png": "[encoded data removed]",
      "text/plain": [
       "<Figure size 864x360 with 4 Axes>"
      ]
     },
     "metadata": {
      "needs_background": "light"
     },
     "output_type": "display_data"
    }
   ],
   "source": [
    "# after feature engineering\n",
    "f1 = plt.figure(figsize= (12, 5))\n",
    "for index, col in enumerate(numeric_columns.columns[:-1]):\n",
    "    \n",
    "    plt.subplot(2, 3, index+1)\n",
    "    plt.tight_layout()\n",
    "    plt.hist(df[col])\n",
    "    plt.title(col)"
   ]
  },
  {
   "cell_type": "code",
   "execution_count": 35,
   "id": "0cc0c520",
   "metadata": {},
   "outputs": [
    {
     "data": {
      "image/png": "[encoded data removed]",
      "text/plain": [
       "<Figure size 864x720 with 5 Axes>"
      ]
     },
     "metadata": {
      "needs_background": "light"
     },
     "output_type": "display_data"
    }
   ],
   "source": [
    "f2 = plt.figure(figsize= (12, 10))\n",
    "for index, col in enumerate(categorical_columns.columns[1:-2]):\n",
    "    \n",
    "    plt.subplot(5  , 4, index+1)\n",
    "    plt.tight_layout()\n",
    "    sns.countplot(y = df[col])\n",
    "    plt.title(col)\n",
    "    "
   ]
  },
  {
   "cell_type": "code",
   "execution_count": 36,
   "id": "31130f72",
   "metadata": {},
   "outputs": [
    {
     "name": "stdout",
     "output_type": "stream",
     "text": [
      "Y    0.674952\n",
      "N    0.325048\n",
      "Name: Loan_Status, dtype: float64\n"
     ]
    },
    {
     "data": {
      "image/png": "[encoded data removed]",
      "text/plain": [
       "<Figure size 432x288 with 1 Axes>"
      ]
     },
     "metadata": {
      "needs_background": "light"
     },
     "output_type": "display_data"
    }
   ],
   "source": [
    "f5= df['Loan_Status'].value_counts(normalize= True).plot(kind='barh')\n",
    "f5.set_title('target', size=18)\n",
    "print(df['Loan_Status'].value_counts(normalize= True))"
   ]
  },
  {
   "cell_type": "code",
   "execution_count": null,
   "id": "d8ee3780",
   "metadata": {},
   "outputs": [],
   "source": []
  },
  {
   "cell_type": "code",
   "execution_count": 37,
   "id": "bcc8195b",
   "metadata": {},
   "outputs": [
    {
     "name": "stdout",
     "output_type": "stream",
     "text": [
      "[    0. 12500. 25000.]\n",
      "[    0.  5000. 10000.]\n"
     ]
    }
   ],
   "source": [
    "print(np.linspace(0, 25000, 3))\n",
    "print(np.linspace(0, 10000, 3))"
   ]
  },
  {
   "cell_type": "code",
   "execution_count": 38,
   "id": "51a9af58",
   "metadata": {},
   "outputs": [],
   "source": [
    "#we therefore create bins for income\n",
    "bins= [     0., 12500., 25000., np.inf]\n",
    "labels = ['0-12.5K','12.5K-25K','25K+']\n",
    "df['app_income_cut'] =pd.cut(df['ApplicantIncome'], bins = bins, labels=labels)\n",
    "\n",
    "\n",
    "\n",
    "bins2= [  -1., 5000., 10000., np.inf]\n",
    "labels2 = ['0-5K','5K-10K','10K+']\n",
    "df['coapp_income_cut'] =pd.cut(df['CoapplicantIncome'], bins = bins2, labels=labels2)"
   ]
  },
  {
   "cell_type": "code",
   "execution_count": 39,
   "id": "28831cbe",
   "metadata": {},
   "outputs": [
    {
     "data": {
      "text/html": [
       "<div>\n",
       "<style scoped>\n",
       "    .dataframe tbody tr th:only-of-type {\n",
       "        vertical-align: middle;\n",
       "    }\n",
       "\n",
       "    .dataframe tbody tr th {\n",
       "        vertical-align: top;\n",
       "    }\n",
       "\n",
       "    .dataframe thead th {\n",
       "        text-align: right;\n",
       "    }\n",
       "</style>\n",
       "<table border=\"1\" class=\"dataframe\">\n",
       "  <thead>\n",
       "    <tr style=\"text-align: right;\">\n",
       "      <th></th>\n",
       "      <th>Gender</th>\n",
       "      <th>Married</th>\n",
       "      <th>Dependents</th>\n",
       "      <th>Education</th>\n",
       "      <th>Self_Employed</th>\n",
       "      <th>ApplicantIncome</th>\n",
       "      <th>CoapplicantIncome</th>\n",
       "      <th>LoanAmount</th>\n",
       "      <th>Loan_Amount_Term</th>\n",
       "      <th>Credit_History</th>\n",
       "      <th>Property_Area</th>\n",
       "      <th>Loan_Status</th>\n",
       "      <th>Loan_Amount_Term1</th>\n",
       "      <th>app_income_cut</th>\n",
       "      <th>coapp_income_cut</th>\n",
       "    </tr>\n",
       "  </thead>\n",
       "  <tbody>\n",
       "    <tr>\n",
       "      <th>0</th>\n",
       "      <td>Male</td>\n",
       "      <td>No</td>\n",
       "      <td>0</td>\n",
       "      <td>Graduate</td>\n",
       "      <td>No</td>\n",
       "      <td>5849</td>\n",
       "      <td>0.0</td>\n",
       "      <td>146.41</td>\n",
       "      <td>360.0</td>\n",
       "      <td>1.0</td>\n",
       "      <td>Urban</td>\n",
       "      <td>Y</td>\n",
       "      <td>200-500</td>\n",
       "      <td>0-12.5K</td>\n",
       "      <td>0-5K</td>\n",
       "    </tr>\n",
       "    <tr>\n",
       "      <th>1</th>\n",
       "      <td>Male</td>\n",
       "      <td>Yes</td>\n",
       "      <td>1</td>\n",
       "      <td>Graduate</td>\n",
       "      <td>No</td>\n",
       "      <td>4583</td>\n",
       "      <td>1508.0</td>\n",
       "      <td>128.00</td>\n",
       "      <td>360.0</td>\n",
       "      <td>1.0</td>\n",
       "      <td>Rural</td>\n",
       "      <td>N</td>\n",
       "      <td>200-500</td>\n",
       "      <td>0-12.5K</td>\n",
       "      <td>0-5K</td>\n",
       "    </tr>\n",
       "    <tr>\n",
       "      <th>2</th>\n",
       "      <td>Male</td>\n",
       "      <td>Yes</td>\n",
       "      <td>0</td>\n",
       "      <td>Graduate</td>\n",
       "      <td>Yes</td>\n",
       "      <td>3000</td>\n",
       "      <td>0.0</td>\n",
       "      <td>66.00</td>\n",
       "      <td>360.0</td>\n",
       "      <td>1.0</td>\n",
       "      <td>Urban</td>\n",
       "      <td>Y</td>\n",
       "      <td>200-500</td>\n",
       "      <td>0-12.5K</td>\n",
       "      <td>0-5K</td>\n",
       "    </tr>\n",
       "    <tr>\n",
       "      <th>3</th>\n",
       "      <td>Male</td>\n",
       "      <td>Yes</td>\n",
       "      <td>0</td>\n",
       "      <td>Not Graduate</td>\n",
       "      <td>No</td>\n",
       "      <td>2583</td>\n",
       "      <td>2358.0</td>\n",
       "      <td>120.00</td>\n",
       "      <td>360.0</td>\n",
       "      <td>1.0</td>\n",
       "      <td>Urban</td>\n",
       "      <td>Y</td>\n",
       "      <td>200-500</td>\n",
       "      <td>0-12.5K</td>\n",
       "      <td>0-5K</td>\n",
       "    </tr>\n",
       "    <tr>\n",
       "      <th>4</th>\n",
       "      <td>Male</td>\n",
       "      <td>No</td>\n",
       "      <td>0</td>\n",
       "      <td>Graduate</td>\n",
       "      <td>No</td>\n",
       "      <td>6000</td>\n",
       "      <td>0.0</td>\n",
       "      <td>141.00</td>\n",
       "      <td>360.0</td>\n",
       "      <td>1.0</td>\n",
       "      <td>Urban</td>\n",
       "      <td>Y</td>\n",
       "      <td>200-500</td>\n",
       "      <td>0-12.5K</td>\n",
       "      <td>0-5K</td>\n",
       "    </tr>\n",
       "  </tbody>\n",
       "</table>\n",
       "</div>"
      ],
      "text/plain": [
       "  Gender Married Dependents     Education Self_Employed  ApplicantIncome  \\\n",
       "0   Male      No          0      Graduate            No             5849   \n",
       "1   Male     Yes          1      Graduate            No             4583   \n",
       "2   Male     Yes          0      Graduate           Yes             3000   \n",
       "3   Male     Yes          0  Not Graduate            No             2583   \n",
       "4   Male      No          0      Graduate            No             6000   \n",
       "\n",
       "   CoapplicantIncome  LoanAmount  Loan_Amount_Term  Credit_History  \\\n",
       "0                0.0      146.41             360.0             1.0   \n",
       "1             1508.0      128.00             360.0             1.0   \n",
       "2                0.0       66.00             360.0             1.0   \n",
       "3             2358.0      120.00             360.0             1.0   \n",
       "4                0.0      141.00             360.0             1.0   \n",
       "\n",
       "  Property_Area Loan_Status Loan_Amount_Term1 app_income_cut coapp_income_cut  \n",
       "0         Urban           Y           200-500        0-12.5K             0-5K  \n",
       "1         Rural           N           200-500        0-12.5K             0-5K  \n",
       "2         Urban           Y           200-500        0-12.5K             0-5K  \n",
       "3         Urban           Y           200-500        0-12.5K             0-5K  \n",
       "4         Urban           Y           200-500        0-12.5K             0-5K  "
      ]
     },
     "execution_count": 39,
     "metadata": {},
     "output_type": "execute_result"
    }
   ],
   "source": [
    "df.head()"
   ]
  },
  {
   "cell_type": "code",
   "execution_count": 40,
   "id": "16e4acf0",
   "metadata": {},
   "outputs": [
    {
     "data": {
      "text/plain": [
       "Text(0.5, 1.0, 'loan amount term')"
      ]
     },
     "execution_count": 40,
     "metadata": {},
     "output_type": "execute_result"
    },
    {
     "data": {
      "image/png": "[encoded data removed]",
      "text/plain": [
       "<Figure size 432x288 with 1 Axes>"
      ]
     },
     "metadata": {
      "needs_background": "light"
     },
     "output_type": "display_data"
    }
   ],
   "source": [
    "df['Loan_Amount_Term1'].value_counts().plot(kind='barh').set_title('loan amount term', size=18)"
   ]
  },
  {
   "cell_type": "code",
   "execution_count": 41,
   "id": "e6d7df9e",
   "metadata": {},
   "outputs": [
    {
     "data": {
      "text/plain": [
       "Text(0.5, 1.0, 'applcation amount-bins')"
      ]
     },
     "execution_count": 41,
     "metadata": {},
     "output_type": "execute_result"
    },
    {
     "data": {
      "image/png": "[encoded data removed]",
      "text/plain": [
       "<Figure size 432x288 with 1 Axes>"
      ]
     },
     "metadata": {
      "needs_background": "light"
     },
     "output_type": "display_data"
    }
   ],
   "source": [
    "df['app_income_cut'].value_counts().plot(kind='bar').set_title('applcation amount-bins',size=18)"
   ]
  },
  {
   "cell_type": "code",
   "execution_count": 42,
   "id": "ee12fa85",
   "metadata": {},
   "outputs": [
    {
     "data": {
      "text/plain": [
       "['0-12.5K', '12.5K-25K', '25K+']\n",
       "Categories (3, object): ['0-12.5K' < '12.5K-25K' < '25K+']"
      ]
     },
     "execution_count": 42,
     "metadata": {},
     "output_type": "execute_result"
    }
   ],
   "source": [
    "df['app_income_cut'].unique()"
   ]
  },
  {
   "cell_type": "code",
   "execution_count": 43,
   "id": "09d23cbe",
   "metadata": {},
   "outputs": [
    {
     "data": {
      "text/plain": [
       "Text(0.5, 1.0, 'coapplicant amount- bins')"
      ]
     },
     "execution_count": 43,
     "metadata": {},
     "output_type": "execute_result"
    },
    {
     "data": {
      "image/png": "[encoded data removed]",
      "text/plain": [
       "<Figure size 432x288 with 1 Axes>"
      ]
     },
     "metadata": {
      "needs_background": "light"
     },
     "output_type": "display_data"
    }
   ],
   "source": [
    "df['coapp_income_cut'].value_counts().plot(kind='bar').set_title('coapplicant amount- bins', size=18)"
   ]
  },
  {
   "cell_type": "code",
   "execution_count": 44,
   "id": "dde70d77",
   "metadata": {},
   "outputs": [
    {
     "data": {
      "text/plain": [
       "['0-5K', '10K+', '5K-10K']\n",
       "Categories (3, object): ['0-5K' < '5K-10K' < '10K+']"
      ]
     },
     "execution_count": 44,
     "metadata": {},
     "output_type": "execute_result"
    }
   ],
   "source": [
    "df['coapp_income_cut'].unique()"
   ]
  },
  {
   "cell_type": "code",
   "execution_count": 45,
   "id": "9cc71106",
   "metadata": {},
   "outputs": [
    {
     "data": {
      "text/plain": [
       "Gender               0\n",
       "Married              0\n",
       "Dependents           0\n",
       "Education            0\n",
       "Self_Employed        0\n",
       "ApplicantIncome      0\n",
       "CoapplicantIncome    0\n",
       "LoanAmount           0\n",
       "Loan_Amount_Term     0\n",
       "Credit_History       0\n",
       "Property_Area        0\n",
       "Loan_Status          0\n",
       "Loan_Amount_Term1    0\n",
       "app_income_cut       0\n",
       "coapp_income_cut     0\n",
       "dtype: int64"
      ]
     },
     "execution_count": 45,
     "metadata": {},
     "output_type": "execute_result"
    }
   ],
   "source": [
    "# check again if there are any missing values\n",
    "df.isnull().sum()"
   ]
  },
  {
   "cell_type": "code",
   "execution_count": null,
   "id": "f13fc2c2",
   "metadata": {},
   "outputs": [],
   "source": []
  },
  {
   "cell_type": "markdown",
   "id": "9e816e6e",
   "metadata": {},
   "source": [
    "## MODEL BUILDING "
   ]
  },
  {
   "cell_type": "code",
   "execution_count": 46,
   "id": "e8abd58d",
   "metadata": {},
   "outputs": [],
   "source": [
    "# Classification algorithms\n",
    "from sklearn.tree import DecisionTreeClassifier\n",
    "from sklearn.ensemble import RandomForestClassifier\n",
    "from sklearn.linear_model import LogisticRegression\n",
    "\n",
    "# to handle imbalance classes\n",
    "from imblearn.over_sampling import SMOTE\n",
    "from imblearn.under_sampling import RandomUnderSampler\n",
    "from imblearn.pipeline import Pipeline as bPipeline\n",
    "\n",
    "# handles evaluation processes\n",
    "from yellowbrick.model_selection import LearningCurve \n",
    "\n",
    "from sklearn.metrics import f1_score, classification_report, confusion_matrix, roc_curve, roc_auc_score\n",
    "from sklearn.model_selection import train_test_split, cross_val_score, KFold, GridSearchCV\n",
    "from sklearn.feature_selection import SelectKBest, SelectFromModel, chi2\n",
    "\n",
    "# for pipeline and transformations\n",
    "from sklearn.pipeline import Pipeline\n",
    "from sklearn.compose import ColumnTransformer\n",
    "from sklearn.preprocessing import LabelEncoder, OneHotEncoder, OrdinalEncoder, MinMaxScaler, StandardScaler\n",
    "\n",
    "# feature selection\n",
    "import eli5\n",
    "# serialize objects\n",
    "import pickle\n",
    "from joblib import dump, load"
   ]
  },
  {
   "cell_type": "code",
   "execution_count": 47,
   "id": "847edf80",
   "metadata": {},
   "outputs": [],
   "source": [
    "df['Loan_StatusNum'] = LabelEncoder().fit_transform(df['Loan_Status'])"
   ]
  },
  {
   "cell_type": "code",
   "execution_count": 48,
   "id": "f43489a5",
   "metadata": {},
   "outputs": [
    {
     "data": {
      "text/html": [
       "<div>\n",
       "<style scoped>\n",
       "    .dataframe tbody tr th:only-of-type {\n",
       "        vertical-align: middle;\n",
       "    }\n",
       "\n",
       "    .dataframe tbody tr th {\n",
       "        vertical-align: top;\n",
       "    }\n",
       "\n",
       "    .dataframe thead th {\n",
       "        text-align: right;\n",
       "    }\n",
       "</style>\n",
       "<table border=\"1\" class=\"dataframe\">\n",
       "  <thead>\n",
       "    <tr style=\"text-align: right;\">\n",
       "      <th></th>\n",
       "      <th>Gender</th>\n",
       "      <th>Married</th>\n",
       "      <th>Dependents</th>\n",
       "      <th>Education</th>\n",
       "      <th>Self_Employed</th>\n",
       "      <th>ApplicantIncome</th>\n",
       "      <th>CoapplicantIncome</th>\n",
       "      <th>LoanAmount</th>\n",
       "      <th>Loan_Amount_Term</th>\n",
       "      <th>Credit_History</th>\n",
       "      <th>Property_Area</th>\n",
       "      <th>Loan_Status</th>\n",
       "      <th>Loan_Amount_Term1</th>\n",
       "      <th>app_income_cut</th>\n",
       "      <th>coapp_income_cut</th>\n",
       "      <th>Loan_StatusNum</th>\n",
       "    </tr>\n",
       "  </thead>\n",
       "  <tbody>\n",
       "    <tr>\n",
       "      <th>0</th>\n",
       "      <td>Male</td>\n",
       "      <td>No</td>\n",
       "      <td>0</td>\n",
       "      <td>Graduate</td>\n",
       "      <td>No</td>\n",
       "      <td>5849</td>\n",
       "      <td>0.0</td>\n",
       "      <td>146.41</td>\n",
       "      <td>360.0</td>\n",
       "      <td>1.0</td>\n",
       "      <td>Urban</td>\n",
       "      <td>Y</td>\n",
       "      <td>200-500</td>\n",
       "      <td>0-12.5K</td>\n",
       "      <td>0-5K</td>\n",
       "      <td>1</td>\n",
       "    </tr>\n",
       "    <tr>\n",
       "      <th>1</th>\n",
       "      <td>Male</td>\n",
       "      <td>Yes</td>\n",
       "      <td>1</td>\n",
       "      <td>Graduate</td>\n",
       "      <td>No</td>\n",
       "      <td>4583</td>\n",
       "      <td>1508.0</td>\n",
       "      <td>128.00</td>\n",
       "      <td>360.0</td>\n",
       "      <td>1.0</td>\n",
       "      <td>Rural</td>\n",
       "      <td>N</td>\n",
       "      <td>200-500</td>\n",
       "      <td>0-12.5K</td>\n",
       "      <td>0-5K</td>\n",
       "      <td>0</td>\n",
       "    </tr>\n",
       "    <tr>\n",
       "      <th>2</th>\n",
       "      <td>Male</td>\n",
       "      <td>Yes</td>\n",
       "      <td>0</td>\n",
       "      <td>Graduate</td>\n",
       "      <td>Yes</td>\n",
       "      <td>3000</td>\n",
       "      <td>0.0</td>\n",
       "      <td>66.00</td>\n",
       "      <td>360.0</td>\n",
       "      <td>1.0</td>\n",
       "      <td>Urban</td>\n",
       "      <td>Y</td>\n",
       "      <td>200-500</td>\n",
       "      <td>0-12.5K</td>\n",
       "      <td>0-5K</td>\n",
       "      <td>1</td>\n",
       "    </tr>\n",
       "    <tr>\n",
       "      <th>3</th>\n",
       "      <td>Male</td>\n",
       "      <td>Yes</td>\n",
       "      <td>0</td>\n",
       "      <td>Not Graduate</td>\n",
       "      <td>No</td>\n",
       "      <td>2583</td>\n",
       "      <td>2358.0</td>\n",
       "      <td>120.00</td>\n",
       "      <td>360.0</td>\n",
       "      <td>1.0</td>\n",
       "      <td>Urban</td>\n",
       "      <td>Y</td>\n",
       "      <td>200-500</td>\n",
       "      <td>0-12.5K</td>\n",
       "      <td>0-5K</td>\n",
       "      <td>1</td>\n",
       "    </tr>\n",
       "    <tr>\n",
       "      <th>4</th>\n",
       "      <td>Male</td>\n",
       "      <td>No</td>\n",
       "      <td>0</td>\n",
       "      <td>Graduate</td>\n",
       "      <td>No</td>\n",
       "      <td>6000</td>\n",
       "      <td>0.0</td>\n",
       "      <td>141.00</td>\n",
       "      <td>360.0</td>\n",
       "      <td>1.0</td>\n",
       "      <td>Urban</td>\n",
       "      <td>Y</td>\n",
       "      <td>200-500</td>\n",
       "      <td>0-12.5K</td>\n",
       "      <td>0-5K</td>\n",
       "      <td>1</td>\n",
       "    </tr>\n",
       "  </tbody>\n",
       "</table>\n",
       "</div>"
      ],
      "text/plain": [
       "  Gender Married Dependents     Education Self_Employed  ApplicantIncome  \\\n",
       "0   Male      No          0      Graduate            No             5849   \n",
       "1   Male     Yes          1      Graduate            No             4583   \n",
       "2   Male     Yes          0      Graduate           Yes             3000   \n",
       "3   Male     Yes          0  Not Graduate            No             2583   \n",
       "4   Male      No          0      Graduate            No             6000   \n",
       "\n",
       "   CoapplicantIncome  LoanAmount  Loan_Amount_Term  Credit_History  \\\n",
       "0                0.0      146.41             360.0             1.0   \n",
       "1             1508.0      128.00             360.0             1.0   \n",
       "2                0.0       66.00             360.0             1.0   \n",
       "3             2358.0      120.00             360.0             1.0   \n",
       "4                0.0      141.00             360.0             1.0   \n",
       "\n",
       "  Property_Area Loan_Status Loan_Amount_Term1 app_income_cut coapp_income_cut  \\\n",
       "0         Urban           Y           200-500        0-12.5K             0-5K   \n",
       "1         Rural           N           200-500        0-12.5K             0-5K   \n",
       "2         Urban           Y           200-500        0-12.5K             0-5K   \n",
       "3         Urban           Y           200-500        0-12.5K             0-5K   \n",
       "4         Urban           Y           200-500        0-12.5K             0-5K   \n",
       "\n",
       "   Loan_StatusNum  \n",
       "0               1  \n",
       "1               0  \n",
       "2               1  \n",
       "3               1  \n",
       "4               1  "
      ]
     },
     "execution_count": 48,
     "metadata": {},
     "output_type": "execute_result"
    }
   ],
   "source": [
    "df.head()"
   ]
  },
  {
   "cell_type": "code",
   "execution_count": null,
   "id": "64ca9b89",
   "metadata": {},
   "outputs": [],
   "source": []
  },
  {
   "cell_type": "code",
   "execution_count": 49,
   "id": "193defdb",
   "metadata": {},
   "outputs": [
    {
     "data": {
      "text/plain": [
       "0"
      ]
     },
     "execution_count": 49,
     "metadata": {},
     "output_type": "execute_result"
    }
   ],
   "source": [
    "# taking care of the [credit history] variable\n",
    "df['Credit_History'] = np.where(df['Credit_History'] == 'ffill', np.nan, df['Credit_History'])\n",
    "df['Credit_History'].ffill()\n",
    "df['Credit_History'].isnull().sum()"
   ]
  },
  {
   "cell_type": "code",
   "execution_count": 50,
   "id": "9e3425bd",
   "metadata": {},
   "outputs": [
    {
     "data": {
      "text/plain": [
       "Text(0.5, 1.0, 'credit histtory')"
      ]
     },
     "execution_count": 50,
     "metadata": {},
     "output_type": "execute_result"
    },
    {
     "data": {
      "image/png": "[encoded data removed]",
      "text/plain": [
       "<Figure size 576x396 with 1 Axes>"
      ]
     },
     "metadata": {},
     "output_type": "display_data"
    }
   ],
   "source": [
    "df['Credit_History'].value_counts().plot(kind= 'bar').set_title('credit histtory', size=18)"
   ]
  },
  {
   "cell_type": "code",
   "execution_count": 51,
   "id": "2796859d",
   "metadata": {},
   "outputs": [],
   "source": [
    "# we manually drop some axis that may cause our model to be bias\n",
    "df = df.drop(['Loan_Status', 'Gender', 'Married', 'Loan_Status'], axis=1)"
   ]
  },
  {
   "cell_type": "code",
   "execution_count": 52,
   "id": "cb39b740",
   "metadata": {},
   "outputs": [],
   "source": [
    "df.to_csv('data/final-data.csv') # save the data to disk"
   ]
  },
  {
   "cell_type": "code",
   "execution_count": 53,
   "id": "b905945f",
   "metadata": {},
   "outputs": [],
   "source": [
    "variables = list(df)\n",
    "del variables[-1]"
   ]
  },
  {
   "cell_type": "code",
   "execution_count": 54,
   "id": "c1d0e6dc",
   "metadata": {},
   "outputs": [],
   "source": [
    "X= df.loc[:, variables]\n",
    "y = df['Loan_StatusNum']"
   ]
  },
  {
   "cell_type": "code",
   "execution_count": 55,
   "id": "8701b55b",
   "metadata": {},
   "outputs": [
    {
     "data": {
      "text/html": [
       "<div>\n",
       "<style scoped>\n",
       "    .dataframe tbody tr th:only-of-type {\n",
       "        vertical-align: middle;\n",
       "    }\n",
       "\n",
       "    .dataframe tbody tr th {\n",
       "        vertical-align: top;\n",
       "    }\n",
       "\n",
       "    .dataframe thead th {\n",
       "        text-align: right;\n",
       "    }\n",
       "</style>\n",
       "<table border=\"1\" class=\"dataframe\">\n",
       "  <thead>\n",
       "    <tr style=\"text-align: right;\">\n",
       "      <th></th>\n",
       "      <th>Dependents</th>\n",
       "      <th>Education</th>\n",
       "      <th>Self_Employed</th>\n",
       "      <th>ApplicantIncome</th>\n",
       "      <th>CoapplicantIncome</th>\n",
       "      <th>LoanAmount</th>\n",
       "      <th>Loan_Amount_Term</th>\n",
       "      <th>Credit_History</th>\n",
       "      <th>Property_Area</th>\n",
       "      <th>Loan_Amount_Term1</th>\n",
       "      <th>app_income_cut</th>\n",
       "      <th>coapp_income_cut</th>\n",
       "    </tr>\n",
       "  </thead>\n",
       "  <tbody>\n",
       "    <tr>\n",
       "      <th>0</th>\n",
       "      <td>0</td>\n",
       "      <td>Graduate</td>\n",
       "      <td>No</td>\n",
       "      <td>5849</td>\n",
       "      <td>0.0</td>\n",
       "      <td>146.41</td>\n",
       "      <td>360.0</td>\n",
       "      <td>1.0</td>\n",
       "      <td>Urban</td>\n",
       "      <td>200-500</td>\n",
       "      <td>0-12.5K</td>\n",
       "      <td>0-5K</td>\n",
       "    </tr>\n",
       "    <tr>\n",
       "      <th>1</th>\n",
       "      <td>1</td>\n",
       "      <td>Graduate</td>\n",
       "      <td>No</td>\n",
       "      <td>4583</td>\n",
       "      <td>1508.0</td>\n",
       "      <td>128.00</td>\n",
       "      <td>360.0</td>\n",
       "      <td>1.0</td>\n",
       "      <td>Rural</td>\n",
       "      <td>200-500</td>\n",
       "      <td>0-12.5K</td>\n",
       "      <td>0-5K</td>\n",
       "    </tr>\n",
       "    <tr>\n",
       "      <th>2</th>\n",
       "      <td>0</td>\n",
       "      <td>Graduate</td>\n",
       "      <td>Yes</td>\n",
       "      <td>3000</td>\n",
       "      <td>0.0</td>\n",
       "      <td>66.00</td>\n",
       "      <td>360.0</td>\n",
       "      <td>1.0</td>\n",
       "      <td>Urban</td>\n",
       "      <td>200-500</td>\n",
       "      <td>0-12.5K</td>\n",
       "      <td>0-5K</td>\n",
       "    </tr>\n",
       "    <tr>\n",
       "      <th>3</th>\n",
       "      <td>0</td>\n",
       "      <td>Not Graduate</td>\n",
       "      <td>No</td>\n",
       "      <td>2583</td>\n",
       "      <td>2358.0</td>\n",
       "      <td>120.00</td>\n",
       "      <td>360.0</td>\n",
       "      <td>1.0</td>\n",
       "      <td>Urban</td>\n",
       "      <td>200-500</td>\n",
       "      <td>0-12.5K</td>\n",
       "      <td>0-5K</td>\n",
       "    </tr>\n",
       "    <tr>\n",
       "      <th>4</th>\n",
       "      <td>0</td>\n",
       "      <td>Graduate</td>\n",
       "      <td>No</td>\n",
       "      <td>6000</td>\n",
       "      <td>0.0</td>\n",
       "      <td>141.00</td>\n",
       "      <td>360.0</td>\n",
       "      <td>1.0</td>\n",
       "      <td>Urban</td>\n",
       "      <td>200-500</td>\n",
       "      <td>0-12.5K</td>\n",
       "      <td>0-5K</td>\n",
       "    </tr>\n",
       "  </tbody>\n",
       "</table>\n",
       "</div>"
      ],
      "text/plain": [
       "  Dependents     Education Self_Employed  ApplicantIncome  CoapplicantIncome  \\\n",
       "0          0      Graduate            No             5849                0.0   \n",
       "1          1      Graduate            No             4583             1508.0   \n",
       "2          0      Graduate           Yes             3000                0.0   \n",
       "3          0  Not Graduate            No             2583             2358.0   \n",
       "4          0      Graduate            No             6000                0.0   \n",
       "\n",
       "   LoanAmount  Loan_Amount_Term  Credit_History Property_Area  \\\n",
       "0      146.41             360.0             1.0         Urban   \n",
       "1      128.00             360.0             1.0         Rural   \n",
       "2       66.00             360.0             1.0         Urban   \n",
       "3      120.00             360.0             1.0         Urban   \n",
       "4      141.00             360.0             1.0         Urban   \n",
       "\n",
       "  Loan_Amount_Term1 app_income_cut coapp_income_cut  \n",
       "0           200-500        0-12.5K             0-5K  \n",
       "1           200-500        0-12.5K             0-5K  \n",
       "2           200-500        0-12.5K             0-5K  \n",
       "3           200-500        0-12.5K             0-5K  \n",
       "4           200-500        0-12.5K             0-5K  "
      ]
     },
     "execution_count": 55,
     "metadata": {},
     "output_type": "execute_result"
    }
   ],
   "source": [
    "X.head()"
   ]
  },
  {
   "cell_type": "code",
   "execution_count": 56,
   "id": "1fff48e1",
   "metadata": {},
   "outputs": [
    {
     "data": {
      "text/plain": [
       "0    1\n",
       "1    0\n",
       "2    1\n",
       "3    1\n",
       "Name: Loan_StatusNum, dtype: int32"
      ]
     },
     "execution_count": 56,
     "metadata": {},
     "output_type": "execute_result"
    }
   ],
   "source": [
    "y[:4]"
   ]
  },
  {
   "cell_type": "code",
   "execution_count": 57,
   "id": "eebee9ef",
   "metadata": {},
   "outputs": [
    {
     "data": {
      "text/plain": [
       "(523, 12)"
      ]
     },
     "execution_count": 57,
     "metadata": {},
     "output_type": "execute_result"
    }
   ],
   "source": [
    "X.shape"
   ]
  },
  {
   "cell_type": "code",
   "execution_count": 58,
   "id": "277675eb",
   "metadata": {},
   "outputs": [
    {
     "name": "stdout",
     "output_type": "stream",
     "text": [
      "<class 'pandas.core.frame.DataFrame'>\n",
      "Int64Index: 523 entries, 0 to 613\n",
      "Data columns (total 12 columns):\n",
      " #   Column             Non-Null Count  Dtype   \n",
      "---  ------             --------------  -----   \n",
      " 0   Dependents         523 non-null    object  \n",
      " 1   Education          523 non-null    object  \n",
      " 2   Self_Employed      523 non-null    object  \n",
      " 3   ApplicantIncome    523 non-null    int64   \n",
      " 4   CoapplicantIncome  523 non-null    float64 \n",
      " 5   LoanAmount         523 non-null    float64 \n",
      " 6   Loan_Amount_Term   523 non-null    float64 \n",
      " 7   Credit_History     523 non-null    float64 \n",
      " 8   Property_Area      523 non-null    object  \n",
      " 9   Loan_Amount_Term1  523 non-null    object  \n",
      " 10  app_income_cut     523 non-null    category\n",
      " 11  coapp_income_cut   523 non-null    category\n",
      "dtypes: category(2), float64(4), int64(1), object(5)\n",
      "memory usage: 62.4+ KB\n"
     ]
    }
   ],
   "source": [
    "X.info()"
   ]
  },
  {
   "cell_type": "code",
   "execution_count": 59,
   "id": "22a3114d",
   "metadata": {},
   "outputs": [
    {
     "name": "stdout",
     "output_type": "stream",
     "text": [
      "numeric columns::\n",
      " ['ApplicantIncome', 'CoapplicantIncome', 'LoanAmount', 'Loan_Amount_Term', 'Credit_History']\n",
      "\n",
      "categorical columns::\n",
      " ['Dependents', 'Education', 'Self_Employed', 'Property_Area', 'Loan_Amount_Term1', 'app_income_cut', 'coapp_income_cut']\n"
     ]
    }
   ],
   "source": [
    "categories = list(X.select_dtypes(['object', 'category']))\n",
    "numerics = list(X.select_dtypes('number'))\n",
    "\n",
    "print('numeric columns::\\n',numerics)\n",
    "print()\n",
    "print('categorical columns::\\n',categories)\n"
   ]
  },
  {
   "cell_type": "code",
   "execution_count": 60,
   "id": "880b1898",
   "metadata": {},
   "outputs": [],
   "source": [
    "assert len(X.columns) == len(categories) + len(numerics)"
   ]
  },
  {
   "cell_type": "code",
   "execution_count": 61,
   "id": "c92a4a3e",
   "metadata": {},
   "outputs": [
    {
     "name": "stdout",
     "output_type": "stream",
     "text": [
      "<class 'pandas.core.frame.DataFrame'>\n",
      "Int64Index: 523 entries, 0 to 613\n",
      "Data columns (total 12 columns):\n",
      " #   Column             Non-Null Count  Dtype   \n",
      "---  ------             --------------  -----   \n",
      " 0   Dependents         523 non-null    object  \n",
      " 1   Education          523 non-null    object  \n",
      " 2   Self_Employed      523 non-null    object  \n",
      " 3   ApplicantIncome    523 non-null    int64   \n",
      " 4   CoapplicantIncome  523 non-null    float64 \n",
      " 5   LoanAmount         523 non-null    float64 \n",
      " 6   Loan_Amount_Term   523 non-null    float64 \n",
      " 7   Credit_History     523 non-null    float64 \n",
      " 8   Property_Area      523 non-null    object  \n",
      " 9   Loan_Amount_Term1  523 non-null    object  \n",
      " 10  app_income_cut     523 non-null    category\n",
      " 11  coapp_income_cut   523 non-null    category\n",
      "dtypes: category(2), float64(4), int64(1), object(5)\n",
      "memory usage: 62.4+ KB\n"
     ]
    }
   ],
   "source": [
    "X.info()"
   ]
  },
  {
   "cell_type": "markdown",
   "id": "9a05f277",
   "metadata": {},
   "source": [
    "# INSTANTIATION"
   ]
  },
  {
   "cell_type": "code",
   "execution_count": 62,
   "id": "85f46daf",
   "metadata": {},
   "outputs": [],
   "source": [
    "# instantiate the endcoders, transfromers and the clasifiers\n",
    "ohe= OneHotEncoder()\n",
    "le = LabelEncoder()\n",
    "minmax= MinMaxScaler()\n",
    "sc = StandardScaler()\n",
    "smote = SMOTE()\n",
    "under = RandomUnderSampler()\n",
    "\n",
    "clf1 = DecisionTreeClassifier(max_depth=20, max_features=3)\n",
    "clf2  =RandomForestClassifier(max_depth=15, max_features=10, class_weight='balanced', max_samples=20)\n",
    "clf3 = LogisticRegression(C= 10, max_iter=100, class_weight='balance', tol=0.01)"
   ]
  },
  {
   "cell_type": "code",
   "execution_count": 63,
   "id": "27e0a8fd",
   "metadata": {},
   "outputs": [],
   "source": [
    "X_train, X_test, y_train, y_test = train_test_split(X, y,  random_state=12,  stratify=y)"
   ]
  },
  {
   "cell_type": "code",
   "execution_count": 64,
   "id": "3ded74db",
   "metadata": {},
   "outputs": [
    {
     "data": {
      "text/html": [
       "<div>\n",
       "<style scoped>\n",
       "    .dataframe tbody tr th:only-of-type {\n",
       "        vertical-align: middle;\n",
       "    }\n",
       "\n",
       "    .dataframe tbody tr th {\n",
       "        vertical-align: top;\n",
       "    }\n",
       "\n",
       "    .dataframe thead th {\n",
       "        text-align: right;\n",
       "    }\n",
       "</style>\n",
       "<table border=\"1\" class=\"dataframe\">\n",
       "  <thead>\n",
       "    <tr style=\"text-align: right;\">\n",
       "      <th></th>\n",
       "      <th>Dependents</th>\n",
       "      <th>Education</th>\n",
       "      <th>Self_Employed</th>\n",
       "      <th>ApplicantIncome</th>\n",
       "      <th>CoapplicantIncome</th>\n",
       "      <th>LoanAmount</th>\n",
       "      <th>Loan_Amount_Term</th>\n",
       "      <th>Credit_History</th>\n",
       "      <th>Property_Area</th>\n",
       "      <th>Loan_Amount_Term1</th>\n",
       "      <th>app_income_cut</th>\n",
       "      <th>coapp_income_cut</th>\n",
       "    </tr>\n",
       "  </thead>\n",
       "  <tbody>\n",
       "    <tr>\n",
       "      <th>90</th>\n",
       "      <td>0</td>\n",
       "      <td>Graduate</td>\n",
       "      <td>No</td>\n",
       "      <td>2958</td>\n",
       "      <td>2900.0</td>\n",
       "      <td>131.0</td>\n",
       "      <td>360.0</td>\n",
       "      <td>1.0</td>\n",
       "      <td>Semiurban</td>\n",
       "      <td>200-500</td>\n",
       "      <td>0-12.5K</td>\n",
       "      <td>0-5K</td>\n",
       "    </tr>\n",
       "    <tr>\n",
       "      <th>563</th>\n",
       "      <td>0</td>\n",
       "      <td>Not Graduate</td>\n",
       "      <td>Yes</td>\n",
       "      <td>5800</td>\n",
       "      <td>0.0</td>\n",
       "      <td>132.0</td>\n",
       "      <td>360.0</td>\n",
       "      <td>1.0</td>\n",
       "      <td>Semiurban</td>\n",
       "      <td>200-500</td>\n",
       "      <td>0-12.5K</td>\n",
       "      <td>0-5K</td>\n",
       "    </tr>\n",
       "    <tr>\n",
       "      <th>78</th>\n",
       "      <td>3+</td>\n",
       "      <td>Graduate</td>\n",
       "      <td>No</td>\n",
       "      <td>3167</td>\n",
       "      <td>4000.0</td>\n",
       "      <td>180.0</td>\n",
       "      <td>300.0</td>\n",
       "      <td>0.0</td>\n",
       "      <td>Semiurban</td>\n",
       "      <td>200-500</td>\n",
       "      <td>0-12.5K</td>\n",
       "      <td>0-5K</td>\n",
       "    </tr>\n",
       "    <tr>\n",
       "      <th>297</th>\n",
       "      <td>1</td>\n",
       "      <td>Graduate</td>\n",
       "      <td>No</td>\n",
       "      <td>4666</td>\n",
       "      <td>0.0</td>\n",
       "      <td>135.0</td>\n",
       "      <td>360.0</td>\n",
       "      <td>1.0</td>\n",
       "      <td>Urban</td>\n",
       "      <td>200-500</td>\n",
       "      <td>0-12.5K</td>\n",
       "      <td>0-5K</td>\n",
       "    </tr>\n",
       "    <tr>\n",
       "      <th>224</th>\n",
       "      <td>0</td>\n",
       "      <td>Graduate</td>\n",
       "      <td>No</td>\n",
       "      <td>6250</td>\n",
       "      <td>0.0</td>\n",
       "      <td>128.0</td>\n",
       "      <td>360.0</td>\n",
       "      <td>1.0</td>\n",
       "      <td>Semiurban</td>\n",
       "      <td>200-500</td>\n",
       "      <td>0-12.5K</td>\n",
       "      <td>0-5K</td>\n",
       "    </tr>\n",
       "  </tbody>\n",
       "</table>\n",
       "</div>"
      ],
      "text/plain": [
       "    Dependents     Education Self_Employed  ApplicantIncome  \\\n",
       "90           0      Graduate            No             2958   \n",
       "563          0  Not Graduate           Yes             5800   \n",
       "78          3+      Graduate            No             3167   \n",
       "297          1      Graduate            No             4666   \n",
       "224          0      Graduate            No             6250   \n",
       "\n",
       "     CoapplicantIncome  LoanAmount  Loan_Amount_Term  Credit_History  \\\n",
       "90              2900.0       131.0             360.0             1.0   \n",
       "563                0.0       132.0             360.0             1.0   \n",
       "78              4000.0       180.0             300.0             0.0   \n",
       "297                0.0       135.0             360.0             1.0   \n",
       "224                0.0       128.0             360.0             1.0   \n",
       "\n",
       "    Property_Area Loan_Amount_Term1 app_income_cut coapp_income_cut  \n",
       "90      Semiurban           200-500        0-12.5K             0-5K  \n",
       "563     Semiurban           200-500        0-12.5K             0-5K  \n",
       "78      Semiurban           200-500        0-12.5K             0-5K  \n",
       "297         Urban           200-500        0-12.5K             0-5K  \n",
       "224     Semiurban           200-500        0-12.5K             0-5K  "
      ]
     },
     "execution_count": 64,
     "metadata": {},
     "output_type": "execute_result"
    }
   ],
   "source": [
    "X_train.head()"
   ]
  },
  {
   "cell_type": "code",
   "execution_count": null,
   "id": "64465c3e",
   "metadata": {},
   "outputs": [],
   "source": []
  },
  {
   "cell_type": "code",
   "execution_count": null,
   "id": "e58290b9",
   "metadata": {},
   "outputs": [],
   "source": []
  },
  {
   "cell_type": "markdown",
   "id": "53513c98",
   "metadata": {},
   "source": [
    "# FITTING THE DATA WITH DIFFERENT CLASSIFICATION ALGORITHMS\n",
    "### Using One-Hot Encoder for the categorical variables"
   ]
  },
  {
   "cell_type": "code",
   "execution_count": 118,
   "id": "0de156d2",
   "metadata": {},
   "outputs": [],
   "source": [
    "# Initializing algorithms and pipelines\n",
    "# NB: In this notebook we will use the following assignments for various models..\n",
    "# model1 and model01 - decision tree clasifier\n",
    "# model2 and modelo2 - random forest classifier\n",
    "# model3 and model03 - logistic regression classifier\n",
    "\n",
    "\n",
    "\n",
    "###########################\n",
    "#DECISION TREE CLASSIFIER\n",
    "########################\n",
    "transformer = ColumnTransformer([('one hot', ohe, categories), ('norm', sc, numerics)])\n",
    "model1 = bPipeline([('col transf', transformer), ('smote', smote), ('classifier', clf1)])\n",
    "model1.fit(X_train, y_train)\n",
    "\n",
    "ypred1= model1.predict(X_test)\n",
    "ypred_prob1= model1.predict_proba(X_test)\n",
    "f1_m1 = f1_score(y_test, ypred1)\n",
    "acc_m1= model1.score(X_test, y_test)\n",
    "\n",
    "ypredprobPositive = ypred_prob1[:,[1]].ravel()\n",
    "ypredprobNegative = ypred_prob1[:,[0]].ravel()\n",
    "\n",
    "decision_tree_predictions= pd.DataFrame({'Actual values': y_test, 'Predicted values': ypred1, \n",
    "                                'probabilities-positive': ypredprobPositive,\n",
    "                               'probabilities-negative': ypredprobNegative})\n",
    "\n",
    "\n",
    "###########################\n",
    "#RANDOM FOREST CLASSIFIER\n",
    "########################\n",
    "transformer = ColumnTransformer([('one hot', ohe, categories),  ('minmax', minmax, numerics)])\n",
    "model2 = Pipeline([('col transf', transformer),   ('classifier', clf2)])\n",
    "model2.fit(X_train, y_train)\n",
    "\n",
    "ypred2= model2.predict(X_test)\n",
    "ypred_prob2 = model2.predict_proba(X_test)\n",
    "f1_m2 = f1_score(y_test, ypred2)\n",
    "acc_m2= model2.score(X_test, y_test)\n",
    "\n",
    "\n",
    "\n",
    "ypredprobPositive2 = ypred_prob2[:,[1]].ravel()\n",
    "ypredprobNegative2 = ypred_prob2[:,[0]].ravel()\n",
    "\n",
    "random_forest_predictions= pd.DataFrame({'Actual values': y_test, 'Predicted values': ypred2, \n",
    "                                'probabilities-positive': ypredprobPositive2,\n",
    "                               'probabilities-negative': ypredprobNegative2})\n",
    "\n",
    "\n",
    "\n",
    "\n",
    "###########################\n",
    "#LOGISTIC REGRESSION CLASSIFIER\n",
    "########################\n",
    "transformer = ColumnTransformer([('one hot', ohe, categories), \n",
    "                                ('minmax', minmax, numerics)])\n",
    "model3 = bPipeline([('col transf', transformer),\n",
    "                       ('classifier', clf3)])\n",
    "model3.fit(X_train, y_train)\n",
    "\n",
    "ypred3= model3.predict(X_test)\n",
    "ypred_prob3 = model3.predict_proba(X_test)\n",
    "f1_m3 = f1_score(y_test, ypred3)\n",
    "acc_m3= model1.score(X_test, y_test)\n",
    "\n",
    "ypredprobPositive3 = ypred_prob3[:,[1]].ravel()\n",
    "ypredprobNegative3 = ypred_prob3[:,[0]].ravel()\n",
    "\n",
    "logistic_regression_predictions= pd.DataFrame({'Actual values': y_test, 'Predicted values': ypred3, \n",
    "                                'probabilities-positive': ypredprobPositive3,\n",
    "                               'probabilities-negative': ypredprobNegative3})\n"
   ]
  },
  {
   "cell_type": "code",
   "execution_count": 120,
   "id": "d793d536",
   "metadata": {},
   "outputs": [
    {
     "data": {
      "text/html": [
       "<div>\n",
       "<style scoped>\n",
       "    .dataframe tbody tr th:only-of-type {\n",
       "        vertical-align: middle;\n",
       "    }\n",
       "\n",
       "    .dataframe tbody tr th {\n",
       "        vertical-align: top;\n",
       "    }\n",
       "\n",
       "    .dataframe thead th {\n",
       "        text-align: right;\n",
       "    }\n",
       "</style>\n",
       "<table border=\"1\" class=\"dataframe\">\n",
       "  <thead>\n",
       "    <tr style=\"text-align: right;\">\n",
       "      <th></th>\n",
       "      <th>Actual values</th>\n",
       "      <th>Predicted values</th>\n",
       "      <th>probabilities-positive</th>\n",
       "      <th>probabilities-negative</th>\n",
       "    </tr>\n",
       "  </thead>\n",
       "  <tbody>\n",
       "    <tr>\n",
       "      <th>204</th>\n",
       "      <td>1</td>\n",
       "      <td>1</td>\n",
       "      <td>1.0</td>\n",
       "      <td>0.0</td>\n",
       "    </tr>\n",
       "    <tr>\n",
       "      <th>315</th>\n",
       "      <td>1</td>\n",
       "      <td>0</td>\n",
       "      <td>0.0</td>\n",
       "      <td>1.0</td>\n",
       "    </tr>\n",
       "    <tr>\n",
       "      <th>91</th>\n",
       "      <td>1</td>\n",
       "      <td>1</td>\n",
       "      <td>1.0</td>\n",
       "      <td>0.0</td>\n",
       "    </tr>\n",
       "    <tr>\n",
       "      <th>453</th>\n",
       "      <td>1</td>\n",
       "      <td>0</td>\n",
       "      <td>0.0</td>\n",
       "      <td>1.0</td>\n",
       "    </tr>\n",
       "    <tr>\n",
       "      <th>76</th>\n",
       "      <td>0</td>\n",
       "      <td>0</td>\n",
       "      <td>0.0</td>\n",
       "      <td>1.0</td>\n",
       "    </tr>\n",
       "  </tbody>\n",
       "</table>\n",
       "</div>"
      ],
      "text/plain": [
       "     Actual values  Predicted values  probabilities-positive  \\\n",
       "204              1                 1                     1.0   \n",
       "315              1                 0                     0.0   \n",
       "91               1                 1                     1.0   \n",
       "453              1                 0                     0.0   \n",
       "76               0                 0                     0.0   \n",
       "\n",
       "     probabilities-negative  \n",
       "204                     0.0  \n",
       "315                     1.0  \n",
       "91                      0.0  \n",
       "453                     1.0  \n",
       "76                      1.0  "
      ]
     },
     "execution_count": 120,
     "metadata": {},
     "output_type": "execute_result"
    }
   ],
   "source": [
    "decision_tree_predictions.head()"
   ]
  },
  {
   "cell_type": "code",
   "execution_count": 121,
   "id": "3f656144",
   "metadata": {},
   "outputs": [
    {
     "data": {
      "text/html": [
       "<div>\n",
       "<style scoped>\n",
       "    .dataframe tbody tr th:only-of-type {\n",
       "        vertical-align: middle;\n",
       "    }\n",
       "\n",
       "    .dataframe tbody tr th {\n",
       "        vertical-align: top;\n",
       "    }\n",
       "\n",
       "    .dataframe thead th {\n",
       "        text-align: right;\n",
       "    }\n",
       "</style>\n",
       "<table border=\"1\" class=\"dataframe\">\n",
       "  <thead>\n",
       "    <tr style=\"text-align: right;\">\n",
       "      <th></th>\n",
       "      <th>Actual values</th>\n",
       "      <th>Predicted values</th>\n",
       "      <th>probabilities-positive</th>\n",
       "      <th>probabilities-negative</th>\n",
       "    </tr>\n",
       "  </thead>\n",
       "  <tbody>\n",
       "    <tr>\n",
       "      <th>204</th>\n",
       "      <td>1</td>\n",
       "      <td>1</td>\n",
       "      <td>0.77</td>\n",
       "      <td>0.23</td>\n",
       "    </tr>\n",
       "    <tr>\n",
       "      <th>315</th>\n",
       "      <td>1</td>\n",
       "      <td>1</td>\n",
       "      <td>0.69</td>\n",
       "      <td>0.31</td>\n",
       "    </tr>\n",
       "    <tr>\n",
       "      <th>91</th>\n",
       "      <td>1</td>\n",
       "      <td>1</td>\n",
       "      <td>0.78</td>\n",
       "      <td>0.22</td>\n",
       "    </tr>\n",
       "    <tr>\n",
       "      <th>453</th>\n",
       "      <td>1</td>\n",
       "      <td>0</td>\n",
       "      <td>0.36</td>\n",
       "      <td>0.64</td>\n",
       "    </tr>\n",
       "    <tr>\n",
       "      <th>76</th>\n",
       "      <td>0</td>\n",
       "      <td>1</td>\n",
       "      <td>0.77</td>\n",
       "      <td>0.23</td>\n",
       "    </tr>\n",
       "  </tbody>\n",
       "</table>\n",
       "</div>"
      ],
      "text/plain": [
       "     Actual values  Predicted values  probabilities-positive  \\\n",
       "204              1                 1                    0.77   \n",
       "315              1                 1                    0.69   \n",
       "91               1                 1                    0.78   \n",
       "453              1                 0                    0.36   \n",
       "76               0                 1                    0.77   \n",
       "\n",
       "     probabilities-negative  \n",
       "204                    0.23  \n",
       "315                    0.31  \n",
       "91                     0.22  \n",
       "453                    0.64  \n",
       "76                     0.23  "
      ]
     },
     "execution_count": 121,
     "metadata": {},
     "output_type": "execute_result"
    }
   ],
   "source": [
    "random_forest_predictions.head()"
   ]
  },
  {
   "cell_type": "code",
   "execution_count": 122,
   "id": "54db422a",
   "metadata": {},
   "outputs": [
    {
     "data": {
      "text/html": [
       "<div>\n",
       "<style scoped>\n",
       "    .dataframe tbody tr th:only-of-type {\n",
       "        vertical-align: middle;\n",
       "    }\n",
       "\n",
       "    .dataframe tbody tr th {\n",
       "        vertical-align: top;\n",
       "    }\n",
       "\n",
       "    .dataframe thead th {\n",
       "        text-align: right;\n",
       "    }\n",
       "</style>\n",
       "<table border=\"1\" class=\"dataframe\">\n",
       "  <thead>\n",
       "    <tr style=\"text-align: right;\">\n",
       "      <th></th>\n",
       "      <th>Actual values</th>\n",
       "      <th>Predicted values</th>\n",
       "      <th>probabilities-positive</th>\n",
       "      <th>probabilities-negative</th>\n",
       "    </tr>\n",
       "  </thead>\n",
       "  <tbody>\n",
       "    <tr>\n",
       "      <th>204</th>\n",
       "      <td>1</td>\n",
       "      <td>1</td>\n",
       "      <td>0.875505</td>\n",
       "      <td>0.124495</td>\n",
       "    </tr>\n",
       "    <tr>\n",
       "      <th>315</th>\n",
       "      <td>1</td>\n",
       "      <td>1</td>\n",
       "      <td>0.783741</td>\n",
       "      <td>0.216259</td>\n",
       "    </tr>\n",
       "    <tr>\n",
       "      <th>91</th>\n",
       "      <td>1</td>\n",
       "      <td>1</td>\n",
       "      <td>0.965156</td>\n",
       "      <td>0.034844</td>\n",
       "    </tr>\n",
       "    <tr>\n",
       "      <th>453</th>\n",
       "      <td>1</td>\n",
       "      <td>0</td>\n",
       "      <td>0.044677</td>\n",
       "      <td>0.955323</td>\n",
       "    </tr>\n",
       "    <tr>\n",
       "      <th>76</th>\n",
       "      <td>0</td>\n",
       "      <td>1</td>\n",
       "      <td>0.823701</td>\n",
       "      <td>0.176299</td>\n",
       "    </tr>\n",
       "  </tbody>\n",
       "</table>\n",
       "</div>"
      ],
      "text/plain": [
       "     Actual values  Predicted values  probabilities-positive  \\\n",
       "204              1                 1                0.875505   \n",
       "315              1                 1                0.783741   \n",
       "91               1                 1                0.965156   \n",
       "453              1                 0                0.044677   \n",
       "76               0                 1                0.823701   \n",
       "\n",
       "     probabilities-negative  \n",
       "204                0.124495  \n",
       "315                0.216259  \n",
       "91                 0.034844  \n",
       "453                0.955323  \n",
       "76                 0.176299  "
      ]
     },
     "execution_count": 122,
     "metadata": {},
     "output_type": "execute_result"
    }
   ],
   "source": [
    "logistic_regression_predictions.head()"
   ]
  },
  {
   "cell_type": "markdown",
   "id": "d915dd46",
   "metadata": {},
   "source": [
    "# MODEL EVALUATION"
   ]
  },
  {
   "cell_type": "code",
   "execution_count": 145,
   "id": "d309d53d",
   "metadata": {},
   "outputs": [
    {
     "name": "stdout",
     "output_type": "stream",
     "text": [
      "Decision tree accuracy scores::  [0.65       0.6        0.75       0.65       0.6        0.65\n",
      " 0.55       0.65       0.75       0.75       0.75       0.6\n",
      " 0.52631579 0.73684211 0.94736842 0.78947368 0.78947368 0.68421053\n",
      " 0.73684211 0.78947368]\n",
      "\n",
      "Cross-val-score:: 0.7\n"
     ]
    }
   ],
   "source": [
    "#############################\n",
    "# DECISION TREE CLASSIFER\n",
    "############################\n",
    "\n",
    "k = KFold(n_splits=20, shuffle=False, random_state=None)\n",
    "m1_scores = cross_val_score(model1, X = X_train,  y = y_train, cv=k,)\n",
    "\n",
    "print(\"Decision tree accuracy scores:: \", m1_scores)\n",
    "print()\n",
    "print('Cross-val-score::', np.round(np.mean(m1_scores),2))"
   ]
  },
  {
   "cell_type": "code",
   "execution_count": 129,
   "id": "e2eb0f94",
   "metadata": {},
   "outputs": [
    {
     "data": {
      "text/plain": [
       "<AxesSubplot:title={'center':'Decision-tree confusion matrix'}>"
      ]
     },
     "execution_count": 129,
     "metadata": {},
     "output_type": "execute_result"
    },
    {
     "data": {
      "image/png": "[encoded data removed]",
      "text/plain": [
       "<Figure size 288x288 with 2 Axes>"
      ]
     },
     "metadata": {},
     "output_type": "display_data"
    }
   ],
   "source": [
    "## confusion matrix\n",
    "cm1= confusion_matrix(y_test,ypred1,)\n",
    "col= ['predicted-negative', 'predcited-postive']\n",
    "row= ['negative-class', 'positive-class']\n",
    "\n",
    "dfdt= pd.DataFrame(cm1, columns=col, index= row)\n",
    "plt.figure(figsize=(4,4))\n",
    "plt.title('Decision-tree confusion matrix')\n",
    "sns.heatmap(data=dfdt , cmap= 'Blues', annot= True)"
   ]
  },
  {
   "cell_type": "code",
   "execution_count": 126,
   "id": "1b67e983",
   "metadata": {},
   "outputs": [
    {
     "name": "stdout",
     "output_type": "stream",
     "text": [
      "CLASSIFICATION REPORT FOR THE DECISION TREE CLASSIFIER\n",
      "\n",
      "('              precision    recall  f1-score   support\\n'\n",
      " '\\n'\n",
      " '           0       0.42      0.40      0.41        43\\n'\n",
      " '           1       0.71      0.74      0.73        88\\n'\n",
      " '\\n'\n",
      " '    accuracy                           0.63       131\\n'\n",
      " '   macro avg       0.57      0.57      0.57       131\\n'\n",
      " 'weighted avg       0.62      0.63      0.62       131\\n')\n"
     ]
    }
   ],
   "source": [
    "#classification report\n",
    "from pprint import pprint\n",
    "print('CLASSIFICATION REPORT FOR THE DECISION TREE CLASSIFIER\\n')\n",
    "pprint(classification_report( y_test, ypred1), compact=True, indent=2)"
   ]
  },
  {
   "cell_type": "code",
   "execution_count": 130,
   "id": "02497b6a",
   "metadata": {},
   "outputs": [
    {
     "data": {
      "image/png": "[encoded data removed]",
      "text/plain": [
       "<Figure size 576x396 with 1 Axes>"
      ]
     },
     "metadata": {},
     "output_type": "display_data"
    }
   ],
   "source": [
    "# ROC curve\n",
    "fprdt, tprdt, _ = roc_curve(y_test,ypredprobPositive)\n",
    "aucdt = np.round(roc_auc_score(y_test, ypredprobPositive), 3)\n",
    "plt.title('DECISION TREE')\n",
    "plt.plot(fprdt, tprdt, label=\"AUC: \"+str(aucdt), color=\"navy\")\n",
    "\n",
    "plt.plot([0,1],[0,1],color=\"red\")\n",
    "plt.xlim([0.00,1.01])\n",
    "plt.ylim([0.00,1.01])\n",
    "\n",
    "plt.xlabel(\"Specificity\")\n",
    "plt.ylabel(\"Sensitivity\")\n",
    "plt.legend(loc=4)\n",
    "plt.show()"
   ]
  },
  {
   "cell_type": "code",
   "execution_count": 71,
   "id": "1b22c842",
   "metadata": {},
   "outputs": [
    {
     "data": {
      "image/png": "[encoded data removed]",
      "text/plain": [
       "<Figure size 576x396 with 1 Axes>"
      ]
     },
     "metadata": {},
     "output_type": "display_data"
    },
    {
     "data": {
      "text/plain": [
       "<Figure size 576x396 with 0 Axes>"
      ]
     },
     "metadata": {},
     "output_type": "display_data"
    }
   ],
   "source": [
    "# getting the learning curve\n",
    "sizes = np.linspace(0.3, 1.0, 10)\n",
    "visualizer = LearningCurve( model1, cv=k, scoring='f1_weighted', train_sizes=sizes, n_jobs=4 )\n",
    "\n",
    "visualizer.fit(X_train, y_train)        # Fit the data to the visualizer\n",
    "visualizer.show() \n",
    "plt.savefig('output/l-curve-decision-tree.png')"
   ]
  },
  {
   "cell_type": "code",
   "execution_count": null,
   "id": "1e029ccf",
   "metadata": {},
   "outputs": [],
   "source": []
  },
  {
   "cell_type": "code",
   "execution_count": 74,
   "id": "73f8a6ea",
   "metadata": {},
   "outputs": [],
   "source": [
    "##############################\n",
    "# RANDOM FOREST CLASSIFIER\n",
    "#\n",
    "#############################"
   ]
  },
  {
   "cell_type": "code",
   "execution_count": 146,
   "id": "1d502f1c",
   "metadata": {},
   "outputs": [
    {
     "name": "stdout",
     "output_type": "stream",
     "text": [
      "random forest scores::  [0.9        0.9        0.85       0.8        0.9        0.75\n",
      " 0.7        0.75       0.8        0.75       0.85       0.9\n",
      " 0.73684211 0.84210526 0.89473684 0.94736842 0.89473684 0.78947368\n",
      " 0.84210526 0.78947368]\n",
      "\n",
      "mean cross val score:: 0.829342105263158\n"
     ]
    }
   ],
   "source": [
    "k2 = KFold(n_splits=20, shuffle=False, random_state=None)\n",
    "m2_scores = cross_val_score(model2, X = X_train,  y = y_train, cv=k2,)\n",
    "\n",
    "print(\"random forest scores:: \", m2_scores)\n",
    "print()\n",
    "print('mean cross val score::', np.mean(m2_scores))"
   ]
  },
  {
   "cell_type": "code",
   "execution_count": 133,
   "id": "36ee090b",
   "metadata": {},
   "outputs": [
    {
     "data": {
      "image/png": "[encoded data removed]",
      "text/plain": [
       "<Figure size 288x288 with 2 Axes>"
      ]
     },
     "metadata": {},
     "output_type": "display_data"
    }
   ],
   "source": [
    "## confusion matrix\n",
    "cm2= confusion_matrix(y_test,ypred2,)\n",
    "col= ['predicted-negative', 'predcited-postive']\n",
    "row= ['negative-class', 'positive-class']\n",
    "dfdt= pd.DataFrame(cm2, columns=col, index= row)\n",
    "\n",
    "plt.figure(figsize=(4,4))\n",
    "plt.title('random forest confusion matrix')\n",
    "sns.heatmap(data=dfdt , cmap= 'Blues', annot= True);plt.show()"
   ]
  },
  {
   "cell_type": "code",
   "execution_count": null,
   "id": "e219a331",
   "metadata": {},
   "outputs": [],
   "source": []
  },
  {
   "cell_type": "code",
   "execution_count": 135,
   "id": "df16749e",
   "metadata": {},
   "outputs": [
    {
     "name": "stdout",
     "output_type": "stream",
     "text": [
      "CLASSIFICATIO REPORT FOR RANDOM FOREST CLASSIFIER\n",
      "\n",
      "('              precision    recall  f1-score   support\\n'\n",
      " '\\n'\n",
      " '           0       0.82      0.33      0.47        43\\n'\n",
      " '           1       0.75      0.97      0.84        88\\n'\n",
      " '\\n'\n",
      " '    accuracy                           0.76       131\\n'\n",
      " '   macro avg       0.78      0.65      0.65       131\\n'\n",
      " 'weighted avg       0.77      0.76      0.72       131\\n')\n"
     ]
    }
   ],
   "source": [
    "#classification report\n",
    "from pprint import pprint\n",
    "print('CLASSIFICATIO REPORT FOR RANDOM FOREST CLASSIFIER\\n')\n",
    "pprint(classification_report( y_test, ypred2), compact=True, indent=2)"
   ]
  },
  {
   "cell_type": "code",
   "execution_count": 136,
   "id": "9c6575da",
   "metadata": {},
   "outputs": [
    {
     "data": {
      "image/png": "[encoded data removed]",
      "text/plain": [
       "<Figure size 576x396 with 1 Axes>"
      ]
     },
     "metadata": {},
     "output_type": "display_data"
    }
   ],
   "source": [
    "# ROC curve\n",
    "\n",
    "fprdt, tprdt, _ = roc_curve(y_test,ypredprobPositive2)\n",
    "\n",
    "aucdt = np.round(roc_auc_score(y_test, ypredprobPositive2), 3)\n",
    "\n",
    "plt.title('Random Forest ROC-')\n",
    "plt.plot(fprdt, tprdt, label=\"AUC: \"+str(aucdt), color=\"navy\")\n",
    "\n",
    "plt.plot([0,1],[0,1],color=\"red\")\n",
    "plt.xlim([0.00,1.01])\n",
    "plt.ylim([0.00,1.01])\n",
    "\n",
    "plt.xlabel(\"Specificity\")\n",
    "plt.ylabel(\"Sensitivity\")\n",
    "plt.legend(loc=4)\n",
    "plt.show()"
   ]
  },
  {
   "cell_type": "code",
   "execution_count": null,
   "id": "bdb04aed",
   "metadata": {},
   "outputs": [],
   "source": []
  },
  {
   "cell_type": "code",
   "execution_count": 137,
   "id": "38ed5fa0",
   "metadata": {},
   "outputs": [
    {
     "data": {
      "image/png": "[encoded data removed]",
      "text/plain": [
       "<Figure size 576x396 with 1 Axes>"
      ]
     },
     "metadata": {},
     "output_type": "display_data"
    },
    {
     "data": {
      "text/plain": [
       "<AxesSubplot:title={'center':'Learning Curve for RandomForestClassifier'}, xlabel='Training Instances', ylabel='Score'>"
      ]
     },
     "execution_count": 137,
     "metadata": {},
     "output_type": "execute_result"
    }
   ],
   "source": [
    "# getting the learning curve\n",
    "sizes = np.linspace(0.3, 1.0, 10)\n",
    "visualizer2 = LearningCurve( model2, cv=k, scoring='f1_weighted', train_sizes=sizes, n_jobs=4 )\n",
    "\n",
    "visualizer2.fit(X_train, y_train)        # Fit the data to the visualizer\n",
    "visualizer2.show() "
   ]
  },
  {
   "cell_type": "code",
   "execution_count": null,
   "id": "d2f8fc61",
   "metadata": {},
   "outputs": [],
   "source": [
    "##############################\n",
    "# LOGISTIC REGRESSION CLASSIFIER\n",
    "#\n",
    "#############################"
   ]
  },
  {
   "cell_type": "code",
   "execution_count": 148,
   "id": "93aed469",
   "metadata": {},
   "outputs": [
    {
     "name": "stdout",
     "output_type": "stream",
     "text": [
      "logistics regression accuracy scores::  [0.85       0.9        0.85       0.75       0.9        0.65\n",
      " 0.75       0.75       0.8        0.75       0.8        0.9\n",
      " 0.78947368 0.84210526 0.89473684 0.94736842 0.89473684 0.78947368\n",
      " 0.84210526 0.68421053]\n",
      "\n",
      "Average Score:: 0.8167105263157894\n"
     ]
    }
   ],
   "source": [
    "k3 = KFold(n_splits=20, shuffle=False, random_state=None)\n",
    "m3_scores = cross_val_score(model3, X = X_train,  y = y_train, cv=k3,)\n",
    "\n",
    "print(\"logistics regression accuracy scores:: \", m3_scores)\n",
    "print()\n",
    "print('Average Score::', np.mean(m3_scores))\n"
   ]
  },
  {
   "cell_type": "raw",
   "id": "cb3fbd2f",
   "metadata": {},
   "source": []
  },
  {
   "cell_type": "code",
   "execution_count": 139,
   "id": "de2bfcca",
   "metadata": {},
   "outputs": [
    {
     "data": {
      "image/png": "[encoded data removed]",
      "text/plain": [
       "<Figure size 288x288 with 2 Axes>"
      ]
     },
     "metadata": {},
     "output_type": "display_data"
    }
   ],
   "source": [
    "## confusion matrix\n",
    "cm3= confusion_matrix(y_test,ypred3,)\n",
    "col= ['predicted-negative', 'predcited-postive']\n",
    "row= ['negative-class', 'positive-class']\n",
    "dfdt3= pd.DataFrame(cm3, columns=col, index= row)\n",
    "\n",
    "\n",
    "plt.figure(figsize=(4,4))\n",
    "plt.title('logistics confusion matrix')\n",
    "sns.heatmap(data=dfdt3 , cmap= 'Blues', annot= True);plt.show()"
   ]
  },
  {
   "cell_type": "code",
   "execution_count": 140,
   "id": "f701217e",
   "metadata": {},
   "outputs": [
    {
     "name": "stdout",
     "output_type": "stream",
     "text": [
      "CLASSIFICATION REPORT FOR LOGISTIC REGRESSION\n",
      "('              precision    recall  f1-score   support\\n'\n",
      " '\\n'\n",
      " '           0       0.71      0.35      0.47        43\\n'\n",
      " '           1       0.75      0.93      0.83        88\\n'\n",
      " '\\n'\n",
      " '    accuracy                           0.74       131\\n'\n",
      " '   macro avg       0.73      0.64      0.65       131\\n'\n",
      " 'weighted avg       0.74      0.74      0.71       131\\n')\n"
     ]
    }
   ],
   "source": [
    "#classification report\n",
    "from pprint import pprint\n",
    "\n",
    "print('CLASSIFICATION REPORT FOR LOGISTIC REGRESSION')\n",
    "pprint(classification_report( y_test, ypred3), compact=True, indent=2)"
   ]
  },
  {
   "cell_type": "raw",
   "id": "8b110297",
   "metadata": {},
   "source": []
  },
  {
   "cell_type": "code",
   "execution_count": 85,
   "id": "d48fd777",
   "metadata": {},
   "outputs": [
    {
     "data": {
      "image/png": "[encoded data removed]",
      "text/plain": [
       "<Figure size 576x396 with 1 Axes>"
      ]
     },
     "metadata": {},
     "output_type": "display_data"
    }
   ],
   "source": [
    "# ROC curve\n",
    "\n",
    "fprdt, tprdt, _ = roc_curve(y_test,ypredprobPositive3)\n",
    "aucdt = np.round(roc_auc_score(y_test, ypredprobPositive3),2)\n",
    "\n",
    "plt.title('Logistics Regression ROC-')\n",
    "plt.plot(fprdt, tprdt, label=\"AUC: \"+str(aucdt), color=\"navy\")\n",
    "\n",
    "plt.plot([0,1],[0,1],color=\"red\")\n",
    "plt.xlim([0.00,1.01])\n",
    "plt.ylim([0.00,1.01])\n",
    "\n",
    "plt.xlabel(\"Specificity\")\n",
    "plt.ylabel(\"Sensitivity\")\n",
    "plt.legend(loc=4)\n",
    "plt.show()"
   ]
  },
  {
   "cell_type": "raw",
   "id": "02ffe3de",
   "metadata": {},
   "source": []
  },
  {
   "cell_type": "code",
   "execution_count": 141,
   "id": "1a24722b",
   "metadata": {},
   "outputs": [
    {
     "data": {
      "image/png": "[encoded data removed]",
      "text/plain": [
       "<Figure size 576x396 with 1 Axes>"
      ]
     },
     "metadata": {},
     "output_type": "display_data"
    },
    {
     "data": {
      "text/plain": [
       "<AxesSubplot:title={'center':'Learning Curve for LogisticRegression'}, xlabel='Training Instances', ylabel='Score'>"
      ]
     },
     "execution_count": 141,
     "metadata": {},
     "output_type": "execute_result"
    }
   ],
   "source": [
    "# getting the learning curve\n",
    "sizes = np.linspace(0.3, 1.0, 10)\n",
    "visualizer3 = LearningCurve( model3, cv=k, scoring='f1_weighted', train_sizes=sizes, n_jobs=4 )\n",
    "\n",
    "visualizer3.fit(X_train, y_train)        # Fit the data to the visualizer\n",
    "visualizer3.show() "
   ]
  },
  {
   "cell_type": "raw",
   "id": "f9d07b22",
   "metadata": {},
   "source": []
  },
  {
   "cell_type": "code",
   "execution_count": 151,
   "id": "49efd9aa",
   "metadata": {},
   "outputs": [],
   "source": [
    "# tabulate all models [model name, accuracy score, f1-score]\n",
    "model_names = ['decision tree clf', 'random forest clf', 'logistics regression clf']\n",
    "acc_scores = [acc_m1, acc_m2, acc_m3]\n",
    "f1_scores = [f1_m1,  f1_m2, f1_m3]\n",
    "cv_scores = [np.mean(m1_scores), np.mean(m2_scores), np.mean(m3_scores)]\n",
    "summary1 = pd.DataFrame({'model': model_names, 'accuracy scores': acc_scores, 'f1_score': f1_scores, 'cv-accuracy scores': cv_scores})"
   ]
  },
  {
   "cell_type": "code",
   "execution_count": 152,
   "id": "123d6fd8",
   "metadata": {},
   "outputs": [
    {
     "data": {
      "text/html": [
       "<div>\n",
       "<style scoped>\n",
       "    .dataframe tbody tr th:only-of-type {\n",
       "        vertical-align: middle;\n",
       "    }\n",
       "\n",
       "    .dataframe tbody tr th {\n",
       "        vertical-align: top;\n",
       "    }\n",
       "\n",
       "    .dataframe thead th {\n",
       "        text-align: right;\n",
       "    }\n",
       "</style>\n",
       "<table border=\"1\" class=\"dataframe\">\n",
       "  <thead>\n",
       "    <tr style=\"text-align: right;\">\n",
       "      <th></th>\n",
       "      <th>model</th>\n",
       "      <th>accuracy scores</th>\n",
       "      <th>f1_score</th>\n",
       "      <th>cv-accuracy scores</th>\n",
       "    </tr>\n",
       "  </thead>\n",
       "  <tbody>\n",
       "    <tr>\n",
       "      <th>0</th>\n",
       "      <td>decision tree clf</td>\n",
       "      <td>0.625954</td>\n",
       "      <td>0.726257</td>\n",
       "      <td>0.697500</td>\n",
       "    </tr>\n",
       "    <tr>\n",
       "      <th>1</th>\n",
       "      <td>random forest clf</td>\n",
       "      <td>0.755725</td>\n",
       "      <td>0.841584</td>\n",
       "      <td>0.829342</td>\n",
       "    </tr>\n",
       "    <tr>\n",
       "      <th>2</th>\n",
       "      <td>logistics regression clf</td>\n",
       "      <td>0.625954</td>\n",
       "      <td>0.828283</td>\n",
       "      <td>0.816711</td>\n",
       "    </tr>\n",
       "  </tbody>\n",
       "</table>\n",
       "</div>"
      ],
      "text/plain": [
       "                      model  accuracy scores  f1_score  cv-accuracy scores\n",
       "0         decision tree clf         0.625954  0.726257            0.697500\n",
       "1         random forest clf         0.755725  0.841584            0.829342\n",
       "2  logistics regression clf         0.625954  0.828283            0.816711"
      ]
     },
     "execution_count": 152,
     "metadata": {},
     "output_type": "execute_result"
    }
   ],
   "source": [
    "summary1"
   ]
  },
  {
   "cell_type": "code",
   "execution_count": null,
   "id": "f5685fee",
   "metadata": {},
   "outputs": [],
   "source": []
  },
  {
   "cell_type": "markdown",
   "id": "5a83309f",
   "metadata": {},
   "source": [
    "# Using Ordinal Encoder"
   ]
  },
  {
   "cell_type": "markdown",
   "id": "2170d059",
   "metadata": {},
   "source": [
    "Since the categorical variable in the data is not an ordinal variable we will not be using the ordinal encoder.\n",
    "But if the data is very sparse, meaning if the data contains many column, ordinal encoder will help avoid the trouble one-hot encoder gives when making feature selection on categorical columns"
   ]
  },
  {
   "cell_type": "code",
   "execution_count": null,
   "id": "9c9c0656",
   "metadata": {},
   "outputs": [],
   "source": []
  },
  {
   "cell_type": "markdown",
   "id": "c1c02647",
   "metadata": {},
   "source": [
    "# DECIDING WHICH MODEL TO USE AND THEN SERIALIZING THAT MODEL FOR DEPLOYMENT."
   ]
  },
  {
   "cell_type": "markdown",
   "id": "0a2c0ad3",
   "metadata": {},
   "source": [
    "By looking at the ROC-curve, the learning curve, confuion matrix and the summary table, Random Forest Classifier model will the model I will choose for production. since is less likely for it to overfit by looking at gazing at the learning curve, you can see that there is low variance between the train score and the validation score.\n",
    "Also we can see that the validation score decreases through time we notice that the score **decrease with a decreasing effect** as compared to that of the logistic regression model (which will be the second model I may choose for production).\n",
    "\n",
    "\n",
    "<img src= 'output/logistic.png' align='left'>\n",
    "<img src= 'output/randomf.png' align='left'>"
   ]
  },
  {
   "cell_type": "code",
   "execution_count": null,
   "id": "9bd0eba2",
   "metadata": {},
   "outputs": [],
   "source": []
  },
  {
   "cell_type": "code",
   "execution_count": 158,
   "id": "99b80ffa",
   "metadata": {},
   "outputs": [
    {
     "data": {
      "text/plain": [
       "['output/rfmodel.pkl']"
      ]
     },
     "execution_count": 158,
     "metadata": {},
     "output_type": "execute_result"
    }
   ],
   "source": [
    "# we save the RANDOM FOREST MODEL for deployment\n",
    "dump( model2,'output/rfmodel.pkl',)"
   ]
  },
  {
   "cell_type": "code",
   "execution_count": null,
   "id": "39cb1938",
   "metadata": {},
   "outputs": [],
   "source": []
  }
 ],
 "metadata": {
  "kernelspec": {
   "display_name": "Python 3",
   "language": "python",
   "name": "python3"
  },
  "language_info": {
   "codemirror_mode": {
    "name": "ipython",
    "version": 3
   },
   "file_extension": ".py",
   "mimetype": "text/x-python",
   "name": "python",
   "nbconvert_exporter": "python",
   "pygments_lexer": "ipython3",
   "version": "3.8.8"
  }
 },
 "nbformat": 4,
 "nbformat_minor": 5
}
