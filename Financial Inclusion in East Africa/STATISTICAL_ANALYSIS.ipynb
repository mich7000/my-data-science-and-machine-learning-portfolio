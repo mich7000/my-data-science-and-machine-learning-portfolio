{
 "cells": [
  {
   "cell_type": "code",
   "execution_count": 14,
   "id": "8220ba12",
   "metadata": {},
   "outputs": [],
   "source": [
    "library('ggplot2');\n",
    "library('dplyr');\n",
    "library('magrittr');\n",
    "\n",
    "options(repr.plot.width =9, repr.plot.height = 3)\n",
    "\n",
    "DAT= read.csv('data/data.csv')"
   ]
  },
  {
   "cell_type": "markdown",
   "id": "6bda3691",
   "metadata": {},
   "source": [
    "# Data inspection"
   ]
  },
  {
   "cell_type": "code",
   "execution_count": 4,
   "id": "18a958ff",
   "metadata": {},
   "outputs": [
    {
     "data": {
      "text/html": [
       "<table>\n",
       "<thead><tr><th scope=col>Country</th><th scope=col>Year</th><th scope=col>Bank.account</th><th scope=col>Location.Type</th><th scope=col>Access.to.cellphone</th><th scope=col>Household.size</th><th scope=col>Age.of.respondent</th><th scope=col>Gender.of.respondent</th><th scope=col>Relation.with.head.of.the.house</th><th scope=col>Marital.status</th><th scope=col>Education.level</th><th scope=col>Job.type</th></tr></thead>\n",
       "<tbody>\n",
       "\t<tr><td>Kenya                          </td><td>2018                           </td><td>Yes                            </td><td>Rural                          </td><td>Yes                            </td><td>3                              </td><td>24                             </td><td>Female                         </td><td>Spouse                         </td><td>Married/Living together        </td><td>Secondary education            </td><td>Self employed                  </td></tr>\n",
       "\t<tr><td>Kenya                          </td><td>2018                           </td><td>No                             </td><td>Rural                          </td><td>No                             </td><td>5                              </td><td>70                             </td><td>Female                         </td><td>Head of Household              </td><td>Widowed                        </td><td>No formal education            </td><td>Government Dependent           </td></tr>\n",
       "\t<tr><td>Kenya                          </td><td>2018                           </td><td>Yes                            </td><td>Urban                          </td><td>Yes                            </td><td>5                              </td><td>26                             </td><td>Male                           </td><td>Other relative                 </td><td>Single/Never Married           </td><td>Vocational/Specialised training</td><td>Self employed                  </td></tr>\n",
       "\t<tr><td>Kenya                          </td><td>2018                           </td><td>No                             </td><td>Rural                          </td><td>Yes                            </td><td>5                              </td><td>34                             </td><td>Female                         </td><td>Head of Household              </td><td>Married/Living together        </td><td>Primary education              </td><td>Formally employed Private      </td></tr>\n",
       "</tbody>\n",
       "</table>\n"
      ],
      "text/latex": [
       "\\begin{tabular}{r|llllllllllll}\n",
       " Country & Year & Bank.account & Location.Type & Access.to.cellphone & Household.size & Age.of.respondent & Gender.of.respondent & Relation.with.head.of.the.house & Marital.status & Education.level & Job.type\\\\\n",
       "\\hline\n",
       "\t Kenya                           & 2018                            & Yes                             & Rural                           & Yes                             & 3                               & 24                              & Female                          & Spouse                          & Married/Living together         & Secondary education             & Self employed                  \\\\\n",
       "\t Kenya                           & 2018                            & No                              & Rural                           & No                              & 5                               & 70                              & Female                          & Head of Household               & Widowed                         & No formal education             & Government Dependent           \\\\\n",
       "\t Kenya                           & 2018                            & Yes                             & Urban                           & Yes                             & 5                               & 26                              & Male                            & Other relative                  & Single/Never Married            & Vocational/Specialised training & Self employed                  \\\\\n",
       "\t Kenya                           & 2018                            & No                              & Rural                           & Yes                             & 5                               & 34                              & Female                          & Head of Household               & Married/Living together         & Primary education               & Formally employed Private      \\\\\n",
       "\\end{tabular}\n"
      ],
      "text/markdown": [
       "\n",
       "| Country | Year | Bank.account | Location.Type | Access.to.cellphone | Household.size | Age.of.respondent | Gender.of.respondent | Relation.with.head.of.the.house | Marital.status | Education.level | Job.type |\n",
       "|---|---|---|---|---|---|---|---|---|---|---|---|\n",
       "| Kenya                           | 2018                            | Yes                             | Rural                           | Yes                             | 3                               | 24                              | Female                          | Spouse                          | Married/Living together         | Secondary education             | Self employed                   |\n",
       "| Kenya                           | 2018                            | No                              | Rural                           | No                              | 5                               | 70                              | Female                          | Head of Household               | Widowed                         | No formal education             | Government Dependent            |\n",
       "| Kenya                           | 2018                            | Yes                             | Urban                           | Yes                             | 5                               | 26                              | Male                            | Other relative                  | Single/Never Married            | Vocational/Specialised training | Self employed                   |\n",
       "| Kenya                           | 2018                            | No                              | Rural                           | Yes                             | 5                               | 34                              | Female                          | Head of Household               | Married/Living together         | Primary education               | Formally employed Private       |\n",
       "\n"
      ],
      "text/plain": [
       "  Country Year Bank.account Location.Type Access.to.cellphone Household.size\n",
       "1 Kenya   2018 Yes          Rural         Yes                 3             \n",
       "2 Kenya   2018 No           Rural         No                  5             \n",
       "3 Kenya   2018 Yes          Urban         Yes                 5             \n",
       "4 Kenya   2018 No           Rural         Yes                 5             \n",
       "  Age.of.respondent Gender.of.respondent Relation.with.head.of.the.house\n",
       "1 24                Female               Spouse                         \n",
       "2 70                Female               Head of Household              \n",
       "3 26                Male                 Other relative                 \n",
       "4 34                Female               Head of Household              \n",
       "  Marital.status          Education.level                \n",
       "1 Married/Living together Secondary education            \n",
       "2 Widowed                 No formal education            \n",
       "3 Single/Never Married    Vocational/Specialised training\n",
       "4 Married/Living together Primary education              \n",
       "  Job.type                 \n",
       "1 Self employed            \n",
       "2 Government Dependent     \n",
       "3 Self employed            \n",
       "4 Formally employed Private"
      ]
     },
     "metadata": {},
     "output_type": "display_data"
    }
   ],
   "source": [
    "head(DAT, 4)"
   ]
  },
  {
   "cell_type": "code",
   "execution_count": 5,
   "id": "4b4d8e41",
   "metadata": {},
   "outputs": [
    {
     "data": {
      "text/html": [
       "<table>\n",
       "<thead><tr><th></th><th scope=col>Country</th><th scope=col>Year</th><th scope=col>Bank.account</th><th scope=col>Location.Type</th><th scope=col>Access.to.cellphone</th><th scope=col>Household.size</th><th scope=col>Age.of.respondent</th><th scope=col>Gender.of.respondent</th><th scope=col>Relation.with.head.of.the.house</th><th scope=col>Marital.status</th><th scope=col>Education.level</th><th scope=col>Job.type</th></tr></thead>\n",
       "<tbody>\n",
       "\t<tr><th scope=row>23521</th><td>Uganda              </td><td>2018                </td><td>No                  </td><td>Rural               </td><td>Yes                 </td><td> 2                  </td><td>27                  </td><td>Female              </td><td>Head of Household   </td><td>Single/Never Married</td><td>Secondary education </td><td>Other Income        </td></tr>\n",
       "\t<tr><th scope=row>23522</th><td>Uganda              </td><td>2018                </td><td>No                  </td><td>Rural               </td><td>Yes                 </td><td> 5                  </td><td>27                  </td><td>Female              </td><td>Parent              </td><td>Widowed             </td><td>Primary education   </td><td>Other Income        </td></tr>\n",
       "\t<tr><th scope=row>23523</th><td>Uganda              </td><td>2018                </td><td>No                  </td><td>Urban               </td><td>Yes                 </td><td> 7                  </td><td>30                  </td><td>Female              </td><td>Parent              </td><td>Divorced/Seperated  </td><td>Secondary education </td><td>Self employed       </td></tr>\n",
       "\t<tr><th scope=row>23524</th><td>Uganda              </td><td>2018                </td><td>No                  </td><td>Rural               </td><td>Yes                 </td><td>10                  </td><td>20                  </td><td>Male                </td><td>Child               </td><td>Single/Never Married</td><td>Secondary education </td><td>No Income           </td></tr>\n",
       "</tbody>\n",
       "</table>\n"
      ],
      "text/latex": [
       "\\begin{tabular}{r|llllllllllll}\n",
       "  & Country & Year & Bank.account & Location.Type & Access.to.cellphone & Household.size & Age.of.respondent & Gender.of.respondent & Relation.with.head.of.the.house & Marital.status & Education.level & Job.type\\\\\n",
       "\\hline\n",
       "\t23521 & Uganda               & 2018                 & No                   & Rural                & Yes                  &  2                   & 27                   & Female               & Head of Household    & Single/Never Married & Secondary education  & Other Income        \\\\\n",
       "\t23522 & Uganda               & 2018                 & No                   & Rural                & Yes                  &  5                   & 27                   & Female               & Parent               & Widowed              & Primary education    & Other Income        \\\\\n",
       "\t23523 & Uganda               & 2018                 & No                   & Urban                & Yes                  &  7                   & 30                   & Female               & Parent               & Divorced/Seperated   & Secondary education  & Self employed       \\\\\n",
       "\t23524 & Uganda               & 2018                 & No                   & Rural                & Yes                  & 10                   & 20                   & Male                 & Child                & Single/Never Married & Secondary education  & No Income           \\\\\n",
       "\\end{tabular}\n"
      ],
      "text/markdown": [
       "\n",
       "| <!--/--> | Country | Year | Bank.account | Location.Type | Access.to.cellphone | Household.size | Age.of.respondent | Gender.of.respondent | Relation.with.head.of.the.house | Marital.status | Education.level | Job.type |\n",
       "|---|---|---|---|---|---|---|---|---|---|---|---|---|\n",
       "| 23521 | Uganda               | 2018                 | No                   | Rural                | Yes                  |  2                   | 27                   | Female               | Head of Household    | Single/Never Married | Secondary education  | Other Income         |\n",
       "| 23522 | Uganda               | 2018                 | No                   | Rural                | Yes                  |  5                   | 27                   | Female               | Parent               | Widowed              | Primary education    | Other Income         |\n",
       "| 23523 | Uganda               | 2018                 | No                   | Urban                | Yes                  |  7                   | 30                   | Female               | Parent               | Divorced/Seperated   | Secondary education  | Self employed        |\n",
       "| 23524 | Uganda               | 2018                 | No                   | Rural                | Yes                  | 10                   | 20                   | Male                 | Child                | Single/Never Married | Secondary education  | No Income            |\n",
       "\n"
      ],
      "text/plain": [
       "      Country Year Bank.account Location.Type Access.to.cellphone\n",
       "23521 Uganda  2018 No           Rural         Yes                \n",
       "23522 Uganda  2018 No           Rural         Yes                \n",
       "23523 Uganda  2018 No           Urban         Yes                \n",
       "23524 Uganda  2018 No           Rural         Yes                \n",
       "      Household.size Age.of.respondent Gender.of.respondent\n",
       "23521  2             27                Female              \n",
       "23522  5             27                Female              \n",
       "23523  7             30                Female              \n",
       "23524 10             20                Male                \n",
       "      Relation.with.head.of.the.house Marital.status       Education.level    \n",
       "23521 Head of Household               Single/Never Married Secondary education\n",
       "23522 Parent                          Widowed              Primary education  \n",
       "23523 Parent                          Divorced/Seperated   Secondary education\n",
       "23524 Child                           Single/Never Married Secondary education\n",
       "      Job.type     \n",
       "23521 Other Income \n",
       "23522 Other Income \n",
       "23523 Self employed\n",
       "23524 No Income    "
      ]
     },
     "metadata": {},
     "output_type": "display_data"
    }
   ],
   "source": [
    "tail(DAT, 4)"
   ]
  },
  {
   "cell_type": "code",
   "execution_count": 6,
   "id": "34d2a923",
   "metadata": {},
   "outputs": [
    {
     "name": "stdout",
     "output_type": "stream",
     "text": [
      "Rows: 23,524\n",
      "Columns: 12\n",
      "$ Country                         \u001b[3m\u001b[38;5;246m<fct>\u001b[39m\u001b[23m Kenya, Kenya, Kenya, Kenya, Kenya, Ken~\n",
      "$ Year                            \u001b[3m\u001b[38;5;246m<int>\u001b[39m\u001b[23m 2018, 2018, 2018, 2018, 2018, 2018, 20~\n",
      "$ Bank.account                    \u001b[3m\u001b[38;5;246m<fct>\u001b[39m\u001b[23m Yes, No, Yes, No, No, No, No, No, Yes,~\n",
      "$ Location.Type                   \u001b[3m\u001b[38;5;246m<fct>\u001b[39m\u001b[23m Rural, Rural, Urban, Rural, Urban, Rur~\n",
      "$ Access.to.cellphone             \u001b[3m\u001b[38;5;246m<fct>\u001b[39m\u001b[23m Yes, No, Yes, Yes, No, No, Yes, Yes, Y~\n",
      "$ Household.size                  \u001b[3m\u001b[38;5;246m<int>\u001b[39m\u001b[23m 3, 5, 5, 5, 8, 7, 7, 1, 3, 3, 5, 3, 6,~\n",
      "$ Age.of.respondent               \u001b[3m\u001b[38;5;246m<int>\u001b[39m\u001b[23m 24, 70, 26, 34, 26, 26, 32, 42, 54, 76~\n",
      "$ Gender.of.respondent            \u001b[3m\u001b[38;5;246m<fct>\u001b[39m\u001b[23m Female, Female, Male, Female, Male, Fe~\n",
      "$ Relation.with.head.of.the.house \u001b[3m\u001b[38;5;246m<fct>\u001b[39m\u001b[23m Spouse, Head of Household, Other relat~\n",
      "$ Marital.status                  \u001b[3m\u001b[38;5;246m<fct>\u001b[39m\u001b[23m Married/Living together, Widowed, Sing~\n",
      "$ Education.level                 \u001b[3m\u001b[38;5;246m<fct>\u001b[39m\u001b[23m Secondary education, No formal educati~\n",
      "$ Job.type                        \u001b[3m\u001b[38;5;246m<fct>\u001b[39m\u001b[23m Self employed, Government Dependent, S~\n"
     ]
    }
   ],
   "source": [
    "glimpse(DAT)"
   ]
  },
  {
   "cell_type": "code",
   "execution_count": 11,
   "id": "64f67fc8",
   "metadata": {},
   "outputs": [
    {
     "data": {
      "text/html": [
       "<dl class=dl-horizontal>\n",
       "\t<dt>Country</dt>\n",
       "\t\t<dd>0</dd>\n",
       "\t<dt>Year</dt>\n",
       "\t\t<dd>0</dd>\n",
       "\t<dt>Bank.account</dt>\n",
       "\t\t<dd>0</dd>\n",
       "\t<dt>Location.Type</dt>\n",
       "\t\t<dd>0</dd>\n",
       "\t<dt>Access.to.cellphone</dt>\n",
       "\t\t<dd>0</dd>\n",
       "\t<dt>Household.size</dt>\n",
       "\t\t<dd>0</dd>\n",
       "\t<dt>Age.of.respondent</dt>\n",
       "\t\t<dd>0</dd>\n",
       "\t<dt>Gender.of.respondent</dt>\n",
       "\t\t<dd>0</dd>\n",
       "\t<dt>Relation.with.head.of.the.house</dt>\n",
       "\t\t<dd>0</dd>\n",
       "\t<dt>Marital.status</dt>\n",
       "\t\t<dd>0</dd>\n",
       "\t<dt>Education.level</dt>\n",
       "\t\t<dd>0</dd>\n",
       "\t<dt>Job.type</dt>\n",
       "\t\t<dd>0</dd>\n",
       "</dl>\n"
      ],
      "text/latex": [
       "\\begin{description*}\n",
       "\\item[Country] 0\n",
       "\\item[Year] 0\n",
       "\\item[Bank.account] 0\n",
       "\\item[Location.Type] 0\n",
       "\\item[Access.to.cellphone] 0\n",
       "\\item[Household.size] 0\n",
       "\\item[Age.of.respondent] 0\n",
       "\\item[Gender.of.respondent] 0\n",
       "\\item[Relation.with.head.of.the.house] 0\n",
       "\\item[Marital.status] 0\n",
       "\\item[Education.level] 0\n",
       "\\item[Job.type] 0\n",
       "\\end{description*}\n"
      ],
      "text/markdown": [
       "Country\n",
       ":   0Year\n",
       ":   0Bank.account\n",
       ":   0Location.Type\n",
       ":   0Access.to.cellphone\n",
       ":   0Household.size\n",
       ":   0Age.of.respondent\n",
       ":   0Gender.of.respondent\n",
       ":   0Relation.with.head.of.the.house\n",
       ":   0Marital.status\n",
       ":   0Education.level\n",
       ":   0Job.type\n",
       ":   0\n",
       "\n"
      ],
      "text/plain": [
       "                        Country                            Year \n",
       "                              0                               0 \n",
       "                   Bank.account                   Location.Type \n",
       "                              0                               0 \n",
       "            Access.to.cellphone                  Household.size \n",
       "                              0                               0 \n",
       "              Age.of.respondent            Gender.of.respondent \n",
       "                              0                               0 \n",
       "Relation.with.head.of.the.house                  Marital.status \n",
       "                              0                               0 \n",
       "                Education.level                        Job.type \n",
       "                              0                               0 "
      ]
     },
     "metadata": {},
     "output_type": "display_data"
    }
   ],
   "source": [
    "# check for missing values\n",
    "is.na(DAT)%>%colSums()"
   ]
  },
  {
   "cell_type": "code",
   "execution_count": 12,
   "id": "cbd10430",
   "metadata": {},
   "outputs": [
    {
     "data": {
      "text/html": [
       "<ol class=list-inline>\n",
       "\t<li>'Country'</li>\n",
       "\t<li>'Year'</li>\n",
       "\t<li>'Bank.account'</li>\n",
       "\t<li>'Location.Type'</li>\n",
       "\t<li>'Access.to.cellphone'</li>\n",
       "\t<li>'Household.size'</li>\n",
       "\t<li>'Age.of.respondent'</li>\n",
       "\t<li>'Gender.of.respondent'</li>\n",
       "\t<li>'Relation.with.head.of.the.house'</li>\n",
       "\t<li>'Marital.status'</li>\n",
       "\t<li>'Education.level'</li>\n",
       "\t<li>'Job.type'</li>\n",
       "</ol>\n"
      ],
      "text/latex": [
       "\\begin{enumerate*}\n",
       "\\item 'Country'\n",
       "\\item 'Year'\n",
       "\\item 'Bank.account'\n",
       "\\item 'Location.Type'\n",
       "\\item 'Access.to.cellphone'\n",
       "\\item 'Household.size'\n",
       "\\item 'Age.of.respondent'\n",
       "\\item 'Gender.of.respondent'\n",
       "\\item 'Relation.with.head.of.the.house'\n",
       "\\item 'Marital.status'\n",
       "\\item 'Education.level'\n",
       "\\item 'Job.type'\n",
       "\\end{enumerate*}\n"
      ],
      "text/markdown": [
       "1. 'Country'\n",
       "2. 'Year'\n",
       "3. 'Bank.account'\n",
       "4. 'Location.Type'\n",
       "5. 'Access.to.cellphone'\n",
       "6. 'Household.size'\n",
       "7. 'Age.of.respondent'\n",
       "8. 'Gender.of.respondent'\n",
       "9. 'Relation.with.head.of.the.house'\n",
       "10. 'Marital.status'\n",
       "11. 'Education.level'\n",
       "12. 'Job.type'\n",
       "\n",
       "\n"
      ],
      "text/plain": [
       " [1] \"Country\"                         \"Year\"                           \n",
       " [3] \"Bank.account\"                    \"Location.Type\"                  \n",
       " [5] \"Access.to.cellphone\"             \"Household.size\"                 \n",
       " [7] \"Age.of.respondent\"               \"Gender.of.respondent\"           \n",
       " [9] \"Relation.with.head.of.the.house\" \"Marital.status\"                 \n",
       "[11] \"Education.level\"                 \"Job.type\"                       "
      ]
     },
     "metadata": {},
     "output_type": "display_data"
    }
   ],
   "source": [
    "colnames(DAT)"
   ]
  },
  {
   "cell_type": "markdown",
   "id": "96c9a46e",
   "metadata": {},
   "source": [
    "# Test for Equal means of ages"
   ]
  },
  {
   "cell_type": "code",
   "execution_count": 16,
   "id": "9002da3e",
   "metadata": {},
   "outputs": [
    {
     "name": "stderr",
     "output_type": "stream",
     "text": [
      "`stat_bin()` using `bins = 30`. Pick better value with `binwidth`.\n"
     ]
    },
    {
     "data": {
      "image/png": "[encoded data removed]",
      "text/plain": [
       "plot without title"
      ]
     },
     "metadata": {},
     "output_type": "display_data"
    }
   ],
   "source": [
    "#hist(DAT$Age.of.respondent)\n",
    "\n",
    "\n",
    "ggplot(data= DAT  )+\n",
    "geom_histogram(fill= '#e68b56', mapping = aes(x =`Age.of.respondent`))+\n",
    "ggtitle('Age of respondents histogram plot')"
   ]
  },
  {
   "cell_type": "code",
   "execution_count": 22,
   "id": "d02be526",
   "metadata": {},
   "outputs": [
    {
     "name": "stderr",
     "output_type": "stream",
     "text": [
      "`stat_bin()` using `bins = 30`. Pick better value with `binwidth`.\n",
      "`stat_bin()` using `bins = 30`. Pick better value with `binwidth`.\n"
     ]
    },
    {
     "data": {
      "image/png": "[encoded data removed]",
      "text/plain": [
       "plot without title"
      ]
     },
     "metadata": {},
     "output_type": "display_data"
    },
    {
     "data": {
      "image/png": "[encoded data removed]",
      "text/plain": [
       "plot without title"
      ]
     },
     "metadata": {},
     "output_type": "display_data"
    }
   ],
   "source": [
    "ggplot(data= DAT%>%filter(`Gender.of.respondent`=='Male')  )+\n",
    "geom_histogram(fill= 'royalblue', mapping = aes(x =`Age.of.respondent`))+\n",
    "ggtitle('Age of respondents histogram plot (Male respondent only)');\n",
    "\n",
    "\n",
    "ggplot(data= DAT%>%filter(`Gender.of.respondent`=='Female')  )+\n",
    "geom_histogram(fill= 'pink', mapping = aes(x =`Age.of.respondent`))+\n",
    "ggtitle('Age of respondents histogram plot (Female respondent only)');"
   ]
  },
  {
   "cell_type": "code",
   "execution_count": 13,
   "id": "c5c087f9",
   "metadata": {},
   "outputs": [
    {
     "data": {
      "text/plain": [
       "\n",
       "\tOne Sample t-test\n",
       "\n",
       "data:  DAT$Age.of.respondent\n",
       "t = 360.26, df = 23523, p-value < 2.2e-16\n",
       "alternative hypothesis: true mean is not equal to 0\n",
       "95 percent confidence interval:\n",
       " 38.59410 39.01635\n",
       "sample estimates:\n",
       "mean of x \n",
       " 38.80522 \n"
      ]
     },
     "metadata": {},
     "output_type": "display_data"
    }
   ],
   "source": [
    "# test for means\n",
    "t.test(DAT$Age.of.respondent)"
   ]
  },
  {
   "cell_type": "code",
   "execution_count": 19,
   "id": "1691bccf",
   "metadata": {},
   "outputs": [
    {
     "data": {
      "text/html": [
       "<ol class=list-inline>\n",
       "\t<li>'Country'</li>\n",
       "\t<li>'Year'</li>\n",
       "\t<li>'Bank.account'</li>\n",
       "\t<li>'Location.Type'</li>\n",
       "\t<li>'Access.to.cellphone'</li>\n",
       "\t<li>'Household.size'</li>\n",
       "\t<li>'Age.of.respondent'</li>\n",
       "\t<li>'Gender.of.respondent'</li>\n",
       "\t<li>'Relation.with.head.of.the.house'</li>\n",
       "\t<li>'Marital.status'</li>\n",
       "\t<li>'Education.level'</li>\n",
       "\t<li>'Job.type'</li>\n",
       "</ol>\n"
      ],
      "text/latex": [
       "\\begin{enumerate*}\n",
       "\\item 'Country'\n",
       "\\item 'Year'\n",
       "\\item 'Bank.account'\n",
       "\\item 'Location.Type'\n",
       "\\item 'Access.to.cellphone'\n",
       "\\item 'Household.size'\n",
       "\\item 'Age.of.respondent'\n",
       "\\item 'Gender.of.respondent'\n",
       "\\item 'Relation.with.head.of.the.house'\n",
       "\\item 'Marital.status'\n",
       "\\item 'Education.level'\n",
       "\\item 'Job.type'\n",
       "\\end{enumerate*}\n"
      ],
      "text/markdown": [
       "1. 'Country'\n",
       "2. 'Year'\n",
       "3. 'Bank.account'\n",
       "4. 'Location.Type'\n",
       "5. 'Access.to.cellphone'\n",
       "6. 'Household.size'\n",
       "7. 'Age.of.respondent'\n",
       "8. 'Gender.of.respondent'\n",
       "9. 'Relation.with.head.of.the.house'\n",
       "10. 'Marital.status'\n",
       "11. 'Education.level'\n",
       "12. 'Job.type'\n",
       "\n",
       "\n"
      ],
      "text/plain": [
       " [1] \"Country\"                         \"Year\"                           \n",
       " [3] \"Bank.account\"                    \"Location.Type\"                  \n",
       " [5] \"Access.to.cellphone\"             \"Household.size\"                 \n",
       " [7] \"Age.of.respondent\"               \"Gender.of.respondent\"           \n",
       " [9] \"Relation.with.head.of.the.house\" \"Marital.status\"                 \n",
       "[11] \"Education.level\"                 \"Job.type\"                       "
      ]
     },
     "metadata": {},
     "output_type": "display_data"
    }
   ],
   "source": [
    "colnames(DAT)"
   ]
  },
  {
   "cell_type": "markdown",
   "id": "acd0ff59",
   "metadata": {},
   "source": [
    "# Test for differences in means"
   ]
  },
  {
   "cell_type": "code",
   "execution_count": 24,
   "id": "39de14a2",
   "metadata": {},
   "outputs": [],
   "source": [
    "DAT%>% filter(`Gender.of.respondent`=='Male')-> df_male\n",
    "DAT%>% filter(`Gender.of.respondent`=='Female')-> df_fmale"
   ]
  },
  {
   "cell_type": "code",
   "execution_count": 25,
   "id": "417ed211",
   "metadata": {},
   "outputs": [
    {
     "data": {
      "text/plain": [
       "\n",
       "\tOne Sample t-test\n",
       "\n",
       "data:  df_male$Age.of.respondent\n",
       "t = 235.07, df = 9646, p-value < 2.2e-16\n",
       "alternative hypothesis: true mean is not equal to 0\n",
       "95 percent confidence interval:\n",
       " 38.73204 39.38343\n",
       "sample estimates:\n",
       "mean of x \n",
       " 39.05774 \n"
      ]
     },
     "metadata": {},
     "output_type": "display_data"
    },
    {
     "name": "stdout",
     "output_type": "stream",
     "text": [
      "[1] \"===========================\"\n"
     ]
    },
    {
     "data": {
      "text/plain": [
       "\n",
       "\tOne Sample t-test\n",
       "\n",
       "data:  df_fmale$Age.of.respondent\n",
       "t = 273.19, df = 13876, p-value < 2.2e-16\n",
       "alternative hypothesis: true mean is not equal to 0\n",
       "95 percent confidence interval:\n",
       " 38.35251 38.90684\n",
       "sample estimates:\n",
       "mean of x \n",
       " 38.62968 \n"
      ]
     },
     "metadata": {},
     "output_type": "display_data"
    }
   ],
   "source": [
    "t.test(df_male$Age.of.respondent)\n",
    "print('===========================')\n",
    "t.test(df_fmale$Age.of.respondent)"
   ]
  },
  {
   "cell_type": "markdown",
   "id": "9a16e2d3",
   "metadata": {},
   "source": [
    "# Exploratory analysis"
   ]
  },
  {
   "cell_type": "code",
   "execution_count": 26,
   "id": "2a28d95c",
   "metadata": {},
   "outputs": [
    {
     "data": {
      "text/html": [
       "<table>\n",
       "<thead><tr><th scope=col>Country</th><th scope=col>Year</th><th scope=col>Bank.account</th><th scope=col>Location.Type</th><th scope=col>Access.to.cellphone</th><th scope=col>Household.size</th><th scope=col>Age.of.respondent</th><th scope=col>Gender.of.respondent</th><th scope=col>Relation.with.head.of.the.house</th><th scope=col>Marital.status</th><th scope=col>Education.level</th><th scope=col>Job.type</th></tr></thead>\n",
       "<tbody>\n",
       "\t<tr><td>Kenya                          </td><td>2018                           </td><td>Yes                            </td><td>Rural                          </td><td>Yes                            </td><td>3                              </td><td>24                             </td><td>Female                         </td><td>Spouse                         </td><td>Married/Living together        </td><td>Secondary education            </td><td>Self employed                  </td></tr>\n",
       "\t<tr><td>Kenya                          </td><td>2018                           </td><td>No                             </td><td>Rural                          </td><td>No                             </td><td>5                              </td><td>70                             </td><td>Female                         </td><td>Head of Household              </td><td>Widowed                        </td><td>No formal education            </td><td>Government Dependent           </td></tr>\n",
       "\t<tr><td>Kenya                          </td><td>2018                           </td><td>Yes                            </td><td>Urban                          </td><td>Yes                            </td><td>5                              </td><td>26                             </td><td>Male                           </td><td>Other relative                 </td><td>Single/Never Married           </td><td>Vocational/Specialised training</td><td>Self employed                  </td></tr>\n",
       "\t<tr><td>Kenya                          </td><td>2018                           </td><td>No                             </td><td>Rural                          </td><td>Yes                            </td><td>5                              </td><td>34                             </td><td>Female                         </td><td>Head of Household              </td><td>Married/Living together        </td><td>Primary education              </td><td>Formally employed Private      </td></tr>\n",
       "\t<tr><td>Kenya                          </td><td>2018                           </td><td>No                             </td><td>Urban                          </td><td>No                             </td><td>8                              </td><td>26                             </td><td>Male                           </td><td>Child                          </td><td>Single/Never Married           </td><td>Primary education              </td><td>Informally employed            </td></tr>\n",
       "\t<tr><td>Kenya                          </td><td>2018                           </td><td>No                             </td><td>Rural                          </td><td>No                             </td><td>7                              </td><td>26                             </td><td>Female                         </td><td>Spouse                         </td><td>Married/Living together        </td><td>Primary education              </td><td>Informally employed            </td></tr>\n",
       "</tbody>\n",
       "</table>\n"
      ],
      "text/latex": [
       "\\begin{tabular}{r|llllllllllll}\n",
       " Country & Year & Bank.account & Location.Type & Access.to.cellphone & Household.size & Age.of.respondent & Gender.of.respondent & Relation.with.head.of.the.house & Marital.status & Education.level & Job.type\\\\\n",
       "\\hline\n",
       "\t Kenya                           & 2018                            & Yes                             & Rural                           & Yes                             & 3                               & 24                              & Female                          & Spouse                          & Married/Living together         & Secondary education             & Self employed                  \\\\\n",
       "\t Kenya                           & 2018                            & No                              & Rural                           & No                              & 5                               & 70                              & Female                          & Head of Household               & Widowed                         & No formal education             & Government Dependent           \\\\\n",
       "\t Kenya                           & 2018                            & Yes                             & Urban                           & Yes                             & 5                               & 26                              & Male                            & Other relative                  & Single/Never Married            & Vocational/Specialised training & Self employed                  \\\\\n",
       "\t Kenya                           & 2018                            & No                              & Rural                           & Yes                             & 5                               & 34                              & Female                          & Head of Household               & Married/Living together         & Primary education               & Formally employed Private      \\\\\n",
       "\t Kenya                           & 2018                            & No                              & Urban                           & No                              & 8                               & 26                              & Male                            & Child                           & Single/Never Married            & Primary education               & Informally employed            \\\\\n",
       "\t Kenya                           & 2018                            & No                              & Rural                           & No                              & 7                               & 26                              & Female                          & Spouse                          & Married/Living together         & Primary education               & Informally employed            \\\\\n",
       "\\end{tabular}\n"
      ],
      "text/markdown": [
       "\n",
       "| Country | Year | Bank.account | Location.Type | Access.to.cellphone | Household.size | Age.of.respondent | Gender.of.respondent | Relation.with.head.of.the.house | Marital.status | Education.level | Job.type |\n",
       "|---|---|---|---|---|---|---|---|---|---|---|---|\n",
       "| Kenya                           | 2018                            | Yes                             | Rural                           | Yes                             | 3                               | 24                              | Female                          | Spouse                          | Married/Living together         | Secondary education             | Self employed                   |\n",
       "| Kenya                           | 2018                            | No                              | Rural                           | No                              | 5                               | 70                              | Female                          | Head of Household               | Widowed                         | No formal education             | Government Dependent            |\n",
       "| Kenya                           | 2018                            | Yes                             | Urban                           | Yes                             | 5                               | 26                              | Male                            | Other relative                  | Single/Never Married            | Vocational/Specialised training | Self employed                   |\n",
       "| Kenya                           | 2018                            | No                              | Rural                           | Yes                             | 5                               | 34                              | Female                          | Head of Household               | Married/Living together         | Primary education               | Formally employed Private       |\n",
       "| Kenya                           | 2018                            | No                              | Urban                           | No                              | 8                               | 26                              | Male                            | Child                           | Single/Never Married            | Primary education               | Informally employed             |\n",
       "| Kenya                           | 2018                            | No                              | Rural                           | No                              | 7                               | 26                              | Female                          | Spouse                          | Married/Living together         | Primary education               | Informally employed             |\n",
       "\n"
      ],
      "text/plain": [
       "  Country Year Bank.account Location.Type Access.to.cellphone Household.size\n",
       "1 Kenya   2018 Yes          Rural         Yes                 3             \n",
       "2 Kenya   2018 No           Rural         No                  5             \n",
       "3 Kenya   2018 Yes          Urban         Yes                 5             \n",
       "4 Kenya   2018 No           Rural         Yes                 5             \n",
       "5 Kenya   2018 No           Urban         No                  8             \n",
       "6 Kenya   2018 No           Rural         No                  7             \n",
       "  Age.of.respondent Gender.of.respondent Relation.with.head.of.the.house\n",
       "1 24                Female               Spouse                         \n",
       "2 70                Female               Head of Household              \n",
       "3 26                Male                 Other relative                 \n",
       "4 34                Female               Head of Household              \n",
       "5 26                Male                 Child                          \n",
       "6 26                Female               Spouse                         \n",
       "  Marital.status          Education.level                \n",
       "1 Married/Living together Secondary education            \n",
       "2 Widowed                 No formal education            \n",
       "3 Single/Never Married    Vocational/Specialised training\n",
       "4 Married/Living together Primary education              \n",
       "5 Single/Never Married    Primary education              \n",
       "6 Married/Living together Primary education              \n",
       "  Job.type                 \n",
       "1 Self employed            \n",
       "2 Government Dependent     \n",
       "3 Self employed            \n",
       "4 Formally employed Private\n",
       "5 Informally employed      \n",
       "6 Informally employed      "
      ]
     },
     "metadata": {},
     "output_type": "display_data"
    }
   ],
   "source": [
    "head(DAT)"
   ]
  },
  {
   "cell_type": "code",
   "execution_count": null,
   "id": "de80a8de",
   "metadata": {},
   "outputs": [],
   "source": []
  },
  {
   "cell_type": "markdown",
   "id": "a86206f5",
   "metadata": {},
   "source": [
    "# No. of records in each country"
   ]
  },
  {
   "cell_type": "code",
   "execution_count": 33,
   "id": "cad57776",
   "metadata": {},
   "outputs": [
    {
     "data": {
      "text/html": [
       "<table>\n",
       "<thead><tr><th scope=col>Country</th><th scope=col>No. of individuals</th></tr></thead>\n",
       "<tbody>\n",
       "\t<tr><td>Kenya   </td><td>6068    </td></tr>\n",
       "\t<tr><td>Rwanda  </td><td>8735    </td></tr>\n",
       "\t<tr><td>Tanzania</td><td>6620    </td></tr>\n",
       "\t<tr><td>Uganda  </td><td>2101    </td></tr>\n",
       "</tbody>\n",
       "</table>\n"
      ],
      "text/latex": [
       "\\begin{tabular}{r|ll}\n",
       " Country & No. of individuals\\\\\n",
       "\\hline\n",
       "\t Kenya    & 6068    \\\\\n",
       "\t Rwanda   & 8735    \\\\\n",
       "\t Tanzania & 6620    \\\\\n",
       "\t Uganda   & 2101    \\\\\n",
       "\\end{tabular}\n"
      ],
      "text/markdown": [
       "\n",
       "| Country | No. of individuals |\n",
       "|---|---|\n",
       "| Kenya    | 6068     |\n",
       "| Rwanda   | 8735     |\n",
       "| Tanzania | 6620     |\n",
       "| Uganda   | 2101     |\n",
       "\n"
      ],
      "text/plain": [
       "  Country  No. of individuals\n",
       "1 Kenya    6068              \n",
       "2 Rwanda   8735              \n",
       "3 Tanzania 6620              \n",
       "4 Uganda   2101              "
      ]
     },
     "metadata": {},
     "output_type": "display_data"
    },
    {
     "data": {
      "image/png": "[encoded data removed]",
      "text/plain": [
       "plot without title"
      ]
     },
     "metadata": {},
     "output_type": "display_data"
    }
   ],
   "source": [
    "\n",
    "# counts by country\n",
    "DAT%>%group_by(`Country`)%>%summarise('No. of individuals'= n())\n",
    "\n",
    "\n",
    "DAT%>%group_by(`Country`)%>%summarise('No. of individuals'= n())->country\n",
    "ggplot(data=country)+geom_bar(stat='identity', aes(x = `Country`, y=`No. of individuals`))"
   ]
  },
  {
   "cell_type": "code",
   "execution_count": null,
   "id": "16585d67",
   "metadata": {},
   "outputs": [],
   "source": [
    "# No. of records by household size"
   ]
  },
  {
   "cell_type": "code",
   "execution_count": 38,
   "id": "906f8397",
   "metadata": {},
   "outputs": [
    {
     "data": {
      "text/html": [
       "<table>\n",
       "<thead><tr><th scope=col>Bank.account</th><th scope=col>No. of record</th><th scope=col>pct of record</th></tr></thead>\n",
       "<tbody>\n",
       "\t<tr><td>No       </td><td>20212    </td><td>0.8592076</td></tr>\n",
       "\t<tr><td>Yes      </td><td> 3312    </td><td>0.1407924</td></tr>\n",
       "</tbody>\n",
       "</table>\n"
      ],
      "text/latex": [
       "\\begin{tabular}{r|lll}\n",
       " Bank.account & No. of record & pct of record\\\\\n",
       "\\hline\n",
       "\t No        & 20212     & 0.8592076\\\\\n",
       "\t Yes       &  3312     & 0.1407924\\\\\n",
       "\\end{tabular}\n"
      ],
      "text/markdown": [
       "\n",
       "| Bank.account | No. of record | pct of record |\n",
       "|---|---|---|\n",
       "| No        | 20212     | 0.8592076 |\n",
       "| Yes       |  3312     | 0.1407924 |\n",
       "\n"
      ],
      "text/plain": [
       "  Bank.account No. of record pct of record\n",
       "1 No           20212         0.8592076    \n",
       "2 Yes           3312         0.1407924    "
      ]
     },
     "metadata": {},
     "output_type": "display_data"
    }
   ],
   "source": [
    "DAT%>%group_by(`Bank.account`)%>%summarise('No. of record'= n(),)%>%\n",
    "mutate('pct of record'= `No. of record`/ sum(`No. of record`))"
   ]
  },
  {
   "cell_type": "markdown",
   "id": "d7e16b96",
   "metadata": {},
   "source": [
    "# No. of records by household size"
   ]
  },
  {
   "cell_type": "code",
   "execution_count": 56,
   "id": "13cf2e98",
   "metadata": {},
   "outputs": [
    {
     "data": {
      "text/html": [
       "<table>\n",
       "<thead><tr><th scope=col>Household.size</th><th scope=col>No. of record</th><th scope=col>pct of record (%)</th></tr></thead>\n",
       "<tbody>\n",
       "\t<tr><td> 2          </td><td>5229        </td><td>22.228362523</td></tr>\n",
       "\t<tr><td> 3          </td><td>3920        </td><td>16.663832682</td></tr>\n",
       "\t<tr><td> 4          </td><td>3474        </td><td>14.767896616</td></tr>\n",
       "\t<tr><td> 1          </td><td>3057        </td><td>12.995238905</td></tr>\n",
       "\t<tr><td> 5          </td><td>2853        </td><td>12.128039449</td></tr>\n",
       "\t<tr><td> 6          </td><td>2096        </td><td> 8.910049311</td></tr>\n",
       "\t<tr><td> 7          </td><td>1400        </td><td> 5.951368815</td></tr>\n",
       "\t<tr><td> 8          </td><td> 751        </td><td> 3.192484271</td></tr>\n",
       "\t<tr><td> 9          </td><td> 363        </td><td> 1.543104914</td></tr>\n",
       "\t<tr><td>10          </td><td> 190        </td><td> 0.807685768</td></tr>\n",
       "\t<tr><td>11          </td><td>  69        </td><td> 0.293317463</td></tr>\n",
       "\t<tr><td>12          </td><td>  68        </td><td> 0.289066485</td></tr>\n",
       "\t<tr><td>13          </td><td>  25        </td><td> 0.106274443</td></tr>\n",
       "\t<tr><td>15          </td><td>  11        </td><td> 0.046760755</td></tr>\n",
       "\t<tr><td>14          </td><td>  10        </td><td> 0.042509777</td></tr>\n",
       "\t<tr><td>16          </td><td>   4        </td><td> 0.017003911</td></tr>\n",
       "\t<tr><td>17          </td><td>   1        </td><td> 0.004250978</td></tr>\n",
       "\t<tr><td>18          </td><td>   1        </td><td> 0.004250978</td></tr>\n",
       "\t<tr><td>20          </td><td>   1        </td><td> 0.004250978</td></tr>\n",
       "\t<tr><td>21          </td><td>   1        </td><td> 0.004250978</td></tr>\n",
       "</tbody>\n",
       "</table>\n"
      ],
      "text/latex": [
       "\\begin{tabular}{r|lll}\n",
       " Household.size & No. of record & pct of record (\\%)\\\\\n",
       "\\hline\n",
       "\t  2           & 5229         & 22.228362523\\\\\n",
       "\t  3           & 3920         & 16.663832682\\\\\n",
       "\t  4           & 3474         & 14.767896616\\\\\n",
       "\t  1           & 3057         & 12.995238905\\\\\n",
       "\t  5           & 2853         & 12.128039449\\\\\n",
       "\t  6           & 2096         &  8.910049311\\\\\n",
       "\t  7           & 1400         &  5.951368815\\\\\n",
       "\t  8           &  751         &  3.192484271\\\\\n",
       "\t  9           &  363         &  1.543104914\\\\\n",
       "\t 10           &  190         &  0.807685768\\\\\n",
       "\t 11           &   69         &  0.293317463\\\\\n",
       "\t 12           &   68         &  0.289066485\\\\\n",
       "\t 13           &   25         &  0.106274443\\\\\n",
       "\t 15           &   11         &  0.046760755\\\\\n",
       "\t 14           &   10         &  0.042509777\\\\\n",
       "\t 16           &    4         &  0.017003911\\\\\n",
       "\t 17           &    1         &  0.004250978\\\\\n",
       "\t 18           &    1         &  0.004250978\\\\\n",
       "\t 20           &    1         &  0.004250978\\\\\n",
       "\t 21           &    1         &  0.004250978\\\\\n",
       "\\end{tabular}\n"
      ],
      "text/markdown": [
       "\n",
       "| Household.size | No. of record | pct of record (%) |\n",
       "|---|---|---|\n",
       "|  2           | 5229         | 22.228362523 |\n",
       "|  3           | 3920         | 16.663832682 |\n",
       "|  4           | 3474         | 14.767896616 |\n",
       "|  1           | 3057         | 12.995238905 |\n",
       "|  5           | 2853         | 12.128039449 |\n",
       "|  6           | 2096         |  8.910049311 |\n",
       "|  7           | 1400         |  5.951368815 |\n",
       "|  8           |  751         |  3.192484271 |\n",
       "|  9           |  363         |  1.543104914 |\n",
       "| 10           |  190         |  0.807685768 |\n",
       "| 11           |   69         |  0.293317463 |\n",
       "| 12           |   68         |  0.289066485 |\n",
       "| 13           |   25         |  0.106274443 |\n",
       "| 15           |   11         |  0.046760755 |\n",
       "| 14           |   10         |  0.042509777 |\n",
       "| 16           |    4         |  0.017003911 |\n",
       "| 17           |    1         |  0.004250978 |\n",
       "| 18           |    1         |  0.004250978 |\n",
       "| 20           |    1         |  0.004250978 |\n",
       "| 21           |    1         |  0.004250978 |\n",
       "\n"
      ],
      "text/plain": [
       "   Household.size No. of record pct of record (%)\n",
       "1   2             5229          22.228362523     \n",
       "2   3             3920          16.663832682     \n",
       "3   4             3474          14.767896616     \n",
       "4   1             3057          12.995238905     \n",
       "5   5             2853          12.128039449     \n",
       "6   6             2096           8.910049311     \n",
       "7   7             1400           5.951368815     \n",
       "8   8              751           3.192484271     \n",
       "9   9              363           1.543104914     \n",
       "10 10              190           0.807685768     \n",
       "11 11               69           0.293317463     \n",
       "12 12               68           0.289066485     \n",
       "13 13               25           0.106274443     \n",
       "14 15               11           0.046760755     \n",
       "15 14               10           0.042509777     \n",
       "16 16                4           0.017003911     \n",
       "17 17                1           0.004250978     \n",
       "18 18                1           0.004250978     \n",
       "19 20                1           0.004250978     \n",
       "20 21                1           0.004250978     "
      ]
     },
     "metadata": {},
     "output_type": "display_data"
    }
   ],
   "source": [
    "DAT%>%group_by(`Household.size`)%>%\n",
    "summarise(`No. of record` = n())%>%\n",
    "mutate('pct of record (%)'= `No. of record`/sum(`No. of record`)*100)%>%\n",
    "arrange(desc(`No. of record`))"
   ]
  },
  {
   "cell_type": "markdown",
   "id": "e0f82922",
   "metadata": {},
   "source": [
    "# No. of records by Location"
   ]
  },
  {
   "cell_type": "code",
   "execution_count": 46,
   "id": "66d854b1",
   "metadata": {},
   "outputs": [
    {
     "data": {
      "text/html": [
       "<table>\n",
       "<thead><tr><th scope=col>Location.Type</th><th scope=col>No. of record</th><th scope=col>pct of record (%)</th></tr></thead>\n",
       "<tbody>\n",
       "\t<tr><td>Rural   </td><td>14343   </td><td>60.97177</td></tr>\n",
       "\t<tr><td>Urban   </td><td> 9181   </td><td>39.02823</td></tr>\n",
       "</tbody>\n",
       "</table>\n"
      ],
      "text/latex": [
       "\\begin{tabular}{r|lll}\n",
       " Location.Type & No. of record & pct of record (\\%)\\\\\n",
       "\\hline\n",
       "\t Rural    & 14343    & 60.97177\\\\\n",
       "\t Urban    &  9181    & 39.02823\\\\\n",
       "\\end{tabular}\n"
      ],
      "text/markdown": [
       "\n",
       "| Location.Type | No. of record | pct of record (%) |\n",
       "|---|---|---|\n",
       "| Rural    | 14343    | 60.97177 |\n",
       "| Urban    |  9181    | 39.02823 |\n",
       "\n"
      ],
      "text/plain": [
       "  Location.Type No. of record pct of record (%)\n",
       "1 Rural         14343         60.97177         \n",
       "2 Urban          9181         39.02823         "
      ]
     },
     "metadata": {},
     "output_type": "display_data"
    }
   ],
   "source": [
    "DAT%>%group_by(`Location.Type`)%>%\n",
    "summarise(`No. of record` = n())%>%\n",
    "mutate('pct of record (%)'= `No. of record`/sum(`No. of record`)*100)"
   ]
  },
  {
   "cell_type": "code",
   "execution_count": null,
   "id": "15a8d607",
   "metadata": {},
   "outputs": [],
   "source": [
    "# No. of records by Access to cellphone"
   ]
  },
  {
   "cell_type": "code",
   "execution_count": 55,
   "id": "0a5e06ea",
   "metadata": {},
   "outputs": [
    {
     "data": {
      "text/html": [
       "<table>\n",
       "<thead><tr><th scope=col>Access.to.cellphone</th><th scope=col>No. of record</th><th scope=col>pct of record (%)</th></tr></thead>\n",
       "<tbody>\n",
       "\t<tr><td>Yes     </td><td>17454   </td><td>74.19657</td></tr>\n",
       "\t<tr><td>No      </td><td> 6070   </td><td>25.80343</td></tr>\n",
       "</tbody>\n",
       "</table>\n"
      ],
      "text/latex": [
       "\\begin{tabular}{r|lll}\n",
       " Access.to.cellphone & No. of record & pct of record (\\%)\\\\\n",
       "\\hline\n",
       "\t Yes      & 17454    & 74.19657\\\\\n",
       "\t No       &  6070    & 25.80343\\\\\n",
       "\\end{tabular}\n"
      ],
      "text/markdown": [
       "\n",
       "| Access.to.cellphone | No. of record | pct of record (%) |\n",
       "|---|---|---|\n",
       "| Yes      | 17454    | 74.19657 |\n",
       "| No       |  6070    | 25.80343 |\n",
       "\n"
      ],
      "text/plain": [
       "  Access.to.cellphone No. of record pct of record (%)\n",
       "1 Yes                 17454         74.19657         \n",
       "2 No                   6070         25.80343         "
      ]
     },
     "metadata": {},
     "output_type": "display_data"
    }
   ],
   "source": [
    "DAT%>%group_by(`Access.to.cellphone`)%>%\n",
    "summarise(`No. of record` = n())%>%\n",
    "mutate('pct of record (%)'= `No. of record`/sum(`No. of record`)*100)%>%\n",
    "arrange(desc(`No. of record`))"
   ]
  },
  {
   "cell_type": "markdown",
   "id": "f99e3f0d",
   "metadata": {},
   "source": [
    "# No. of records by Education"
   ]
  },
  {
   "cell_type": "code",
   "execution_count": 54,
   "id": "6af10af5",
   "metadata": {},
   "outputs": [
    {
     "data": {
      "text/html": [
       "<table>\n",
       "<thead><tr><th scope=col>Education.level</th><th scope=col>No. of record</th><th scope=col>pct of record (%)</th></tr></thead>\n",
       "<tbody>\n",
       "\t<tr><td>Primary education              </td><td>12791                          </td><td>54.3742561                     </td></tr>\n",
       "\t<tr><td>No formal education            </td><td> 4515                          </td><td>19.1931644                     </td></tr>\n",
       "\t<tr><td>Secondary education            </td><td> 4223                          </td><td>17.9518789                     </td></tr>\n",
       "\t<tr><td>Tertiary education             </td><td> 1157                          </td><td> 4.9183812                     </td></tr>\n",
       "\t<tr><td>Vocational/Specialised training</td><td>  803                          </td><td> 3.4135351                     </td></tr>\n",
       "\t<tr><td>Other/Dont know/RTA            </td><td>   35                          </td><td> 0.1487842                     </td></tr>\n",
       "</tbody>\n",
       "</table>\n"
      ],
      "text/latex": [
       "\\begin{tabular}{r|lll}\n",
       " Education.level & No. of record & pct of record (\\%)\\\\\n",
       "\\hline\n",
       "\t Primary education               & 12791                           & 54.3742561                     \\\\\n",
       "\t No formal education             &  4515                           & 19.1931644                     \\\\\n",
       "\t Secondary education             &  4223                           & 17.9518789                     \\\\\n",
       "\t Tertiary education              &  1157                           &  4.9183812                     \\\\\n",
       "\t Vocational/Specialised training &   803                           &  3.4135351                     \\\\\n",
       "\t Other/Dont know/RTA             &    35                           &  0.1487842                     \\\\\n",
       "\\end{tabular}\n"
      ],
      "text/markdown": [
       "\n",
       "| Education.level | No. of record | pct of record (%) |\n",
       "|---|---|---|\n",
       "| Primary education               | 12791                           | 54.3742561                      |\n",
       "| No formal education             |  4515                           | 19.1931644                      |\n",
       "| Secondary education             |  4223                           | 17.9518789                      |\n",
       "| Tertiary education              |  1157                           |  4.9183812                      |\n",
       "| Vocational/Specialised training |   803                           |  3.4135351                      |\n",
       "| Other/Dont know/RTA             |    35                           |  0.1487842                      |\n",
       "\n"
      ],
      "text/plain": [
       "  Education.level                 No. of record pct of record (%)\n",
       "1 Primary education               12791         54.3742561       \n",
       "2 No formal education              4515         19.1931644       \n",
       "3 Secondary education              4223         17.9518789       \n",
       "4 Tertiary education               1157          4.9183812       \n",
       "5 Vocational/Specialised training   803          3.4135351       \n",
       "6 Other/Dont know/RTA                35          0.1487842       "
      ]
     },
     "metadata": {},
     "output_type": "display_data"
    }
   ],
   "source": [
    "DAT%>%group_by(`Education.level`)%>%\n",
    "summarise(`No. of record` = n())%>%\n",
    "mutate('pct of record (%)'= `No. of record`/sum(`No. of record`)*100)%>%\n",
    "arrange(desc(`No. of record`))"
   ]
  },
  {
   "cell_type": "markdown",
   "id": "33e4fc82",
   "metadata": {},
   "source": [
    "# No. of records by Job type"
   ]
  },
  {
   "cell_type": "code",
   "execution_count": 53,
   "id": "723de239",
   "metadata": {},
   "outputs": [
    {
     "data": {
      "text/html": [
       "<table>\n",
       "<thead><tr><th scope=col>Job.type</th><th scope=col>No. of record</th><th scope=col>pct of record (%)</th></tr></thead>\n",
       "<tbody>\n",
       "\t<tr><td>Self employed               </td><td>6437                        </td><td>27.3635436                  </td></tr>\n",
       "\t<tr><td>Informally employed         </td><td>5597                        </td><td>23.7927223                  </td></tr>\n",
       "\t<tr><td>Farming and Fishing         </td><td>5441                        </td><td>23.1295698                  </td></tr>\n",
       "\t<tr><td>Remittance Dependent        </td><td>2527                        </td><td>10.7422207                  </td></tr>\n",
       "\t<tr><td>Other Income                </td><td>1080                        </td><td> 4.5910559                  </td></tr>\n",
       "\t<tr><td>Formally employed Private   </td><td>1055                        </td><td> 4.4847815                  </td></tr>\n",
       "\t<tr><td>No Income                   </td><td> 627                        </td><td> 2.6653630                  </td></tr>\n",
       "\t<tr><td>Formally employed Government</td><td> 387                        </td><td> 1.6451284                  </td></tr>\n",
       "\t<tr><td>Government Dependent        </td><td> 247                        </td><td> 1.0499915                  </td></tr>\n",
       "\t<tr><td>Dont Know/Refuse to answer  </td><td> 126                        </td><td> 0.5356232                  </td></tr>\n",
       "</tbody>\n",
       "</table>\n"
      ],
      "text/latex": [
       "\\begin{tabular}{r|lll}\n",
       " Job.type & No. of record & pct of record (\\%)\\\\\n",
       "\\hline\n",
       "\t Self employed                & 6437                         & 27.3635436                  \\\\\n",
       "\t Informally employed          & 5597                         & 23.7927223                  \\\\\n",
       "\t Farming and Fishing          & 5441                         & 23.1295698                  \\\\\n",
       "\t Remittance Dependent         & 2527                         & 10.7422207                  \\\\\n",
       "\t Other Income                 & 1080                         &  4.5910559                  \\\\\n",
       "\t Formally employed Private    & 1055                         &  4.4847815                  \\\\\n",
       "\t No Income                    &  627                         &  2.6653630                  \\\\\n",
       "\t Formally employed Government &  387                         &  1.6451284                  \\\\\n",
       "\t Government Dependent         &  247                         &  1.0499915                  \\\\\n",
       "\t Dont Know/Refuse to answer   &  126                         &  0.5356232                  \\\\\n",
       "\\end{tabular}\n"
      ],
      "text/markdown": [
       "\n",
       "| Job.type | No. of record | pct of record (%) |\n",
       "|---|---|---|\n",
       "| Self employed                | 6437                         | 27.3635436                   |\n",
       "| Informally employed          | 5597                         | 23.7927223                   |\n",
       "| Farming and Fishing          | 5441                         | 23.1295698                   |\n",
       "| Remittance Dependent         | 2527                         | 10.7422207                   |\n",
       "| Other Income                 | 1080                         |  4.5910559                   |\n",
       "| Formally employed Private    | 1055                         |  4.4847815                   |\n",
       "| No Income                    |  627                         |  2.6653630                   |\n",
       "| Formally employed Government |  387                         |  1.6451284                   |\n",
       "| Government Dependent         |  247                         |  1.0499915                   |\n",
       "| Dont Know/Refuse to answer   |  126                         |  0.5356232                   |\n",
       "\n"
      ],
      "text/plain": [
       "   Job.type                     No. of record pct of record (%)\n",
       "1  Self employed                6437          27.3635436       \n",
       "2  Informally employed          5597          23.7927223       \n",
       "3  Farming and Fishing          5441          23.1295698       \n",
       "4  Remittance Dependent         2527          10.7422207       \n",
       "5  Other Income                 1080           4.5910559       \n",
       "6  Formally employed Private    1055           4.4847815       \n",
       "7  No Income                     627           2.6653630       \n",
       "8  Formally employed Government  387           1.6451284       \n",
       "9  Government Dependent          247           1.0499915       \n",
       "10 Dont Know/Refuse to answer    126           0.5356232       "
      ]
     },
     "metadata": {},
     "output_type": "display_data"
    }
   ],
   "source": [
    "DAT%>%group_by(`Job.type`)%>%\n",
    "summarise(`No. of record` = n())%>%\n",
    "mutate('pct of record (%)'= `No. of record`/sum(`No. of record`)*100)%>%\n",
    "arrange(desc(`No. of record`))"
   ]
  },
  {
   "cell_type": "code",
   "execution_count": null,
   "id": "e3632b7b",
   "metadata": {},
   "outputs": [],
   "source": []
  },
  {
   "cell_type": "markdown",
   "id": "33705043",
   "metadata": {},
   "source": [
    "# Scatter diagram of age of respondent vs house hold size"
   ]
  },
  {
   "cell_type": "code",
   "execution_count": 61,
   "id": "8bbef92f",
   "metadata": {},
   "outputs": [
    {
     "data": {
      "image/png": "[encoded data removed]",
      "text/plain": [
       "plot without title"
      ]
     },
     "metadata": {},
     "output_type": "display_data"
    }
   ],
   "source": [
    "ggplot(data=DAT, )+geom_point(mapping= aes(x=`Age.of.respondent`, y=`Household.size`), fill='royalblue', alpha=.67)"
   ]
  },
  {
   "cell_type": "code",
   "execution_count": null,
   "id": "1ae6b433",
   "metadata": {},
   "outputs": [],
   "source": []
  }
 ],
 "metadata": {
  "kernelspec": {
   "display_name": "R",
   "language": "R",
   "name": "ir"
  },
  "language_info": {
   "codemirror_mode": "r",
   "file_extension": ".r",
   "mimetype": "text/x-r-source",
   "name": "R",
   "pygments_lexer": "r",
   "version": "3.6.1"
  }
 },
 "nbformat": 4,
 "nbformat_minor": 5
}
