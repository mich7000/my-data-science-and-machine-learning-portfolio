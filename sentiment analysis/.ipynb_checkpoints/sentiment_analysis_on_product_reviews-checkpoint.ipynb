{
 "cells": [
  {
   "cell_type": "code",
   "execution_count": 36,
   "id": "bd7e0ece",
   "metadata": {},
   "outputs": [],
   "source": [
    "# import the required libraries\n",
    "%matplotlib inline\n",
    "import pandas as pd\n",
    "import numpy as np\n",
    "\n",
    "\n",
    "import nltk\n",
    "from nltk.tokenize import word_tokenize, sent_tokenize\n",
    "import text_normalizer as tn\n",
    "\n",
    "\n",
    "from sklearn.model_selection import train_test_split\n",
    "from sklearn.feature_extraction.text import CountVectorizer, TfidfTransformer, TfidfVectorizer\n",
    "\n",
    "from sklearn.naive_bayes import GaussianNB\n",
    "from sklearn.linear_model import LogisticRegression\n",
    "from sklearn.svm import SVC\n",
    "from sklearn.tree import DecisionTreeClassifier\n",
    "from sklearn.ensemble import RandomForestClassifier"
   ]
  },
  {
   "cell_type": "code",
   "execution_count": 37,
   "id": "19b539af",
   "metadata": {},
   "outputs": [],
   "source": [
    "gnb =GaussianNB()\n",
    "lr= LogisticRegression()\n",
    "svc= SVC()\n",
    "dt= DecisionTreeClassifier()\n",
    "rf = RandomForestClassifier()"
   ]
  },
  {
   "cell_type": "code",
   "execution_count": 2,
   "id": "35bcc460",
   "metadata": {},
   "outputs": [],
   "source": [
    "#product review\n",
    "amazon_cells= pd.read_csv('data/sentiment labelled sentences/amazon_cells_labelled.txt', delimiter='\\t',header=None)"
   ]
  },
  {
   "cell_type": "code",
   "execution_count": 3,
   "id": "4e14fb2e",
   "metadata": {},
   "outputs": [],
   "source": [
    "amazon_cells.columns = ['Review', 'Sentiment']"
   ]
  },
  {
   "cell_type": "code",
   "execution_count": 4,
   "id": "ec1cba57",
   "metadata": {},
   "outputs": [
    {
     "data": {
      "text/html": [
       "<div>\n",
       "<style scoped>\n",
       "    .dataframe tbody tr th:only-of-type {\n",
       "        vertical-align: middle;\n",
       "    }\n",
       "\n",
       "    .dataframe tbody tr th {\n",
       "        vertical-align: top;\n",
       "    }\n",
       "\n",
       "    .dataframe thead th {\n",
       "        text-align: right;\n",
       "    }\n",
       "</style>\n",
       "<table border=\"1\" class=\"dataframe\">\n",
       "  <thead>\n",
       "    <tr style=\"text-align: right;\">\n",
       "      <th></th>\n",
       "      <th>Review</th>\n",
       "      <th>Sentiment</th>\n",
       "    </tr>\n",
       "  </thead>\n",
       "  <tbody>\n",
       "    <tr>\n",
       "      <th>0</th>\n",
       "      <td>So there is no way for me to plug it in here i...</td>\n",
       "      <td>0</td>\n",
       "    </tr>\n",
       "    <tr>\n",
       "      <th>1</th>\n",
       "      <td>Good case, Excellent value.</td>\n",
       "      <td>1</td>\n",
       "    </tr>\n",
       "    <tr>\n",
       "      <th>2</th>\n",
       "      <td>Great for the jawbone.</td>\n",
       "      <td>1</td>\n",
       "    </tr>\n",
       "    <tr>\n",
       "      <th>3</th>\n",
       "      <td>Tied to charger for conversations lasting more...</td>\n",
       "      <td>0</td>\n",
       "    </tr>\n",
       "    <tr>\n",
       "      <th>4</th>\n",
       "      <td>The mic is great.</td>\n",
       "      <td>1</td>\n",
       "    </tr>\n",
       "  </tbody>\n",
       "</table>\n",
       "</div>"
      ],
      "text/plain": [
       "                                              Review  Sentiment\n",
       "0  So there is no way for me to plug it in here i...          0\n",
       "1                        Good case, Excellent value.          1\n",
       "2                             Great for the jawbone.          1\n",
       "3  Tied to charger for conversations lasting more...          0\n",
       "4                                  The mic is great.          1"
      ]
     },
     "execution_count": 4,
     "metadata": {},
     "output_type": "execute_result"
    }
   ],
   "source": [
    "amazon_cells.head()"
   ]
  },
  {
   "cell_type": "code",
   "execution_count": 15,
   "id": "f8f534b9",
   "metadata": {},
   "outputs": [
    {
     "name": "stdout",
     "output_type": "stream",
     "text": [
      "<class 'pandas.core.frame.DataFrame'>\n",
      "RangeIndex: 1000 entries, 0 to 999\n",
      "Data columns (total 2 columns):\n",
      " #   Column     Non-Null Count  Dtype \n",
      "---  ------     --------------  ----- \n",
      " 0   Review     1000 non-null   object\n",
      " 1   Sentiment  1000 non-null   int64 \n",
      "dtypes: int64(1), object(1)\n",
      "memory usage: 15.8+ KB\n"
     ]
    }
   ],
   "source": [
    "amazon_cells.info()"
   ]
  },
  {
   "cell_type": "code",
   "execution_count": 5,
   "id": "0fa29de5",
   "metadata": {},
   "outputs": [
    {
     "data": {
      "text/plain": [
       "Review       0\n",
       "Sentiment    0\n",
       "dtype: int64"
      ]
     },
     "execution_count": 5,
     "metadata": {},
     "output_type": "execute_result"
    }
   ],
   "source": [
    "amazon_cells.isna().sum()"
   ]
  },
  {
   "cell_type": "code",
   "execution_count": 6,
   "id": "56491f56",
   "metadata": {},
   "outputs": [
    {
     "data": {
      "text/plain": [
       "0    0.5\n",
       "1    0.5\n",
       "Name: Sentiment, dtype: float64"
      ]
     },
     "execution_count": 6,
     "metadata": {},
     "output_type": "execute_result"
    }
   ],
   "source": [
    "amazon_cells['Sentiment'].value_counts(normalize=True)"
   ]
  },
  {
   "cell_type": "code",
   "execution_count": 7,
   "id": "662c8454",
   "metadata": {},
   "outputs": [],
   "source": [
    "# split the data into training and testing set\n",
    "\n",
    "X, y = amazon_cells['Review'], amazon_cells['Sentiment']\n",
    "X_train, X_test, y_train, y_test = train_test_split(X, y, random_state=12, test_size=.3)"
   ]
  },
  {
   "cell_type": "code",
   "execution_count": 12,
   "id": "a4e322f7",
   "metadata": {},
   "outputs": [],
   "source": [
    "# normalize the train and test reviews\n",
    "\n",
    "X_train_norm = tn.normalize_corpus(corpus=X_train, \n",
    "                    accented_char_removal=True, \n",
    "                    html_stripping= False,\n",
    "                    contraction_expansion=False, \n",
    "                    stopword_removal=True,\n",
    "                    text_lower_case=True,\n",
    "                    remove_digits=False,\n",
    "                   )\n",
    "\n",
    "X_test_norm = tn.normalize_corpus(corpus=X_test, \n",
    "                    accented_char_removal=True, \n",
    "                    html_stripping= False,\n",
    "                    contraction_expansion=False, \n",
    "                    stopword_removal=True,\n",
    "                    text_lower_case=True,\n",
    "                    remove_digits=False,\n",
    "                   )"
   ]
  },
  {
   "cell_type": "code",
   "execution_count": 19,
   "id": "040499c5",
   "metadata": {},
   "outputs": [],
   "source": [
    "# fitting the model using TFIDF for feature engineering..\n",
    "\n",
    "count_vect = CountVectorizer(binary=False, min_df=0.0, max_df=1.0, ngram_range=(1, 2))\n",
    "tfidf = TfidfVectorizer(use_idf=True, min_df=0.0, max_df=1.0, ngram_range=(1, 2))"
   ]
  },
  {
   "cell_type": "code",
   "execution_count": 20,
   "id": "ab5b1bbf",
   "metadata": {},
   "outputs": [],
   "source": [
    "cv_train_features =count_vect.fit_transform(X_train_norm)\n",
    "cv_test_features= count_vect.transform(X_test_norm)\n",
    "\n",
    "tv_train_features=tfidf.fit_transform(X_train_norm)\n",
    "tv_test_features= tfidf.transform(X_test_norm)"
   ]
  },
  {
   "cell_type": "code",
   "execution_count": 21,
   "id": "877232bb",
   "metadata": {},
   "outputs": [
    {
     "name": "stdout",
     "output_type": "stream",
     "text": [
      "train features:  (700, 4280)\n",
      "test features:  (300, 4280)\n"
     ]
    }
   ],
   "source": [
    "# bag of words\n",
    "print('train features: ', cv_train_features.shape)\n",
    "print('test features: ', cv_test_features.shape)"
   ]
  },
  {
   "cell_type": "code",
   "execution_count": 22,
   "id": "cd6bada7",
   "metadata": {},
   "outputs": [
    {
     "name": "stdout",
     "output_type": "stream",
     "text": [
      "train features:  (700, 4280)\n",
      "test features:  (300, 4280)\n"
     ]
    }
   ],
   "source": [
    "# tfidf \n",
    "print('train features: ', tv_train_features.shape)\n",
    "print('test features: ', tv_test_features.shape)"
   ]
  },
  {
   "cell_type": "code",
   "execution_count": null,
   "id": "94828f16",
   "metadata": {},
   "outputs": [],
   "source": []
  },
  {
   "cell_type": "code",
   "execution_count": 38,
   "id": "d1c8209e",
   "metadata": {},
   "outputs": [],
   "source": [
    "clf_list = [gnb, lr, svc, dt, rf]\n",
    "clf_names = ['Gaussian NB', 'Logistic Regression', 'SVC', 'Decision tree', 'Random forest']\n",
    "model_list= []\n",
    "scores_list = []\n",
    "for clf in clf_list:\n",
    "    model = clf.fit(tv_train_features.toarray(), y_train)\n",
    "    scores = clf.score(tv_test_features.toarray(), y_test) \n",
    "    model_list.append(model)\n",
    "    scores_list.append(scores)"
   ]
  },
  {
   "cell_type": "code",
   "execution_count": null,
   "id": "856a5efb",
   "metadata": {},
   "outputs": [],
   "source": []
  },
  {
   "cell_type": "code",
   "execution_count": 39,
   "id": "b61c4915",
   "metadata": {},
   "outputs": [
    {
     "data": {
      "text/plain": [
       "Gaussian NB            0.740000\n",
       "Logistic Regression    0.803333\n",
       "SVC                    0.803333\n",
       "Decision tree          0.760000\n",
       "Random forest          0.790000\n",
       "dtype: float64"
      ]
     },
     "execution_count": 39,
     "metadata": {},
     "output_type": "execute_result"
    }
   ],
   "source": [
    "pd.Series(scores_list, index=clf_names)"
   ]
  },
  {
   "cell_type": "code",
   "execution_count": null,
   "id": "55d4f47c",
   "metadata": {},
   "outputs": [],
   "source": []
  },
  {
   "cell_type": "code",
   "execution_count": null,
   "id": "661abd87",
   "metadata": {},
   "outputs": [],
   "source": []
  },
  {
   "cell_type": "code",
   "execution_count": null,
   "id": "888ef14b",
   "metadata": {},
   "outputs": [],
   "source": []
  }
 ],
 "metadata": {
  "kernelspec": {
   "display_name": "Python 3",
   "language": "python",
   "name": "python3"
  },
  "language_info": {
   "codemirror_mode": {
    "name": "ipython",
    "version": 3
   },
   "file_extension": ".py",
   "mimetype": "text/x-python",
   "name": "python",
   "nbconvert_exporter": "python",
   "pygments_lexer": "ipython3",
   "version": "3.8.8"
  }
 },
 "nbformat": 4,
 "nbformat_minor": 5
}
