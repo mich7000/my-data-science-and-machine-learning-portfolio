{
 "cells": [
  {
   "cell_type": "code",
   "execution_count": 1,
   "metadata": {},
   "outputs": [
    {
     "name": "stderr",
     "output_type": "stream",
     "text": [
      "\n",
      "Attaching package: 'dplyr'\n",
      "\n",
      "The following objects are masked from 'package:stats':\n",
      "\n",
      "    filter, lag\n",
      "\n",
      "The following objects are masked from 'package:base':\n",
      "\n",
      "    intersect, setdiff, setequal, union\n",
      "\n",
      "Registered S3 methods overwritten by 'ggplot2':\n",
      "  method         from \n",
      "  [.quosures     rlang\n",
      "  c.quosures     rlang\n",
      "  print.quosures rlang\n",
      "\n",
      "Attaching package: 'lubridate'\n",
      "\n",
      "The following objects are masked from 'package:base':\n",
      "\n",
      "    date, intersect, setdiff, union\n",
      "\n",
      "\n",
      "Attaching package: 'rvest'\n",
      "\n",
      "The following object is masked from 'package:readr':\n",
      "\n",
      "    guess_encoding\n",
      "\n",
      "\n",
      "Attaching package: 'scales'\n",
      "\n",
      "The following object is masked from 'package:readr':\n",
      "\n",
      "    col_factor\n",
      "\n"
     ]
    }
   ],
   "source": [
    "# loading the required libraries\n",
    "options(warn=-1 )\n",
    "library('dplyr')\n",
    "library('magrittr')\n",
    "library('ggplot2')\n",
    "library('lubridate')\n",
    "library('readxl')\n",
    "library('readr')\n",
    "#library('data.table')\n",
    "library('rvest')\n",
    "library('stringr')\n",
    "library('scales')\n",
    "#library('devtools')\n",
    "\n",
    "theme_set(theme_light())\n"
   ]
  },
  {
   "cell_type": "code",
   "execution_count": 2,
   "metadata": {},
   "outputs": [
    {
     "name": "stderr",
     "output_type": "stream",
     "text": [
      "\n",
      "\u001b[36m--\u001b[39m \u001b[1m\u001b[1mColumn specification\u001b[1m\u001b[22m \u001b[36m------------------------------------------------------------------------------------------------\u001b[39m\n",
      "cols(\n",
      "  X1 = \u001b[32mcol_double()\u001b[39m,\n",
      "  `Invoice No.` = \u001b[31mcol_character()\u001b[39m,\n",
      "  `Stock Code` = \u001b[31mcol_character()\u001b[39m,\n",
      "  Description = \u001b[31mcol_character()\u001b[39m,\n",
      "  Quantity = \u001b[32mcol_double()\u001b[39m,\n",
      "  `Invoice Date` = \u001b[34mcol_datetime(format = \"\")\u001b[39m,\n",
      "  `Unit Price` = \u001b[32mcol_double()\u001b[39m,\n",
      "  `Customer ID` = \u001b[32mcol_double()\u001b[39m,\n",
      "  Country = \u001b[31mcol_character()\u001b[39m\n",
      ")\n",
      "\n"
     ]
    },
    {
     "data": {
      "text/html": [
       "<table>\n",
       "<thead><tr><th scope=col>X1</th><th scope=col>Invoice No.</th><th scope=col>Stock Code</th><th scope=col>Description</th><th scope=col>Quantity</th><th scope=col>Invoice Date</th><th scope=col>Unit Price</th><th scope=col>Customer ID</th><th scope=col>Country</th></tr></thead>\n",
       "<tbody>\n",
       "\t<tr><td>1                                  </td><td>536527                             </td><td>22809                              </td><td>SET OF 6 T-LIGHTS SANTA            </td><td> 6                                 </td><td>2010-12-01 13:04:00                </td><td>2.95                               </td><td>12662                              </td><td>Germany                            </td></tr>\n",
       "\t<tr><td>2                                  </td><td>536527                             </td><td>84347                              </td><td>ROTATING SILVER ANGELS T-LIGHT HLDR</td><td> 6                                 </td><td>2010-12-01 13:04:00                </td><td>2.55                               </td><td>12662                              </td><td>Germany                            </td></tr>\n",
       "\t<tr><td>3                                  </td><td>536527                             </td><td>84945                              </td><td>MULTI COLOUR SILVER T-LIGHT HOLDER </td><td>12                                 </td><td>2010-12-01 13:04:00                </td><td>0.85                               </td><td>12662                              </td><td>Germany                            </td></tr>\n",
       "\t<tr><td>4                                  </td><td>536527                             </td><td>22242                              </td><td>5 HOOK HANGER MAGIC TOADSTOOL      </td><td>12                                 </td><td>2010-12-01 13:04:00                </td><td>1.65                               </td><td>12662                              </td><td>Germany                            </td></tr>\n",
       "\t<tr><td>5                                  </td><td>536527                             </td><td>22244                              </td><td>3 HOOK HANGER MAGIC GARDEN         </td><td>12                                 </td><td>2010-12-01 13:04:00                </td><td>1.95                               </td><td>12662                              </td><td>Germany                            </td></tr>\n",
       "\t<tr><td>6                                  </td><td>536527                             </td><td>22243                              </td><td>5 HOOK HANGER RED MAGIC TOADSTOOL  </td><td>12                                 </td><td>2010-12-01 13:04:00                </td><td>1.65                               </td><td>12662                              </td><td>Germany                            </td></tr>\n",
       "</tbody>\n",
       "</table>\n"
      ],
      "text/latex": [
       "\\begin{tabular}{r|lllllllll}\n",
       " X1 & Invoice No. & Stock Code & Description & Quantity & Invoice Date & Unit Price & Customer ID & Country\\\\\n",
       "\\hline\n",
       "\t 1                                   & 536527                              & 22809                               & SET OF 6 T-LIGHTS SANTA             &  6                                  & 2010-12-01 13:04:00                 & 2.95                                & 12662                               & Germany                            \\\\\n",
       "\t 2                                   & 536527                              & 84347                               & ROTATING SILVER ANGELS T-LIGHT HLDR &  6                                  & 2010-12-01 13:04:00                 & 2.55                                & 12662                               & Germany                            \\\\\n",
       "\t 3                                   & 536527                              & 84945                               & MULTI COLOUR SILVER T-LIGHT HOLDER  & 12                                  & 2010-12-01 13:04:00                 & 0.85                                & 12662                               & Germany                            \\\\\n",
       "\t 4                                   & 536527                              & 22242                               & 5 HOOK HANGER MAGIC TOADSTOOL       & 12                                  & 2010-12-01 13:04:00                 & 1.65                                & 12662                               & Germany                            \\\\\n",
       "\t 5                                   & 536527                              & 22244                               & 3 HOOK HANGER MAGIC GARDEN          & 12                                  & 2010-12-01 13:04:00                 & 1.95                                & 12662                               & Germany                            \\\\\n",
       "\t 6                                   & 536527                              & 22243                               & 5 HOOK HANGER RED MAGIC TOADSTOOL   & 12                                  & 2010-12-01 13:04:00                 & 1.65                                & 12662                               & Germany                            \\\\\n",
       "\\end{tabular}\n"
      ],
      "text/markdown": [
       "\n",
       "| X1 | Invoice No. | Stock Code | Description | Quantity | Invoice Date | Unit Price | Customer ID | Country |\n",
       "|---|---|---|---|---|---|---|---|---|\n",
       "| 1                                   | 536527                              | 22809                               | SET OF 6 T-LIGHTS SANTA             |  6                                  | 2010-12-01 13:04:00                 | 2.95                                | 12662                               | Germany                             |\n",
       "| 2                                   | 536527                              | 84347                               | ROTATING SILVER ANGELS T-LIGHT HLDR |  6                                  | 2010-12-01 13:04:00                 | 2.55                                | 12662                               | Germany                             |\n",
       "| 3                                   | 536527                              | 84945                               | MULTI COLOUR SILVER T-LIGHT HOLDER  | 12                                  | 2010-12-01 13:04:00                 | 0.85                                | 12662                               | Germany                             |\n",
       "| 4                                   | 536527                              | 22242                               | 5 HOOK HANGER MAGIC TOADSTOOL       | 12                                  | 2010-12-01 13:04:00                 | 1.65                                | 12662                               | Germany                             |\n",
       "| 5                                   | 536527                              | 22244                               | 3 HOOK HANGER MAGIC GARDEN          | 12                                  | 2010-12-01 13:04:00                 | 1.95                                | 12662                               | Germany                             |\n",
       "| 6                                   | 536527                              | 22243                               | 5 HOOK HANGER RED MAGIC TOADSTOOL   | 12                                  | 2010-12-01 13:04:00                 | 1.65                                | 12662                               | Germany                             |\n",
       "\n"
      ],
      "text/plain": [
       "  X1 Invoice No. Stock Code Description                         Quantity\n",
       "1 1  536527      22809      SET OF 6 T-LIGHTS SANTA              6      \n",
       "2 2  536527      84347      ROTATING SILVER ANGELS T-LIGHT HLDR  6      \n",
       "3 3  536527      84945      MULTI COLOUR SILVER T-LIGHT HOLDER  12      \n",
       "4 4  536527      22242      5 HOOK HANGER MAGIC TOADSTOOL       12      \n",
       "5 5  536527      22244      3 HOOK HANGER MAGIC GARDEN          12      \n",
       "6 6  536527      22243      5 HOOK HANGER RED MAGIC TOADSTOOL   12      \n",
       "  Invoice Date        Unit Price Customer ID Country\n",
       "1 2010-12-01 13:04:00 2.95       12662       Germany\n",
       "2 2010-12-01 13:04:00 2.55       12662       Germany\n",
       "3 2010-12-01 13:04:00 0.85       12662       Germany\n",
       "4 2010-12-01 13:04:00 1.65       12662       Germany\n",
       "5 2010-12-01 13:04:00 1.95       12662       Germany\n",
       "6 2010-12-01 13:04:00 1.65       12662       Germany"
      ]
     },
     "metadata": {},
     "output_type": "display_data"
    }
   ],
   "source": [
    "# Loading and preparing the data.\n",
    "\n",
    "ger_df = read_csv('data/germany.csv')\n",
    "head(ger_df)\n",
    "\n",
    "ger_df%>%\n",
    "  rename('No.'= 'X1')%>%\n",
    "  filter(`Quantity` >= 0)->ger_df"
   ]
  },
  {
   "cell_type": "code",
   "execution_count": 3,
   "metadata": {},
   "outputs": [
    {
     "name": "stdout",
     "output_type": "stream",
     "text": [
      "Rows: 9,042\n",
      "Columns: 9\n",
      "$ No.            \u001b[3m\u001b[38;5;246m<dbl>\u001b[39m\u001b[23m 1, 2, 3, 4, 5, 6, 7, 8, 9, 10, 11, 12, 13, 14, 15, 31, ~\n",
      "$ `Invoice No.`  \u001b[3m\u001b[38;5;246m<chr>\u001b[39m\u001b[23m \"536527\", \"536527\", \"536527\", \"536527\", \"536527\", \"5365~\n",
      "$ `Stock Code`   \u001b[3m\u001b[38;5;246m<chr>\u001b[39m\u001b[23m \"22809\", \"84347\", \"84945\", \"22242\", \"22244\", \"22243\", \"~\n",
      "$ Description    \u001b[3m\u001b[38;5;246m<chr>\u001b[39m\u001b[23m \"SET OF 6 T-LIGHTS SANTA\", \"ROTATING SILVER ANGELS T-LI~\n",
      "$ Quantity       \u001b[3m\u001b[38;5;246m<dbl>\u001b[39m\u001b[23m 6, 6, 12, 12, 12, 12, 24, 10, 10, 4, 12, 12, 12, 12, 1,~\n",
      "$ `Invoice Date` \u001b[3m\u001b[38;5;246m<dttm>\u001b[39m\u001b[23m 2010-12-01 13:04:00, 2010-12-01 13:04:00, 2010-12-01 1~\n",
      "$ `Unit Price`   \u001b[3m\u001b[38;5;246m<dbl>\u001b[39m\u001b[23m 2.95, 2.55, 0.85, 1.65, 1.95, 1.65, 0.42, 1.95, 1.95, 4~\n",
      "$ `Customer ID`  \u001b[3m\u001b[38;5;246m<dbl>\u001b[39m\u001b[23m 12662, 12662, 12662, 12662, 12662, 12662, 12662, 12662,~\n",
      "$ Country        \u001b[3m\u001b[38;5;246m<chr>\u001b[39m\u001b[23m \"Germany\", \"Germany\", \"Germany\", \"Germany\", \"Germany\", ~\n"
     ]
    }
   ],
   "source": [
    "glimpse(ger_df) # this code shows the datatype and some few observations of each columns of the data"
   ]
  },
  {
   "cell_type": "code",
   "execution_count": 4,
   "metadata": {},
   "outputs": [
    {
     "data": {
      "text/plain": [
       "      No.       Invoice No.         Stock Code        Description       \n",
       " Min.   :   1   Length:9042        Length:9042        Length:9042       \n",
       " 1st Qu.:2450   Class :character   Class :character   Class :character  \n",
       " Median :4794   Mode  :character   Mode  :character   Mode  :character  \n",
       " Mean   :4783                                                           \n",
       " 3rd Qu.:7131                                                           \n",
       " Max.   :9495                                                           \n",
       "    Quantity       Invoice Date                   Unit Price     \n",
       " Min.   :  1.00   Min.   :2010-12-01 13:04:00   Min.   :  0.000  \n",
       " 1st Qu.:  6.00   1st Qu.:2011-04-08 09:54:00   1st Qu.:  1.250  \n",
       " Median : 10.00   Median :2011-07-20 14:38:00   Median :  1.950  \n",
       " Mean   : 13.19   Mean   :2011-07-05 04:34:40   Mean   :  3.708  \n",
       " 3rd Qu.: 12.00   3rd Qu.:2011-10-11 12:38:00   3rd Qu.:  3.750  \n",
       " Max.   :600.00   Max.   :2011-12-09 12:16:00   Max.   :599.500  \n",
       "  Customer ID      Country         \n",
       " Min.   :12426   Length:9042       \n",
       " 1st Qu.:12481   Class :character  \n",
       " Median :12600   Mode  :character  \n",
       " Mean   :12649                     \n",
       " 3rd Qu.:12662                     \n",
       " Max.   :14335                     "
      ]
     },
     "metadata": {},
     "output_type": "display_data"
    }
   ],
   "source": [
    "# getting the summary statistics of the data..\n",
    "summary(ger_df)"
   ]
  },
  {
   "cell_type": "code",
   "execution_count": 5,
   "metadata": {},
   "outputs": [
    {
     "data": {
      "text/html": [
       "<dl class=dl-horizontal>\n",
       "\t<dt>No.</dt>\n",
       "\t\t<dd>0</dd>\n",
       "\t<dt>Invoice No.</dt>\n",
       "\t\t<dd>0</dd>\n",
       "\t<dt>Stock Code</dt>\n",
       "\t\t<dd>0</dd>\n",
       "\t<dt>Description</dt>\n",
       "\t\t<dd>0</dd>\n",
       "\t<dt>Quantity</dt>\n",
       "\t\t<dd>0</dd>\n",
       "\t<dt>Invoice Date</dt>\n",
       "\t\t<dd>0</dd>\n",
       "\t<dt>Unit Price</dt>\n",
       "\t\t<dd>0</dd>\n",
       "\t<dt>Customer ID</dt>\n",
       "\t\t<dd>0</dd>\n",
       "\t<dt>Country</dt>\n",
       "\t\t<dd>0</dd>\n",
       "</dl>\n"
      ],
      "text/latex": [
       "\\begin{description*}\n",
       "\\item[No.] 0\n",
       "\\item[Invoice No.] 0\n",
       "\\item[Stock Code] 0\n",
       "\\item[Description] 0\n",
       "\\item[Quantity] 0\n",
       "\\item[Invoice Date] 0\n",
       "\\item[Unit Price] 0\n",
       "\\item[Customer ID] 0\n",
       "\\item[Country] 0\n",
       "\\end{description*}\n"
      ],
      "text/markdown": [
       "No.\n",
       ":   0Invoice No.\n",
       ":   0Stock Code\n",
       ":   0Description\n",
       ":   0Quantity\n",
       ":   0Invoice Date\n",
       ":   0Unit Price\n",
       ":   0Customer ID\n",
       ":   0Country\n",
       ":   0\n",
       "\n"
      ],
      "text/plain": [
       "         No.  Invoice No.   Stock Code  Description     Quantity Invoice Date \n",
       "           0            0            0            0            0            0 \n",
       "  Unit Price  Customer ID      Country \n",
       "           0            0            0 "
      ]
     },
     "metadata": {},
     "output_type": "display_data"
    }
   ],
   "source": [
    "# check for missing values\n",
    "is.na(ger_df)%>%colSums()"
   ]
  },
  {
   "cell_type": "code",
   "execution_count": 6,
   "metadata": {},
   "outputs": [
    {
     "data": {
      "text/html": [
       "<table>\n",
       "<thead><tr><th scope=col>Number of Unique Customers</th></tr></thead>\n",
       "<tbody>\n",
       "\t<tr><td>94</td></tr>\n",
       "</tbody>\n",
       "</table>\n"
      ],
      "text/latex": [
       "\\begin{tabular}{r|l}\n",
       " Number of Unique Customers\\\\\n",
       "\\hline\n",
       "\t 94\\\\\n",
       "\\end{tabular}\n"
      ],
      "text/markdown": [
       "\n",
       "| Number of Unique Customers |\n",
       "|---|\n",
       "| 94 |\n",
       "\n"
      ],
      "text/plain": [
       "  Number of Unique Customers\n",
       "1 94                        "
      ]
     },
     "metadata": {},
     "output_type": "display_data"
    },
    {
     "data": {
      "text/html": [
       "<table>\n",
       "<thead><tr><th scope=col>Number of Observation</th></tr></thead>\n",
       "<tbody>\n",
       "\t<tr><td>9042</td></tr>\n",
       "</tbody>\n",
       "</table>\n"
      ],
      "text/latex": [
       "\\begin{tabular}{r|l}\n",
       " Number of Observation\\\\\n",
       "\\hline\n",
       "\t 9042\\\\\n",
       "\\end{tabular}\n"
      ],
      "text/markdown": [
       "\n",
       "| Number of Observation |\n",
       "|---|\n",
       "| 9042 |\n",
       "\n"
      ],
      "text/plain": [
       "  Number of Observation\n",
       "1 9042                 "
      ]
     },
     "metadata": {},
     "output_type": "display_data"
    }
   ],
   "source": [
    "# We check our n's\n",
    "ger_df%>%\n",
    "  count(`Customer ID`)%>%\n",
    "  summarise('Number of Unique Customers' = n())\n",
    "\n",
    "ger_df%>%\n",
    "summarise(\"Number of Observation\" = n())"
   ]
  },
  {
   "cell_type": "markdown",
   "metadata": {},
   "source": [
    "<font size = 6> Exploratory Data Analysis </font>"
   ]
  },
  {
   "cell_type": "code",
   "execution_count": 7,
   "metadata": {},
   "outputs": [
    {
     "name": "stdout",
     "output_type": "stream",
     "text": [
      "[1] \"First 3 rows\"\n"
     ]
    },
    {
     "data": {
      "text/html": [
       "<table>\n",
       "<thead><tr><th scope=col>No.</th><th scope=col>Invoice No.</th><th scope=col>Stock Code</th><th scope=col>Description</th><th scope=col>Quantity</th><th scope=col>Invoice Date</th><th scope=col>Unit Price</th><th scope=col>Customer ID</th><th scope=col>Country</th></tr></thead>\n",
       "<tbody>\n",
       "\t<tr><td>1                                  </td><td>536527                             </td><td>22809                              </td><td>SET OF 6 T-LIGHTS SANTA            </td><td> 6                                 </td><td>2010-12-01 13:04:00                </td><td>2.95                               </td><td>12662                              </td><td>Germany                            </td></tr>\n",
       "\t<tr><td>2                                  </td><td>536527                             </td><td>84347                              </td><td>ROTATING SILVER ANGELS T-LIGHT HLDR</td><td> 6                                 </td><td>2010-12-01 13:04:00                </td><td>2.55                               </td><td>12662                              </td><td>Germany                            </td></tr>\n",
       "\t<tr><td>3                                  </td><td>536527                             </td><td>84945                              </td><td>MULTI COLOUR SILVER T-LIGHT HOLDER </td><td>12                                 </td><td>2010-12-01 13:04:00                </td><td>0.85                               </td><td>12662                              </td><td>Germany                            </td></tr>\n",
       "</tbody>\n",
       "</table>\n"
      ],
      "text/latex": [
       "\\begin{tabular}{r|lllllllll}\n",
       " No. & Invoice No. & Stock Code & Description & Quantity & Invoice Date & Unit Price & Customer ID & Country\\\\\n",
       "\\hline\n",
       "\t 1                                   & 536527                              & 22809                               & SET OF 6 T-LIGHTS SANTA             &  6                                  & 2010-12-01 13:04:00                 & 2.95                                & 12662                               & Germany                            \\\\\n",
       "\t 2                                   & 536527                              & 84347                               & ROTATING SILVER ANGELS T-LIGHT HLDR &  6                                  & 2010-12-01 13:04:00                 & 2.55                                & 12662                               & Germany                            \\\\\n",
       "\t 3                                   & 536527                              & 84945                               & MULTI COLOUR SILVER T-LIGHT HOLDER  & 12                                  & 2010-12-01 13:04:00                 & 0.85                                & 12662                               & Germany                            \\\\\n",
       "\\end{tabular}\n"
      ],
      "text/markdown": [
       "\n",
       "| No. | Invoice No. | Stock Code | Description | Quantity | Invoice Date | Unit Price | Customer ID | Country |\n",
       "|---|---|---|---|---|---|---|---|---|\n",
       "| 1                                   | 536527                              | 22809                               | SET OF 6 T-LIGHTS SANTA             |  6                                  | 2010-12-01 13:04:00                 | 2.95                                | 12662                               | Germany                             |\n",
       "| 2                                   | 536527                              | 84347                               | ROTATING SILVER ANGELS T-LIGHT HLDR |  6                                  | 2010-12-01 13:04:00                 | 2.55                                | 12662                               | Germany                             |\n",
       "| 3                                   | 536527                              | 84945                               | MULTI COLOUR SILVER T-LIGHT HOLDER  | 12                                  | 2010-12-01 13:04:00                 | 0.85                                | 12662                               | Germany                             |\n",
       "\n"
      ],
      "text/plain": [
       "  No. Invoice No. Stock Code Description                         Quantity\n",
       "1 1   536527      22809      SET OF 6 T-LIGHTS SANTA              6      \n",
       "2 2   536527      84347      ROTATING SILVER ANGELS T-LIGHT HLDR  6      \n",
       "3 3   536527      84945      MULTI COLOUR SILVER T-LIGHT HOLDER  12      \n",
       "  Invoice Date        Unit Price Customer ID Country\n",
       "1 2010-12-01 13:04:00 2.95       12662       Germany\n",
       "2 2010-12-01 13:04:00 2.55       12662       Germany\n",
       "3 2010-12-01 13:04:00 0.85       12662       Germany"
      ]
     },
     "metadata": {},
     "output_type": "display_data"
    },
    {
     "name": "stdout",
     "output_type": "stream",
     "text": [
      "[1] \"Last 3 rows\"\n"
     ]
    },
    {
     "data": {
      "text/html": [
       "<table>\n",
       "<thead><tr><th scope=col>No.</th><th scope=col>Invoice No.</th><th scope=col>Stock Code</th><th scope=col>Description</th><th scope=col>Quantity</th><th scope=col>Invoice Date</th><th scope=col>Unit Price</th><th scope=col>Customer ID</th><th scope=col>Country</th></tr></thead>\n",
       "<tbody>\n",
       "\t<tr><td>9493                            </td><td>581578                          </td><td>22908                           </td><td>PACK OF 20 NAPKINS RED APPLES   </td><td>12                              </td><td>2011-12-09 12:16:00             </td><td>0.85                            </td><td>12713                           </td><td>Germany                         </td></tr>\n",
       "\t<tr><td>9494                            </td><td>581578                          </td><td>23215                           </td><td>JINGLE BELL HEART ANTIQUE SILVER</td><td>12                              </td><td>2011-12-09 12:16:00             </td><td>2.08                            </td><td>12713                           </td><td>Germany                         </td></tr>\n",
       "\t<tr><td>9495                            </td><td>581578                          </td><td>22736                           </td><td>RIBBON REEL MAKING SNOWMEN      </td><td>10                              </td><td>2011-12-09 12:16:00             </td><td>1.65                            </td><td>12713                           </td><td>Germany                         </td></tr>\n",
       "</tbody>\n",
       "</table>\n"
      ],
      "text/latex": [
       "\\begin{tabular}{r|lllllllll}\n",
       " No. & Invoice No. & Stock Code & Description & Quantity & Invoice Date & Unit Price & Customer ID & Country\\\\\n",
       "\\hline\n",
       "\t 9493                             & 581578                           & 22908                            & PACK OF 20 NAPKINS RED APPLES    & 12                               & 2011-12-09 12:16:00              & 0.85                             & 12713                            & Germany                         \\\\\n",
       "\t 9494                             & 581578                           & 23215                            & JINGLE BELL HEART ANTIQUE SILVER & 12                               & 2011-12-09 12:16:00              & 2.08                             & 12713                            & Germany                         \\\\\n",
       "\t 9495                             & 581578                           & 22736                            & RIBBON REEL MAKING SNOWMEN       & 10                               & 2011-12-09 12:16:00              & 1.65                             & 12713                            & Germany                         \\\\\n",
       "\\end{tabular}\n"
      ],
      "text/markdown": [
       "\n",
       "| No. | Invoice No. | Stock Code | Description | Quantity | Invoice Date | Unit Price | Customer ID | Country |\n",
       "|---|---|---|---|---|---|---|---|---|\n",
       "| 9493                             | 581578                           | 22908                            | PACK OF 20 NAPKINS RED APPLES    | 12                               | 2011-12-09 12:16:00              | 0.85                             | 12713                            | Germany                          |\n",
       "| 9494                             | 581578                           | 23215                            | JINGLE BELL HEART ANTIQUE SILVER | 12                               | 2011-12-09 12:16:00              | 2.08                             | 12713                            | Germany                          |\n",
       "| 9495                             | 581578                           | 22736                            | RIBBON REEL MAKING SNOWMEN       | 10                               | 2011-12-09 12:16:00              | 1.65                             | 12713                            | Germany                          |\n",
       "\n"
      ],
      "text/plain": [
       "  No.  Invoice No. Stock Code Description                      Quantity\n",
       "1 9493 581578      22908      PACK OF 20 NAPKINS RED APPLES    12      \n",
       "2 9494 581578      23215      JINGLE BELL HEART ANTIQUE SILVER 12      \n",
       "3 9495 581578      22736      RIBBON REEL MAKING SNOWMEN       10      \n",
       "  Invoice Date        Unit Price Customer ID Country\n",
       "1 2011-12-09 12:16:00 0.85       12713       Germany\n",
       "2 2011-12-09 12:16:00 2.08       12713       Germany\n",
       "3 2011-12-09 12:16:00 1.65       12713       Germany"
      ]
     },
     "metadata": {},
     "output_type": "display_data"
    }
   ],
   "source": [
    "# top 3 and last 3 observation of the data\n",
    "print('First 3 rows')\n",
    "head(ger_df, 3)\n",
    "print('Last 3 rows')\n",
    "tail(ger_df,3)"
   ]
  },
  {
   "cell_type": "markdown",
   "metadata": {},
   "source": [
    "* <font size = 5> Checking for counts and distributions.</font>"
   ]
  },
  {
   "cell_type": "code",
   "execution_count": 8,
   "metadata": {},
   "outputs": [
    {
     "data": {
      "image/png": "[encoded data removed]",
      "text/plain": [
       "plot without title"
      ]
     },
     "metadata": {},
     "output_type": "display_data"
    }
   ],
   "source": [
    "# 1st we create a Month column of the data\n",
    "ger_df%>%\n",
    "  mutate('Month'= month((ger_df$`Invoice Date`)))->ger_df\n",
    "\n",
    "# then we group by months and make a count of observation in each month\n",
    "ger_df%>%\n",
    "  group_by(`Month`)%>%\n",
    "  count(`Month`)->month_count\n",
    "\n",
    "# we create month name for the graph\n",
    "month_name = c('Jan', 'Feb', 'Mar', 'Apr', \n",
    "               'May', 'Jun', 'Jul', 'Aug', 'Sep', \n",
    "               'Oct', 'Nov', 'Dec' )\n",
    "month_count['month name'] = month_name\n",
    "\n",
    "# then make plot of number of observation by each month\n",
    "options(repr.plot.width =9, repr.plot.height = 3)\n",
    "ggplot(data= month_count, mapping= aes(x = factor(`month name`, level= month_name) , y = `n`))+\n",
    "  geom_bar(stat= 'identity', fill= '#468fd9')+\n",
    "  scale_y_continuous(labels= comma, name= 'Counts')+scale_x_discrete(name= 'Month')"
   ]
  },
  {
   "cell_type": "code",
   "execution_count": 9,
   "metadata": {},
   "outputs": [
    {
     "data": {
      "image/png": "[encoded data removed]",
      "text/plain": [
       "plot without title"
      ]
     },
     "metadata": {},
     "output_type": "display_data"
    }
   ],
   "source": [
    "# we group the data by the `Description` then make a count of observation in each `Description`\n",
    "ger_df%>%\n",
    "  group_by(`Description`)%>%\n",
    "  count(`Description`)->descrp_count\n",
    "\n",
    "# first and last 10 items..\n",
    "descrp_count%>%\n",
    "     arrange(desc(`n`))%>%head(10)->f_10\n",
    "\n",
    "# plot of the first 10 counts in descending order\n",
    "ggplot(data= f_10)+\n",
    "  geom_bar(stat= 'identity', fill= '#468fd9', mapping= aes(x =reorder(`Description`, `n`)  , y =`n` ))+\n",
    "coord_flip()+\n",
    "scale_x_discrete(name= 'Items')+scale_y_continuous(name= 'Count')+\n",
    "ggtitle('10 most frequent Items')"
   ]
  },
  {
   "cell_type": "code",
   "execution_count": 10,
   "metadata": {},
   "outputs": [
    {
     "name": "stderr",
     "output_type": "stream",
     "text": [
      "`stat_bin()` using `bins = 30`. Pick better value with `binwidth`.\n"
     ]
    },
    {
     "data": {
      "image/png": "[encoded data removed]",
      "text/plain": [
       "plot without title"
      ]
     },
     "metadata": {},
     "output_type": "display_data"
    }
   ],
   "source": [
    "# the code below makes a histogram of `Description` count.\n",
    "ggplot(data= descrp_count%>%filter(`n` <= 100),  )+\n",
    "geom_histogram(fill= '#e68b56', mapping = aes(x =`n`))+\n",
    "ggtitle('Distribution of Items description')"
   ]
  },
  {
   "cell_type": "code",
   "execution_count": 11,
   "metadata": {},
   "outputs": [
    {
     "data": {
      "image/png": "[encoded data removed]",
      "text/plain": [
       "plot without title"
      ]
     },
     "metadata": {},
     "output_type": "display_data"
    }
   ],
   "source": [
    "# groups the data by `Quantity` and creates a count\n",
    "ger_df%>%\n",
    "  group_by(`Quantity`)%>%\n",
    "  count(`Quantity`)%>%\n",
    "     arrange(desc(`n`))%>%\n",
    "   head(10)->f_10_qty\n",
    "\n",
    "# plots the counts of `Quantity` in descending order.\n",
    "ggplot(data= f_10_qty)+\n",
    "  geom_bar(stat= 'identity', fill= '#468fd9', mapping= aes(x =reorder(`Quantity`, `n`)  , y =`n` ))+\n",
    "scale_y_continuous(name= 'Count')+scale_x_discrete(name= 'Quantity')+\n",
    "ggtitle('Count of Quantity (First 10)')"
   ]
  },
  {
   "cell_type": "code",
   "execution_count": 12,
   "metadata": {},
   "outputs": [
    {
     "name": "stderr",
     "output_type": "stream",
     "text": [
      "`stat_bin()` using `bins = 30`. Pick better value with `binwidth`.\n"
     ]
    },
    {
     "data": {
      "image/png": "[encoded data removed]",
      "text/plain": [
       "plot without title"
      ]
     },
     "metadata": {},
     "output_type": "display_data"
    }
   ],
   "source": [
    "# creates a histogram plot of `Quantity`\n",
    "ggplot(data= ger_df%>%\n",
    "            group_by(`Quantity`)%>%\n",
    "             count(`Quantity`))+\n",
    "geom_histogram(fill= '#e68b56', mapping = aes(x =`n`))+\n",
    "ggtitle('Distribution of Quantity')"
   ]
  },
  {
   "cell_type": "code",
   "execution_count": 13,
   "metadata": {},
   "outputs": [
    {
     "data": {
      "image/png": "[encoded data removed]",
      "text/plain": [
       "plot without title"
      ]
     },
     "metadata": {},
     "output_type": "display_data"
    }
   ],
   "source": [
    "# creates a Box-Whiskers plot of `Quantity`\n",
    "options(repr.plot.width =3, repr.plot.height = 4)\n",
    "\n",
    "ggplot(data= ger_df%>%\n",
    "            group_by(`Quantity`)%>%\n",
    "             count(`Quantity`))+\n",
    "geom_boxplot(fill= '#e68b56', mapping = aes(y =`n`))+\n",
    "ggtitle('Distribution of Quantity')"
   ]
  },
  {
   "cell_type": "markdown",
   "metadata": {},
   "source": [
    "<font size = 6> Sales by Customers </font>"
   ]
  },
  {
   "cell_type": "code",
   "execution_count": 14,
   "metadata": {},
   "outputs": [
    {
     "data": {
      "text/html": [
       "<table>\n",
       "<thead><tr><th scope=col>No.</th><th scope=col>Invoice No.</th><th scope=col>Stock Code</th><th scope=col>Description</th><th scope=col>Quantity</th><th scope=col>Invoice Date</th><th scope=col>Unit Price</th><th scope=col>Customer ID</th><th scope=col>Country</th><th scope=col>Month</th></tr></thead>\n",
       "<tbody>\n",
       "\t<tr><td>1                                  </td><td>536527                             </td><td>22809                              </td><td>SET OF 6 T-LIGHTS SANTA            </td><td> 6                                 </td><td>2010-12-01 13:04:00                </td><td>2.95                               </td><td>12662                              </td><td>Germany                            </td><td>12                                 </td></tr>\n",
       "\t<tr><td>2                                  </td><td>536527                             </td><td>84347                              </td><td>ROTATING SILVER ANGELS T-LIGHT HLDR</td><td> 6                                 </td><td>2010-12-01 13:04:00                </td><td>2.55                               </td><td>12662                              </td><td>Germany                            </td><td>12                                 </td></tr>\n",
       "\t<tr><td>3                                  </td><td>536527                             </td><td>84945                              </td><td>MULTI COLOUR SILVER T-LIGHT HOLDER </td><td>12                                 </td><td>2010-12-01 13:04:00                </td><td>0.85                               </td><td>12662                              </td><td>Germany                            </td><td>12                                 </td></tr>\n",
       "\t<tr><td>4                                  </td><td>536527                             </td><td>22242                              </td><td>5 HOOK HANGER MAGIC TOADSTOOL      </td><td>12                                 </td><td>2010-12-01 13:04:00                </td><td>1.65                               </td><td>12662                              </td><td>Germany                            </td><td>12                                 </td></tr>\n",
       "\t<tr><td>5                                  </td><td>536527                             </td><td>22244                              </td><td>3 HOOK HANGER MAGIC GARDEN         </td><td>12                                 </td><td>2010-12-01 13:04:00                </td><td>1.95                               </td><td>12662                              </td><td>Germany                            </td><td>12                                 </td></tr>\n",
       "\t<tr><td>6                                  </td><td>536527                             </td><td>22243                              </td><td>5 HOOK HANGER RED MAGIC TOADSTOOL  </td><td>12                                 </td><td>2010-12-01 13:04:00                </td><td>1.65                               </td><td>12662                              </td><td>Germany                            </td><td>12                                 </td></tr>\n",
       "</tbody>\n",
       "</table>\n"
      ],
      "text/latex": [
       "\\begin{tabular}{r|llllllllll}\n",
       " No. & Invoice No. & Stock Code & Description & Quantity & Invoice Date & Unit Price & Customer ID & Country & Month\\\\\n",
       "\\hline\n",
       "\t 1                                   & 536527                              & 22809                               & SET OF 6 T-LIGHTS SANTA             &  6                                  & 2010-12-01 13:04:00                 & 2.95                                & 12662                               & Germany                             & 12                                 \\\\\n",
       "\t 2                                   & 536527                              & 84347                               & ROTATING SILVER ANGELS T-LIGHT HLDR &  6                                  & 2010-12-01 13:04:00                 & 2.55                                & 12662                               & Germany                             & 12                                 \\\\\n",
       "\t 3                                   & 536527                              & 84945                               & MULTI COLOUR SILVER T-LIGHT HOLDER  & 12                                  & 2010-12-01 13:04:00                 & 0.85                                & 12662                               & Germany                             & 12                                 \\\\\n",
       "\t 4                                   & 536527                              & 22242                               & 5 HOOK HANGER MAGIC TOADSTOOL       & 12                                  & 2010-12-01 13:04:00                 & 1.65                                & 12662                               & Germany                             & 12                                 \\\\\n",
       "\t 5                                   & 536527                              & 22244                               & 3 HOOK HANGER MAGIC GARDEN          & 12                                  & 2010-12-01 13:04:00                 & 1.95                                & 12662                               & Germany                             & 12                                 \\\\\n",
       "\t 6                                   & 536527                              & 22243                               & 5 HOOK HANGER RED MAGIC TOADSTOOL   & 12                                  & 2010-12-01 13:04:00                 & 1.65                                & 12662                               & Germany                             & 12                                 \\\\\n",
       "\\end{tabular}\n"
      ],
      "text/markdown": [
       "\n",
       "| No. | Invoice No. | Stock Code | Description | Quantity | Invoice Date | Unit Price | Customer ID | Country | Month |\n",
       "|---|---|---|---|---|---|---|---|---|---|\n",
       "| 1                                   | 536527                              | 22809                               | SET OF 6 T-LIGHTS SANTA             |  6                                  | 2010-12-01 13:04:00                 | 2.95                                | 12662                               | Germany                             | 12                                  |\n",
       "| 2                                   | 536527                              | 84347                               | ROTATING SILVER ANGELS T-LIGHT HLDR |  6                                  | 2010-12-01 13:04:00                 | 2.55                                | 12662                               | Germany                             | 12                                  |\n",
       "| 3                                   | 536527                              | 84945                               | MULTI COLOUR SILVER T-LIGHT HOLDER  | 12                                  | 2010-12-01 13:04:00                 | 0.85                                | 12662                               | Germany                             | 12                                  |\n",
       "| 4                                   | 536527                              | 22242                               | 5 HOOK HANGER MAGIC TOADSTOOL       | 12                                  | 2010-12-01 13:04:00                 | 1.65                                | 12662                               | Germany                             | 12                                  |\n",
       "| 5                                   | 536527                              | 22244                               | 3 HOOK HANGER MAGIC GARDEN          | 12                                  | 2010-12-01 13:04:00                 | 1.95                                | 12662                               | Germany                             | 12                                  |\n",
       "| 6                                   | 536527                              | 22243                               | 5 HOOK HANGER RED MAGIC TOADSTOOL   | 12                                  | 2010-12-01 13:04:00                 | 1.65                                | 12662                               | Germany                             | 12                                  |\n",
       "\n"
      ],
      "text/plain": [
       "  No. Invoice No. Stock Code Description                         Quantity\n",
       "1 1   536527      22809      SET OF 6 T-LIGHTS SANTA              6      \n",
       "2 2   536527      84347      ROTATING SILVER ANGELS T-LIGHT HLDR  6      \n",
       "3 3   536527      84945      MULTI COLOUR SILVER T-LIGHT HOLDER  12      \n",
       "4 4   536527      22242      5 HOOK HANGER MAGIC TOADSTOOL       12      \n",
       "5 5   536527      22244      3 HOOK HANGER MAGIC GARDEN          12      \n",
       "6 6   536527      22243      5 HOOK HANGER RED MAGIC TOADSTOOL   12      \n",
       "  Invoice Date        Unit Price Customer ID Country Month\n",
       "1 2010-12-01 13:04:00 2.95       12662       Germany 12   \n",
       "2 2010-12-01 13:04:00 2.55       12662       Germany 12   \n",
       "3 2010-12-01 13:04:00 0.85       12662       Germany 12   \n",
       "4 2010-12-01 13:04:00 1.65       12662       Germany 12   \n",
       "5 2010-12-01 13:04:00 1.95       12662       Germany 12   \n",
       "6 2010-12-01 13:04:00 1.65       12662       Germany 12   "
      ]
     },
     "metadata": {},
     "output_type": "display_data"
    }
   ],
   "source": [
    "head(ger_df)"
   ]
  },
  {
   "cell_type": "code",
   "execution_count": null,
   "metadata": {},
   "outputs": [],
   "source": []
  },
  {
   "cell_type": "code",
   "execution_count": 15,
   "metadata": {},
   "outputs": [],
   "source": [
    "# creates a `Sales` column in the data.\n",
    "ger_df%>%\n",
    "  mutate('Sales' = `Quantity` * `Unit Price`)-> ger_df"
   ]
  },
  {
   "cell_type": "code",
   "execution_count": 16,
   "metadata": {},
   "outputs": [
    {
     "data": {
      "text/html": [
       "<table>\n",
       "<thead><tr><th scope=col>No.</th><th scope=col>Invoice No.</th><th scope=col>Stock Code</th><th scope=col>Description</th><th scope=col>Quantity</th><th scope=col>Invoice Date</th><th scope=col>Unit Price</th><th scope=col>Customer ID</th><th scope=col>Country</th><th scope=col>Month</th><th scope=col>Sales</th></tr></thead>\n",
       "<tbody>\n",
       "\t<tr><td>1                                  </td><td>536527                             </td><td>22809                              </td><td>SET OF 6 T-LIGHTS SANTA            </td><td> 6                                 </td><td>2010-12-01 13:04:00                </td><td>2.95                               </td><td>12662                              </td><td>Germany                            </td><td>12                                 </td><td>17.7                               </td></tr>\n",
       "\t<tr><td>2                                  </td><td>536527                             </td><td>84347                              </td><td>ROTATING SILVER ANGELS T-LIGHT HLDR</td><td> 6                                 </td><td>2010-12-01 13:04:00                </td><td>2.55                               </td><td>12662                              </td><td>Germany                            </td><td>12                                 </td><td>15.3                               </td></tr>\n",
       "\t<tr><td>3                                  </td><td>536527                             </td><td>84945                              </td><td>MULTI COLOUR SILVER T-LIGHT HOLDER </td><td>12                                 </td><td>2010-12-01 13:04:00                </td><td>0.85                               </td><td>12662                              </td><td>Germany                            </td><td>12                                 </td><td>10.2                               </td></tr>\n",
       "\t<tr><td>4                                  </td><td>536527                             </td><td>22242                              </td><td>5 HOOK HANGER MAGIC TOADSTOOL      </td><td>12                                 </td><td>2010-12-01 13:04:00                </td><td>1.65                               </td><td>12662                              </td><td>Germany                            </td><td>12                                 </td><td>19.8                               </td></tr>\n",
       "\t<tr><td>5                                  </td><td>536527                             </td><td>22244                              </td><td>3 HOOK HANGER MAGIC GARDEN         </td><td>12                                 </td><td>2010-12-01 13:04:00                </td><td>1.95                               </td><td>12662                              </td><td>Germany                            </td><td>12                                 </td><td>23.4                               </td></tr>\n",
       "\t<tr><td>6                                  </td><td>536527                             </td><td>22243                              </td><td>5 HOOK HANGER RED MAGIC TOADSTOOL  </td><td>12                                 </td><td>2010-12-01 13:04:00                </td><td>1.65                               </td><td>12662                              </td><td>Germany                            </td><td>12                                 </td><td>19.8                               </td></tr>\n",
       "</tbody>\n",
       "</table>\n"
      ],
      "text/latex": [
       "\\begin{tabular}{r|lllllllllll}\n",
       " No. & Invoice No. & Stock Code & Description & Quantity & Invoice Date & Unit Price & Customer ID & Country & Month & Sales\\\\\n",
       "\\hline\n",
       "\t 1                                   & 536527                              & 22809                               & SET OF 6 T-LIGHTS SANTA             &  6                                  & 2010-12-01 13:04:00                 & 2.95                                & 12662                               & Germany                             & 12                                  & 17.7                               \\\\\n",
       "\t 2                                   & 536527                              & 84347                               & ROTATING SILVER ANGELS T-LIGHT HLDR &  6                                  & 2010-12-01 13:04:00                 & 2.55                                & 12662                               & Germany                             & 12                                  & 15.3                               \\\\\n",
       "\t 3                                   & 536527                              & 84945                               & MULTI COLOUR SILVER T-LIGHT HOLDER  & 12                                  & 2010-12-01 13:04:00                 & 0.85                                & 12662                               & Germany                             & 12                                  & 10.2                               \\\\\n",
       "\t 4                                   & 536527                              & 22242                               & 5 HOOK HANGER MAGIC TOADSTOOL       & 12                                  & 2010-12-01 13:04:00                 & 1.65                                & 12662                               & Germany                             & 12                                  & 19.8                               \\\\\n",
       "\t 5                                   & 536527                              & 22244                               & 3 HOOK HANGER MAGIC GARDEN          & 12                                  & 2010-12-01 13:04:00                 & 1.95                                & 12662                               & Germany                             & 12                                  & 23.4                               \\\\\n",
       "\t 6                                   & 536527                              & 22243                               & 5 HOOK HANGER RED MAGIC TOADSTOOL   & 12                                  & 2010-12-01 13:04:00                 & 1.65                                & 12662                               & Germany                             & 12                                  & 19.8                               \\\\\n",
       "\\end{tabular}\n"
      ],
      "text/markdown": [
       "\n",
       "| No. | Invoice No. | Stock Code | Description | Quantity | Invoice Date | Unit Price | Customer ID | Country | Month | Sales |\n",
       "|---|---|---|---|---|---|---|---|---|---|---|\n",
       "| 1                                   | 536527                              | 22809                               | SET OF 6 T-LIGHTS SANTA             |  6                                  | 2010-12-01 13:04:00                 | 2.95                                | 12662                               | Germany                             | 12                                  | 17.7                                |\n",
       "| 2                                   | 536527                              | 84347                               | ROTATING SILVER ANGELS T-LIGHT HLDR |  6                                  | 2010-12-01 13:04:00                 | 2.55                                | 12662                               | Germany                             | 12                                  | 15.3                                |\n",
       "| 3                                   | 536527                              | 84945                               | MULTI COLOUR SILVER T-LIGHT HOLDER  | 12                                  | 2010-12-01 13:04:00                 | 0.85                                | 12662                               | Germany                             | 12                                  | 10.2                                |\n",
       "| 4                                   | 536527                              | 22242                               | 5 HOOK HANGER MAGIC TOADSTOOL       | 12                                  | 2010-12-01 13:04:00                 | 1.65                                | 12662                               | Germany                             | 12                                  | 19.8                                |\n",
       "| 5                                   | 536527                              | 22244                               | 3 HOOK HANGER MAGIC GARDEN          | 12                                  | 2010-12-01 13:04:00                 | 1.95                                | 12662                               | Germany                             | 12                                  | 23.4                                |\n",
       "| 6                                   | 536527                              | 22243                               | 5 HOOK HANGER RED MAGIC TOADSTOOL   | 12                                  | 2010-12-01 13:04:00                 | 1.65                                | 12662                               | Germany                             | 12                                  | 19.8                                |\n",
       "\n"
      ],
      "text/plain": [
       "  No. Invoice No. Stock Code Description                         Quantity\n",
       "1 1   536527      22809      SET OF 6 T-LIGHTS SANTA              6      \n",
       "2 2   536527      84347      ROTATING SILVER ANGELS T-LIGHT HLDR  6      \n",
       "3 3   536527      84945      MULTI COLOUR SILVER T-LIGHT HOLDER  12      \n",
       "4 4   536527      22242      5 HOOK HANGER MAGIC TOADSTOOL       12      \n",
       "5 5   536527      22244      3 HOOK HANGER MAGIC GARDEN          12      \n",
       "6 6   536527      22243      5 HOOK HANGER RED MAGIC TOADSTOOL   12      \n",
       "  Invoice Date        Unit Price Customer ID Country Month Sales\n",
       "1 2010-12-01 13:04:00 2.95       12662       Germany 12    17.7 \n",
       "2 2010-12-01 13:04:00 2.55       12662       Germany 12    15.3 \n",
       "3 2010-12-01 13:04:00 0.85       12662       Germany 12    10.2 \n",
       "4 2010-12-01 13:04:00 1.65       12662       Germany 12    19.8 \n",
       "5 2010-12-01 13:04:00 1.95       12662       Germany 12    23.4 \n",
       "6 2010-12-01 13:04:00 1.65       12662       Germany 12    19.8 "
      ]
     },
     "metadata": {},
     "output_type": "display_data"
    }
   ],
   "source": [
    "head(ger_df)"
   ]
  },
  {
   "cell_type": "code",
   "execution_count": 17,
   "metadata": {},
   "outputs": [
    {
     "data": {
      "image/png": "[encoded data removed]",
      "text/plain": [
       "plot without title"
      ]
     },
     "metadata": {},
     "output_type": "display_data"
    }
   ],
   "source": [
    "# The code below creates `Sales per Customer` which is the average sales made by each customer and then\n",
    "# Plots the Top 6 Sales by each customer.\n",
    "ger_df%>%\n",
    "    group_by(`Customer ID`)%>%\n",
    "    summarise('Sales per Customer' = round(sum(Sales)/n(), 2))->sales_per_customer\n",
    "\n",
    "options(repr.plot.width =6, repr.plot.height = 4)\n",
    "ggplot(data= head(sales_per_customer%>%arrange(desc(`Sales per Customer`))))+\n",
    "  geom_bar(stat= 'identity', fill= c(rep('grey', 4), rep('steelblue', 2)) , \n",
    "           mapping= aes(x =reorder(`Customer ID`, `Sales per Customer`)  , y =`Sales per Customer` ))+\n",
    "scale_y_continuous(name= 'Average Sales (in dollars)')+scale_x_discrete(name= 'Customer ID')+\n",
    "ggtitle('Top 6 Customers by Their Average Sales')+theme(panel.grid = element_blank(), \n",
    "                                                  panel.border = element_blank(),\n",
    "                                                   axis.line = element_line(colour= 'grey'))"
   ]
  },
  {
   "cell_type": "code",
   "execution_count": 50,
   "metadata": {},
   "outputs": [
    {
     "data": {
      "image/png": "[encoded data removed]",
      "text/plain": [
       "plot without title"
      ]
     },
     "metadata": {},
     "output_type": "display_data"
    }
   ],
   "source": [
    "ger_df%>%\n",
    "    group_by(`Customer ID`)%>%\n",
    "    summarise('Sales per Customer' = round(sum(Sales)/n(), 2))->sales_per_customer\n",
    "\n",
    "options(repr.plot.width =6, repr.plot.height = 4)\n",
    "ggplot(data= tail(sales_per_customer%>%arrange(desc(`Sales per Customer`))))+\n",
    "  geom_bar(stat= 'identity', fill= 'grey' , \n",
    "           mapping= aes(x =reorder(`Customer ID`, `Sales per Customer`)  , y =`Sales per Customer` ))+\n",
    "scale_y_continuous(name= 'Average Sales (in dollars)')+scale_x_discrete(name= 'Customer ID')+\n",
    "ggtitle('Least 6 Customers by Their Average Sales')+theme(panel.grid = element_blank(), \n",
    "                                                  panel.border = element_blank(),\n",
    "                                                   axis.line = element_line(colour= 'grey'))"
   ]
  },
  {
   "cell_type": "code",
   "execution_count": 18,
   "metadata": {},
   "outputs": [
    {
     "data": {
      "text/html": [
       "<table>\n",
       "<thead><tr><th scope=col>Customer ID</th><th scope=col>Sales per Customer</th></tr></thead>\n",
       "<tbody>\n",
       "\t<tr><td>12531</td><td> 7.37</td></tr>\n",
       "\t<tr><td>14335</td><td> 7.43</td></tr>\n",
       "\t<tr><td>12517</td><td> 8.81</td></tr>\n",
       "\t<tr><td>12492</td><td>13.16</td></tr>\n",
       "\t<tr><td>12581</td><td>13.18</td></tr>\n",
       "\t<tr><td>12703</td><td>13.50</td></tr>\n",
       "</tbody>\n",
       "</table>\n"
      ],
      "text/latex": [
       "\\begin{tabular}{r|ll}\n",
       " Customer ID & Sales per Customer\\\\\n",
       "\\hline\n",
       "\t 12531 &  7.37\\\\\n",
       "\t 14335 &  7.43\\\\\n",
       "\t 12517 &  8.81\\\\\n",
       "\t 12492 & 13.16\\\\\n",
       "\t 12581 & 13.18\\\\\n",
       "\t 12703 & 13.50\\\\\n",
       "\\end{tabular}\n"
      ],
      "text/markdown": [
       "\n",
       "| Customer ID | Sales per Customer |\n",
       "|---|---|\n",
       "| 12531 |  7.37 |\n",
       "| 14335 |  7.43 |\n",
       "| 12517 |  8.81 |\n",
       "| 12492 | 13.16 |\n",
       "| 12581 | 13.18 |\n",
       "| 12703 | 13.50 |\n",
       "\n"
      ],
      "text/plain": [
       "  Customer ID Sales per Customer\n",
       "1 12531        7.37             \n",
       "2 14335        7.43             \n",
       "3 12517        8.81             \n",
       "4 12492       13.16             \n",
       "5 12581       13.18             \n",
       "6 12703       13.50             "
      ]
     },
     "metadata": {},
     "output_type": "display_data"
    }
   ],
   "source": [
    "sales_per_customer%>%arrange(sales_per_customer$`Sales per Customer`)%>%head()"
   ]
  },
  {
   "cell_type": "code",
   "execution_count": 19,
   "metadata": {},
   "outputs": [
    {
     "data": {
      "image/png": "[encoded data removed]",
      "text/plain": [
       "plot without title"
      ]
     },
     "metadata": {},
     "output_type": "display_data"
    }
   ],
   "source": [
    "# The code calculates the total sales made by each customer and then plot the top 6 customers per thier total sales.\n",
    "ger_df%>%\n",
    " group_by(`Customer ID`)%>%\n",
    "  summarise('Sum of Sales' = sum(Sales))%>%\n",
    "  arrange(desc(`Sum of Sales`))->s\n",
    "\n",
    "options(repr.plot.width =6, repr.plot.height = 4)\n",
    "ggplot(data=head(s, 6))+\n",
    "  geom_bar(stat= 'identity', fill= c(rep('grey', 3), rep('steelblue', 3)), \n",
    "           mapping= aes(x =reorder(`Customer ID`, `Sum of Sales`)  , y =`Sum of Sales` ))+\n",
    "scale_y_continuous(name= 'Sum of Sales (in Dollars)', label= comma)+scale_x_discrete(name= 'Customer ID')+\n",
    "ggtitle('Top 6 Customers by Sales')+theme(panel.grid = element_blank(), \n",
    "                                          panel.border = element_blank(),\n",
    "                                         axis.line = element_line(colour= 'grey'))\n"
   ]
  },
  {
   "cell_type": "code",
   "execution_count": 51,
   "metadata": {},
   "outputs": [
    {
     "data": {
      "image/png": "[encoded data removed]",
      "text/plain": [
       "plot without title"
      ]
     },
     "metadata": {},
     "output_type": "display_data"
    }
   ],
   "source": [
    "ger_df%>%\n",
    " group_by(`Customer ID`)%>%\n",
    "  summarise('Sum of Sales' = sum(Sales))%>%\n",
    "  arrange(desc(`Sum of Sales`))->s\n",
    "\n",
    "options(repr.plot.width =6, repr.plot.height = 4)\n",
    "ggplot(data=tail(s, 6))+\n",
    "  geom_bar(stat= 'identity', fill= 'grey', \n",
    "           mapping= aes(x =reorder(`Customer ID`, `Sum of Sales`)  , y =`Sum of Sales` ))+\n",
    "scale_y_continuous(name= 'Sum of Sales (in Dollars)', label= comma)+scale_x_discrete(name= 'Customer ID')+\n",
    "ggtitle('Least 6 Customers by Sales')+theme(panel.grid = element_blank(), \n",
    "                                          panel.border = element_blank(),\n",
    "                                         axis.line = element_line(colour= 'grey'))"
   ]
  },
  {
   "cell_type": "code",
   "execution_count": 20,
   "metadata": {},
   "outputs": [
    {
     "data": {
      "text/html": [
       "<table>\n",
       "<thead><tr><th scope=col>Customer ID</th><th scope=col>Sum of Sales</th><th scope=col>% sales</th></tr></thead>\n",
       "<tbody>\n",
       "\t<tr><td>12471   </td><td>19824.05</td><td>8.66    </td></tr>\n",
       "\t<tr><td>12621   </td><td>13689.67</td><td>5.98    </td></tr>\n",
       "\t<tr><td>12477   </td><td>13219.74</td><td>5.78    </td></tr>\n",
       "\t<tr><td>12590   </td><td> 9864.26</td><td>4.31    </td></tr>\n",
       "\t<tr><td>12709   </td><td> 9736.52</td><td>4.25    </td></tr>\n",
       "\t<tr><td>12474   </td><td> 7375.79</td><td>3.22    </td></tr>\n",
       "</tbody>\n",
       "</table>\n"
      ],
      "text/latex": [
       "\\begin{tabular}{r|lll}\n",
       " Customer ID & Sum of Sales & \\% sales\\\\\n",
       "\\hline\n",
       "\t 12471    & 19824.05 & 8.66    \\\\\n",
       "\t 12621    & 13689.67 & 5.98    \\\\\n",
       "\t 12477    & 13219.74 & 5.78    \\\\\n",
       "\t 12590    &  9864.26 & 4.31    \\\\\n",
       "\t 12709    &  9736.52 & 4.25    \\\\\n",
       "\t 12474    &  7375.79 & 3.22    \\\\\n",
       "\\end{tabular}\n"
      ],
      "text/markdown": [
       "\n",
       "| Customer ID | Sum of Sales | % sales |\n",
       "|---|---|---|\n",
       "| 12471    | 19824.05 | 8.66     |\n",
       "| 12621    | 13689.67 | 5.98     |\n",
       "| 12477    | 13219.74 | 5.78     |\n",
       "| 12590    |  9864.26 | 4.31     |\n",
       "| 12709    |  9736.52 | 4.25     |\n",
       "| 12474    |  7375.79 | 3.22     |\n",
       "\n"
      ],
      "text/plain": [
       "  Customer ID Sum of Sales % sales\n",
       "1 12471       19824.05     8.66   \n",
       "2 12621       13689.67     5.98   \n",
       "3 12477       13219.74     5.78   \n",
       "4 12590        9864.26     4.31   \n",
       "5 12709        9736.52     4.25   \n",
       "6 12474        7375.79     3.22   "
      ]
     },
     "metadata": {},
     "output_type": "display_data"
    }
   ],
   "source": [
    "# this code calculate the percentage of sales made by each customer.\n",
    "s%>%mutate('% sales'= round(`Sum of Sales`/sum(`Sum of Sales`)*100, 2))%>%head(6)"
   ]
  },
  {
   "cell_type": "code",
   "execution_count": 21,
   "metadata": {},
   "outputs": [],
   "source": [
    "# Alternative code for the one above...\n",
    "xsum = sum(ger_df$Sales)\n",
    "ger_df%>%\n",
    " group_by(`Customer ID`)%>%\n",
    "  summarise('Sum of Sales' = sum(Sales))%>%\n",
    "  arrange(desc(`Sum of Sales`))%>%\n",
    "  mutate('Percentage' = round(`Sum of Sales`/xsum, 4))->x1"
   ]
  },
  {
   "cell_type": "code",
   "execution_count": 22,
   "metadata": {},
   "outputs": [
    {
     "data": {
      "text/html": [
       "<table>\n",
       "<thead><tr><th scope=col>Customer ID</th><th scope=col>Sum of Sales</th><th scope=col>Percentage</th></tr></thead>\n",
       "<tbody>\n",
       "\t<tr><td>12665 </td><td> 63.00</td><td>0.0003</td></tr>\n",
       "\t<tr><td>12531 </td><td>125.22</td><td>0.0005</td></tr>\n",
       "\t<tr><td>12738 </td><td>155.35</td><td>0.0007</td></tr>\n",
       "\t<tr><td>12622 </td><td>180.10</td><td>0.0008</td></tr>\n",
       "\t<tr><td>12522 </td><td>192.72</td><td>0.0008</td></tr>\n",
       "\t<tr><td>12581 </td><td>197.71</td><td>0.0009</td></tr>\n",
       "\t<tr><td>12702 </td><td>219.00</td><td>0.0010</td></tr>\n",
       "\t<tr><td>12561 </td><td>238.85</td><td>0.0010</td></tr>\n",
       "\t<tr><td>12492 </td><td>263.21</td><td>0.0012</td></tr>\n",
       "\t<tr><td>12703 </td><td>283.55</td><td>0.0012</td></tr>\n",
       "\t<tr><td>12623 </td><td>305.10</td><td>0.0013</td></tr>\n",
       "\t<tr><td>12614 </td><td>315.60</td><td>0.0014</td></tr>\n",
       "\t<tr><td>12648 </td><td>318.05</td><td>0.0014</td></tr>\n",
       "\t<tr><td>12519 </td><td>340.84</td><td>0.0015</td></tr>\n",
       "\t<tr><td>12527 </td><td>348.71</td><td>0.0015</td></tr>\n",
       "\t<tr><td>12566 </td><td>351.65</td><td>0.0015</td></tr>\n",
       "\t<tr><td>13817 </td><td>382.98</td><td>0.0017</td></tr>\n",
       "\t<tr><td>12498 </td><td>403.70</td><td>0.0018</td></tr>\n",
       "\t<tr><td>12580 </td><td>415.70</td><td>0.0018</td></tr>\n",
       "\t<tr><td>12592 </td><td>437.60</td><td>0.0019</td></tr>\n",
       "\t<tr><td>14335 </td><td>468.26</td><td>0.0020</td></tr>\n",
       "\t<tr><td>12644 </td><td>477.91</td><td>0.0021</td></tr>\n",
       "\t<tr><td>12504 </td><td>482.05</td><td>0.0021</td></tr>\n",
       "\t<tr><td>12479 </td><td>527.20</td><td>0.0023</td></tr>\n",
       "\t<tr><td>13812 </td><td>539.00</td><td>0.0024</td></tr>\n",
       "\t<tr><td>12559 </td><td>561.71</td><td>0.0025</td></tr>\n",
       "\t<tr><td>13816 </td><td>571.67</td><td>0.0025</td></tr>\n",
       "\t<tr><td>12601 </td><td>577.06</td><td>0.0025</td></tr>\n",
       "\t<tr><td>12426 </td><td>582.73</td><td>0.0025</td></tr>\n",
       "\t<tr><td>12521 </td><td>599.68</td><td>0.0026</td></tr>\n",
       "\t<tr><td>...</td><td>...</td><td>...</td></tr>\n",
       "\t<tr><td>12517   </td><td> 2502.84</td><td>0.0109  </td></tr>\n",
       "\t<tr><td>12600   </td><td> 2599.04</td><td>0.0114  </td></tr>\n",
       "\t<tr><td>12520   </td><td> 2634.26</td><td>0.0115  </td></tr>\n",
       "\t<tr><td>12625   </td><td> 2683.82</td><td>0.0117  </td></tr>\n",
       "\t<tr><td>12708   </td><td> 2712.91</td><td>0.0119  </td></tr>\n",
       "\t<tr><td>12480   </td><td> 3281.63</td><td>0.0143  </td></tr>\n",
       "\t<tr><td>12613   </td><td> 3344.38</td><td>0.0146  </td></tr>\n",
       "\t<tr><td>12619   </td><td> 3641.24</td><td>0.0159  </td></tr>\n",
       "\t<tr><td>12647   </td><td> 3722.82</td><td>0.0163  </td></tr>\n",
       "\t<tr><td>12668   </td><td> 3807.15</td><td>0.0166  </td></tr>\n",
       "\t<tr><td>12662   </td><td> 3849.78</td><td>0.0168  </td></tr>\n",
       "\t<tr><td>12473   </td><td> 3938.55</td><td>0.0172  </td></tr>\n",
       "\t<tr><td>13815   </td><td> 4027.36</td><td>0.0176  </td></tr>\n",
       "\t<tr><td>12569   </td><td> 4124.69</td><td>0.0180  </td></tr>\n",
       "\t<tr><td>12500   </td><td> 4257.82</td><td>0.0186  </td></tr>\n",
       "\t<tr><td>12712   </td><td> 4396.13</td><td>0.0192  </td></tr>\n",
       "\t<tr><td>12627   </td><td> 4478.53</td><td>0.0196  </td></tr>\n",
       "\t<tr><td>12524   </td><td> 4485.72</td><td>0.0196  </td></tr>\n",
       "\t<tr><td>12481   </td><td> 5596.32</td><td>0.0245  </td></tr>\n",
       "\t<tr><td>12720   </td><td> 5781.73</td><td>0.0253  </td></tr>\n",
       "\t<tr><td>12472   </td><td> 6572.11</td><td>0.0287  </td></tr>\n",
       "\t<tr><td>12626   </td><td> 6620.48</td><td>0.0289  </td></tr>\n",
       "\t<tr><td>12476   </td><td> 6816.42</td><td>0.0298  </td></tr>\n",
       "\t<tr><td>12705   </td><td> 6868.29</td><td>0.0300  </td></tr>\n",
       "\t<tr><td>12474   </td><td> 7375.79</td><td>0.0322  </td></tr>\n",
       "\t<tr><td>12709   </td><td> 9736.52</td><td>0.0425  </td></tr>\n",
       "\t<tr><td>12590   </td><td> 9864.26</td><td>0.0431  </td></tr>\n",
       "\t<tr><td>12477   </td><td>13219.74</td><td>0.0578  </td></tr>\n",
       "\t<tr><td>12621   </td><td>13689.67</td><td>0.0598  </td></tr>\n",
       "\t<tr><td>12471   </td><td>19824.05</td><td>0.0866  </td></tr>\n",
       "</tbody>\n",
       "</table>\n"
      ],
      "text/latex": [
       "\\begin{tabular}{r|lll}\n",
       " Customer ID & Sum of Sales & Percentage\\\\\n",
       "\\hline\n",
       "\t 12665  &  63.00 & 0.0003\\\\\n",
       "\t 12531  & 125.22 & 0.0005\\\\\n",
       "\t 12738  & 155.35 & 0.0007\\\\\n",
       "\t 12622  & 180.10 & 0.0008\\\\\n",
       "\t 12522  & 192.72 & 0.0008\\\\\n",
       "\t 12581  & 197.71 & 0.0009\\\\\n",
       "\t 12702  & 219.00 & 0.0010\\\\\n",
       "\t 12561  & 238.85 & 0.0010\\\\\n",
       "\t 12492  & 263.21 & 0.0012\\\\\n",
       "\t 12703  & 283.55 & 0.0012\\\\\n",
       "\t 12623  & 305.10 & 0.0013\\\\\n",
       "\t 12614  & 315.60 & 0.0014\\\\\n",
       "\t 12648  & 318.05 & 0.0014\\\\\n",
       "\t 12519  & 340.84 & 0.0015\\\\\n",
       "\t 12527  & 348.71 & 0.0015\\\\\n",
       "\t 12566  & 351.65 & 0.0015\\\\\n",
       "\t 13817  & 382.98 & 0.0017\\\\\n",
       "\t 12498  & 403.70 & 0.0018\\\\\n",
       "\t 12580  & 415.70 & 0.0018\\\\\n",
       "\t 12592  & 437.60 & 0.0019\\\\\n",
       "\t 14335  & 468.26 & 0.0020\\\\\n",
       "\t 12644  & 477.91 & 0.0021\\\\\n",
       "\t 12504  & 482.05 & 0.0021\\\\\n",
       "\t 12479  & 527.20 & 0.0023\\\\\n",
       "\t 13812  & 539.00 & 0.0024\\\\\n",
       "\t 12559  & 561.71 & 0.0025\\\\\n",
       "\t 13816  & 571.67 & 0.0025\\\\\n",
       "\t 12601  & 577.06 & 0.0025\\\\\n",
       "\t 12426  & 582.73 & 0.0025\\\\\n",
       "\t 12521  & 599.68 & 0.0026\\\\\n",
       "\t ... & ... & ...\\\\\n",
       "\t 12517    &  2502.84 & 0.0109  \\\\\n",
       "\t 12600    &  2599.04 & 0.0114  \\\\\n",
       "\t 12520    &  2634.26 & 0.0115  \\\\\n",
       "\t 12625    &  2683.82 & 0.0117  \\\\\n",
       "\t 12708    &  2712.91 & 0.0119  \\\\\n",
       "\t 12480    &  3281.63 & 0.0143  \\\\\n",
       "\t 12613    &  3344.38 & 0.0146  \\\\\n",
       "\t 12619    &  3641.24 & 0.0159  \\\\\n",
       "\t 12647    &  3722.82 & 0.0163  \\\\\n",
       "\t 12668    &  3807.15 & 0.0166  \\\\\n",
       "\t 12662    &  3849.78 & 0.0168  \\\\\n",
       "\t 12473    &  3938.55 & 0.0172  \\\\\n",
       "\t 13815    &  4027.36 & 0.0176  \\\\\n",
       "\t 12569    &  4124.69 & 0.0180  \\\\\n",
       "\t 12500    &  4257.82 & 0.0186  \\\\\n",
       "\t 12712    &  4396.13 & 0.0192  \\\\\n",
       "\t 12627    &  4478.53 & 0.0196  \\\\\n",
       "\t 12524    &  4485.72 & 0.0196  \\\\\n",
       "\t 12481    &  5596.32 & 0.0245  \\\\\n",
       "\t 12720    &  5781.73 & 0.0253  \\\\\n",
       "\t 12472    &  6572.11 & 0.0287  \\\\\n",
       "\t 12626    &  6620.48 & 0.0289  \\\\\n",
       "\t 12476    &  6816.42 & 0.0298  \\\\\n",
       "\t 12705    &  6868.29 & 0.0300  \\\\\n",
       "\t 12474    &  7375.79 & 0.0322  \\\\\n",
       "\t 12709    &  9736.52 & 0.0425  \\\\\n",
       "\t 12590    &  9864.26 & 0.0431  \\\\\n",
       "\t 12477    & 13219.74 & 0.0578  \\\\\n",
       "\t 12621    & 13689.67 & 0.0598  \\\\\n",
       "\t 12471    & 19824.05 & 0.0866  \\\\\n",
       "\\end{tabular}\n"
      ],
      "text/markdown": [
       "\n",
       "| Customer ID | Sum of Sales | Percentage |\n",
       "|---|---|---|\n",
       "| 12665  |  63.00 | 0.0003 |\n",
       "| 12531  | 125.22 | 0.0005 |\n",
       "| 12738  | 155.35 | 0.0007 |\n",
       "| 12622  | 180.10 | 0.0008 |\n",
       "| 12522  | 192.72 | 0.0008 |\n",
       "| 12581  | 197.71 | 0.0009 |\n",
       "| 12702  | 219.00 | 0.0010 |\n",
       "| 12561  | 238.85 | 0.0010 |\n",
       "| 12492  | 263.21 | 0.0012 |\n",
       "| 12703  | 283.55 | 0.0012 |\n",
       "| 12623  | 305.10 | 0.0013 |\n",
       "| 12614  | 315.60 | 0.0014 |\n",
       "| 12648  | 318.05 | 0.0014 |\n",
       "| 12519  | 340.84 | 0.0015 |\n",
       "| 12527  | 348.71 | 0.0015 |\n",
       "| 12566  | 351.65 | 0.0015 |\n",
       "| 13817  | 382.98 | 0.0017 |\n",
       "| 12498  | 403.70 | 0.0018 |\n",
       "| 12580  | 415.70 | 0.0018 |\n",
       "| 12592  | 437.60 | 0.0019 |\n",
       "| 14335  | 468.26 | 0.0020 |\n",
       "| 12644  | 477.91 | 0.0021 |\n",
       "| 12504  | 482.05 | 0.0021 |\n",
       "| 12479  | 527.20 | 0.0023 |\n",
       "| 13812  | 539.00 | 0.0024 |\n",
       "| 12559  | 561.71 | 0.0025 |\n",
       "| 13816  | 571.67 | 0.0025 |\n",
       "| 12601  | 577.06 | 0.0025 |\n",
       "| 12426  | 582.73 | 0.0025 |\n",
       "| 12521  | 599.68 | 0.0026 |\n",
       "| ... | ... | ... |\n",
       "| 12517    |  2502.84 | 0.0109   |\n",
       "| 12600    |  2599.04 | 0.0114   |\n",
       "| 12520    |  2634.26 | 0.0115   |\n",
       "| 12625    |  2683.82 | 0.0117   |\n",
       "| 12708    |  2712.91 | 0.0119   |\n",
       "| 12480    |  3281.63 | 0.0143   |\n",
       "| 12613    |  3344.38 | 0.0146   |\n",
       "| 12619    |  3641.24 | 0.0159   |\n",
       "| 12647    |  3722.82 | 0.0163   |\n",
       "| 12668    |  3807.15 | 0.0166   |\n",
       "| 12662    |  3849.78 | 0.0168   |\n",
       "| 12473    |  3938.55 | 0.0172   |\n",
       "| 13815    |  4027.36 | 0.0176   |\n",
       "| 12569    |  4124.69 | 0.0180   |\n",
       "| 12500    |  4257.82 | 0.0186   |\n",
       "| 12712    |  4396.13 | 0.0192   |\n",
       "| 12627    |  4478.53 | 0.0196   |\n",
       "| 12524    |  4485.72 | 0.0196   |\n",
       "| 12481    |  5596.32 | 0.0245   |\n",
       "| 12720    |  5781.73 | 0.0253   |\n",
       "| 12472    |  6572.11 | 0.0287   |\n",
       "| 12626    |  6620.48 | 0.0289   |\n",
       "| 12476    |  6816.42 | 0.0298   |\n",
       "| 12705    |  6868.29 | 0.0300   |\n",
       "| 12474    |  7375.79 | 0.0322   |\n",
       "| 12709    |  9736.52 | 0.0425   |\n",
       "| 12590    |  9864.26 | 0.0431   |\n",
       "| 12477    | 13219.74 | 0.0578   |\n",
       "| 12621    | 13689.67 | 0.0598   |\n",
       "| 12471    | 19824.05 | 0.0866   |\n",
       "\n"
      ],
      "text/plain": [
       "    Customer ID Sum of Sales Percentage\n",
       "1   12665        63.00       0.0003    \n",
       "2   12531       125.22       0.0005    \n",
       "3   12738       155.35       0.0007    \n",
       "4   12622       180.10       0.0008    \n",
       "5   12522       192.72       0.0008    \n",
       "6   12581       197.71       0.0009    \n",
       "7   12702       219.00       0.0010    \n",
       "8   12561       238.85       0.0010    \n",
       "9   12492       263.21       0.0012    \n",
       "10  12703       283.55       0.0012    \n",
       "11  12623       305.10       0.0013    \n",
       "12  12614       315.60       0.0014    \n",
       "13  12648       318.05       0.0014    \n",
       "14  12519       340.84       0.0015    \n",
       "15  12527       348.71       0.0015    \n",
       "16  12566       351.65       0.0015    \n",
       "17  13817       382.98       0.0017    \n",
       "18  12498       403.70       0.0018    \n",
       "19  12580       415.70       0.0018    \n",
       "20  12592       437.60       0.0019    \n",
       "21  14335       468.26       0.0020    \n",
       "22  12644       477.91       0.0021    \n",
       "23  12504       482.05       0.0021    \n",
       "24  12479       527.20       0.0023    \n",
       "25  13812       539.00       0.0024    \n",
       "26  12559       561.71       0.0025    \n",
       "27  13816       571.67       0.0025    \n",
       "28  12601       577.06       0.0025    \n",
       "29  12426       582.73       0.0025    \n",
       "30  12521       599.68       0.0026    \n",
       "... ...         ...          ...       \n",
       "65  12517        2502.84     0.0109    \n",
       "66  12600        2599.04     0.0114    \n",
       "67  12520        2634.26     0.0115    \n",
       "68  12625        2683.82     0.0117    \n",
       "69  12708        2712.91     0.0119    \n",
       "70  12480        3281.63     0.0143    \n",
       "71  12613        3344.38     0.0146    \n",
       "72  12619        3641.24     0.0159    \n",
       "73  12647        3722.82     0.0163    \n",
       "74  12668        3807.15     0.0166    \n",
       "75  12662        3849.78     0.0168    \n",
       "76  12473        3938.55     0.0172    \n",
       "77  13815        4027.36     0.0176    \n",
       "78  12569        4124.69     0.0180    \n",
       "79  12500        4257.82     0.0186    \n",
       "80  12712        4396.13     0.0192    \n",
       "81  12627        4478.53     0.0196    \n",
       "82  12524        4485.72     0.0196    \n",
       "83  12481        5596.32     0.0245    \n",
       "84  12720        5781.73     0.0253    \n",
       "85  12472        6572.11     0.0287    \n",
       "86  12626        6620.48     0.0289    \n",
       "87  12476        6816.42     0.0298    \n",
       "88  12705        6868.29     0.0300    \n",
       "89  12474        7375.79     0.0322    \n",
       "90  12709        9736.52     0.0425    \n",
       "91  12590        9864.26     0.0431    \n",
       "92  12477       13219.74     0.0578    \n",
       "93  12621       13689.67     0.0598    \n",
       "94  12471       19824.05     0.0866    "
      ]
     },
     "metadata": {},
     "output_type": "display_data"
    }
   ],
   "source": [
    "x1%>%\n",
    "arrange(x1$`Sum of Sales`)"
   ]
  },
  {
   "cell_type": "code",
   "execution_count": 64,
   "metadata": {},
   "outputs": [
    {
     "name": "stdout",
     "output_type": "stream",
     "text": [
      "[1] \"Percentile distribution of sales (Customer Level).\"\n"
     ]
    },
    {
     "data": {
      "text/html": [
       "<table>\n",
       "<thead><tr><th></th><th scope=col>Sales</th></tr></thead>\n",
       "<tbody>\n",
       "\t<tr><th scope=row>0%</th><td>   45.0000</td></tr>\n",
       "\t<tr><th scope=row>25%</th><td>  479.6825</td></tr>\n",
       "\t<tr><th scope=row>50%</th><td>  932.7600</td></tr>\n",
       "\t<tr><th scope=row>75%</th><td> 2813.2800</td></tr>\n",
       "\t<tr><th scope=row>100%</th><td>17424.0500</td></tr>\n",
       "</tbody>\n",
       "</table>\n"
      ],
      "text/latex": [
       "\\begin{tabular}{r|l}\n",
       "  & Sales\\\\\n",
       "\\hline\n",
       "\t0\\% &    45.0000\\\\\n",
       "\t25\\% &   479.6825\\\\\n",
       "\t50\\% &   932.7600\\\\\n",
       "\t75\\% &  2813.2800\\\\\n",
       "\t100\\% & 17424.0500\\\\\n",
       "\\end{tabular}\n"
      ],
      "text/markdown": [
       "\n",
       "| <!--/--> | Sales |\n",
       "|---|---|\n",
       "| 0% |    45.0000 |\n",
       "| 25% |   479.6825 |\n",
       "| 50% |   932.7600 |\n",
       "| 75% |  2813.2800 |\n",
       "| 100% | 17424.0500 |\n",
       "\n"
      ],
      "text/plain": [
       "     Sales     \n",
       "0%      45.0000\n",
       "25%    479.6825\n",
       "50%    932.7600\n",
       "75%   2813.2800\n",
       "100% 17424.0500"
      ]
     },
     "metadata": {},
     "output_type": "display_data"
    }
   ],
   "source": [
    "# quantiles of sales -- customer level\n",
    "print('Percentile distribution of sales (Customer Level).')\n",
    "df = data.frame(quantile(s$`Sum of Sales`))\n",
    "colnames(df) = 'Sales'\n",
    "df"
   ]
  },
  {
   "cell_type": "code",
   "execution_count": null,
   "metadata": {},
   "outputs": [],
   "source": []
  },
  {
   "cell_type": "markdown",
   "metadata": {},
   "source": [
    "<font size = 6> Sales by (Day of the Month)</font>"
   ]
  },
  {
   "cell_type": "code",
   "execution_count": 24,
   "metadata": {},
   "outputs": [
    {
     "data": {
      "text/html": [
       "<table>\n",
       "<thead><tr><th scope=col>No.</th><th scope=col>Invoice No.</th><th scope=col>Stock Code</th><th scope=col>Description</th><th scope=col>Quantity</th><th scope=col>Invoice Date</th><th scope=col>Unit Price</th><th scope=col>Customer ID</th><th scope=col>Country</th><th scope=col>Month</th><th scope=col>Sales</th></tr></thead>\n",
       "<tbody>\n",
       "\t<tr><td>1                                  </td><td>536527                             </td><td>22809                              </td><td>SET OF 6 T-LIGHTS SANTA            </td><td> 6                                 </td><td>2010-12-01 13:04:00                </td><td>2.95                               </td><td>12662                              </td><td>Germany                            </td><td>12                                 </td><td>17.7                               </td></tr>\n",
       "\t<tr><td>2                                  </td><td>536527                             </td><td>84347                              </td><td>ROTATING SILVER ANGELS T-LIGHT HLDR</td><td> 6                                 </td><td>2010-12-01 13:04:00                </td><td>2.55                               </td><td>12662                              </td><td>Germany                            </td><td>12                                 </td><td>15.3                               </td></tr>\n",
       "\t<tr><td>3                                  </td><td>536527                             </td><td>84945                              </td><td>MULTI COLOUR SILVER T-LIGHT HOLDER </td><td>12                                 </td><td>2010-12-01 13:04:00                </td><td>0.85                               </td><td>12662                              </td><td>Germany                            </td><td>12                                 </td><td>10.2                               </td></tr>\n",
       "\t<tr><td>4                                  </td><td>536527                             </td><td>22242                              </td><td>5 HOOK HANGER MAGIC TOADSTOOL      </td><td>12                                 </td><td>2010-12-01 13:04:00                </td><td>1.65                               </td><td>12662                              </td><td>Germany                            </td><td>12                                 </td><td>19.8                               </td></tr>\n",
       "\t<tr><td>5                                  </td><td>536527                             </td><td>22244                              </td><td>3 HOOK HANGER MAGIC GARDEN         </td><td>12                                 </td><td>2010-12-01 13:04:00                </td><td>1.95                               </td><td>12662                              </td><td>Germany                            </td><td>12                                 </td><td>23.4                               </td></tr>\n",
       "\t<tr><td>6                                  </td><td>536527                             </td><td>22243                              </td><td>5 HOOK HANGER RED MAGIC TOADSTOOL  </td><td>12                                 </td><td>2010-12-01 13:04:00                </td><td>1.65                               </td><td>12662                              </td><td>Germany                            </td><td>12                                 </td><td>19.8                               </td></tr>\n",
       "</tbody>\n",
       "</table>\n"
      ],
      "text/latex": [
       "\\begin{tabular}{r|lllllllllll}\n",
       " No. & Invoice No. & Stock Code & Description & Quantity & Invoice Date & Unit Price & Customer ID & Country & Month & Sales\\\\\n",
       "\\hline\n",
       "\t 1                                   & 536527                              & 22809                               & SET OF 6 T-LIGHTS SANTA             &  6                                  & 2010-12-01 13:04:00                 & 2.95                                & 12662                               & Germany                             & 12                                  & 17.7                               \\\\\n",
       "\t 2                                   & 536527                              & 84347                               & ROTATING SILVER ANGELS T-LIGHT HLDR &  6                                  & 2010-12-01 13:04:00                 & 2.55                                & 12662                               & Germany                             & 12                                  & 15.3                               \\\\\n",
       "\t 3                                   & 536527                              & 84945                               & MULTI COLOUR SILVER T-LIGHT HOLDER  & 12                                  & 2010-12-01 13:04:00                 & 0.85                                & 12662                               & Germany                             & 12                                  & 10.2                               \\\\\n",
       "\t 4                                   & 536527                              & 22242                               & 5 HOOK HANGER MAGIC TOADSTOOL       & 12                                  & 2010-12-01 13:04:00                 & 1.65                                & 12662                               & Germany                             & 12                                  & 19.8                               \\\\\n",
       "\t 5                                   & 536527                              & 22244                               & 3 HOOK HANGER MAGIC GARDEN          & 12                                  & 2010-12-01 13:04:00                 & 1.95                                & 12662                               & Germany                             & 12                                  & 23.4                               \\\\\n",
       "\t 6                                   & 536527                              & 22243                               & 5 HOOK HANGER RED MAGIC TOADSTOOL   & 12                                  & 2010-12-01 13:04:00                 & 1.65                                & 12662                               & Germany                             & 12                                  & 19.8                               \\\\\n",
       "\\end{tabular}\n"
      ],
      "text/markdown": [
       "\n",
       "| No. | Invoice No. | Stock Code | Description | Quantity | Invoice Date | Unit Price | Customer ID | Country | Month | Sales |\n",
       "|---|---|---|---|---|---|---|---|---|---|---|\n",
       "| 1                                   | 536527                              | 22809                               | SET OF 6 T-LIGHTS SANTA             |  6                                  | 2010-12-01 13:04:00                 | 2.95                                | 12662                               | Germany                             | 12                                  | 17.7                                |\n",
       "| 2                                   | 536527                              | 84347                               | ROTATING SILVER ANGELS T-LIGHT HLDR |  6                                  | 2010-12-01 13:04:00                 | 2.55                                | 12662                               | Germany                             | 12                                  | 15.3                                |\n",
       "| 3                                   | 536527                              | 84945                               | MULTI COLOUR SILVER T-LIGHT HOLDER  | 12                                  | 2010-12-01 13:04:00                 | 0.85                                | 12662                               | Germany                             | 12                                  | 10.2                                |\n",
       "| 4                                   | 536527                              | 22242                               | 5 HOOK HANGER MAGIC TOADSTOOL       | 12                                  | 2010-12-01 13:04:00                 | 1.65                                | 12662                               | Germany                             | 12                                  | 19.8                                |\n",
       "| 5                                   | 536527                              | 22244                               | 3 HOOK HANGER MAGIC GARDEN          | 12                                  | 2010-12-01 13:04:00                 | 1.95                                | 12662                               | Germany                             | 12                                  | 23.4                                |\n",
       "| 6                                   | 536527                              | 22243                               | 5 HOOK HANGER RED MAGIC TOADSTOOL   | 12                                  | 2010-12-01 13:04:00                 | 1.65                                | 12662                               | Germany                             | 12                                  | 19.8                                |\n",
       "\n"
      ],
      "text/plain": [
       "  No. Invoice No. Stock Code Description                         Quantity\n",
       "1 1   536527      22809      SET OF 6 T-LIGHTS SANTA              6      \n",
       "2 2   536527      84347      ROTATING SILVER ANGELS T-LIGHT HLDR  6      \n",
       "3 3   536527      84945      MULTI COLOUR SILVER T-LIGHT HOLDER  12      \n",
       "4 4   536527      22242      5 HOOK HANGER MAGIC TOADSTOOL       12      \n",
       "5 5   536527      22244      3 HOOK HANGER MAGIC GARDEN          12      \n",
       "6 6   536527      22243      5 HOOK HANGER RED MAGIC TOADSTOOL   12      \n",
       "  Invoice Date        Unit Price Customer ID Country Month Sales\n",
       "1 2010-12-01 13:04:00 2.95       12662       Germany 12    17.7 \n",
       "2 2010-12-01 13:04:00 2.55       12662       Germany 12    15.3 \n",
       "3 2010-12-01 13:04:00 0.85       12662       Germany 12    10.2 \n",
       "4 2010-12-01 13:04:00 1.65       12662       Germany 12    19.8 \n",
       "5 2010-12-01 13:04:00 1.95       12662       Germany 12    23.4 \n",
       "6 2010-12-01 13:04:00 1.65       12662       Germany 12    19.8 "
      ]
     },
     "metadata": {},
     "output_type": "display_data"
    }
   ],
   "source": [
    "head(ger_df)"
   ]
  },
  {
   "cell_type": "code",
   "execution_count": 25,
   "metadata": {},
   "outputs": [
    {
     "data": {
      "image/png": "[encoded data removed]",
      "text/plain": [
       "plot without title"
      ]
     },
     "metadata": {},
     "output_type": "display_data"
    }
   ],
   "source": [
    "# the code below creates the `day number` column\n",
    "# and then calculates the sum of sales in each day\n",
    "# and then plots the result.\n",
    "\n",
    "ger_df%>%\n",
    "  mutate('Day' = day(`Invoice Date`))->ger_df\n",
    "\n",
    "ger_df%>%\n",
    " group_by(`Day`)%>%\n",
    "  summarise('Sum of Sales' = sum(Sales))%>%\n",
    "  arrange(`Day`)->d\n",
    "\n",
    "options(repr.plot.width =12, repr.plot.height = 4)\n",
    "days = seq(1:31)\n",
    "#days = days[-c(9, 26)]\n",
    "\n",
    "ggplot(data= d)+\n",
    "  geom_bar(mapping=aes(x = factor(`Day`, level= days), \n",
    "                       y= `Sum of Sales`), stat= 'identity', fill= '#468fd9')+\n",
    " scale_y_continuous(name= 'Sales (in dollars)', label= comma)+\n",
    " scale_x_discrete(labels= days, name= 'day')+\n",
    " ggtitle('Sales by Day')+theme(panel.grid.minor = element_blank())"
   ]
  },
  {
   "cell_type": "code",
   "execution_count": null,
   "metadata": {},
   "outputs": [],
   "source": []
  },
  {
   "cell_type": "markdown",
   "metadata": {},
   "source": [
    "<font size=6> Sales by Month </font>"
   ]
  },
  {
   "cell_type": "code",
   "execution_count": 26,
   "metadata": {},
   "outputs": [
    {
     "data": {
      "image/png": "[encoded data removed]",
      "text/plain": [
       "plot without title"
      ]
     },
     "metadata": {},
     "output_type": "display_data"
    }
   ],
   "source": [
    "# the code below creates the `month` column\n",
    "# and then calculates the sum of sales in each month\n",
    "# and then plots the result.\n",
    "\n",
    "ger_df%>%\n",
    " group_by(`Month`)%>%\n",
    "  summarise('Sum of Sales' = sum(Sales))%>%\n",
    "  arrange(`Month`)->m\n",
    "m['month name'] = month_name\n",
    "\n",
    "options(repr.plot.width =10, repr.plot.height = 3.5)\n",
    "\n",
    "ggplot(data= m)+\n",
    "  geom_bar(mapping=aes(x = factor(`month name`, level= month_name), \n",
    "                       y= `Sum of Sales`), stat= 'identity', fill= '#468fd9')+\n",
    " scale_y_continuous(name= 'Sales (in dollars)', label= comma)+\n",
    " scale_x_discrete(labels= month_name, name= 'month')+\n",
    " ggtitle('Sales by Month')"
   ]
  },
  {
   "cell_type": "code",
   "execution_count": 27,
   "metadata": {},
   "outputs": [
    {
     "data": {
      "text/html": [
       "<table>\n",
       "<thead><tr><th scope=col>Month</th><th scope=col>Sum of Sales</th><th scope=col>month name</th><th scope=col>% of Sales</th></tr></thead>\n",
       "<tbody>\n",
       "\t<tr><td> 1      </td><td>16910.84</td><td>Jan     </td><td> 7.389  </td></tr>\n",
       "\t<tr><td> 2      </td><td> 9581.05</td><td>Feb     </td><td> 4.186  </td></tr>\n",
       "\t<tr><td> 3      </td><td>14392.69</td><td>Mar     </td><td> 6.289  </td></tr>\n",
       "\t<tr><td> 4      </td><td>12315.54</td><td>Apr     </td><td> 5.381  </td></tr>\n",
       "\t<tr><td> 5      </td><td>25751.20</td><td>May     </td><td>11.252  </td></tr>\n",
       "\t<tr><td> 6      </td><td>13274.10</td><td>Jun     </td><td> 5.800  </td></tr>\n",
       "\t<tr><td> 7      </td><td>16440.98</td><td>Jul     </td><td> 7.184  </td></tr>\n",
       "\t<tr><td> 8      </td><td>19220.77</td><td>Aug     </td><td> 8.398  </td></tr>\n",
       "\t<tr><td> 9      </td><td>18091.22</td><td>Sep     </td><td> 7.905  </td></tr>\n",
       "\t<tr><td>10      </td><td>31638.42</td><td>Oct     </td><td>13.824  </td></tr>\n",
       "\t<tr><td>11      </td><td>28025.02</td><td>Nov     </td><td>12.245  </td></tr>\n",
       "\t<tr><td>12      </td><td>23225.31</td><td>Dec     </td><td>10.148  </td></tr>\n",
       "</tbody>\n",
       "</table>\n"
      ],
      "text/latex": [
       "\\begin{tabular}{r|llll}\n",
       " Month & Sum of Sales & month name & \\% of Sales\\\\\n",
       "\\hline\n",
       "\t  1       & 16910.84 & Jan      &  7.389  \\\\\n",
       "\t  2       &  9581.05 & Feb      &  4.186  \\\\\n",
       "\t  3       & 14392.69 & Mar      &  6.289  \\\\\n",
       "\t  4       & 12315.54 & Apr      &  5.381  \\\\\n",
       "\t  5       & 25751.20 & May      & 11.252  \\\\\n",
       "\t  6       & 13274.10 & Jun      &  5.800  \\\\\n",
       "\t  7       & 16440.98 & Jul      &  7.184  \\\\\n",
       "\t  8       & 19220.77 & Aug      &  8.398  \\\\\n",
       "\t  9       & 18091.22 & Sep      &  7.905  \\\\\n",
       "\t 10       & 31638.42 & Oct      & 13.824  \\\\\n",
       "\t 11       & 28025.02 & Nov      & 12.245  \\\\\n",
       "\t 12       & 23225.31 & Dec      & 10.148  \\\\\n",
       "\\end{tabular}\n"
      ],
      "text/markdown": [
       "\n",
       "| Month | Sum of Sales | month name | % of Sales |\n",
       "|---|---|---|---|\n",
       "|  1       | 16910.84 | Jan      |  7.389   |\n",
       "|  2       |  9581.05 | Feb      |  4.186   |\n",
       "|  3       | 14392.69 | Mar      |  6.289   |\n",
       "|  4       | 12315.54 | Apr      |  5.381   |\n",
       "|  5       | 25751.20 | May      | 11.252   |\n",
       "|  6       | 13274.10 | Jun      |  5.800   |\n",
       "|  7       | 16440.98 | Jul      |  7.184   |\n",
       "|  8       | 19220.77 | Aug      |  8.398   |\n",
       "|  9       | 18091.22 | Sep      |  7.905   |\n",
       "| 10       | 31638.42 | Oct      | 13.824   |\n",
       "| 11       | 28025.02 | Nov      | 12.245   |\n",
       "| 12       | 23225.31 | Dec      | 10.148   |\n",
       "\n"
      ],
      "text/plain": [
       "   Month Sum of Sales month name % of Sales\n",
       "1   1    16910.84     Jan         7.389    \n",
       "2   2     9581.05     Feb         4.186    \n",
       "3   3    14392.69     Mar         6.289    \n",
       "4   4    12315.54     Apr         5.381    \n",
       "5   5    25751.20     May        11.252    \n",
       "6   6    13274.10     Jun         5.800    \n",
       "7   7    16440.98     Jul         7.184    \n",
       "8   8    19220.77     Aug         8.398    \n",
       "9   9    18091.22     Sep         7.905    \n",
       "10 10    31638.42     Oct        13.824    \n",
       "11 11    28025.02     Nov        12.245    \n",
       "12 12    23225.31     Dec        10.148    "
      ]
     },
     "metadata": {},
     "output_type": "display_data"
    }
   ],
   "source": [
    "# the code creates percentage of sales made in each month..\n",
    "m%>%mutate('% of Sales'= round(`Sum of Sales`/sum(`Sum of Sales`)*100, 3))"
   ]
  },
  {
   "cell_type": "code",
   "execution_count": null,
   "metadata": {},
   "outputs": [],
   "source": []
  },
  {
   "cell_type": "markdown",
   "metadata": {},
   "source": [
    "<font size=6> Sales by Year</font>"
   ]
  },
  {
   "cell_type": "code",
   "execution_count": 28,
   "metadata": {
    "scrolled": true
   },
   "outputs": [
    {
     "data": {
      "image/png": "[encoded data removed]",
      "text/plain": [
       "plot without title"
      ]
     },
     "metadata": {},
     "output_type": "display_data"
    }
   ],
   "source": [
    "# the code below creates the `year` column\n",
    "# and then calculates the sum of sales in each year\n",
    "# and then plots the result.\n",
    "\n",
    "ger_df%>%\n",
    " mutate('Year' = year(`Invoice Date`))->ger_df\n",
    "\n",
    "ger_df%>%\n",
    " group_by(`Year`)%>%\n",
    "  summarise('Sum of Sales' = sum(Sales))%>%\n",
    "  arrange(`Year`)->y\n",
    "\n",
    "options(repr.plot.width =5, repr.plot.height = 2)\n",
    "year_ = c('2010', '2011')\n",
    "ggplot(data= y)+\n",
    "          geom_bar(mapping=aes(x = factor(`Year`, year_), \n",
    "                       y= `Sum of Sales`), stat= 'identity', fill= c(rep('red', 1), rep('lightgray', 1)) )+\n",
    " scale_y_continuous(name= 'Sales', label= comma)+\n",
    " scale_x_discrete(name= 'Year', labels= year_)+\n",
    " ggtitle('Sales by Year')+theme(panel.grid = element_blank(), \n",
    "                                          panel.border = element_blank(),\n",
    "                                         axis.line = element_line(colour= 'grey'))"
   ]
  },
  {
   "cell_type": "code",
   "execution_count": 29,
   "metadata": {},
   "outputs": [
    {
     "data": {
      "text/html": [
       "<table>\n",
       "<thead><tr><th scope=col>Year</th><th scope=col>Sum of Sales</th></tr></thead>\n",
       "<tbody>\n",
       "\t<tr><td>2010     </td><td> 15241.14</td></tr>\n",
       "\t<tr><td>2011     </td><td>213626.00</td></tr>\n",
       "</tbody>\n",
       "</table>\n"
      ],
      "text/latex": [
       "\\begin{tabular}{r|ll}\n",
       " Year & Sum of Sales\\\\\n",
       "\\hline\n",
       "\t 2010      &  15241.14\\\\\n",
       "\t 2011      & 213626.00\\\\\n",
       "\\end{tabular}\n"
      ],
      "text/markdown": [
       "\n",
       "| Year | Sum of Sales |\n",
       "|---|---|\n",
       "| 2010      |  15241.14 |\n",
       "| 2011      | 213626.00 |\n",
       "\n"
      ],
      "text/plain": [
       "  Year Sum of Sales\n",
       "1 2010  15241.14   \n",
       "2 2011 213626.00   "
      ]
     },
     "metadata": {},
     "output_type": "display_data"
    }
   ],
   "source": [
    "y"
   ]
  },
  {
   "cell_type": "code",
   "execution_count": 30,
   "metadata": {},
   "outputs": [
    {
     "data": {
      "text/html": [
       "0.866812334876907"
      ],
      "text/latex": [
       "0.866812334876907"
      ],
      "text/markdown": [
       "0.866812334876907"
      ],
      "text/plain": [
       "[1] 0.8668123"
      ]
     },
     "metadata": {},
     "output_type": "display_data"
    }
   ],
   "source": [
    "# Change in sales\n",
    "diff(y$`Sum of Sales`)/sum(y$`Sum of Sales`)"
   ]
  },
  {
   "cell_type": "code",
   "execution_count": 31,
   "metadata": {},
   "outputs": [
    {
     "data": {
      "text/html": [
       "<table>\n",
       "<thead><tr><th scope=col>No.</th><th scope=col>Invoice No.</th><th scope=col>Stock Code</th><th scope=col>Description</th><th scope=col>Quantity</th><th scope=col>Invoice Date</th><th scope=col>Unit Price</th><th scope=col>Customer ID</th><th scope=col>Country</th><th scope=col>Month</th><th scope=col>Sales</th><th scope=col>Day</th><th scope=col>Year</th></tr></thead>\n",
       "<tbody>\n",
       "\t<tr><td>1                                  </td><td>536527                             </td><td>22809                              </td><td>SET OF 6 T-LIGHTS SANTA            </td><td> 6                                 </td><td>2010-12-01 13:04:00                </td><td>2.95                               </td><td>12662                              </td><td>Germany                            </td><td>12                                 </td><td>17.7                               </td><td>1                                  </td><td>2010                               </td></tr>\n",
       "\t<tr><td>2                                  </td><td>536527                             </td><td>84347                              </td><td>ROTATING SILVER ANGELS T-LIGHT HLDR</td><td> 6                                 </td><td>2010-12-01 13:04:00                </td><td>2.55                               </td><td>12662                              </td><td>Germany                            </td><td>12                                 </td><td>15.3                               </td><td>1                                  </td><td>2010                               </td></tr>\n",
       "\t<tr><td>3                                  </td><td>536527                             </td><td>84945                              </td><td>MULTI COLOUR SILVER T-LIGHT HOLDER </td><td>12                                 </td><td>2010-12-01 13:04:00                </td><td>0.85                               </td><td>12662                              </td><td>Germany                            </td><td>12                                 </td><td>10.2                               </td><td>1                                  </td><td>2010                               </td></tr>\n",
       "\t<tr><td>4                                  </td><td>536527                             </td><td>22242                              </td><td>5 HOOK HANGER MAGIC TOADSTOOL      </td><td>12                                 </td><td>2010-12-01 13:04:00                </td><td>1.65                               </td><td>12662                              </td><td>Germany                            </td><td>12                                 </td><td>19.8                               </td><td>1                                  </td><td>2010                               </td></tr>\n",
       "\t<tr><td>5                                  </td><td>536527                             </td><td>22244                              </td><td>3 HOOK HANGER MAGIC GARDEN         </td><td>12                                 </td><td>2010-12-01 13:04:00                </td><td>1.95                               </td><td>12662                              </td><td>Germany                            </td><td>12                                 </td><td>23.4                               </td><td>1                                  </td><td>2010                               </td></tr>\n",
       "\t<tr><td>6                                  </td><td>536527                             </td><td>22243                              </td><td>5 HOOK HANGER RED MAGIC TOADSTOOL  </td><td>12                                 </td><td>2010-12-01 13:04:00                </td><td>1.65                               </td><td>12662                              </td><td>Germany                            </td><td>12                                 </td><td>19.8                               </td><td>1                                  </td><td>2010                               </td></tr>\n",
       "</tbody>\n",
       "</table>\n"
      ],
      "text/latex": [
       "\\begin{tabular}{r|lllllllllllll}\n",
       " No. & Invoice No. & Stock Code & Description & Quantity & Invoice Date & Unit Price & Customer ID & Country & Month & Sales & Day & Year\\\\\n",
       "\\hline\n",
       "\t 1                                   & 536527                              & 22809                               & SET OF 6 T-LIGHTS SANTA             &  6                                  & 2010-12-01 13:04:00                 & 2.95                                & 12662                               & Germany                             & 12                                  & 17.7                                & 1                                   & 2010                               \\\\\n",
       "\t 2                                   & 536527                              & 84347                               & ROTATING SILVER ANGELS T-LIGHT HLDR &  6                                  & 2010-12-01 13:04:00                 & 2.55                                & 12662                               & Germany                             & 12                                  & 15.3                                & 1                                   & 2010                               \\\\\n",
       "\t 3                                   & 536527                              & 84945                               & MULTI COLOUR SILVER T-LIGHT HOLDER  & 12                                  & 2010-12-01 13:04:00                 & 0.85                                & 12662                               & Germany                             & 12                                  & 10.2                                & 1                                   & 2010                               \\\\\n",
       "\t 4                                   & 536527                              & 22242                               & 5 HOOK HANGER MAGIC TOADSTOOL       & 12                                  & 2010-12-01 13:04:00                 & 1.65                                & 12662                               & Germany                             & 12                                  & 19.8                                & 1                                   & 2010                               \\\\\n",
       "\t 5                                   & 536527                              & 22244                               & 3 HOOK HANGER MAGIC GARDEN          & 12                                  & 2010-12-01 13:04:00                 & 1.95                                & 12662                               & Germany                             & 12                                  & 23.4                                & 1                                   & 2010                               \\\\\n",
       "\t 6                                   & 536527                              & 22243                               & 5 HOOK HANGER RED MAGIC TOADSTOOL   & 12                                  & 2010-12-01 13:04:00                 & 1.65                                & 12662                               & Germany                             & 12                                  & 19.8                                & 1                                   & 2010                               \\\\\n",
       "\\end{tabular}\n"
      ],
      "text/markdown": [
       "\n",
       "| No. | Invoice No. | Stock Code | Description | Quantity | Invoice Date | Unit Price | Customer ID | Country | Month | Sales | Day | Year |\n",
       "|---|---|---|---|---|---|---|---|---|---|---|---|---|\n",
       "| 1                                   | 536527                              | 22809                               | SET OF 6 T-LIGHTS SANTA             |  6                                  | 2010-12-01 13:04:00                 | 2.95                                | 12662                               | Germany                             | 12                                  | 17.7                                | 1                                   | 2010                                |\n",
       "| 2                                   | 536527                              | 84347                               | ROTATING SILVER ANGELS T-LIGHT HLDR |  6                                  | 2010-12-01 13:04:00                 | 2.55                                | 12662                               | Germany                             | 12                                  | 15.3                                | 1                                   | 2010                                |\n",
       "| 3                                   | 536527                              | 84945                               | MULTI COLOUR SILVER T-LIGHT HOLDER  | 12                                  | 2010-12-01 13:04:00                 | 0.85                                | 12662                               | Germany                             | 12                                  | 10.2                                | 1                                   | 2010                                |\n",
       "| 4                                   | 536527                              | 22242                               | 5 HOOK HANGER MAGIC TOADSTOOL       | 12                                  | 2010-12-01 13:04:00                 | 1.65                                | 12662                               | Germany                             | 12                                  | 19.8                                | 1                                   | 2010                                |\n",
       "| 5                                   | 536527                              | 22244                               | 3 HOOK HANGER MAGIC GARDEN          | 12                                  | 2010-12-01 13:04:00                 | 1.95                                | 12662                               | Germany                             | 12                                  | 23.4                                | 1                                   | 2010                                |\n",
       "| 6                                   | 536527                              | 22243                               | 5 HOOK HANGER RED MAGIC TOADSTOOL   | 12                                  | 2010-12-01 13:04:00                 | 1.65                                | 12662                               | Germany                             | 12                                  | 19.8                                | 1                                   | 2010                                |\n",
       "\n"
      ],
      "text/plain": [
       "  No. Invoice No. Stock Code Description                         Quantity\n",
       "1 1   536527      22809      SET OF 6 T-LIGHTS SANTA              6      \n",
       "2 2   536527      84347      ROTATING SILVER ANGELS T-LIGHT HLDR  6      \n",
       "3 3   536527      84945      MULTI COLOUR SILVER T-LIGHT HOLDER  12      \n",
       "4 4   536527      22242      5 HOOK HANGER MAGIC TOADSTOOL       12      \n",
       "5 5   536527      22244      3 HOOK HANGER MAGIC GARDEN          12      \n",
       "6 6   536527      22243      5 HOOK HANGER RED MAGIC TOADSTOOL   12      \n",
       "  Invoice Date        Unit Price Customer ID Country Month Sales Day Year\n",
       "1 2010-12-01 13:04:00 2.95       12662       Germany 12    17.7  1   2010\n",
       "2 2010-12-01 13:04:00 2.55       12662       Germany 12    15.3  1   2010\n",
       "3 2010-12-01 13:04:00 0.85       12662       Germany 12    10.2  1   2010\n",
       "4 2010-12-01 13:04:00 1.65       12662       Germany 12    19.8  1   2010\n",
       "5 2010-12-01 13:04:00 1.95       12662       Germany 12    23.4  1   2010\n",
       "6 2010-12-01 13:04:00 1.65       12662       Germany 12    19.8  1   2010"
      ]
     },
     "metadata": {},
     "output_type": "display_data"
    }
   ],
   "source": [
    "head(ger_df)"
   ]
  },
  {
   "cell_type": "code",
   "execution_count": 32,
   "metadata": {},
   "outputs": [
    {
     "data": {
      "image/png": "[encoded data removed]",
      "text/plain": [
       "plot without title"
      ]
     },
     "metadata": {},
     "output_type": "display_data"
    }
   ],
   "source": [
    "# calculates sum of sales by eack week and then make plot of it.\n",
    "ger_df%>%\n",
    " group_by('date'= floor_date(x = `Invoice Date`, unit= 'weekly'))%>%\n",
    " summarise('Sales'= sum(`Sales`))->wsales\n",
    "\n",
    "\n",
    "ggplot(data= wsales)+\n",
    "geom_area(mapping = aes(x = `Weekly`, y = `Sales`), color= 'steelblue',fill= '#468fd9', alpha =.43)+\n",
    "ggtitle('sum of sales by made in each week')"
   ]
  },
  {
   "cell_type": "code",
   "execution_count": 33,
   "metadata": {},
   "outputs": [
    {
     "data": {
      "image/png": "[encoded data removed]",
      "text/plain": [
       "plot without title"
      ]
     },
     "metadata": {},
     "output_type": "display_data"
    }
   ],
   "source": [
    "# calculates sum of sales by eack month and then make plot of it.\n",
    "ger_df%>%\n",
    " group_by('Monthly'= floor_date(x = `Invoice Date`, unit= 'monthly'))%>%\n",
    " summarise('Sales'= sum(`Sales`))->msales\n",
    "\n",
    "\n",
    "ggplot(data= msales)+\n",
    "geom_area(mapping = aes(x = `Monthly`, y = `Sales`), color= 'steelblue',fill= '#468fd9', alpha =.43)+\n",
    "ggtitle('monthly sales')"
   ]
  },
  {
   "cell_type": "code",
   "execution_count": null,
   "metadata": {},
   "outputs": [],
   "source": []
  },
  {
   "cell_type": "code",
   "execution_count": 34,
   "metadata": {},
   "outputs": [
    {
     "data": {
      "image/png": "[encoded data removed]",
      "text/plain": [
       "plot without title"
      ]
     },
     "metadata": {},
     "output_type": "display_data"
    }
   ],
   "source": [
    "# calculates sum of sales by eack quarter and then make plot of it.\n",
    "ger_df%>%\n",
    " group_by('Quarterly'= floor_date(x = `Invoice Date`, unit= 'quarterly'))%>%\n",
    " summarise('Sales'= sum(`Sales`))->qsales\n",
    "\n",
    "\n",
    "ggplot(data= qsales)+\n",
    "geom_area(mapping = aes(x = `Quarterly`, y = `Sales`), color= 'steelblue',fill= '#468fd9', alpha =.43)+\n",
    "ggtitle('Quarterly Sales')"
   ]
  },
  {
   "cell_type": "code",
   "execution_count": null,
   "metadata": {},
   "outputs": [],
   "source": []
  },
  {
   "cell_type": "markdown",
   "metadata": {},
   "source": [
    "<font size=6>Sales by Stocks</font>"
   ]
  },
  {
   "cell_type": "code",
   "execution_count": 35,
   "metadata": {},
   "outputs": [
    {
     "name": "stderr",
     "output_type": "stream",
     "text": [
      "`summarise()` has grouped output by 'Stock Code'. You can override using the `.groups` argument.\n"
     ]
    },
    {
     "data": {
      "text/html": [
       "<table>\n",
       "<thead><tr><th scope=col>Stock Code</th><th scope=col>Description</th><th scope=col>Total Sales</th><th scope=col>percentage</th></tr></thead>\n",
       "<tbody>\n",
       "\t<tr><td>22423                             </td><td>REGENCY CAKESTAND 3 TIER          </td><td>9061.95                           </td><td>0.040                             </td></tr>\n",
       "\t<tr><td>22326                             </td><td>ROUND SNACK BOXES SET OF4 WOODLAND</td><td>3598.95                           </td><td>0.016                             </td></tr>\n",
       "\t<tr><td>22328                             </td><td>ROUND SNACK BOXES SET OF 4 FRUITS </td><td>1982.40                           </td><td>0.009                             </td></tr>\n",
       "\t<tr><td>22629                             </td><td>SPACEBOY LUNCH BOX                </td><td>1631.40                           </td><td>0.007                             </td></tr>\n",
       "\t<tr><td>22554                             </td><td>PLASTERS IN TIN WOODLAND ANIMALS  </td><td>1414.05                           </td><td>0.006                             </td></tr>\n",
       "\t<tr><td>22625                             </td><td>RED KITCHEN SCALES                </td><td>1339.60                           </td><td>0.006                             </td></tr>\n",
       "\t<tr><td>22467                             </td><td>GUMBALL COAT RACK                 </td><td>1319.70                           </td><td>0.006                             </td></tr>\n",
       "\t<tr><td>22077                             </td><td>6 RIBBONS RUSTIC CHARM            </td><td>1313.55                           </td><td>0.006                             </td></tr>\n",
       "\t<tr><td>22556                             </td><td>PLASTERS IN TIN CIRCUS PARADE     </td><td>1277.10                           </td><td>0.006                             </td></tr>\n",
       "\t<tr><td>21731                             </td><td>RED TOADSTOOL LED NIGHT LIGHT     </td><td>1201.20                           </td><td>0.005                             </td></tr>\n",
       "</tbody>\n",
       "</table>\n"
      ],
      "text/latex": [
       "\\begin{tabular}{r|llll}\n",
       " Stock Code & Description & Total Sales & percentage\\\\\n",
       "\\hline\n",
       "\t 22423                              & REGENCY CAKESTAND 3 TIER           & 9061.95                            & 0.040                             \\\\\n",
       "\t 22326                              & ROUND SNACK BOXES SET OF4 WOODLAND & 3598.95                            & 0.016                             \\\\\n",
       "\t 22328                              & ROUND SNACK BOXES SET OF 4 FRUITS  & 1982.40                            & 0.009                             \\\\\n",
       "\t 22629                              & SPACEBOY LUNCH BOX                 & 1631.40                            & 0.007                             \\\\\n",
       "\t 22554                              & PLASTERS IN TIN WOODLAND ANIMALS   & 1414.05                            & 0.006                             \\\\\n",
       "\t 22625                              & RED KITCHEN SCALES                 & 1339.60                            & 0.006                             \\\\\n",
       "\t 22467                              & GUMBALL COAT RACK                  & 1319.70                            & 0.006                             \\\\\n",
       "\t 22077                              & 6 RIBBONS RUSTIC CHARM             & 1313.55                            & 0.006                             \\\\\n",
       "\t 22556                              & PLASTERS IN TIN CIRCUS PARADE      & 1277.10                            & 0.006                             \\\\\n",
       "\t 21731                              & RED TOADSTOOL LED NIGHT LIGHT      & 1201.20                            & 0.005                             \\\\\n",
       "\\end{tabular}\n"
      ],
      "text/markdown": [
       "\n",
       "| Stock Code | Description | Total Sales | percentage |\n",
       "|---|---|---|---|\n",
       "| 22423                              | REGENCY CAKESTAND 3 TIER           | 9061.95                            | 0.040                              |\n",
       "| 22326                              | ROUND SNACK BOXES SET OF4 WOODLAND | 3598.95                            | 0.016                              |\n",
       "| 22328                              | ROUND SNACK BOXES SET OF 4 FRUITS  | 1982.40                            | 0.009                              |\n",
       "| 22629                              | SPACEBOY LUNCH BOX                 | 1631.40                            | 0.007                              |\n",
       "| 22554                              | PLASTERS IN TIN WOODLAND ANIMALS   | 1414.05                            | 0.006                              |\n",
       "| 22625                              | RED KITCHEN SCALES                 | 1339.60                            | 0.006                              |\n",
       "| 22467                              | GUMBALL COAT RACK                  | 1319.70                            | 0.006                              |\n",
       "| 22077                              | 6 RIBBONS RUSTIC CHARM             | 1313.55                            | 0.006                              |\n",
       "| 22556                              | PLASTERS IN TIN CIRCUS PARADE      | 1277.10                            | 0.006                              |\n",
       "| 21731                              | RED TOADSTOOL LED NIGHT LIGHT      | 1201.20                            | 0.005                              |\n",
       "\n"
      ],
      "text/plain": [
       "   Stock Code Description                        Total Sales percentage\n",
       "1  22423      REGENCY CAKESTAND 3 TIER           9061.95     0.040     \n",
       "2  22326      ROUND SNACK BOXES SET OF4 WOODLAND 3598.95     0.016     \n",
       "3  22328      ROUND SNACK BOXES SET OF 4 FRUITS  1982.40     0.009     \n",
       "4  22629      SPACEBOY LUNCH BOX                 1631.40     0.007     \n",
       "5  22554      PLASTERS IN TIN WOODLAND ANIMALS   1414.05     0.006     \n",
       "6  22625      RED KITCHEN SCALES                 1339.60     0.006     \n",
       "7  22467      GUMBALL COAT RACK                  1319.70     0.006     \n",
       "8  22077      6 RIBBONS RUSTIC CHARM             1313.55     0.006     \n",
       "9  22556      PLASTERS IN TIN CIRCUS PARADE      1277.10     0.006     \n",
       "10 21731      RED TOADSTOOL LED NIGHT LIGHT      1201.20     0.005     "
      ]
     },
     "metadata": {},
     "output_type": "display_data"
    },
    {
     "data": {
      "image/png": "[encoded data removed]",
      "text/plain": [
       "plot without title"
      ]
     },
     "metadata": {},
     "output_type": "display_data"
    }
   ],
   "source": [
    "# removes `POST` and `M` from `Stock Code` column\n",
    "ger_df%>%filter(`Stock Code` != 'POST')%>%filter(`Stock Code` != 'M')->ger_df \n",
    "\n",
    "# groups the data by `Stock Code` and `Description` then calculate the total sales for each Stock\n",
    "# and fetch the first 10 in descending order and then plot of it.\n",
    "ger_df%>%\n",
    "  group_by(`Stock Code`, `Description`)%>%\n",
    "  summarise('Total Sales' = sum(`Sales`))%>%\n",
    "  arrange(desc(`Total Sales`))%>%head(10)->p\n",
    "\n",
    "options(repr.plot.width =6, repr.plot.height = 4)\n",
    "ggplot(data=p)+\n",
    "  geom_bar(stat= 'identity', fill= c(rep('lightgray', 9), rep('red', 1)) , \n",
    "           mapping= aes(x =reorder(`Stock Code`, `Total Sales`)  , y =`Total Sales` ))+\n",
    "scale_y_continuous(name= 'Sales (in Dollars)', label= comma)+scale_x_discrete(name= 'Stock Code')+\n",
    "ggtitle('Top 10 Stocks')+theme(panel.grid = element_blank(), \n",
    "                                          panel.border = element_blank(),\n",
    "                                         axis.line = element_line(colour= 'grey'))\n",
    "\n",
    "# creates the percentage of sales made by each stock\n",
    "p%>%mutate('percentage'= round(`Total Sales`/xsum, 3))"
   ]
  },
  {
   "cell_type": "code",
   "execution_count": 66,
   "metadata": {},
   "outputs": [
    {
     "name": "stderr",
     "output_type": "stream",
     "text": [
      "`summarise()` has grouped output by 'Stock Code'. You can override using the `.groups` argument.\n"
     ]
    },
    {
     "data": {
      "image/png": "[encoded data removed]",
      "text/plain": [
       "plot without title"
      ]
     },
     "metadata": {},
     "output_type": "display_data"
    }
   ],
   "source": [
    "ger_df%>%\n",
    "  group_by(`Stock Code`, `Description`)%>%\n",
    "  summarise('Total Sales' = sum(`Sales`))%>%\n",
    "  arrange(desc(`Total Sales`))%>%tail(10)->p0\n",
    "\n",
    "options(repr.plot.width =6, repr.plot.height = 4)\n",
    "ggplot(data=p0)+\n",
    "  geom_bar(stat= 'identity', fill= 'grey' , \n",
    "           mapping= aes(x =reorder(`Stock Code`, `Total Sales`)  , y =`Total Sales` ))+\n",
    "scale_y_continuous(name= 'Sales (in Dollars)', label= comma)+scale_x_discrete(name= 'Stock Code')+\n",
    "ggtitle('Least 10 Stocks by sales')+theme(panel.grid = element_blank(), \n",
    "                                          panel.border = element_blank(),\n",
    "                                         axis.line = element_line(colour= 'grey'))"
   ]
  },
  {
   "cell_type": "code",
   "execution_count": null,
   "metadata": {},
   "outputs": [],
   "source": []
  },
  {
   "cell_type": "markdown",
   "metadata": {},
   "source": [
    "<font size = 6> Quantity by Stock </font>"
   ]
  },
  {
   "cell_type": "code",
   "execution_count": 36,
   "metadata": {},
   "outputs": [
    {
     "name": "stderr",
     "output_type": "stream",
     "text": [
      "`summarise()` has grouped output by 'Stock Code'. You can override using the `.groups` argument.\n"
     ]
    },
    {
     "data": {
      "text/html": [
       "<table>\n",
       "<thead><tr><th scope=col>Stock Code</th><th scope=col>Description</th><th scope=col>Total Quantity</th><th scope=col>percentage</th></tr></thead>\n",
       "<tbody>\n",
       "\t<tr><td>22326                             </td><td>ROUND SNACK BOXES SET OF4 WOODLAND</td><td>1233                              </td><td>0.010                             </td></tr>\n",
       "\t<tr><td>15036                             </td><td>ASSORTED COLOURS SILK FAN         </td><td>1164                              </td><td>0.010                             </td></tr>\n",
       "\t<tr><td>20719                             </td><td>WOODLAND CHARLOTTE BAG            </td><td>1020                              </td><td>0.009                             </td></tr>\n",
       "\t<tr><td>21212                             </td><td>PACK OF 72 RETROSPOT CAKE CASES   </td><td>1002                              </td><td>0.008                             </td></tr>\n",
       "\t<tr><td>22585                             </td><td>PACK OF 6 BIRDY GIFT TAGS         </td><td> 936                              </td><td>0.008                             </td></tr>\n",
       "\t<tr><td>22629                             </td><td>SPACEBOY LUNCH BOX                </td><td> 876                              </td><td>0.007                             </td></tr>\n",
       "\t<tr><td>22554                             </td><td>PLASTERS IN TIN WOODLAND ANIMALS  </td><td> 857                              </td><td>0.007                             </td></tr>\n",
       "\t<tr><td>22961                             </td><td>JAM MAKING SET PRINTED            </td><td> 816                              </td><td>0.007                             </td></tr>\n",
       "\t<tr><td>22423                             </td><td>REGENCY CAKESTAND 3 TIER          </td><td> 809                              </td><td>0.007                             </td></tr>\n",
       "\t<tr><td>16045                             </td><td>POPART WOODEN PENCILS ASST        </td><td> 800                              </td><td>0.007                             </td></tr>\n",
       "</tbody>\n",
       "</table>\n"
      ],
      "text/latex": [
       "\\begin{tabular}{r|llll}\n",
       " Stock Code & Description & Total Quantity & percentage\\\\\n",
       "\\hline\n",
       "\t 22326                              & ROUND SNACK BOXES SET OF4 WOODLAND & 1233                               & 0.010                             \\\\\n",
       "\t 15036                              & ASSORTED COLOURS SILK FAN          & 1164                               & 0.010                             \\\\\n",
       "\t 20719                              & WOODLAND CHARLOTTE BAG             & 1020                               & 0.009                             \\\\\n",
       "\t 21212                              & PACK OF 72 RETROSPOT CAKE CASES    & 1002                               & 0.008                             \\\\\n",
       "\t 22585                              & PACK OF 6 BIRDY GIFT TAGS          &  936                               & 0.008                             \\\\\n",
       "\t 22629                              & SPACEBOY LUNCH BOX                 &  876                               & 0.007                             \\\\\n",
       "\t 22554                              & PLASTERS IN TIN WOODLAND ANIMALS   &  857                               & 0.007                             \\\\\n",
       "\t 22961                              & JAM MAKING SET PRINTED             &  816                               & 0.007                             \\\\\n",
       "\t 22423                              & REGENCY CAKESTAND 3 TIER           &  809                               & 0.007                             \\\\\n",
       "\t 16045                              & POPART WOODEN PENCILS ASST         &  800                               & 0.007                             \\\\\n",
       "\\end{tabular}\n"
      ],
      "text/markdown": [
       "\n",
       "| Stock Code | Description | Total Quantity | percentage |\n",
       "|---|---|---|---|\n",
       "| 22326                              | ROUND SNACK BOXES SET OF4 WOODLAND | 1233                               | 0.010                              |\n",
       "| 15036                              | ASSORTED COLOURS SILK FAN          | 1164                               | 0.010                              |\n",
       "| 20719                              | WOODLAND CHARLOTTE BAG             | 1020                               | 0.009                              |\n",
       "| 21212                              | PACK OF 72 RETROSPOT CAKE CASES    | 1002                               | 0.008                              |\n",
       "| 22585                              | PACK OF 6 BIRDY GIFT TAGS          |  936                               | 0.008                              |\n",
       "| 22629                              | SPACEBOY LUNCH BOX                 |  876                               | 0.007                              |\n",
       "| 22554                              | PLASTERS IN TIN WOODLAND ANIMALS   |  857                               | 0.007                              |\n",
       "| 22961                              | JAM MAKING SET PRINTED             |  816                               | 0.007                              |\n",
       "| 22423                              | REGENCY CAKESTAND 3 TIER           |  809                               | 0.007                              |\n",
       "| 16045                              | POPART WOODEN PENCILS ASST         |  800                               | 0.007                              |\n",
       "\n"
      ],
      "text/plain": [
       "   Stock Code Description                        Total Quantity percentage\n",
       "1  22326      ROUND SNACK BOXES SET OF4 WOODLAND 1233           0.010     \n",
       "2  15036      ASSORTED COLOURS SILK FAN          1164           0.010     \n",
       "3  20719      WOODLAND CHARLOTTE BAG             1020           0.009     \n",
       "4  21212      PACK OF 72 RETROSPOT CAKE CASES    1002           0.008     \n",
       "5  22585      PACK OF 6 BIRDY GIFT TAGS           936           0.008     \n",
       "6  22629      SPACEBOY LUNCH BOX                  876           0.007     \n",
       "7  22554      PLASTERS IN TIN WOODLAND ANIMALS    857           0.007     \n",
       "8  22961      JAM MAKING SET PRINTED              816           0.007     \n",
       "9  22423      REGENCY CAKESTAND 3 TIER            809           0.007     \n",
       "10 16045      POPART WOODEN PENCILS ASST          800           0.007     "
      ]
     },
     "metadata": {},
     "output_type": "display_data"
    },
    {
     "data": {
      "image/png": "[encoded data removed]",
      "text/plain": [
       "plot without title"
      ]
     },
     "metadata": {},
     "output_type": "display_data"
    }
   ],
   "source": [
    "# groups the data by `Stock Code` and `Description` then calculate the total quantity sold for each Stock\n",
    "# and fetch the first 10 in descending order and then plot of it.\n",
    "ger_df%>%\n",
    "  group_by(`Stock Code`, `Description`)%>%\n",
    "  summarise('Total Quantity' = sum(`Quantity`))%>%\n",
    "  arrange(desc(`Total Quantity`))%>%head(10)->q\n",
    "\n",
    "options(repr.plot.width =6, repr.plot.height = 4)\n",
    "ggplot(data=q)+\n",
    "  geom_bar(stat= 'identity', fill= c(rep('grey', 6), rep('steelblue', 4)), \n",
    "           mapping= aes(x =reorder(`Stock Code`, `Total Quantity`)  , y =`Total Quantity` ))+\n",
    "scale_y_continuous(name= 'Quantity', label= comma)+scale_x_discrete(name= 'Stock Code')+\n",
    "ggtitle('Top 10 Stocks')+theme(panel.grid = element_blank(), \n",
    "                                          panel.border = element_blank(),\n",
    "                                         axis.line = element_line(colour= 'grey'))\n",
    "\n",
    "# creates the percentage of quantity sold by each stock\n",
    "qsum = sum(ger_df$Quantity)\n",
    "q%>%mutate('percentage'= round(`Total Quantity`/qsum, 3))"
   ]
  },
  {
   "cell_type": "markdown",
   "metadata": {},
   "source": [
    "<font size= 6> Do holidays affect Sales or Demand ? </font>"
   ]
  },
  {
   "cell_type": "code",
   "execution_count": 37,
   "metadata": {},
   "outputs": [],
   "source": [
    "# this external data source contains the holidays in Germany and its date.\n",
    "hol= read_excel(path = 'data/holidays.xlsx')"
   ]
  },
  {
   "cell_type": "code",
   "execution_count": 38,
   "metadata": {
    "scrolled": true
   },
   "outputs": [
    {
     "data": {
      "text/html": [
       "<table>\n",
       "<thead><tr><th scope=col>day</th><th scope=col>month</th><th scope=col>year</th><th scope=col>holiday</th></tr></thead>\n",
       "<tbody>\n",
       "\t<tr><td> 1               </td><td>May              </td><td>2010             </td><td>Labour Day       </td></tr>\n",
       "\t<tr><td> 3               </td><td>Oct              </td><td>2010             </td><td>German Unity Day </td></tr>\n",
       "\t<tr><td>31               </td><td>Oct              </td><td>2010             </td><td>Reformation Day  </td></tr>\n",
       "\t<tr><td> 1               </td><td>Nov              </td><td>2010             </td><td>All Saints Day   </td></tr>\n",
       "\t<tr><td>25               </td><td>Dec              </td><td>2010             </td><td>Christmas Day    </td></tr>\n",
       "\t<tr><td>26               </td><td>Dec              </td><td>2010             </td><td>St. Stephen's Day</td></tr>\n",
       "</tbody>\n",
       "</table>\n"
      ],
      "text/latex": [
       "\\begin{tabular}{r|llll}\n",
       " day & month & year & holiday\\\\\n",
       "\\hline\n",
       "\t  1                & May               & 2010              & Labour Day       \\\\\n",
       "\t  3                & Oct               & 2010              & German Unity Day \\\\\n",
       "\t 31                & Oct               & 2010              & Reformation Day  \\\\\n",
       "\t  1                & Nov               & 2010              & All Saints Day   \\\\\n",
       "\t 25                & Dec               & 2010              & Christmas Day    \\\\\n",
       "\t 26                & Dec               & 2010              & St. Stephen's Day\\\\\n",
       "\\end{tabular}\n"
      ],
      "text/markdown": [
       "\n",
       "| day | month | year | holiday |\n",
       "|---|---|---|---|\n",
       "|  1                | May               | 2010              | Labour Day        |\n",
       "|  3                | Oct               | 2010              | German Unity Day  |\n",
       "| 31                | Oct               | 2010              | Reformation Day   |\n",
       "|  1                | Nov               | 2010              | All Saints Day    |\n",
       "| 25                | Dec               | 2010              | Christmas Day     |\n",
       "| 26                | Dec               | 2010              | St. Stephen's Day |\n",
       "\n"
      ],
      "text/plain": [
       "  day month year holiday          \n",
       "1  1  May   2010 Labour Day       \n",
       "2  3  Oct   2010 German Unity Day \n",
       "3 31  Oct   2010 Reformation Day  \n",
       "4  1  Nov   2010 All Saints Day   \n",
       "5 25  Dec   2010 Christmas Day    \n",
       "6 26  Dec   2010 St. Stephen's Day"
      ]
     },
     "metadata": {},
     "output_type": "display_data"
    }
   ],
   "source": [
    "head(hol)"
   ]
  },
  {
   "cell_type": "code",
   "execution_count": 39,
   "metadata": {},
   "outputs": [
    {
     "data": {
      "text/html": [
       "<ol class=list-inline>\n",
       "\t<li>'No.'</li>\n",
       "\t<li>'Invoice No.'</li>\n",
       "\t<li>'Stock Code'</li>\n",
       "\t<li>'Description'</li>\n",
       "\t<li>'Quantity'</li>\n",
       "\t<li>'Invoice Date'</li>\n",
       "\t<li>'Unit Price'</li>\n",
       "\t<li>'Customer ID'</li>\n",
       "\t<li>'Country'</li>\n",
       "\t<li>'Month'</li>\n",
       "\t<li>'Sales'</li>\n",
       "\t<li>'Day'</li>\n",
       "\t<li>'Year'</li>\n",
       "</ol>\n"
      ],
      "text/latex": [
       "\\begin{enumerate*}\n",
       "\\item 'No.'\n",
       "\\item 'Invoice No.'\n",
       "\\item 'Stock Code'\n",
       "\\item 'Description'\n",
       "\\item 'Quantity'\n",
       "\\item 'Invoice Date'\n",
       "\\item 'Unit Price'\n",
       "\\item 'Customer ID'\n",
       "\\item 'Country'\n",
       "\\item 'Month'\n",
       "\\item 'Sales'\n",
       "\\item 'Day'\n",
       "\\item 'Year'\n",
       "\\end{enumerate*}\n"
      ],
      "text/markdown": [
       "1. 'No.'\n",
       "2. 'Invoice No.'\n",
       "3. 'Stock Code'\n",
       "4. 'Description'\n",
       "5. 'Quantity'\n",
       "6. 'Invoice Date'\n",
       "7. 'Unit Price'\n",
       "8. 'Customer ID'\n",
       "9. 'Country'\n",
       "10. 'Month'\n",
       "11. 'Sales'\n",
       "12. 'Day'\n",
       "13. 'Year'\n",
       "\n",
       "\n"
      ],
      "text/plain": [
       " [1] \"No.\"          \"Invoice No.\"  \"Stock Code\"   \"Description\"  \"Quantity\"    \n",
       " [6] \"Invoice Date\" \"Unit Price\"   \"Customer ID\"  \"Country\"      \"Month\"       \n",
       "[11] \"Sales\"        \"Day\"          \"Year\"        "
      ]
     },
     "metadata": {},
     "output_type": "display_data"
    }
   ],
   "source": [
    "colnames(ger_df)"
   ]
  },
  {
   "cell_type": "code",
   "execution_count": 40,
   "metadata": {},
   "outputs": [],
   "source": [
    "# fetch the month and month name from \n",
    "# the month_count data created in In[8] and then merge the mth_df to the original data\n",
    "# and then assign it to a variable p1\n",
    "mth_df= month_count%>%\n",
    "         select(`Month`,`month name`)\n",
    "ger_df%>%\n",
    "  merge(mth_df, by= 'Month')->p1\n",
    "\n",
    "# we then create an innerjoin of day and month column of the p1 data and the holiday data\n",
    "# and assign it to ger_df2\n",
    "p1%>%\n",
    "inner_join(hol, by=c('Day'= 'day', 'month name'= 'month'))->ger_df2"
   ]
  },
  {
   "cell_type": "code",
   "execution_count": 41,
   "metadata": {},
   "outputs": [
    {
     "data": {
      "text/html": [
       "<table>\n",
       "<thead><tr><th scope=col>Month</th><th scope=col>No.</th><th scope=col>Invoice No.</th><th scope=col>Stock Code</th><th scope=col>Description</th><th scope=col>Quantity</th><th scope=col>Invoice Date</th><th scope=col>Unit Price</th><th scope=col>Customer ID</th><th scope=col>Country</th><th scope=col>Sales</th><th scope=col>Day</th><th scope=col>Year</th><th scope=col>month name</th><th scope=col>year</th><th scope=col>holiday</th></tr></thead>\n",
       "<tbody>\n",
       "\t<tr><td>2                                  </td><td>1589                               </td><td>543833                             </td><td>21621                              </td><td>VINTAGE UNION JACK BUNTING         </td><td>2                                  </td><td>2011-02-14 10:24:00                </td><td>8.50                               </td><td>12476                              </td><td>Germany                            </td><td>17.0                               </td><td>14                                 </td><td>2011                               </td><td>Feb                                </td><td>2010                               </td><td>Valentine's Day                    </td></tr>\n",
       "\t<tr><td>2                                  </td><td>1589                               </td><td>543833                             </td><td>21621                              </td><td>VINTAGE UNION JACK BUNTING         </td><td>2                                  </td><td>2011-02-14 10:24:00                </td><td>8.50                               </td><td>12476                              </td><td>Germany                            </td><td>17.0                               </td><td>14                                 </td><td>2011                               </td><td>Feb                                </td><td>2011                               </td><td>Valentine's Day                    </td></tr>\n",
       "\t<tr><td>2                                  </td><td>1590                               </td><td>543833                             </td><td>22722                              </td><td>SET OF 6 SPICE TINS PANTRY DESIGN  </td><td>4                                  </td><td>2011-02-14 10:24:00                </td><td>3.95                               </td><td>12476                              </td><td>Germany                            </td><td>15.8                               </td><td>14                                 </td><td>2011                               </td><td>Feb                                </td><td>2010                               </td><td>Valentine's Day                    </td></tr>\n",
       "\t<tr><td>2                                  </td><td>1590                               </td><td>543833                             </td><td>22722                              </td><td>SET OF 6 SPICE TINS PANTRY DESIGN  </td><td>4                                  </td><td>2011-02-14 10:24:00                </td><td>3.95                               </td><td>12476                              </td><td>Germany                            </td><td>15.8                               </td><td>14                                 </td><td>2011                               </td><td>Feb                                </td><td>2011                               </td><td>Valentine's Day                    </td></tr>\n",
       "\t<tr><td>2                                  </td><td>1588                               </td><td>543833                             </td><td>22957                              </td><td>SET 3 PAPER VINTAGE CHICK PAPER EGG</td><td>6                                  </td><td>2011-02-14 10:24:00                </td><td>2.95                               </td><td>12476                              </td><td>Germany                            </td><td>17.7                               </td><td>14                                 </td><td>2011                               </td><td>Feb                                </td><td>2010                               </td><td>Valentine's Day                    </td></tr>\n",
       "\t<tr><td>2                                  </td><td>1588                               </td><td>543833                             </td><td>22957                              </td><td>SET 3 PAPER VINTAGE CHICK PAPER EGG</td><td>6                                  </td><td>2011-02-14 10:24:00                </td><td>2.95                               </td><td>12476                              </td><td>Germany                            </td><td>17.7                               </td><td>14                                 </td><td>2011                               </td><td>Feb                                </td><td>2011                               </td><td>Valentine's Day                    </td></tr>\n",
       "</tbody>\n",
       "</table>\n"
      ],
      "text/latex": [
       "\\begin{tabular}{r|llllllllllllllll}\n",
       " Month & No. & Invoice No. & Stock Code & Description & Quantity & Invoice Date & Unit Price & Customer ID & Country & Sales & Day & Year & month name & year & holiday\\\\\n",
       "\\hline\n",
       "\t 2                                   & 1589                                & 543833                              & 21621                               & VINTAGE UNION JACK BUNTING          & 2                                   & 2011-02-14 10:24:00                 & 8.50                                & 12476                               & Germany                             & 17.0                                & 14                                  & 2011                                & Feb                                 & 2010                                & Valentine's Day                    \\\\\n",
       "\t 2                                   & 1589                                & 543833                              & 21621                               & VINTAGE UNION JACK BUNTING          & 2                                   & 2011-02-14 10:24:00                 & 8.50                                & 12476                               & Germany                             & 17.0                                & 14                                  & 2011                                & Feb                                 & 2011                                & Valentine's Day                    \\\\\n",
       "\t 2                                   & 1590                                & 543833                              & 22722                               & SET OF 6 SPICE TINS PANTRY DESIGN   & 4                                   & 2011-02-14 10:24:00                 & 3.95                                & 12476                               & Germany                             & 15.8                                & 14                                  & 2011                                & Feb                                 & 2010                                & Valentine's Day                    \\\\\n",
       "\t 2                                   & 1590                                & 543833                              & 22722                               & SET OF 6 SPICE TINS PANTRY DESIGN   & 4                                   & 2011-02-14 10:24:00                 & 3.95                                & 12476                               & Germany                             & 15.8                                & 14                                  & 2011                                & Feb                                 & 2011                                & Valentine's Day                    \\\\\n",
       "\t 2                                   & 1588                                & 543833                              & 22957                               & SET 3 PAPER VINTAGE CHICK PAPER EGG & 6                                   & 2011-02-14 10:24:00                 & 2.95                                & 12476                               & Germany                             & 17.7                                & 14                                  & 2011                                & Feb                                 & 2010                                & Valentine's Day                    \\\\\n",
       "\t 2                                   & 1588                                & 543833                              & 22957                               & SET 3 PAPER VINTAGE CHICK PAPER EGG & 6                                   & 2011-02-14 10:24:00                 & 2.95                                & 12476                               & Germany                             & 17.7                                & 14                                  & 2011                                & Feb                                 & 2011                                & Valentine's Day                    \\\\\n",
       "\\end{tabular}\n"
      ],
      "text/markdown": [
       "\n",
       "| Month | No. | Invoice No. | Stock Code | Description | Quantity | Invoice Date | Unit Price | Customer ID | Country | Sales | Day | Year | month name | year | holiday |\n",
       "|---|---|---|---|---|---|---|---|---|---|---|---|---|---|---|---|\n",
       "| 2                                   | 1589                                | 543833                              | 21621                               | VINTAGE UNION JACK BUNTING          | 2                                   | 2011-02-14 10:24:00                 | 8.50                                | 12476                               | Germany                             | 17.0                                | 14                                  | 2011                                | Feb                                 | 2010                                | Valentine's Day                     |\n",
       "| 2                                   | 1589                                | 543833                              | 21621                               | VINTAGE UNION JACK BUNTING          | 2                                   | 2011-02-14 10:24:00                 | 8.50                                | 12476                               | Germany                             | 17.0                                | 14                                  | 2011                                | Feb                                 | 2011                                | Valentine's Day                     |\n",
       "| 2                                   | 1590                                | 543833                              | 22722                               | SET OF 6 SPICE TINS PANTRY DESIGN   | 4                                   | 2011-02-14 10:24:00                 | 3.95                                | 12476                               | Germany                             | 15.8                                | 14                                  | 2011                                | Feb                                 | 2010                                | Valentine's Day                     |\n",
       "| 2                                   | 1590                                | 543833                              | 22722                               | SET OF 6 SPICE TINS PANTRY DESIGN   | 4                                   | 2011-02-14 10:24:00                 | 3.95                                | 12476                               | Germany                             | 15.8                                | 14                                  | 2011                                | Feb                                 | 2011                                | Valentine's Day                     |\n",
       "| 2                                   | 1588                                | 543833                              | 22957                               | SET 3 PAPER VINTAGE CHICK PAPER EGG | 6                                   | 2011-02-14 10:24:00                 | 2.95                                | 12476                               | Germany                             | 17.7                                | 14                                  | 2011                                | Feb                                 | 2010                                | Valentine's Day                     |\n",
       "| 2                                   | 1588                                | 543833                              | 22957                               | SET 3 PAPER VINTAGE CHICK PAPER EGG | 6                                   | 2011-02-14 10:24:00                 | 2.95                                | 12476                               | Germany                             | 17.7                                | 14                                  | 2011                                | Feb                                 | 2011                                | Valentine's Day                     |\n",
       "\n"
      ],
      "text/plain": [
       "  Month No.  Invoice No. Stock Code Description                        \n",
       "1 2     1589 543833      21621      VINTAGE UNION JACK BUNTING         \n",
       "2 2     1589 543833      21621      VINTAGE UNION JACK BUNTING         \n",
       "3 2     1590 543833      22722      SET OF 6 SPICE TINS PANTRY DESIGN  \n",
       "4 2     1590 543833      22722      SET OF 6 SPICE TINS PANTRY DESIGN  \n",
       "5 2     1588 543833      22957      SET 3 PAPER VINTAGE CHICK PAPER EGG\n",
       "6 2     1588 543833      22957      SET 3 PAPER VINTAGE CHICK PAPER EGG\n",
       "  Quantity Invoice Date        Unit Price Customer ID Country Sales Day Year\n",
       "1 2        2011-02-14 10:24:00 8.50       12476       Germany 17.0  14  2011\n",
       "2 2        2011-02-14 10:24:00 8.50       12476       Germany 17.0  14  2011\n",
       "3 4        2011-02-14 10:24:00 3.95       12476       Germany 15.8  14  2011\n",
       "4 4        2011-02-14 10:24:00 3.95       12476       Germany 15.8  14  2011\n",
       "5 6        2011-02-14 10:24:00 2.95       12476       Germany 17.7  14  2011\n",
       "6 6        2011-02-14 10:24:00 2.95       12476       Germany 17.7  14  2011\n",
       "  month name year holiday        \n",
       "1 Feb        2010 Valentine's Day\n",
       "2 Feb        2011 Valentine's Day\n",
       "3 Feb        2010 Valentine's Day\n",
       "4 Feb        2011 Valentine's Day\n",
       "5 Feb        2010 Valentine's Day\n",
       "6 Feb        2011 Valentine's Day"
      ]
     },
     "metadata": {},
     "output_type": "display_data"
    }
   ],
   "source": [
    "head(ger_df2)"
   ]
  },
  {
   "cell_type": "code",
   "execution_count": null,
   "metadata": {},
   "outputs": [],
   "source": []
  },
  {
   "cell_type": "markdown",
   "metadata": {},
   "source": [
    "<font size= 6>Sales by Holiday</font>"
   ]
  },
  {
   "cell_type": "code",
   "execution_count": 42,
   "metadata": {},
   "outputs": [
    {
     "data": {
      "image/png": "[encoded data removed]",
      "text/plain": [
       "plot without title"
      ]
     },
     "metadata": {},
     "output_type": "display_data"
    }
   ],
   "source": [
    "# the code groups the data by holiday and then calculates the total sales made in each holiday period\n",
    "# we then assign the resulting data to a variable h.\n",
    "# and then make a plot of total sales by holiday...\n",
    "ger_df2%>%\n",
    "  group_by(`holiday`)%>%\n",
    "  summarise('Total Sales'= sum(`Sales`))->h\n",
    "\n",
    "\n",
    "ggplot(data= h)+\n",
    "geom_bar(mapping= aes(y= `Total Sales`, x = `holiday`), stat = 'identity', \n",
    "         fill= c(rep('lightgray', 1), rep('steelblue', 1), rep('lightgray', 2)) )+\n",
    "scale_y_continuous(name='', labels= comma)+theme(panel.grid = element_blank(), \n",
    "                                          panel.border = element_blank(),\n",
    "                                         axis.line = element_line(colour= 'grey'))+\n",
    "ggtitle('Sales made on each Holiday')"
   ]
  },
  {
   "cell_type": "code",
   "execution_count": 43,
   "metadata": {},
   "outputs": [
    {
     "data": {
      "text/html": [
       "<table>\n",
       "<thead><tr><th scope=col>holiday</th><th scope=col>Total Sales</th><th scope=col>%perc</th></tr></thead>\n",
       "<tbody>\n",
       "\t<tr><td>Easter         </td><td> 620.29        </td><td>0.09809562     </td></tr>\n",
       "\t<tr><td>Labour Day     </td><td>2850.99        </td><td>0.45086916     </td></tr>\n",
       "\t<tr><td>Reformation Day</td><td>1391.06        </td><td>0.21998887     </td></tr>\n",
       "\t<tr><td>Valentine's Day</td><td>1460.98        </td><td>0.23104635     </td></tr>\n",
       "</tbody>\n",
       "</table>\n"
      ],
      "text/latex": [
       "\\begin{tabular}{r|lll}\n",
       " holiday & Total Sales & \\%perc\\\\\n",
       "\\hline\n",
       "\t Easter          &  620.29         & 0.09809562     \\\\\n",
       "\t Labour Day      & 2850.99         & 0.45086916     \\\\\n",
       "\t Reformation Day & 1391.06         & 0.21998887     \\\\\n",
       "\t Valentine's Day & 1460.98         & 0.23104635     \\\\\n",
       "\\end{tabular}\n"
      ],
      "text/markdown": [
       "\n",
       "| holiday | Total Sales | %perc |\n",
       "|---|---|---|\n",
       "| Easter          |  620.29         | 0.09809562      |\n",
       "| Labour Day      | 2850.99         | 0.45086916      |\n",
       "| Reformation Day | 1391.06         | 0.21998887      |\n",
       "| Valentine's Day | 1460.98         | 0.23104635      |\n",
       "\n"
      ],
      "text/plain": [
       "  holiday         Total Sales %perc     \n",
       "1 Easter           620.29     0.09809562\n",
       "2 Labour Day      2850.99     0.45086916\n",
       "3 Reformation Day 1391.06     0.21998887\n",
       "4 Valentine's Day 1460.98     0.23104635"
      ]
     },
     "metadata": {},
     "output_type": "display_data"
    }
   ],
   "source": [
    "h%>%mutate('%perc'= h$`Total Sales`/sum(h$`Total Sales`)) # create a percentage sales made in each month column..."
   ]
  },
  {
   "cell_type": "code",
   "execution_count": 44,
   "metadata": {},
   "outputs": [
    {
     "name": "stderr",
     "output_type": "stream",
     "text": [
      "`summarise()` has grouped output by 'holiday'. You can override using the `.groups` argument.\n"
     ]
    }
   ],
   "source": [
    "# calculates the sum of sales and group them by holiday and description\n",
    "# and then assign it to the gifts_data variable..\n",
    "ger_df2%>%\n",
    "group_by(`holiday`, `Description`)%>%\n",
    "summarise('Sales' = sum(Sales))-> gifts_data"
   ]
  },
  {
   "cell_type": "code",
   "execution_count": null,
   "metadata": {},
   "outputs": [],
   "source": []
  },
  {
   "cell_type": "code",
   "execution_count": 45,
   "metadata": {},
   "outputs": [],
   "source": [
    "# the code below saves the sum of sales made in each holiday\n",
    "gifts_data%>%\n",
    "filter(`holiday` == 'Easter')%>%write.csv('output/easter-day.csv')\n",
    "\n",
    "gifts_data%>%\n",
    "filter(`holiday` == 'Labour Day')%>%write.csv('output/labour-day.csv')\n",
    "\n",
    "gifts_data%>%\n",
    "filter(`holiday` == 'Reformation Day')%>%write.csv('output/reformation-day.csv')\n",
    "\n",
    "gifts_data%>%\n",
    "filter(`holiday` == \"Valentine's Day\")%>%write.csv('output/val-day.csv')"
   ]
  },
  {
   "cell_type": "raw",
   "metadata": {},
   "source": [
    "hsum=sum(h$`Total Sales`)\n",
    "h%>%mutate('percentage'= round(`Total Sales`/hsum, 3))\n",
    "\n",
    "ger_df2%>%\n",
    "mutate('weekday'= weekdays(`Invoice Date`))->ger_df2\n",
    "\n",
    "ger_df2%>%\n",
    "mutate('week number'= ave(ger_df2$weekday, ger_df2$weekday, \n",
    "                          format(`Invoice Date`, '%Y-%m'), \n",
    "                          FUN=seq_along))->ger_df2\n",
    "# Mother's day\n",
    "ger_df2%>%\n",
    " filter(`week number` == 2 & `weekday` == 'Sunday' & `month name` == 'May')\n",
    "\n",
    "#Father's day\n",
    "ger_df2%>%\n",
    " filter(`week number` == 3 & `weekday` == 'Sunday' & `month name` == 'Jun')"
   ]
  },
  {
   "cell_type": "code",
   "execution_count": 46,
   "metadata": {
    "scrolled": false
   },
   "outputs": [
    {
     "data": {
      "image/png": "[encoded data removed]",
      "text/plain": [
       "plot without title"
      ]
     },
     "metadata": {},
     "output_type": "display_data"
    }
   ],
   "source": [
    "# creates the weekday variable to the data\n",
    "# then calculate the sum of sales made in each week day\n",
    "# we then make a plot of it..\n",
    "ger_df%>%mutate('week day'= weekdays(`Invoice Date`))->ger_df\n",
    "ger_df%>%\n",
    "group_by(`week day`)%>%\n",
    "summarise('sales'= sum(`Sales`))->d2\n",
    "\n",
    "dayname = c('Monday', 'Tuesday','Wednesday', 'Thursday', 'Friday', 'Sunday' )\n",
    "\n",
    "options(repr.plot.width =6, repr.plot.height = 4)\n",
    "chrome = c(rep('lightgray', 3), rep('steelblue', 2), 'lightgray')\n",
    "ggplot(data= d2)+\n",
    "geom_bar(stat='identity', aes(x= factor(`week day`, level= dayname), y = `sales`), fill= chrome)+\n",
    "scale_y_continuous(labels= comma, name= 'Sales')+scale_x_discrete(name= '')+\n",
    "ggtitle('Sales by Day.')+theme(panel.grid = element_blank(), \n",
    "                                          panel.border = element_blank(),\n",
    "                                         axis.line = element_line(colour= 'grey'))"
   ]
  },
  {
   "cell_type": "code",
   "execution_count": 47,
   "metadata": {},
   "outputs": [
    {
     "data": {
      "text/html": [
       "<table>\n",
       "<thead><tr><th scope=col>week day</th><th scope=col>sales</th><th scope=col>% sales</th></tr></thead>\n",
       "<tbody>\n",
       "\t<tr><td>Friday   </td><td>45035.98 </td><td>21.91    </td></tr>\n",
       "\t<tr><td>Monday   </td><td>33520.99 </td><td>16.31    </td></tr>\n",
       "\t<tr><td>Sunday   </td><td>14754.52 </td><td> 7.18    </td></tr>\n",
       "\t<tr><td>Thursday </td><td>57378.04 </td><td>27.91    </td></tr>\n",
       "\t<tr><td>Tuesday  </td><td>22981.97 </td><td>11.18    </td></tr>\n",
       "\t<tr><td>Wednesday</td><td>31898.39 </td><td>15.52    </td></tr>\n",
       "</tbody>\n",
       "</table>\n"
      ],
      "text/latex": [
       "\\begin{tabular}{r|lll}\n",
       " week day & sales & \\% sales\\\\\n",
       "\\hline\n",
       "\t Friday    & 45035.98  & 21.91    \\\\\n",
       "\t Monday    & 33520.99  & 16.31    \\\\\n",
       "\t Sunday    & 14754.52  &  7.18    \\\\\n",
       "\t Thursday  & 57378.04  & 27.91    \\\\\n",
       "\t Tuesday   & 22981.97  & 11.18    \\\\\n",
       "\t Wednesday & 31898.39  & 15.52    \\\\\n",
       "\\end{tabular}\n"
      ],
      "text/markdown": [
       "\n",
       "| week day | sales | % sales |\n",
       "|---|---|---|\n",
       "| Friday    | 45035.98  | 21.91     |\n",
       "| Monday    | 33520.99  | 16.31     |\n",
       "| Sunday    | 14754.52  |  7.18     |\n",
       "| Thursday  | 57378.04  | 27.91     |\n",
       "| Tuesday   | 22981.97  | 11.18     |\n",
       "| Wednesday | 31898.39  | 15.52     |\n",
       "\n"
      ],
      "text/plain": [
       "  week day  sales    % sales\n",
       "1 Friday    45035.98 21.91  \n",
       "2 Monday    33520.99 16.31  \n",
       "3 Sunday    14754.52  7.18  \n",
       "4 Thursday  57378.04 27.91  \n",
       "5 Tuesday   22981.97 11.18  \n",
       "6 Wednesday 31898.39 15.52  "
      ]
     },
     "metadata": {},
     "output_type": "display_data"
    }
   ],
   "source": [
    "# creates % sales made in each weekday...\n",
    "d2%>%mutate('% sales'= round(`sales`/sum(d2$sales)*100, 2)) "
   ]
  },
  {
   "cell_type": "code",
   "execution_count": null,
   "metadata": {},
   "outputs": [],
   "source": []
  },
  {
   "cell_type": "markdown",
   "metadata": {},
   "source": [
    "<font size=6> Concluding Question</font>\n",
    "1. Why was 2010 sales incredibly low as compared to 2011 sales.\n",
    "2. Does holidays really affect sales."
   ]
  },
  {
   "cell_type": "code",
   "execution_count": null,
   "metadata": {},
   "outputs": [],
   "source": []
  }
 ],
 "metadata": {
  "hide_input": false,
  "kernelspec": {
   "display_name": "R",
   "language": "R",
   "name": "ir"
  },
  "language_info": {
   "codemirror_mode": "r",
   "file_extension": ".r",
   "mimetype": "text/x-r-source",
   "name": "R",
   "pygments_lexer": "r",
   "version": "3.6.1"
  }
 },
 "nbformat": 4,
 "nbformat_minor": 2
}
