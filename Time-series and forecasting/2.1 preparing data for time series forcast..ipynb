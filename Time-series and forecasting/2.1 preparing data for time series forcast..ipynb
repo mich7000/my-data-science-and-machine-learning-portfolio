{
 "cells": [
  {
   "cell_type": "code",
   "execution_count": 1,
   "id": "dc1c229c",
   "metadata": {},
   "outputs": [],
   "source": [
    "%matplotlib inline\n",
    "import numpy as np\n",
    "import pandas as pd\n",
    "import matplotlib.pyplot as plt\n",
    "import matplotlib\n",
    "\n",
    "from pandas.plotting import autocorrelation_plot, lag_plot\n",
    "from statsmodels.graphics.tsaplots import plot_acf, plot_pacf\n",
    "import statsmodels.api as sm\n",
    "from statsmodels.tsa.ar_model import AutoReg, ar_select_order\n",
    "\n",
    "matplotlib.rcParams['figure.figsize'] = (12, 5)"
   ]
  },
  {
   "cell_type": "code",
   "execution_count": 9,
   "id": "a5fd2b9c",
   "metadata": {},
   "outputs": [],
   "source": [
    "data = pd.read_csv('data/s&p500.csv')"
   ]
  },
  {
   "cell_type": "code",
   "execution_count": 10,
   "id": "b78df9dc",
   "metadata": {},
   "outputs": [
    {
     "data": {
      "text/html": [
       "<div>\n",
       "<style scoped>\n",
       "    .dataframe tbody tr th:only-of-type {\n",
       "        vertical-align: middle;\n",
       "    }\n",
       "\n",
       "    .dataframe tbody tr th {\n",
       "        vertical-align: top;\n",
       "    }\n",
       "\n",
       "    .dataframe thead th {\n",
       "        text-align: right;\n",
       "    }\n",
       "</style>\n",
       "<table border=\"1\" class=\"dataframe\">\n",
       "  <thead>\n",
       "    <tr style=\"text-align: right;\">\n",
       "      <th></th>\n",
       "      <th>Date</th>\n",
       "      <th>SP500</th>\n",
       "      <th>Dividend</th>\n",
       "      <th>Earnings</th>\n",
       "      <th>Consumer Price Index</th>\n",
       "      <th>Long Interest Rate</th>\n",
       "      <th>Real Price</th>\n",
       "      <th>Real Dividend</th>\n",
       "      <th>Real Earnings</th>\n",
       "      <th>PE10</th>\n",
       "    </tr>\n",
       "  </thead>\n",
       "  <tbody>\n",
       "    <tr>\n",
       "      <th>0</th>\n",
       "      <td>1871-01-01</td>\n",
       "      <td>4.44</td>\n",
       "      <td>0.26</td>\n",
       "      <td>0.4</td>\n",
       "      <td>12.46</td>\n",
       "      <td>5.32</td>\n",
       "      <td>89.00</td>\n",
       "      <td>5.21</td>\n",
       "      <td>8.02</td>\n",
       "      <td>NaN</td>\n",
       "    </tr>\n",
       "    <tr>\n",
       "      <th>1</th>\n",
       "      <td>1871-02-01</td>\n",
       "      <td>4.50</td>\n",
       "      <td>0.26</td>\n",
       "      <td>0.4</td>\n",
       "      <td>12.84</td>\n",
       "      <td>5.32</td>\n",
       "      <td>87.53</td>\n",
       "      <td>5.06</td>\n",
       "      <td>7.78</td>\n",
       "      <td>NaN</td>\n",
       "    </tr>\n",
       "    <tr>\n",
       "      <th>2</th>\n",
       "      <td>1871-03-01</td>\n",
       "      <td>4.61</td>\n",
       "      <td>0.26</td>\n",
       "      <td>0.4</td>\n",
       "      <td>13.03</td>\n",
       "      <td>5.33</td>\n",
       "      <td>88.36</td>\n",
       "      <td>4.98</td>\n",
       "      <td>7.67</td>\n",
       "      <td>NaN</td>\n",
       "    </tr>\n",
       "    <tr>\n",
       "      <th>3</th>\n",
       "      <td>1871-04-01</td>\n",
       "      <td>4.74</td>\n",
       "      <td>0.26</td>\n",
       "      <td>0.4</td>\n",
       "      <td>12.56</td>\n",
       "      <td>5.33</td>\n",
       "      <td>94.29</td>\n",
       "      <td>5.17</td>\n",
       "      <td>7.96</td>\n",
       "      <td>NaN</td>\n",
       "    </tr>\n",
       "    <tr>\n",
       "      <th>4</th>\n",
       "      <td>1871-05-01</td>\n",
       "      <td>4.86</td>\n",
       "      <td>0.26</td>\n",
       "      <td>0.4</td>\n",
       "      <td>12.27</td>\n",
       "      <td>5.33</td>\n",
       "      <td>98.93</td>\n",
       "      <td>5.29</td>\n",
       "      <td>8.14</td>\n",
       "      <td>NaN</td>\n",
       "    </tr>\n",
       "  </tbody>\n",
       "</table>\n",
       "</div>"
      ],
      "text/plain": [
       "         Date  SP500  Dividend  Earnings  Consumer Price Index  \\\n",
       "0  1871-01-01   4.44      0.26       0.4                 12.46   \n",
       "1  1871-02-01   4.50      0.26       0.4                 12.84   \n",
       "2  1871-03-01   4.61      0.26       0.4                 13.03   \n",
       "3  1871-04-01   4.74      0.26       0.4                 12.56   \n",
       "4  1871-05-01   4.86      0.26       0.4                 12.27   \n",
       "\n",
       "   Long Interest Rate  Real Price  Real Dividend  Real Earnings  PE10  \n",
       "0                5.32       89.00           5.21           8.02   NaN  \n",
       "1                5.32       87.53           5.06           7.78   NaN  \n",
       "2                5.33       88.36           4.98           7.67   NaN  \n",
       "3                5.33       94.29           5.17           7.96   NaN  \n",
       "4                5.33       98.93           5.29           8.14   NaN  "
      ]
     },
     "execution_count": 10,
     "metadata": {},
     "output_type": "execute_result"
    }
   ],
   "source": [
    "data.head()"
   ]
  },
  {
   "cell_type": "code",
   "execution_count": 11,
   "id": "11b9be25",
   "metadata": {},
   "outputs": [],
   "source": [
    "data['Date'] = pd.to_datetime(data['Date'])"
   ]
  },
  {
   "cell_type": "code",
   "execution_count": 12,
   "id": "995ee680",
   "metadata": {},
   "outputs": [
    {
     "name": "stdout",
     "output_type": "stream",
     "text": [
      "<class 'pandas.core.frame.DataFrame'>\n",
      "RangeIndex: 1768 entries, 0 to 1767\n",
      "Data columns (total 10 columns):\n",
      " #   Column                Non-Null Count  Dtype         \n",
      "---  ------                --------------  -----         \n",
      " 0   Date                  1768 non-null   datetime64[ns]\n",
      " 1   SP500                 1768 non-null   float64       \n",
      " 2   Dividend              1767 non-null   float64       \n",
      " 3   Earnings              1764 non-null   float64       \n",
      " 4   Consumer Price Index  1768 non-null   float64       \n",
      " 5   Long Interest Rate    1768 non-null   float64       \n",
      " 6   Real Price            1768 non-null   float64       \n",
      " 7   Real Dividend         1767 non-null   float64       \n",
      " 8   Real Earnings         1764 non-null   float64       \n",
      " 9   PE10                  1648 non-null   float64       \n",
      "dtypes: datetime64[ns](1), float64(9)\n",
      "memory usage: 138.2 KB\n"
     ]
    }
   ],
   "source": [
    "data.info()"
   ]
  },
  {
   "cell_type": "code",
   "execution_count": 13,
   "id": "db913858",
   "metadata": {},
   "outputs": [],
   "source": [
    "# resample to predict only weekly (average) sales\n",
    "\n",
    "data.set_index('Date', inplace=True)"
   ]
  },
  {
   "cell_type": "code",
   "execution_count": 22,
   "id": "c68a7a97",
   "metadata": {},
   "outputs": [
    {
     "data": {
      "text/html": [
       "<div>\n",
       "<style scoped>\n",
       "    .dataframe tbody tr th:only-of-type {\n",
       "        vertical-align: middle;\n",
       "    }\n",
       "\n",
       "    .dataframe tbody tr th {\n",
       "        vertical-align: top;\n",
       "    }\n",
       "\n",
       "    .dataframe thead th {\n",
       "        text-align: right;\n",
       "    }\n",
       "</style>\n",
       "<table border=\"1\" class=\"dataframe\">\n",
       "  <thead>\n",
       "    <tr style=\"text-align: right;\">\n",
       "      <th></th>\n",
       "      <th>SP500</th>\n",
       "      <th>Dividend</th>\n",
       "      <th>Earnings</th>\n",
       "      <th>Consumer Price Index</th>\n",
       "      <th>Long Interest Rate</th>\n",
       "      <th>Real Price</th>\n",
       "      <th>Real Dividend</th>\n",
       "      <th>Real Earnings</th>\n",
       "      <th>PE10</th>\n",
       "    </tr>\n",
       "    <tr>\n",
       "      <th>Date</th>\n",
       "      <th></th>\n",
       "      <th></th>\n",
       "      <th></th>\n",
       "      <th></th>\n",
       "      <th></th>\n",
       "      <th></th>\n",
       "      <th></th>\n",
       "      <th></th>\n",
       "      <th></th>\n",
       "    </tr>\n",
       "  </thead>\n",
       "  <tbody>\n",
       "    <tr>\n",
       "      <th>1871-01-01</th>\n",
       "      <td>4.44</td>\n",
       "      <td>0.26</td>\n",
       "      <td>0.4</td>\n",
       "      <td>12.46</td>\n",
       "      <td>5.32</td>\n",
       "      <td>89.00</td>\n",
       "      <td>5.21</td>\n",
       "      <td>8.02</td>\n",
       "      <td>NaN</td>\n",
       "    </tr>\n",
       "    <tr>\n",
       "      <th>1871-02-01</th>\n",
       "      <td>4.50</td>\n",
       "      <td>0.26</td>\n",
       "      <td>0.4</td>\n",
       "      <td>12.84</td>\n",
       "      <td>5.32</td>\n",
       "      <td>87.53</td>\n",
       "      <td>5.06</td>\n",
       "      <td>7.78</td>\n",
       "      <td>NaN</td>\n",
       "    </tr>\n",
       "    <tr>\n",
       "      <th>1871-03-01</th>\n",
       "      <td>4.61</td>\n",
       "      <td>0.26</td>\n",
       "      <td>0.4</td>\n",
       "      <td>13.03</td>\n",
       "      <td>5.33</td>\n",
       "      <td>88.36</td>\n",
       "      <td>4.98</td>\n",
       "      <td>7.67</td>\n",
       "      <td>NaN</td>\n",
       "    </tr>\n",
       "    <tr>\n",
       "      <th>1871-04-01</th>\n",
       "      <td>4.74</td>\n",
       "      <td>0.26</td>\n",
       "      <td>0.4</td>\n",
       "      <td>12.56</td>\n",
       "      <td>5.33</td>\n",
       "      <td>94.29</td>\n",
       "      <td>5.17</td>\n",
       "      <td>7.96</td>\n",
       "      <td>NaN</td>\n",
       "    </tr>\n",
       "    <tr>\n",
       "      <th>1871-05-01</th>\n",
       "      <td>4.86</td>\n",
       "      <td>0.26</td>\n",
       "      <td>0.4</td>\n",
       "      <td>12.27</td>\n",
       "      <td>5.33</td>\n",
       "      <td>98.93</td>\n",
       "      <td>5.29</td>\n",
       "      <td>8.14</td>\n",
       "      <td>NaN</td>\n",
       "    </tr>\n",
       "  </tbody>\n",
       "</table>\n",
       "</div>"
      ],
      "text/plain": [
       "            SP500  Dividend  Earnings  Consumer Price Index  \\\n",
       "Date                                                          \n",
       "1871-01-01   4.44      0.26       0.4                 12.46   \n",
       "1871-02-01   4.50      0.26       0.4                 12.84   \n",
       "1871-03-01   4.61      0.26       0.4                 13.03   \n",
       "1871-04-01   4.74      0.26       0.4                 12.56   \n",
       "1871-05-01   4.86      0.26       0.4                 12.27   \n",
       "\n",
       "            Long Interest Rate  Real Price  Real Dividend  Real Earnings  PE10  \n",
       "Date                                                                            \n",
       "1871-01-01                5.32       89.00           5.21           8.02   NaN  \n",
       "1871-02-01                5.32       87.53           5.06           7.78   NaN  \n",
       "1871-03-01                5.33       88.36           4.98           7.67   NaN  \n",
       "1871-04-01                5.33       94.29           5.17           7.96   NaN  \n",
       "1871-05-01                5.33       98.93           5.29           8.14   NaN  "
      ]
     },
     "execution_count": 22,
     "metadata": {},
     "output_type": "execute_result"
    }
   ],
   "source": [
    "data.head()"
   ]
  },
  {
   "cell_type": "code",
   "execution_count": 28,
   "id": "9e0fccca",
   "metadata": {},
   "outputs": [],
   "source": [
    "sub14_18 = data.loc['2014': '2018']"
   ]
  },
  {
   "cell_type": "code",
   "execution_count": 30,
   "id": "3480536b",
   "metadata": {},
   "outputs": [],
   "source": [
    "sp1418=sub14_18['SP500']"
   ]
  },
  {
   "cell_type": "code",
   "execution_count": 34,
   "id": "7574441d",
   "metadata": {},
   "outputs": [
    {
     "data": {
      "text/plain": [
       "<AxesSubplot:xlabel='Date'>"
      ]
     },
     "execution_count": 34,
     "metadata": {},
     "output_type": "execute_result"
    },
    {
     "data": {
      "image/png": "[encoded data removed]",
      "text/plain": [
       "<Figure size 864x360 with 1 Axes>"
      ]
     },
     "metadata": {
      "needs_background": "light"
     },
     "output_type": "display_data"
    }
   ],
   "source": [
    "sp1418.resample('M').sum().plot()"
   ]
  },
  {
   "cell_type": "code",
   "execution_count": 36,
   "id": "52270383",
   "metadata": {},
   "outputs": [],
   "source": [
    "# missing values imputation by interpoation\n",
    "\n",
    "series = pd.Series([1,2,2.5,3, 3.5, 4, 4.55, 4.557, 4.6, np.nan, 5.55, 5.6, np.nan])"
   ]
  },
  {
   "cell_type": "code",
   "execution_count": 38,
   "id": "4c643134",
   "metadata": {},
   "outputs": [
    {
     "data": {
      "text/plain": [
       "0     1.000\n",
       "1     2.000\n",
       "2     2.500\n",
       "3     3.000\n",
       "4     3.500\n",
       "5     4.000\n",
       "6     4.550\n",
       "7     4.557\n",
       "8     4.600\n",
       "9     5.075\n",
       "10    5.550\n",
       "11    5.600\n",
       "12    5.600\n",
       "dtype: float64"
      ]
     },
     "execution_count": 38,
     "metadata": {},
     "output_type": "execute_result"
    }
   ],
   "source": [
    "series.interpolate()"
   ]
  },
  {
   "cell_type": "code",
   "execution_count": 41,
   "id": "ff8951f2",
   "metadata": {},
   "outputs": [
    {
     "data": {
      "text/plain": [
       "<AxesSubplot:xlabel='Date'>"
      ]
     },
     "execution_count": 41,
     "metadata": {},
     "output_type": "execute_result"
    },
    {
     "data": {
      "image/png": "[encoded data removed]",
      "text/plain": [
       "<Figure size 864x360 with 1 Axes>"
      ]
     },
     "metadata": {
      "needs_background": "light"
     },
     "output_type": "display_data"
    }
   ],
   "source": [
    "sp1418.plot()"
   ]
  },
  {
   "cell_type": "code",
   "execution_count": 39,
   "id": "0ba81160",
   "metadata": {},
   "outputs": [
    {
     "data": {
      "text/plain": [
       "Date\n",
       "2014-01-01    1822.36\n",
       "2014-02-01    1817.04\n",
       "2014-03-01    1863.52\n",
       "2014-04-01    1864.26\n",
       "2014-05-01    1889.77\n",
       "Name: SP500, dtype: float64"
      ]
     },
     "execution_count": 39,
     "metadata": {},
     "output_type": "execute_result"
    }
   ],
   "source": [
    "sp1418.head()"
   ]
  },
  {
   "cell_type": "code",
   "execution_count": 40,
   "id": "6f472afc",
   "metadata": {},
   "outputs": [
    {
     "data": {
      "text/plain": [
       "Date\n",
       "2017-12-01    2664.34\n",
       "2018-01-01    2789.80\n",
       "2018-02-01    2705.16\n",
       "2018-03-01    2702.77\n",
       "2018-04-01    2642.19\n",
       "Name: SP500, dtype: float64"
      ]
     },
     "execution_count": 40,
     "metadata": {},
     "output_type": "execute_result"
    }
   ],
   "source": [
    "sp1418.tail()"
   ]
  },
  {
   "cell_type": "code",
   "execution_count": 42,
   "id": "a20b6365",
   "metadata": {},
   "outputs": [
    {
     "name": "stdout",
     "output_type": "stream",
     "text": [
      "training data shape:  (36,)\n",
      "testing data shape:  (16,)\n"
     ]
    }
   ],
   "source": [
    "# step1\n",
    "train_start = '2014-01-01'\n",
    "test_start = '2017-01-01'\n",
    "\n",
    "# step 2\n",
    "train= sp1418[(sp1418.index >= train_start) & (sp1418.index < test_start)]\n",
    "test= sp1418[sp1418.index >= test_start]\n",
    "\n",
    "print('training data shape: ', train.shape)\n",
    "print('testing data shape: ', test.shape)"
   ]
  },
  {
   "cell_type": "code",
   "execution_count": 43,
   "id": "8eb07b83",
   "metadata": {},
   "outputs": [
    {
     "name": "stdout",
     "output_type": "stream",
     "text": [
      "36\n",
      "16\n"
     ]
    }
   ],
   "source": [
    "print(len(train))\n",
    "print(len(test))"
   ]
  },
  {
   "cell_type": "code",
   "execution_count": null,
   "id": "66295c05",
   "metadata": {},
   "outputs": [],
   "source": [
    "# next we fit the model with the training set and then compare the prediction by the testing set."
   ]
  },
  {
   "cell_type": "code",
   "execution_count": null,
   "id": "459d44da",
   "metadata": {},
   "outputs": [],
   "source": []
  },
  {
   "cell_type": "code",
   "execution_count": null,
   "id": "c7454d7b",
   "metadata": {},
   "outputs": [],
   "source": []
  },
  {
   "cell_type": "code",
   "execution_count": null,
   "id": "6daab16c",
   "metadata": {},
   "outputs": [],
   "source": []
  }
 ],
 "metadata": {
  "kernelspec": {
   "display_name": "Python 3 (ipykernel)",
   "language": "python",
   "name": "python3"
  },
  "language_info": {
   "codemirror_mode": {
    "name": "ipython",
    "version": 3
   },
   "file_extension": ".py",
   "mimetype": "text/x-python",
   "name": "python",
   "nbconvert_exporter": "python",
   "pygments_lexer": "ipython3",
   "version": "3.9.7"
  }
 },
 "nbformat": 4,
 "nbformat_minor": 5
}
