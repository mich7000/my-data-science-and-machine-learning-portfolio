{
 "cells": [
  {
   "cell_type": "code",
   "execution_count": null,
   "id": "064739bd",
   "metadata": {},
   "outputs": [],
   "source": []
  },
  {
   "cell_type": "code",
   "execution_count": 1,
   "id": "5053c1b2",
   "metadata": {},
   "outputs": [],
   "source": [
    "%matplotlib inline\n",
    "\n",
    "import pandas as pd\n",
    "import numpy as np\n",
    "from datetime import datetime\n",
    "import matplotlib.pyplot as plt\n",
    "import matplotlib.dates as mdates\n",
    "\n",
    "import statsmodels.api as sm"
   ]
  },
  {
   "cell_type": "code",
   "execution_count": 2,
   "id": "5806b77e",
   "metadata": {},
   "outputs": [
    {
     "data": {
      "text/plain": [
       "Timestamp('2021-03-15 00:00:00')"
      ]
     },
     "execution_count": 2,
     "metadata": {},
     "output_type": "execute_result"
    }
   ],
   "source": [
    "pd.Timestamp('2021-03-15')"
   ]
  },
  {
   "cell_type": "code",
   "execution_count": 3,
   "id": "2e7ba449",
   "metadata": {},
   "outputs": [
    {
     "data": {
      "text/plain": [
       "TimedeltaIndex([ '1 days 00:00:00',  '1 days 06:00:00',  '1 days 12:00:00',\n",
       "                 '1 days 18:00:00',  '2 days 00:00:00',  '2 days 06:00:00',\n",
       "                 '2 days 12:00:00',  '2 days 18:00:00',  '3 days 00:00:00',\n",
       "                 '3 days 06:00:00',\n",
       "                ...\n",
       "                '28 days 18:00:00', '29 days 00:00:00', '29 days 06:00:00',\n",
       "                '29 days 12:00:00', '29 days 18:00:00', '30 days 00:00:00',\n",
       "                '30 days 06:00:00', '30 days 12:00:00', '30 days 18:00:00',\n",
       "                '31 days 00:00:00'],\n",
       "               dtype='timedelta64[ns]', length=121, freq='6H')"
      ]
     },
     "execution_count": 3,
     "metadata": {},
     "output_type": "execute_result"
    }
   ],
   "source": [
    "# create a data range..\n",
    "pd.timedelta_range(start= '1 day', end='31 day', freq='6H')"
   ]
  },
  {
   "cell_type": "code",
   "execution_count": 4,
   "id": "430abb7d",
   "metadata": {},
   "outputs": [
    {
     "data": {
      "text/plain": [
       "DatetimeIndex(['2020-01-13', '2020-01-20', '2020-01-27', '2020-02-03',\n",
       "               '2020-02-10', '2020-02-17', '2020-02-24', '2020-03-02',\n",
       "               '2020-03-09', '2020-03-16',\n",
       "               ...\n",
       "               '2022-07-11', '2022-07-18', '2022-07-25', '2022-08-01',\n",
       "               '2022-08-08', '2022-08-15', '2022-08-22', '2022-08-29',\n",
       "               '2022-09-05', '2022-09-12'],\n",
       "              dtype='datetime64[ns]', length=140, freq='W-MON')"
      ]
     },
     "execution_count": 4,
     "metadata": {},
     "output_type": "execute_result"
    }
   ],
   "source": [
    "pd.date_range('2020-01-12', '2022-09-12', freq='W-MON')"
   ]
  },
  {
   "cell_type": "code",
   "execution_count": 5,
   "id": "3b79a21e",
   "metadata": {},
   "outputs": [],
   "source": [
    "# dummy data\n",
    "date = pd.date_range('2020-01-12', '2022-09-12', freq='W-MON')\n",
    "values = np.random.randn(140)\n",
    "\n",
    "sample= pd.DataFrame({'date': date,'values': values})"
   ]
  },
  {
   "cell_type": "code",
   "execution_count": 6,
   "id": "ba940d1c",
   "metadata": {},
   "outputs": [
    {
     "data": {
      "text/html": [
       "<div>\n",
       "<style scoped>\n",
       "    .dataframe tbody tr th:only-of-type {\n",
       "        vertical-align: middle;\n",
       "    }\n",
       "\n",
       "    .dataframe tbody tr th {\n",
       "        vertical-align: top;\n",
       "    }\n",
       "\n",
       "    .dataframe thead th {\n",
       "        text-align: right;\n",
       "    }\n",
       "</style>\n",
       "<table border=\"1\" class=\"dataframe\">\n",
       "  <thead>\n",
       "    <tr style=\"text-align: right;\">\n",
       "      <th></th>\n",
       "      <th>date</th>\n",
       "      <th>values</th>\n",
       "    </tr>\n",
       "  </thead>\n",
       "  <tbody>\n",
       "    <tr>\n",
       "      <th>0</th>\n",
       "      <td>2020-01-13</td>\n",
       "      <td>0.101772</td>\n",
       "    </tr>\n",
       "    <tr>\n",
       "      <th>1</th>\n",
       "      <td>2020-01-20</td>\n",
       "      <td>-0.429553</td>\n",
       "    </tr>\n",
       "    <tr>\n",
       "      <th>2</th>\n",
       "      <td>2020-01-27</td>\n",
       "      <td>-0.133838</td>\n",
       "    </tr>\n",
       "    <tr>\n",
       "      <th>3</th>\n",
       "      <td>2020-02-03</td>\n",
       "      <td>-0.710383</td>\n",
       "    </tr>\n",
       "    <tr>\n",
       "      <th>4</th>\n",
       "      <td>2020-02-10</td>\n",
       "      <td>-0.931010</td>\n",
       "    </tr>\n",
       "    <tr>\n",
       "      <th>5</th>\n",
       "      <td>2020-02-17</td>\n",
       "      <td>-0.430763</td>\n",
       "    </tr>\n",
       "    <tr>\n",
       "      <th>6</th>\n",
       "      <td>2020-02-24</td>\n",
       "      <td>0.353119</td>\n",
       "    </tr>\n",
       "  </tbody>\n",
       "</table>\n",
       "</div>"
      ],
      "text/plain": [
       "        date    values\n",
       "0 2020-01-13  0.101772\n",
       "1 2020-01-20 -0.429553\n",
       "2 2020-01-27 -0.133838\n",
       "3 2020-02-03 -0.710383\n",
       "4 2020-02-10 -0.931010\n",
       "5 2020-02-17 -0.430763\n",
       "6 2020-02-24  0.353119"
      ]
     },
     "execution_count": 6,
     "metadata": {},
     "output_type": "execute_result"
    }
   ],
   "source": [
    "sample.head(7)"
   ]
  },
  {
   "cell_type": "code",
   "execution_count": 4,
   "id": "ffdcbbc0",
   "metadata": {},
   "outputs": [
    {
     "data": {
      "text/plain": [
       "-0.04387161426456012"
      ]
     },
     "execution_count": 4,
     "metadata": {},
     "output_type": "execute_result"
    }
   ],
   "source": [
    "np.quantile(a = sample['values'], q= .5)"
   ]
  },
  {
   "cell_type": "code",
   "execution_count": 43,
   "id": "8409de8e",
   "metadata": {},
   "outputs": [
    {
     "data": {
      "text/plain": [
       "-0.18927843667820696"
      ]
     },
     "execution_count": 43,
     "metadata": {},
     "output_type": "execute_result"
    }
   ],
   "source": [
    "np.mean(sample['values'])"
   ]
  },
  {
   "cell_type": "code",
   "execution_count": 44,
   "id": "5e48d989",
   "metadata": {},
   "outputs": [
    {
     "data": {
      "text/plain": [
       "-0.18725174605755518"
      ]
     },
     "execution_count": 44,
     "metadata": {},
     "output_type": "execute_result"
    }
   ],
   "source": [
    "np.median(sample['values'])"
   ]
  },
  {
   "cell_type": "code",
   "execution_count": null,
   "id": "83a7fd47",
   "metadata": {},
   "outputs": [],
   "source": []
  },
  {
   "cell_type": "markdown",
   "id": "b9c2e6ac",
   "metadata": {},
   "source": [
    "**Time series data analysis.**"
   ]
  },
  {
   "cell_type": "code",
   "execution_count": 7,
   "id": "358a75c7",
   "metadata": {},
   "outputs": [],
   "source": [
    "df = pd.read_csv('data/s&p500.csv')"
   ]
  },
  {
   "cell_type": "code",
   "execution_count": 8,
   "id": "de7241cf",
   "metadata": {},
   "outputs": [
    {
     "data": {
      "text/html": [
       "<div>\n",
       "<style scoped>\n",
       "    .dataframe tbody tr th:only-of-type {\n",
       "        vertical-align: middle;\n",
       "    }\n",
       "\n",
       "    .dataframe tbody tr th {\n",
       "        vertical-align: top;\n",
       "    }\n",
       "\n",
       "    .dataframe thead th {\n",
       "        text-align: right;\n",
       "    }\n",
       "</style>\n",
       "<table border=\"1\" class=\"dataframe\">\n",
       "  <thead>\n",
       "    <tr style=\"text-align: right;\">\n",
       "      <th></th>\n",
       "      <th>Date</th>\n",
       "      <th>SP500</th>\n",
       "      <th>Dividend</th>\n",
       "      <th>Earnings</th>\n",
       "      <th>Consumer Price Index</th>\n",
       "      <th>Long Interest Rate</th>\n",
       "      <th>Real Price</th>\n",
       "      <th>Real Dividend</th>\n",
       "      <th>Real Earnings</th>\n",
       "      <th>PE10</th>\n",
       "    </tr>\n",
       "  </thead>\n",
       "  <tbody>\n",
       "    <tr>\n",
       "      <th>0</th>\n",
       "      <td>1871-01-01</td>\n",
       "      <td>4.44</td>\n",
       "      <td>0.26</td>\n",
       "      <td>0.4</td>\n",
       "      <td>12.46</td>\n",
       "      <td>5.32</td>\n",
       "      <td>89.00</td>\n",
       "      <td>5.21</td>\n",
       "      <td>8.02</td>\n",
       "      <td>NaN</td>\n",
       "    </tr>\n",
       "    <tr>\n",
       "      <th>1</th>\n",
       "      <td>1871-02-01</td>\n",
       "      <td>4.50</td>\n",
       "      <td>0.26</td>\n",
       "      <td>0.4</td>\n",
       "      <td>12.84</td>\n",
       "      <td>5.32</td>\n",
       "      <td>87.53</td>\n",
       "      <td>5.06</td>\n",
       "      <td>7.78</td>\n",
       "      <td>NaN</td>\n",
       "    </tr>\n",
       "    <tr>\n",
       "      <th>2</th>\n",
       "      <td>1871-03-01</td>\n",
       "      <td>4.61</td>\n",
       "      <td>0.26</td>\n",
       "      <td>0.4</td>\n",
       "      <td>13.03</td>\n",
       "      <td>5.33</td>\n",
       "      <td>88.36</td>\n",
       "      <td>4.98</td>\n",
       "      <td>7.67</td>\n",
       "      <td>NaN</td>\n",
       "    </tr>\n",
       "    <tr>\n",
       "      <th>3</th>\n",
       "      <td>1871-04-01</td>\n",
       "      <td>4.74</td>\n",
       "      <td>0.26</td>\n",
       "      <td>0.4</td>\n",
       "      <td>12.56</td>\n",
       "      <td>5.33</td>\n",
       "      <td>94.29</td>\n",
       "      <td>5.17</td>\n",
       "      <td>7.96</td>\n",
       "      <td>NaN</td>\n",
       "    </tr>\n",
       "    <tr>\n",
       "      <th>4</th>\n",
       "      <td>1871-05-01</td>\n",
       "      <td>4.86</td>\n",
       "      <td>0.26</td>\n",
       "      <td>0.4</td>\n",
       "      <td>12.27</td>\n",
       "      <td>5.33</td>\n",
       "      <td>98.93</td>\n",
       "      <td>5.29</td>\n",
       "      <td>8.14</td>\n",
       "      <td>NaN</td>\n",
       "    </tr>\n",
       "  </tbody>\n",
       "</table>\n",
       "</div>"
      ],
      "text/plain": [
       "         Date  SP500  Dividend  Earnings  Consumer Price Index  \\\n",
       "0  1871-01-01   4.44      0.26       0.4                 12.46   \n",
       "1  1871-02-01   4.50      0.26       0.4                 12.84   \n",
       "2  1871-03-01   4.61      0.26       0.4                 13.03   \n",
       "3  1871-04-01   4.74      0.26       0.4                 12.56   \n",
       "4  1871-05-01   4.86      0.26       0.4                 12.27   \n",
       "\n",
       "   Long Interest Rate  Real Price  Real Dividend  Real Earnings  PE10  \n",
       "0                5.32       89.00           5.21           8.02   NaN  \n",
       "1                5.32       87.53           5.06           7.78   NaN  \n",
       "2                5.33       88.36           4.98           7.67   NaN  \n",
       "3                5.33       94.29           5.17           7.96   NaN  \n",
       "4                5.33       98.93           5.29           8.14   NaN  "
      ]
     },
     "execution_count": 8,
     "metadata": {},
     "output_type": "execute_result"
    }
   ],
   "source": [
    "df.head()"
   ]
  },
  {
   "cell_type": "code",
   "execution_count": 9,
   "id": "250091ef",
   "metadata": {},
   "outputs": [],
   "source": [
    "df['Date']= pd.to_datetime(df['Date'])"
   ]
  },
  {
   "cell_type": "code",
   "execution_count": 10,
   "id": "0aa8db4e",
   "metadata": {},
   "outputs": [
    {
     "name": "stdout",
     "output_type": "stream",
     "text": [
      "<class 'pandas.core.frame.DataFrame'>\n",
      "RangeIndex: 1768 entries, 0 to 1767\n",
      "Data columns (total 10 columns):\n",
      " #   Column                Non-Null Count  Dtype         \n",
      "---  ------                --------------  -----         \n",
      " 0   Date                  1768 non-null   datetime64[ns]\n",
      " 1   SP500                 1768 non-null   float64       \n",
      " 2   Dividend              1767 non-null   float64       \n",
      " 3   Earnings              1764 non-null   float64       \n",
      " 4   Consumer Price Index  1768 non-null   float64       \n",
      " 5   Long Interest Rate    1768 non-null   float64       \n",
      " 6   Real Price            1768 non-null   float64       \n",
      " 7   Real Dividend         1767 non-null   float64       \n",
      " 8   Real Earnings         1764 non-null   float64       \n",
      " 9   PE10                  1648 non-null   float64       \n",
      "dtypes: datetime64[ns](1), float64(9)\n",
      "memory usage: 138.2 KB\n"
     ]
    }
   ],
   "source": [
    "df.info()"
   ]
  },
  {
   "cell_type": "code",
   "execution_count": 11,
   "id": "fbca007c",
   "metadata": {},
   "outputs": [
    {
     "data": {
      "text/html": [
       "<div>\n",
       "<style scoped>\n",
       "    .dataframe tbody tr th:only-of-type {\n",
       "        vertical-align: middle;\n",
       "    }\n",
       "\n",
       "    .dataframe tbody tr th {\n",
       "        vertical-align: top;\n",
       "    }\n",
       "\n",
       "    .dataframe thead th {\n",
       "        text-align: right;\n",
       "    }\n",
       "</style>\n",
       "<table border=\"1\" class=\"dataframe\">\n",
       "  <thead>\n",
       "    <tr style=\"text-align: right;\">\n",
       "      <th></th>\n",
       "      <th>count</th>\n",
       "      <th>mean</th>\n",
       "      <th>std</th>\n",
       "      <th>min</th>\n",
       "      <th>25%</th>\n",
       "      <th>50%</th>\n",
       "      <th>75%</th>\n",
       "      <th>max</th>\n",
       "    </tr>\n",
       "  </thead>\n",
       "  <tbody>\n",
       "    <tr>\n",
       "      <th>SP500</th>\n",
       "      <td>1768.0</td>\n",
       "      <td>258.374570</td>\n",
       "      <td>514.103382</td>\n",
       "      <td>2.73</td>\n",
       "      <td>7.7375</td>\n",
       "      <td>16.335</td>\n",
       "      <td>122.5250</td>\n",
       "      <td>2789.80</td>\n",
       "    </tr>\n",
       "    <tr>\n",
       "      <th>Dividend</th>\n",
       "      <td>1767.0</td>\n",
       "      <td>5.636486</td>\n",
       "      <td>9.647723</td>\n",
       "      <td>0.18</td>\n",
       "      <td>0.4100</td>\n",
       "      <td>0.830</td>\n",
       "      <td>6.3700</td>\n",
       "      <td>50.00</td>\n",
       "    </tr>\n",
       "    <tr>\n",
       "      <th>Earnings</th>\n",
       "      <td>1764.0</td>\n",
       "      <td>12.809932</td>\n",
       "      <td>23.854291</td>\n",
       "      <td>0.16</td>\n",
       "      <td>0.5400</td>\n",
       "      <td>1.325</td>\n",
       "      <td>13.6075</td>\n",
       "      <td>109.88</td>\n",
       "    </tr>\n",
       "    <tr>\n",
       "      <th>Consumer Price Index</th>\n",
       "      <td>1768.0</td>\n",
       "      <td>57.726640</td>\n",
       "      <td>70.812597</td>\n",
       "      <td>6.28</td>\n",
       "      <td>10.1000</td>\n",
       "      <td>18.200</td>\n",
       "      <td>90.8500</td>\n",
       "      <td>249.84</td>\n",
       "    </tr>\n",
       "    <tr>\n",
       "      <th>Long Interest Rate</th>\n",
       "      <td>1768.0</td>\n",
       "      <td>4.569559</td>\n",
       "      <td>2.289630</td>\n",
       "      <td>1.50</td>\n",
       "      <td>3.2900</td>\n",
       "      <td>3.860</td>\n",
       "      <td>5.2225</td>\n",
       "      <td>15.32</td>\n",
       "    </tr>\n",
       "    <tr>\n",
       "      <th>Real Price</th>\n",
       "      <td>1768.0</td>\n",
       "      <td>508.352856</td>\n",
       "      <td>544.306401</td>\n",
       "      <td>67.63</td>\n",
       "      <td>170.0000</td>\n",
       "      <td>253.065</td>\n",
       "      <td>610.9425</td>\n",
       "      <td>2811.96</td>\n",
       "    </tr>\n",
       "    <tr>\n",
       "      <th>Real Dividend</th>\n",
       "      <td>1767.0</td>\n",
       "      <td>15.159377</td>\n",
       "      <td>8.475205</td>\n",
       "      <td>4.98</td>\n",
       "      <td>8.5250</td>\n",
       "      <td>12.720</td>\n",
       "      <td>19.2600</td>\n",
       "      <td>50.06</td>\n",
       "    </tr>\n",
       "    <tr>\n",
       "      <th>Real Earnings</th>\n",
       "      <td>1764.0</td>\n",
       "      <td>29.856173</td>\n",
       "      <td>23.887573</td>\n",
       "      <td>4.19</td>\n",
       "      <td>12.6475</td>\n",
       "      <td>20.445</td>\n",
       "      <td>39.3200</td>\n",
       "      <td>111.36</td>\n",
       "    </tr>\n",
       "    <tr>\n",
       "      <th>PE10</th>\n",
       "      <td>1648.0</td>\n",
       "      <td>16.851450</td>\n",
       "      <td>6.735498</td>\n",
       "      <td>4.78</td>\n",
       "      <td>11.7900</td>\n",
       "      <td>16.170</td>\n",
       "      <td>20.4625</td>\n",
       "      <td>44.20</td>\n",
       "    </tr>\n",
       "  </tbody>\n",
       "</table>\n",
       "</div>"
      ],
      "text/plain": [
       "                       count        mean         std    min       25%  \\\n",
       "SP500                 1768.0  258.374570  514.103382   2.73    7.7375   \n",
       "Dividend              1767.0    5.636486    9.647723   0.18    0.4100   \n",
       "Earnings              1764.0   12.809932   23.854291   0.16    0.5400   \n",
       "Consumer Price Index  1768.0   57.726640   70.812597   6.28   10.1000   \n",
       "Long Interest Rate    1768.0    4.569559    2.289630   1.50    3.2900   \n",
       "Real Price            1768.0  508.352856  544.306401  67.63  170.0000   \n",
       "Real Dividend         1767.0   15.159377    8.475205   4.98    8.5250   \n",
       "Real Earnings         1764.0   29.856173   23.887573   4.19   12.6475   \n",
       "PE10                  1648.0   16.851450    6.735498   4.78   11.7900   \n",
       "\n",
       "                          50%       75%      max  \n",
       "SP500                  16.335  122.5250  2789.80  \n",
       "Dividend                0.830    6.3700    50.00  \n",
       "Earnings                1.325   13.6075   109.88  \n",
       "Consumer Price Index   18.200   90.8500   249.84  \n",
       "Long Interest Rate      3.860    5.2225    15.32  \n",
       "Real Price            253.065  610.9425  2811.96  \n",
       "Real Dividend          12.720   19.2600    50.06  \n",
       "Real Earnings          20.445   39.3200   111.36  \n",
       "PE10                   16.170   20.4625    44.20  "
      ]
     },
     "execution_count": 11,
     "metadata": {},
     "output_type": "execute_result"
    }
   ],
   "source": [
    "df.describe().T"
   ]
  },
  {
   "cell_type": "code",
   "execution_count": 12,
   "id": "1a69f522",
   "metadata": {},
   "outputs": [
    {
     "data": {
      "text/plain": [
       "<AxesSubplot:xlabel='Date'>"
      ]
     },
     "execution_count": 12,
     "metadata": {},
     "output_type": "execute_result"
    },
    {
     "data": {
      "image/png": "[encoded data removed]",
      "text/plain": [
       "<Figure size 1080x288 with 1 Axes>"
      ]
     },
     "metadata": {
      "needs_background": "light"
     },
     "output_type": "display_data"
    }
   ],
   "source": [
    "df.groupby(pd.Grouper(key= 'Date', freq='M'))['SP500'].sum().plot(figsize=(15, 4))"
   ]
  },
  {
   "cell_type": "code",
   "execution_count": 13,
   "id": "7ed0632c",
   "metadata": {},
   "outputs": [
    {
     "data": {
      "text/plain": [
       "Date                      0\n",
       "SP500                     0\n",
       "Dividend                  1\n",
       "Earnings                  4\n",
       "Consumer Price Index      0\n",
       "Long Interest Rate        0\n",
       "Real Price                0\n",
       "Real Dividend             1\n",
       "Real Earnings             4\n",
       "PE10                    120\n",
       "dtype: int64"
      ]
     },
     "execution_count": 13,
     "metadata": {},
     "output_type": "execute_result"
    }
   ],
   "source": [
    "df.isna().sum()"
   ]
  },
  {
   "cell_type": "code",
   "execution_count": 14,
   "id": "bbc3cc14",
   "metadata": {},
   "outputs": [],
   "source": [
    "df.set_index('Date', inplace=True)"
   ]
  },
  {
   "cell_type": "code",
   "execution_count": 15,
   "id": "5076c9a2",
   "metadata": {},
   "outputs": [
    {
     "data": {
      "text/plain": [
       "DatetimeIndex(['1871-01-01', '1871-02-01', '1871-03-01', '1871-04-01',\n",
       "               '1871-05-01', '1871-06-01', '1871-07-01', '1871-08-01',\n",
       "               '1871-09-01', '1871-10-01',\n",
       "               ...\n",
       "               '2017-07-01', '2017-08-01', '2017-09-01', '2017-10-01',\n",
       "               '2017-11-01', '2017-12-01', '2018-01-01', '2018-02-01',\n",
       "               '2018-03-01', '2018-04-01'],\n",
       "              dtype='datetime64[ns]', name='Date', length=1768, freq=None)"
      ]
     },
     "execution_count": 15,
     "metadata": {},
     "output_type": "execute_result"
    }
   ],
   "source": [
    "df.index"
   ]
  },
  {
   "cell_type": "code",
   "execution_count": 18,
   "id": "99d9351e",
   "metadata": {},
   "outputs": [
    {
     "data": {
      "text/plain": [
       "Date\n",
       "2010-01-01    1123.58\n",
       "2010-02-01    1089.16\n",
       "2010-03-01    1152.05\n",
       "2010-04-01    1197.32\n",
       "2010-05-01    1125.06\n",
       "               ...   \n",
       "2017-08-01    2456.22\n",
       "2017-09-01    2492.84\n",
       "2017-10-01    2557.00\n",
       "2017-11-01    2593.61\n",
       "2017-12-01    2664.34\n",
       "Name: SP500, Length: 96, dtype: float64"
      ]
     },
     "execution_count": 18,
     "metadata": {},
     "output_type": "execute_result"
    }
   ],
   "source": [
    "sub10_17 = df.loc['2010-01-01': '2017-12-01']['SP500']\n",
    "sub10_17"
   ]
  },
  {
   "cell_type": "code",
   "execution_count": 31,
   "id": "b010b10f",
   "metadata": {},
   "outputs": [
    {
     "data": {
      "text/html": [
       "<div>\n",
       "<style scoped>\n",
       "    .dataframe tbody tr th:only-of-type {\n",
       "        vertical-align: middle;\n",
       "    }\n",
       "\n",
       "    .dataframe tbody tr th {\n",
       "        vertical-align: top;\n",
       "    }\n",
       "\n",
       "    .dataframe thead th {\n",
       "        text-align: right;\n",
       "    }\n",
       "</style>\n",
       "<table border=\"1\" class=\"dataframe\">\n",
       "  <thead>\n",
       "    <tr style=\"text-align: right;\">\n",
       "      <th></th>\n",
       "      <th>SP500</th>\n",
       "      <th>Dividend</th>\n",
       "      <th>Earnings</th>\n",
       "      <th>Consumer Price Index</th>\n",
       "      <th>Long Interest Rate</th>\n",
       "      <th>Real Price</th>\n",
       "      <th>Real Dividend</th>\n",
       "      <th>Real Earnings</th>\n",
       "      <th>PE10</th>\n",
       "    </tr>\n",
       "    <tr>\n",
       "      <th>Date</th>\n",
       "      <th></th>\n",
       "      <th></th>\n",
       "      <th></th>\n",
       "      <th></th>\n",
       "      <th></th>\n",
       "      <th></th>\n",
       "      <th></th>\n",
       "      <th></th>\n",
       "      <th></th>\n",
       "    </tr>\n",
       "  </thead>\n",
       "  <tbody>\n",
       "    <tr>\n",
       "      <th>2010-01-01</th>\n",
       "      <td>1123.58</td>\n",
       "      <td>22.24</td>\n",
       "      <td>54.29</td>\n",
       "      <td>216.69</td>\n",
       "      <td>3.73</td>\n",
       "      <td>1295.46</td>\n",
       "      <td>25.64</td>\n",
       "      <td>62.60</td>\n",
       "      <td>20.53</td>\n",
       "    </tr>\n",
       "    <tr>\n",
       "      <th>2010-02-01</th>\n",
       "      <td>1089.16</td>\n",
       "      <td>22.07</td>\n",
       "      <td>57.61</td>\n",
       "      <td>216.74</td>\n",
       "      <td>3.69</td>\n",
       "      <td>1255.47</td>\n",
       "      <td>25.44</td>\n",
       "      <td>66.41</td>\n",
       "      <td>19.92</td>\n",
       "    </tr>\n",
       "    <tr>\n",
       "      <th>2010-03-01</th>\n",
       "      <td>1152.05</td>\n",
       "      <td>21.90</td>\n",
       "      <td>60.93</td>\n",
       "      <td>217.63</td>\n",
       "      <td>3.73</td>\n",
       "      <td>1322.53</td>\n",
       "      <td>25.14</td>\n",
       "      <td>69.95</td>\n",
       "      <td>21.00</td>\n",
       "    </tr>\n",
       "    <tr>\n",
       "      <th>2010-04-01</th>\n",
       "      <td>1197.32</td>\n",
       "      <td>21.95</td>\n",
       "      <td>62.99</td>\n",
       "      <td>218.01</td>\n",
       "      <td>3.85</td>\n",
       "      <td>1372.11</td>\n",
       "      <td>25.15</td>\n",
       "      <td>72.18</td>\n",
       "      <td>21.80</td>\n",
       "    </tr>\n",
       "    <tr>\n",
       "      <th>2010-05-01</th>\n",
       "      <td>1125.06</td>\n",
       "      <td>21.99</td>\n",
       "      <td>65.04</td>\n",
       "      <td>218.18</td>\n",
       "      <td>3.42</td>\n",
       "      <td>1288.31</td>\n",
       "      <td>25.18</td>\n",
       "      <td>74.48</td>\n",
       "      <td>20.48</td>\n",
       "    </tr>\n",
       "    <tr>\n",
       "      <th>...</th>\n",
       "      <td>...</td>\n",
       "      <td>...</td>\n",
       "      <td>...</td>\n",
       "      <td>...</td>\n",
       "      <td>...</td>\n",
       "      <td>...</td>\n",
       "      <td>...</td>\n",
       "      <td>...</td>\n",
       "      <td>...</td>\n",
       "    </tr>\n",
       "    <tr>\n",
       "      <th>2017-08-01</th>\n",
       "      <td>2456.22</td>\n",
       "      <td>47.85</td>\n",
       "      <td>106.06</td>\n",
       "      <td>245.52</td>\n",
       "      <td>2.21</td>\n",
       "      <td>2499.40</td>\n",
       "      <td>48.69</td>\n",
       "      <td>107.92</td>\n",
       "      <td>29.91</td>\n",
       "    </tr>\n",
       "    <tr>\n",
       "      <th>2017-09-01</th>\n",
       "      <td>2492.84</td>\n",
       "      <td>48.17</td>\n",
       "      <td>107.08</td>\n",
       "      <td>246.82</td>\n",
       "      <td>2.20</td>\n",
       "      <td>2523.31</td>\n",
       "      <td>48.76</td>\n",
       "      <td>108.39</td>\n",
       "      <td>30.17</td>\n",
       "    </tr>\n",
       "    <tr>\n",
       "      <th>2017-10-01</th>\n",
       "      <td>2557.00</td>\n",
       "      <td>48.42</td>\n",
       "      <td>108.01</td>\n",
       "      <td>246.66</td>\n",
       "      <td>2.36</td>\n",
       "      <td>2589.89</td>\n",
       "      <td>49.05</td>\n",
       "      <td>109.40</td>\n",
       "      <td>30.92</td>\n",
       "    </tr>\n",
       "    <tr>\n",
       "      <th>2017-11-01</th>\n",
       "      <td>2593.61</td>\n",
       "      <td>48.68</td>\n",
       "      <td>108.95</td>\n",
       "      <td>246.67</td>\n",
       "      <td>2.35</td>\n",
       "      <td>2626.90</td>\n",
       "      <td>49.30</td>\n",
       "      <td>110.35</td>\n",
       "      <td>31.30</td>\n",
       "    </tr>\n",
       "    <tr>\n",
       "      <th>2017-12-01</th>\n",
       "      <td>2664.34</td>\n",
       "      <td>48.93</td>\n",
       "      <td>109.88</td>\n",
       "      <td>246.52</td>\n",
       "      <td>2.40</td>\n",
       "      <td>2700.13</td>\n",
       "      <td>49.59</td>\n",
       "      <td>111.36</td>\n",
       "      <td>32.09</td>\n",
       "    </tr>\n",
       "  </tbody>\n",
       "</table>\n",
       "<p>96 rows × 9 columns</p>\n",
       "</div>"
      ],
      "text/plain": [
       "              SP500  Dividend  Earnings  Consumer Price Index  \\\n",
       "Date                                                            \n",
       "2010-01-01  1123.58     22.24     54.29                216.69   \n",
       "2010-02-01  1089.16     22.07     57.61                216.74   \n",
       "2010-03-01  1152.05     21.90     60.93                217.63   \n",
       "2010-04-01  1197.32     21.95     62.99                218.01   \n",
       "2010-05-01  1125.06     21.99     65.04                218.18   \n",
       "...             ...       ...       ...                   ...   \n",
       "2017-08-01  2456.22     47.85    106.06                245.52   \n",
       "2017-09-01  2492.84     48.17    107.08                246.82   \n",
       "2017-10-01  2557.00     48.42    108.01                246.66   \n",
       "2017-11-01  2593.61     48.68    108.95                246.67   \n",
       "2017-12-01  2664.34     48.93    109.88                246.52   \n",
       "\n",
       "            Long Interest Rate  Real Price  Real Dividend  Real Earnings  \\\n",
       "Date                                                                       \n",
       "2010-01-01                3.73     1295.46          25.64          62.60   \n",
       "2010-02-01                3.69     1255.47          25.44          66.41   \n",
       "2010-03-01                3.73     1322.53          25.14          69.95   \n",
       "2010-04-01                3.85     1372.11          25.15          72.18   \n",
       "2010-05-01                3.42     1288.31          25.18          74.48   \n",
       "...                        ...         ...            ...            ...   \n",
       "2017-08-01                2.21     2499.40          48.69         107.92   \n",
       "2017-09-01                2.20     2523.31          48.76         108.39   \n",
       "2017-10-01                2.36     2589.89          49.05         109.40   \n",
       "2017-11-01                2.35     2626.90          49.30         110.35   \n",
       "2017-12-01                2.40     2700.13          49.59         111.36   \n",
       "\n",
       "             PE10  \n",
       "Date               \n",
       "2010-01-01  20.53  \n",
       "2010-02-01  19.92  \n",
       "2010-03-01  21.00  \n",
       "2010-04-01  21.80  \n",
       "2010-05-01  20.48  \n",
       "...           ...  \n",
       "2017-08-01  29.91  \n",
       "2017-09-01  30.17  \n",
       "2017-10-01  30.92  \n",
       "2017-11-01  31.30  \n",
       "2017-12-01  32.09  \n",
       "\n",
       "[96 rows x 9 columns]"
      ]
     },
     "execution_count": 31,
     "metadata": {},
     "output_type": "execute_result"
    }
   ],
   "source": [
    "df.loc['2010-01-01': '2017-12-01']"
   ]
  },
  {
   "cell_type": "code",
   "execution_count": 19,
   "id": "f4f8d96e",
   "metadata": {},
   "outputs": [
    {
     "data": {
      "text/plain": [
       "<AxesSubplot:xlabel='Date'>"
      ]
     },
     "execution_count": 19,
     "metadata": {},
     "output_type": "execute_result"
    },
    {
     "data": {
      "image/png": "[encoded data removed]",
      "text/plain": [
       "<Figure size 432x288 with 1 Axes>"
      ]
     },
     "metadata": {
      "needs_background": "light"
     },
     "output_type": "display_data"
    }
   ],
   "source": [
    "sub10_17.plot()"
   ]
  },
  {
   "cell_type": "code",
   "execution_count": null,
   "id": "74a967fc",
   "metadata": {},
   "outputs": [],
   "source": []
  },
  {
   "cell_type": "markdown",
   "id": "d1f615f0",
   "metadata": {},
   "source": [
    "**Time series decomposition.**"
   ]
  },
  {
   "cell_type": "code",
   "execution_count": 20,
   "id": "2e67a8fc",
   "metadata": {},
   "outputs": [],
   "source": [
    "import matplotlib\n",
    "matplotlib.rcParams['figure.figsize'] = [15.0, 6.0]"
   ]
  },
  {
   "cell_type": "code",
   "execution_count": 22,
   "id": "ad333721",
   "metadata": {},
   "outputs": [
    {
     "data": {
      "image/png": "[encoded data removed]",
      "text/plain": [
       "<Figure size 1080x432 with 4 Axes>"
      ]
     },
     "metadata": {
      "needs_background": "light"
     },
     "output_type": "display_data"
    }
   ],
   "source": [
    "decomposition = sm.tsa.seasonal_decompose(sub10_17,model='additive')\n",
    "decomposition.plot();"
   ]
  },
  {
   "cell_type": "code",
   "execution_count": null,
   "id": "5c8d96f8",
   "metadata": {},
   "outputs": [],
   "source": []
  },
  {
   "cell_type": "markdown",
   "id": "1879add7",
   "metadata": {},
   "source": [
    "**Time series feature engineering.**"
   ]
  },
  {
   "cell_type": "code",
   "execution_count": 23,
   "id": "1da1c973",
   "metadata": {},
   "outputs": [],
   "source": [
    "# LAGS and Windows\n",
    "\n",
    "lag5 = sub10_17.shift(5, )"
   ]
  },
  {
   "cell_type": "code",
   "execution_count": 25,
   "id": "5284c52d",
   "metadata": {},
   "outputs": [
    {
     "data": {
      "text/plain": [
       "Date\n",
       "2010-01-01        NaN\n",
       "2010-02-01        NaN\n",
       "2010-03-01        NaN\n",
       "2010-04-01        NaN\n",
       "2010-05-01        NaN\n",
       "2010-06-01    1123.58\n",
       "2010-07-01    1089.16\n",
       "2010-08-01    1152.05\n",
       "2010-09-01    1197.32\n",
       "2010-10-01    1125.06\n",
       "2010-11-01    1083.36\n",
       "Name: SP500, dtype: float64"
      ]
     },
     "execution_count": 25,
     "metadata": {},
     "output_type": "execute_result"
    }
   ],
   "source": [
    "lag5.head(11)"
   ]
  },
  {
   "cell_type": "code",
   "execution_count": 29,
   "id": "266c6a8b",
   "metadata": {},
   "outputs": [],
   "source": [
    "# adding features to the time series\n",
    "# features include (time related) and this\n",
    "# time related features include (month name, day of the week, day of the month etc.)\n",
    "lagged  = sub10_17.shift(1)\n",
    "window = lagged.rolling(window=7)\n",
    "means = window.mean()\n",
    "max_ = window.max()\n",
    "min_ =window.min()\n",
    "\n",
    "new_sub= pd.concat([sub10_17, lagged, means, max_, min_], axis=1)\n",
    "new_sub.columns = ['S&P500', 'lag1', 'mean', 'max', 'min']"
   ]
  },
  {
   "cell_type": "code",
   "execution_count": 30,
   "id": "3241b47e",
   "metadata": {},
   "outputs": [
    {
     "data": {
      "text/html": [
       "<div>\n",
       "<style scoped>\n",
       "    .dataframe tbody tr th:only-of-type {\n",
       "        vertical-align: middle;\n",
       "    }\n",
       "\n",
       "    .dataframe tbody tr th {\n",
       "        vertical-align: top;\n",
       "    }\n",
       "\n",
       "    .dataframe thead th {\n",
       "        text-align: right;\n",
       "    }\n",
       "</style>\n",
       "<table border=\"1\" class=\"dataframe\">\n",
       "  <thead>\n",
       "    <tr style=\"text-align: right;\">\n",
       "      <th></th>\n",
       "      <th>S&amp;P500</th>\n",
       "      <th>lag1</th>\n",
       "      <th>mean</th>\n",
       "      <th>max</th>\n",
       "      <th>min</th>\n",
       "    </tr>\n",
       "    <tr>\n",
       "      <th>Date</th>\n",
       "      <th></th>\n",
       "      <th></th>\n",
       "      <th></th>\n",
       "      <th></th>\n",
       "      <th></th>\n",
       "    </tr>\n",
       "  </thead>\n",
       "  <tbody>\n",
       "    <tr>\n",
       "      <th>2010-01-01</th>\n",
       "      <td>1123.58</td>\n",
       "      <td>NaN</td>\n",
       "      <td>NaN</td>\n",
       "      <td>NaN</td>\n",
       "      <td>NaN</td>\n",
       "    </tr>\n",
       "    <tr>\n",
       "      <th>2010-02-01</th>\n",
       "      <td>1089.16</td>\n",
       "      <td>1123.58</td>\n",
       "      <td>NaN</td>\n",
       "      <td>NaN</td>\n",
       "      <td>NaN</td>\n",
       "    </tr>\n",
       "    <tr>\n",
       "      <th>2010-03-01</th>\n",
       "      <td>1152.05</td>\n",
       "      <td>1089.16</td>\n",
       "      <td>NaN</td>\n",
       "      <td>NaN</td>\n",
       "      <td>NaN</td>\n",
       "    </tr>\n",
       "    <tr>\n",
       "      <th>2010-04-01</th>\n",
       "      <td>1197.32</td>\n",
       "      <td>1152.05</td>\n",
       "      <td>NaN</td>\n",
       "      <td>NaN</td>\n",
       "      <td>NaN</td>\n",
       "    </tr>\n",
       "    <tr>\n",
       "      <th>2010-05-01</th>\n",
       "      <td>1125.06</td>\n",
       "      <td>1197.32</td>\n",
       "      <td>NaN</td>\n",
       "      <td>NaN</td>\n",
       "      <td>NaN</td>\n",
       "    </tr>\n",
       "    <tr>\n",
       "      <th>2010-06-01</th>\n",
       "      <td>1083.36</td>\n",
       "      <td>1125.06</td>\n",
       "      <td>NaN</td>\n",
       "      <td>NaN</td>\n",
       "      <td>NaN</td>\n",
       "    </tr>\n",
       "    <tr>\n",
       "      <th>2010-07-01</th>\n",
       "      <td>1079.80</td>\n",
       "      <td>1083.36</td>\n",
       "      <td>NaN</td>\n",
       "      <td>NaN</td>\n",
       "      <td>NaN</td>\n",
       "    </tr>\n",
       "    <tr>\n",
       "      <th>2010-08-01</th>\n",
       "      <td>1087.28</td>\n",
       "      <td>1079.80</td>\n",
       "      <td>1121.475714</td>\n",
       "      <td>1197.32</td>\n",
       "      <td>1079.8</td>\n",
       "    </tr>\n",
       "    <tr>\n",
       "      <th>2010-09-01</th>\n",
       "      <td>1122.08</td>\n",
       "      <td>1087.28</td>\n",
       "      <td>1116.290000</td>\n",
       "      <td>1197.32</td>\n",
       "      <td>1079.8</td>\n",
       "    </tr>\n",
       "    <tr>\n",
       "      <th>2010-10-01</th>\n",
       "      <td>1171.58</td>\n",
       "      <td>1122.08</td>\n",
       "      <td>1120.992857</td>\n",
       "      <td>1197.32</td>\n",
       "      <td>1079.8</td>\n",
       "    </tr>\n",
       "    <tr>\n",
       "      <th>2010-11-01</th>\n",
       "      <td>1198.89</td>\n",
       "      <td>1171.58</td>\n",
       "      <td>1123.782857</td>\n",
       "      <td>1197.32</td>\n",
       "      <td>1079.8</td>\n",
       "    </tr>\n",
       "    <tr>\n",
       "      <th>2010-12-01</th>\n",
       "      <td>1241.53</td>\n",
       "      <td>1198.89</td>\n",
       "      <td>1124.007143</td>\n",
       "      <td>1198.89</td>\n",
       "      <td>1079.8</td>\n",
       "    </tr>\n",
       "  </tbody>\n",
       "</table>\n",
       "</div>"
      ],
      "text/plain": [
       "             S&P500     lag1         mean      max     min\n",
       "Date                                                      \n",
       "2010-01-01  1123.58      NaN          NaN      NaN     NaN\n",
       "2010-02-01  1089.16  1123.58          NaN      NaN     NaN\n",
       "2010-03-01  1152.05  1089.16          NaN      NaN     NaN\n",
       "2010-04-01  1197.32  1152.05          NaN      NaN     NaN\n",
       "2010-05-01  1125.06  1197.32          NaN      NaN     NaN\n",
       "2010-06-01  1083.36  1125.06          NaN      NaN     NaN\n",
       "2010-07-01  1079.80  1083.36          NaN      NaN     NaN\n",
       "2010-08-01  1087.28  1079.80  1121.475714  1197.32  1079.8\n",
       "2010-09-01  1122.08  1087.28  1116.290000  1197.32  1079.8\n",
       "2010-10-01  1171.58  1122.08  1120.992857  1197.32  1079.8\n",
       "2010-11-01  1198.89  1171.58  1123.782857  1197.32  1079.8\n",
       "2010-12-01  1241.53  1198.89  1124.007143  1198.89  1079.8"
      ]
     },
     "execution_count": 30,
     "metadata": {},
     "output_type": "execute_result"
    }
   ],
   "source": [
    "new_sub.head(12)"
   ]
  },
  {
   "cell_type": "code",
   "execution_count": null,
   "id": "a4eaa9e4",
   "metadata": {},
   "outputs": [],
   "source": []
  }
 ],
 "metadata": {
  "kernelspec": {
   "display_name": "Python 3",
   "language": "python",
   "name": "python3"
  },
  "language_info": {
   "codemirror_mode": {
    "name": "ipython",
    "version": 3
   },
   "file_extension": ".py",
   "mimetype": "text/x-python",
   "name": "python",
   "nbconvert_exporter": "python",
   "pygments_lexer": "ipython3",
   "version": "3.8.8"
  }
 },
 "nbformat": 4,
 "nbformat_minor": 5
}
