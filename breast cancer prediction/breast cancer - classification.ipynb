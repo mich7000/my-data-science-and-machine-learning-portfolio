{
 "cells": [
  {
   "cell_type": "markdown",
   "id": "c86de84c",
   "metadata": {},
   "source": [
    "# Breast Cancer Prediction\n",
    "Predict whether a patient has breast cancer or not.\n",
    "\n",
    "### Procedures\n",
    "* Data loading, inspection and cleaning\n",
    "* Exploratory Data analysis\n",
    "* Data splitting\n",
    "* Training the model with diffrent algorithms\n",
    "* Evaluating and selecting the best model\n",
    "* Save the model for future development & deployment"
   ]
  },
  {
   "cell_type": "code",
   "execution_count": 1,
   "id": "97fd9f2f",
   "metadata": {},
   "outputs": [],
   "source": [
    "import pandas as pd\n",
    "import numpy as np\n",
    "import matplotlib.pyplot as plt\n",
    "import seaborn as sns"
   ]
  },
  {
   "cell_type": "markdown",
   "id": "c7d2e483",
   "metadata": {},
   "source": [
    "# Data Loading and Inspection"
   ]
  },
  {
   "cell_type": "code",
   "execution_count": 2,
   "id": "e3ae37f7",
   "metadata": {},
   "outputs": [],
   "source": [
    "data = pd.read_csv('data/breast-cancer.data', header=None)\n",
    "#names= "
   ]
  },
  {
   "cell_type": "code",
   "execution_count": 3,
   "id": "cd0c26b7",
   "metadata": {},
   "outputs": [
    {
     "data": {
      "text/html": [
       "<div>\n",
       "<style scoped>\n",
       "    .dataframe tbody tr th:only-of-type {\n",
       "        vertical-align: middle;\n",
       "    }\n",
       "\n",
       "    .dataframe tbody tr th {\n",
       "        vertical-align: top;\n",
       "    }\n",
       "\n",
       "    .dataframe thead th {\n",
       "        text-align: right;\n",
       "    }\n",
       "</style>\n",
       "<table border=\"1\" class=\"dataframe\">\n",
       "  <thead>\n",
       "    <tr style=\"text-align: right;\">\n",
       "      <th></th>\n",
       "      <th>0</th>\n",
       "      <th>1</th>\n",
       "      <th>2</th>\n",
       "      <th>3</th>\n",
       "      <th>4</th>\n",
       "      <th>5</th>\n",
       "      <th>6</th>\n",
       "      <th>7</th>\n",
       "      <th>8</th>\n",
       "      <th>9</th>\n",
       "    </tr>\n",
       "  </thead>\n",
       "  <tbody>\n",
       "    <tr>\n",
       "      <th>0</th>\n",
       "      <td>no-recurrence-events</td>\n",
       "      <td>30-39</td>\n",
       "      <td>premeno</td>\n",
       "      <td>30-34</td>\n",
       "      <td>0-2</td>\n",
       "      <td>no</td>\n",
       "      <td>3</td>\n",
       "      <td>left</td>\n",
       "      <td>left_low</td>\n",
       "      <td>no</td>\n",
       "    </tr>\n",
       "    <tr>\n",
       "      <th>1</th>\n",
       "      <td>no-recurrence-events</td>\n",
       "      <td>40-49</td>\n",
       "      <td>premeno</td>\n",
       "      <td>20-24</td>\n",
       "      <td>0-2</td>\n",
       "      <td>no</td>\n",
       "      <td>2</td>\n",
       "      <td>right</td>\n",
       "      <td>right_up</td>\n",
       "      <td>no</td>\n",
       "    </tr>\n",
       "    <tr>\n",
       "      <th>2</th>\n",
       "      <td>no-recurrence-events</td>\n",
       "      <td>40-49</td>\n",
       "      <td>premeno</td>\n",
       "      <td>20-24</td>\n",
       "      <td>0-2</td>\n",
       "      <td>no</td>\n",
       "      <td>2</td>\n",
       "      <td>left</td>\n",
       "      <td>left_low</td>\n",
       "      <td>no</td>\n",
       "    </tr>\n",
       "    <tr>\n",
       "      <th>3</th>\n",
       "      <td>no-recurrence-events</td>\n",
       "      <td>60-69</td>\n",
       "      <td>ge40</td>\n",
       "      <td>15-19</td>\n",
       "      <td>0-2</td>\n",
       "      <td>no</td>\n",
       "      <td>2</td>\n",
       "      <td>right</td>\n",
       "      <td>left_up</td>\n",
       "      <td>no</td>\n",
       "    </tr>\n",
       "    <tr>\n",
       "      <th>4</th>\n",
       "      <td>no-recurrence-events</td>\n",
       "      <td>40-49</td>\n",
       "      <td>premeno</td>\n",
       "      <td>0-4</td>\n",
       "      <td>0-2</td>\n",
       "      <td>no</td>\n",
       "      <td>2</td>\n",
       "      <td>right</td>\n",
       "      <td>right_low</td>\n",
       "      <td>no</td>\n",
       "    </tr>\n",
       "  </tbody>\n",
       "</table>\n",
       "</div>"
      ],
      "text/plain": [
       "                      0      1        2      3    4   5  6      7          8  \\\n",
       "0  no-recurrence-events  30-39  premeno  30-34  0-2  no  3   left   left_low   \n",
       "1  no-recurrence-events  40-49  premeno  20-24  0-2  no  2  right   right_up   \n",
       "2  no-recurrence-events  40-49  premeno  20-24  0-2  no  2   left   left_low   \n",
       "3  no-recurrence-events  60-69     ge40  15-19  0-2  no  2  right    left_up   \n",
       "4  no-recurrence-events  40-49  premeno    0-4  0-2  no  2  right  right_low   \n",
       "\n",
       "    9  \n",
       "0  no  \n",
       "1  no  \n",
       "2  no  \n",
       "3  no  \n",
       "4  no  "
      ]
     },
     "execution_count": 3,
     "metadata": {},
     "output_type": "execute_result"
    }
   ],
   "source": [
    "data.head()"
   ]
  },
  {
   "cell_type": "raw",
   "id": "1232bbfb",
   "metadata": {},
   "source": [
    "Class: no-recurrence-events, recurrence-events\n",
    "   2. age: 10-19, 20-29, 30-39, 40-49, 50-59, 60-69, 70-79, 80-89, 90-99.\n",
    "   3. menopause: lt40, ge40, premeno.\n",
    "   4. tumor-size: 0-4, 5-9, 10-14, 15-19, 20-24, 25-29, 30-34, 35-39, 40-44,\n",
    "                  45-49, 50-54, 55-59.\n",
    "   5. inv-nodes: 0-2, 3-5, 6-8, 9-11, 12-14, 15-17, 18-20, 21-23, 24-26,\n",
    "                 27-29, 30-32, 33-35, 36-39.\n",
    "   6. node-caps: yes, no.\n",
    "   7. deg-malig: 1, 2, 3.\n",
    "   8. breast: left, right.\n",
    "   9. breast-quad: left-up, left-low, right-up,\tright-low, central.\n",
    "  10. irradiat:\tyes, no."
   ]
  },
  {
   "cell_type": "code",
   "execution_count": 4,
   "id": "b5f2ef7e",
   "metadata": {},
   "outputs": [],
   "source": [
    "names= ['class','age', 'menopause', 'tumor size', 'inv-node', \n",
    "        'node-gap', 'deg-malig', 'breast', 'breast-quad', 'irradiat']"
   ]
  },
  {
   "cell_type": "code",
   "execution_count": 5,
   "id": "259950cd",
   "metadata": {},
   "outputs": [],
   "source": [
    "data.columns = names"
   ]
  },
  {
   "cell_type": "code",
   "execution_count": 6,
   "id": "6daf67aa",
   "metadata": {},
   "outputs": [
    {
     "data": {
      "text/html": [
       "<div>\n",
       "<style scoped>\n",
       "    .dataframe tbody tr th:only-of-type {\n",
       "        vertical-align: middle;\n",
       "    }\n",
       "\n",
       "    .dataframe tbody tr th {\n",
       "        vertical-align: top;\n",
       "    }\n",
       "\n",
       "    .dataframe thead th {\n",
       "        text-align: right;\n",
       "    }\n",
       "</style>\n",
       "<table border=\"1\" class=\"dataframe\">\n",
       "  <thead>\n",
       "    <tr style=\"text-align: right;\">\n",
       "      <th></th>\n",
       "      <th>class</th>\n",
       "      <th>age</th>\n",
       "      <th>menopause</th>\n",
       "      <th>tumor size</th>\n",
       "      <th>inv-node</th>\n",
       "      <th>node-gap</th>\n",
       "      <th>deg-malig</th>\n",
       "      <th>breast</th>\n",
       "      <th>breast-quad</th>\n",
       "      <th>irradiat</th>\n",
       "    </tr>\n",
       "  </thead>\n",
       "  <tbody>\n",
       "    <tr>\n",
       "      <th>0</th>\n",
       "      <td>no-recurrence-events</td>\n",
       "      <td>30-39</td>\n",
       "      <td>premeno</td>\n",
       "      <td>30-34</td>\n",
       "      <td>0-2</td>\n",
       "      <td>no</td>\n",
       "      <td>3</td>\n",
       "      <td>left</td>\n",
       "      <td>left_low</td>\n",
       "      <td>no</td>\n",
       "    </tr>\n",
       "    <tr>\n",
       "      <th>1</th>\n",
       "      <td>no-recurrence-events</td>\n",
       "      <td>40-49</td>\n",
       "      <td>premeno</td>\n",
       "      <td>20-24</td>\n",
       "      <td>0-2</td>\n",
       "      <td>no</td>\n",
       "      <td>2</td>\n",
       "      <td>right</td>\n",
       "      <td>right_up</td>\n",
       "      <td>no</td>\n",
       "    </tr>\n",
       "    <tr>\n",
       "      <th>2</th>\n",
       "      <td>no-recurrence-events</td>\n",
       "      <td>40-49</td>\n",
       "      <td>premeno</td>\n",
       "      <td>20-24</td>\n",
       "      <td>0-2</td>\n",
       "      <td>no</td>\n",
       "      <td>2</td>\n",
       "      <td>left</td>\n",
       "      <td>left_low</td>\n",
       "      <td>no</td>\n",
       "    </tr>\n",
       "    <tr>\n",
       "      <th>3</th>\n",
       "      <td>no-recurrence-events</td>\n",
       "      <td>60-69</td>\n",
       "      <td>ge40</td>\n",
       "      <td>15-19</td>\n",
       "      <td>0-2</td>\n",
       "      <td>no</td>\n",
       "      <td>2</td>\n",
       "      <td>right</td>\n",
       "      <td>left_up</td>\n",
       "      <td>no</td>\n",
       "    </tr>\n",
       "    <tr>\n",
       "      <th>4</th>\n",
       "      <td>no-recurrence-events</td>\n",
       "      <td>40-49</td>\n",
       "      <td>premeno</td>\n",
       "      <td>0-4</td>\n",
       "      <td>0-2</td>\n",
       "      <td>no</td>\n",
       "      <td>2</td>\n",
       "      <td>right</td>\n",
       "      <td>right_low</td>\n",
       "      <td>no</td>\n",
       "    </tr>\n",
       "  </tbody>\n",
       "</table>\n",
       "</div>"
      ],
      "text/plain": [
       "                  class    age menopause tumor size inv-node node-gap  \\\n",
       "0  no-recurrence-events  30-39   premeno      30-34      0-2       no   \n",
       "1  no-recurrence-events  40-49   premeno      20-24      0-2       no   \n",
       "2  no-recurrence-events  40-49   premeno      20-24      0-2       no   \n",
       "3  no-recurrence-events  60-69      ge40      15-19      0-2       no   \n",
       "4  no-recurrence-events  40-49   premeno        0-4      0-2       no   \n",
       "\n",
       "   deg-malig breast breast-quad irradiat  \n",
       "0          3   left    left_low       no  \n",
       "1          2  right    right_up       no  \n",
       "2          2   left    left_low       no  \n",
       "3          2  right     left_up       no  \n",
       "4          2  right   right_low       no  "
      ]
     },
     "execution_count": 6,
     "metadata": {},
     "output_type": "execute_result"
    }
   ],
   "source": [
    "data.head()"
   ]
  },
  {
   "cell_type": "code",
   "execution_count": 7,
   "id": "ebd4b83e",
   "metadata": {},
   "outputs": [
    {
     "name": "stdout",
     "output_type": "stream",
     "text": [
      "<class 'pandas.core.frame.DataFrame'>\n",
      "RangeIndex: 286 entries, 0 to 285\n",
      "Data columns (total 10 columns):\n",
      " #   Column       Non-Null Count  Dtype \n",
      "---  ------       --------------  ----- \n",
      " 0   class        286 non-null    object\n",
      " 1   age          286 non-null    object\n",
      " 2   menopause    286 non-null    object\n",
      " 3   tumor size   286 non-null    object\n",
      " 4   inv-node     286 non-null    object\n",
      " 5   node-gap     286 non-null    object\n",
      " 6   deg-malig    286 non-null    int64 \n",
      " 7   breast       286 non-null    object\n",
      " 8   breast-quad  286 non-null    object\n",
      " 9   irradiat     286 non-null    object\n",
      "dtypes: int64(1), object(9)\n",
      "memory usage: 22.5+ KB\n"
     ]
    }
   ],
   "source": [
    "data.info()"
   ]
  },
  {
   "cell_type": "code",
   "execution_count": 8,
   "id": "93c015ef",
   "metadata": {},
   "outputs": [
    {
     "name": "stdout",
     "output_type": "stream",
     "text": [
      "No. of rows  286\n",
      "No. of columns  10\n"
     ]
    }
   ],
   "source": [
    "print('No. of rows ', data.shape[0])\n",
    "print('No. of columns ', data.shape[1])"
   ]
  },
  {
   "cell_type": "code",
   "execution_count": 9,
   "id": "d36b575a",
   "metadata": {},
   "outputs": [
    {
     "data": {
      "text/plain": [
       "class          0\n",
       "age            0\n",
       "menopause      0\n",
       "tumor size     0\n",
       "inv-node       0\n",
       "node-gap       0\n",
       "deg-malig      0\n",
       "breast         0\n",
       "breast-quad    0\n",
       "irradiat       0\n",
       "dtype: int64"
      ]
     },
     "execution_count": 9,
     "metadata": {},
     "output_type": "execute_result"
    }
   ],
   "source": [
    "data.isna().sum()"
   ]
  },
  {
   "cell_type": "code",
   "execution_count": 10,
   "id": "e717e6b9",
   "metadata": {},
   "outputs": [],
   "source": [
    "data['class'].replace({'no-recurrence-events':0, 'recurrence-events':1}, inplace=True)"
   ]
  },
  {
   "cell_type": "markdown",
   "id": "226975b7",
   "metadata": {},
   "source": [
    "# Exploratory Analysis"
   ]
  },
  {
   "cell_type": "code",
   "execution_count": 11,
   "id": "7ff4f668",
   "metadata": {},
   "outputs": [
    {
     "data": {
      "text/plain": [
       "0    0.702797\n",
       "1    0.297203\n",
       "Name: class, dtype: float64"
      ]
     },
     "execution_count": 11,
     "metadata": {},
     "output_type": "execute_result"
    }
   ],
   "source": [
    "# target class distrubution\n",
    "data['class'].value_counts(normalize=True)"
   ]
  },
  {
   "cell_type": "code",
   "execution_count": 12,
   "id": "1fd8d637",
   "metadata": {},
   "outputs": [
    {
     "data": {
      "text/plain": [
       "<AxesSubplot:title={'center':'Target Variable'}>"
      ]
     },
     "execution_count": 12,
     "metadata": {},
     "output_type": "execute_result"
    },
    {
     "data": {
      "image/png": "[encoded data removed]",
      "text/plain": [
       "<Figure size 432x288 with 1 Axes>"
      ]
     },
     "metadata": {
      "needs_background": "light"
     },
     "output_type": "display_data"
    }
   ],
   "source": [
    "data['class'].value_counts().plot(kind='bar', title='Target Variable')"
   ]
  },
  {
   "cell_type": "code",
   "execution_count": null,
   "id": "a48e0331",
   "metadata": {},
   "outputs": [],
   "source": []
  },
  {
   "cell_type": "code",
   "execution_count": 13,
   "id": "65a0ca33",
   "metadata": {},
   "outputs": [
    {
     "data": {
      "image/png": "[encoded data removed]",
      "text/plain": [
       "<Figure size 576x720 with 10 Axes>"
      ]
     },
     "metadata": {
      "needs_background": "light"
     },
     "output_type": "display_data"
    }
   ],
   "source": [
    "# counts of categorical data\n",
    "plt.figure(figsize=(8, 10))\n",
    "for index, columns in enumerate(data.columns):\n",
    "    plt.subplot(5, 2, index+1)\n",
    "    plt.tight_layout()\n",
    "    sns.countplot(y= data[columns])"
   ]
  },
  {
   "cell_type": "code",
   "execution_count": 14,
   "id": "e1349e29",
   "metadata": {},
   "outputs": [
    {
     "name": "stdout",
     "output_type": "stream",
     "text": [
      "class\n",
      "0    0.702797\n",
      "1    0.297203\n",
      "Name: class, dtype: float64 \n",
      "\n",
      "\n",
      "age\n",
      "50-59    0.335664\n",
      "40-49    0.314685\n",
      "60-69    0.199301\n",
      "30-39    0.125874\n",
      "70-79    0.020979\n",
      "20-29    0.003497\n",
      "Name: age, dtype: float64 \n",
      "\n",
      "\n",
      "menopause\n",
      "premeno    0.524476\n",
      "ge40       0.451049\n",
      "lt40       0.024476\n",
      "Name: menopause, dtype: float64 \n",
      "\n",
      "\n",
      "tumor size\n",
      "30-34    0.209790\n",
      "25-29    0.188811\n",
      "20-24    0.174825\n",
      "15-19    0.104895\n",
      "10-14    0.097902\n",
      "40-44    0.076923\n",
      "35-39    0.066434\n",
      "50-54    0.027972\n",
      "0-4      0.027972\n",
      "5-9      0.013986\n",
      "45-49    0.010490\n",
      "Name: tumor size, dtype: float64 \n",
      "\n",
      "\n",
      "inv-node\n",
      "0-2      0.744755\n",
      "3-5      0.125874\n",
      "6-8      0.059441\n",
      "9-11     0.034965\n",
      "15-17    0.020979\n",
      "12-14    0.010490\n",
      "24-26    0.003497\n",
      "Name: inv-node, dtype: float64 \n",
      "\n",
      "\n",
      "node-gap\n",
      "no     0.776224\n",
      "yes    0.195804\n",
      "?      0.027972\n",
      "Name: node-gap, dtype: float64 \n",
      "\n",
      "\n",
      "deg-malig\n",
      "2    0.454545\n",
      "3    0.297203\n",
      "1    0.248252\n",
      "Name: deg-malig, dtype: float64 \n",
      "\n",
      "\n",
      "breast\n",
      "left     0.531469\n",
      "right    0.468531\n",
      "Name: breast, dtype: float64 \n",
      "\n",
      "\n",
      "breast-quad\n",
      "left_low     0.384615\n",
      "left_up      0.339161\n",
      "right_up     0.115385\n",
      "right_low    0.083916\n",
      "central      0.073427\n",
      "?            0.003497\n",
      "Name: breast-quad, dtype: float64 \n",
      "\n",
      "\n",
      "irradiat\n",
      "no     0.762238\n",
      "yes    0.237762\n",
      "Name: irradiat, dtype: float64 \n",
      "\n",
      "\n"
     ]
    }
   ],
   "source": [
    "# columns\n",
    "\n",
    "for col in data.columns:\n",
    "    print(col)\n",
    "    print(data[col].value_counts(normalize=True), '\\n\\n')"
   ]
  },
  {
   "cell_type": "code",
   "execution_count": 15,
   "id": "81a891b9",
   "metadata": {},
   "outputs": [
    {
     "data": {
      "text/html": [
       "<div>\n",
       "<style scoped>\n",
       "    .dataframe tbody tr th:only-of-type {\n",
       "        vertical-align: middle;\n",
       "    }\n",
       "\n",
       "    .dataframe tbody tr th {\n",
       "        vertical-align: top;\n",
       "    }\n",
       "\n",
       "    .dataframe thead th {\n",
       "        text-align: right;\n",
       "    }\n",
       "</style>\n",
       "<table border=\"1\" class=\"dataframe\">\n",
       "  <thead>\n",
       "    <tr style=\"text-align: right;\">\n",
       "      <th></th>\n",
       "      <th></th>\n",
       "      <th>class</th>\n",
       "    </tr>\n",
       "    <tr>\n",
       "      <th>age</th>\n",
       "      <th>class</th>\n",
       "      <th></th>\n",
       "    </tr>\n",
       "  </thead>\n",
       "  <tbody>\n",
       "    <tr>\n",
       "      <th>20-29</th>\n",
       "      <th>0</th>\n",
       "      <td>1</td>\n",
       "    </tr>\n",
       "    <tr>\n",
       "      <th rowspan=\"2\" valign=\"top\">30-39</th>\n",
       "      <th>0</th>\n",
       "      <td>21</td>\n",
       "    </tr>\n",
       "    <tr>\n",
       "      <th>1</th>\n",
       "      <td>15</td>\n",
       "    </tr>\n",
       "    <tr>\n",
       "      <th rowspan=\"2\" valign=\"top\">40-49</th>\n",
       "      <th>0</th>\n",
       "      <td>63</td>\n",
       "    </tr>\n",
       "    <tr>\n",
       "      <th>1</th>\n",
       "      <td>27</td>\n",
       "    </tr>\n",
       "    <tr>\n",
       "      <th rowspan=\"2\" valign=\"top\">50-59</th>\n",
       "      <th>0</th>\n",
       "      <td>71</td>\n",
       "    </tr>\n",
       "    <tr>\n",
       "      <th>1</th>\n",
       "      <td>25</td>\n",
       "    </tr>\n",
       "    <tr>\n",
       "      <th rowspan=\"2\" valign=\"top\">60-69</th>\n",
       "      <th>0</th>\n",
       "      <td>40</td>\n",
       "    </tr>\n",
       "    <tr>\n",
       "      <th>1</th>\n",
       "      <td>17</td>\n",
       "    </tr>\n",
       "    <tr>\n",
       "      <th rowspan=\"2\" valign=\"top\">70-79</th>\n",
       "      <th>0</th>\n",
       "      <td>5</td>\n",
       "    </tr>\n",
       "    <tr>\n",
       "      <th>1</th>\n",
       "      <td>1</td>\n",
       "    </tr>\n",
       "  </tbody>\n",
       "</table>\n",
       "</div>"
      ],
      "text/plain": [
       "             class\n",
       "age   class       \n",
       "20-29 0          1\n",
       "30-39 0         21\n",
       "      1         15\n",
       "40-49 0         63\n",
       "      1         27\n",
       "50-59 0         71\n",
       "      1         25\n",
       "60-69 0         40\n",
       "      1         17\n",
       "70-79 0          5\n",
       "      1          1"
      ]
     },
     "execution_count": 15,
     "metadata": {},
     "output_type": "execute_result"
    }
   ],
   "source": [
    "# ages by target\n",
    "pd.DataFrame(data.groupby('age')['class'].value_counts())"
   ]
  },
  {
   "cell_type": "code",
   "execution_count": null,
   "id": "4c1200dc",
   "metadata": {},
   "outputs": [],
   "source": []
  },
  {
   "cell_type": "code",
   "execution_count": 16,
   "id": "9cae85f9",
   "metadata": {},
   "outputs": [
    {
     "data": {
      "text/html": [
       "<div>\n",
       "<style scoped>\n",
       "    .dataframe tbody tr th:only-of-type {\n",
       "        vertical-align: middle;\n",
       "    }\n",
       "\n",
       "    .dataframe tbody tr th {\n",
       "        vertical-align: top;\n",
       "    }\n",
       "\n",
       "    .dataframe thead th {\n",
       "        text-align: right;\n",
       "    }\n",
       "</style>\n",
       "<table border=\"1\" class=\"dataframe\">\n",
       "  <thead>\n",
       "    <tr style=\"text-align: right;\">\n",
       "      <th></th>\n",
       "      <th></th>\n",
       "      <th>class</th>\n",
       "    </tr>\n",
       "    <tr>\n",
       "      <th>menopause</th>\n",
       "      <th>class</th>\n",
       "      <th></th>\n",
       "    </tr>\n",
       "  </thead>\n",
       "  <tbody>\n",
       "    <tr>\n",
       "      <th rowspan=\"2\" valign=\"top\">ge40</th>\n",
       "      <th>0</th>\n",
       "      <td>94</td>\n",
       "    </tr>\n",
       "    <tr>\n",
       "      <th>1</th>\n",
       "      <td>35</td>\n",
       "    </tr>\n",
       "    <tr>\n",
       "      <th rowspan=\"2\" valign=\"top\">lt40</th>\n",
       "      <th>0</th>\n",
       "      <td>5</td>\n",
       "    </tr>\n",
       "    <tr>\n",
       "      <th>1</th>\n",
       "      <td>2</td>\n",
       "    </tr>\n",
       "    <tr>\n",
       "      <th rowspan=\"2\" valign=\"top\">premeno</th>\n",
       "      <th>0</th>\n",
       "      <td>102</td>\n",
       "    </tr>\n",
       "    <tr>\n",
       "      <th>1</th>\n",
       "      <td>48</td>\n",
       "    </tr>\n",
       "  </tbody>\n",
       "</table>\n",
       "</div>"
      ],
      "text/plain": [
       "                 class\n",
       "menopause class       \n",
       "ge40      0         94\n",
       "          1         35\n",
       "lt40      0          5\n",
       "          1          2\n",
       "premeno   0        102\n",
       "          1         48"
      ]
     },
     "execution_count": 16,
     "metadata": {},
     "output_type": "execute_result"
    }
   ],
   "source": [
    "# menopause by class\n",
    "pd.DataFrame(data.groupby('menopause')['class'].value_counts())"
   ]
  },
  {
   "cell_type": "code",
   "execution_count": 17,
   "id": "0f2e57de",
   "metadata": {},
   "outputs": [
    {
     "data": {
      "text/plain": [
       "['class',\n",
       " 'age',\n",
       " 'menopause',\n",
       " 'tumor size',\n",
       " 'inv-node',\n",
       " 'node-gap',\n",
       " 'deg-malig',\n",
       " 'breast',\n",
       " 'breast-quad',\n",
       " 'irradiat']"
      ]
     },
     "execution_count": 17,
     "metadata": {},
     "output_type": "execute_result"
    }
   ],
   "source": [
    "list(data)"
   ]
  },
  {
   "cell_type": "code",
   "execution_count": 18,
   "id": "4ea08f46",
   "metadata": {},
   "outputs": [
    {
     "data": {
      "text/html": [
       "<div>\n",
       "<style scoped>\n",
       "    .dataframe tbody tr th:only-of-type {\n",
       "        vertical-align: middle;\n",
       "    }\n",
       "\n",
       "    .dataframe tbody tr th {\n",
       "        vertical-align: top;\n",
       "    }\n",
       "\n",
       "    .dataframe thead th {\n",
       "        text-align: right;\n",
       "    }\n",
       "</style>\n",
       "<table border=\"1\" class=\"dataframe\">\n",
       "  <thead>\n",
       "    <tr style=\"text-align: right;\">\n",
       "      <th></th>\n",
       "      <th></th>\n",
       "      <th>class</th>\n",
       "    </tr>\n",
       "    <tr>\n",
       "      <th>tumor size</th>\n",
       "      <th>class</th>\n",
       "      <th></th>\n",
       "    </tr>\n",
       "  </thead>\n",
       "  <tbody>\n",
       "    <tr>\n",
       "      <th rowspan=\"2\" valign=\"top\">0-4</th>\n",
       "      <th>0</th>\n",
       "      <td>7</td>\n",
       "    </tr>\n",
       "    <tr>\n",
       "      <th>1</th>\n",
       "      <td>1</td>\n",
       "    </tr>\n",
       "    <tr>\n",
       "      <th rowspan=\"2\" valign=\"top\">10-14</th>\n",
       "      <th>0</th>\n",
       "      <td>27</td>\n",
       "    </tr>\n",
       "    <tr>\n",
       "      <th>1</th>\n",
       "      <td>1</td>\n",
       "    </tr>\n",
       "    <tr>\n",
       "      <th rowspan=\"2\" valign=\"top\">15-19</th>\n",
       "      <th>0</th>\n",
       "      <td>23</td>\n",
       "    </tr>\n",
       "    <tr>\n",
       "      <th>1</th>\n",
       "      <td>7</td>\n",
       "    </tr>\n",
       "    <tr>\n",
       "      <th rowspan=\"2\" valign=\"top\">20-24</th>\n",
       "      <th>0</th>\n",
       "      <td>34</td>\n",
       "    </tr>\n",
       "    <tr>\n",
       "      <th>1</th>\n",
       "      <td>16</td>\n",
       "    </tr>\n",
       "    <tr>\n",
       "      <th rowspan=\"2\" valign=\"top\">25-29</th>\n",
       "      <th>0</th>\n",
       "      <td>36</td>\n",
       "    </tr>\n",
       "    <tr>\n",
       "      <th>1</th>\n",
       "      <td>18</td>\n",
       "    </tr>\n",
       "    <tr>\n",
       "      <th rowspan=\"2\" valign=\"top\">30-34</th>\n",
       "      <th>0</th>\n",
       "      <td>35</td>\n",
       "    </tr>\n",
       "    <tr>\n",
       "      <th>1</th>\n",
       "      <td>25</td>\n",
       "    </tr>\n",
       "    <tr>\n",
       "      <th rowspan=\"2\" valign=\"top\">35-39</th>\n",
       "      <th>0</th>\n",
       "      <td>12</td>\n",
       "    </tr>\n",
       "    <tr>\n",
       "      <th>1</th>\n",
       "      <td>7</td>\n",
       "    </tr>\n",
       "    <tr>\n",
       "      <th rowspan=\"2\" valign=\"top\">40-44</th>\n",
       "      <th>0</th>\n",
       "      <td>16</td>\n",
       "    </tr>\n",
       "    <tr>\n",
       "      <th>1</th>\n",
       "      <td>6</td>\n",
       "    </tr>\n",
       "    <tr>\n",
       "      <th rowspan=\"2\" valign=\"top\">45-49</th>\n",
       "      <th>0</th>\n",
       "      <td>2</td>\n",
       "    </tr>\n",
       "    <tr>\n",
       "      <th>1</th>\n",
       "      <td>1</td>\n",
       "    </tr>\n",
       "    <tr>\n",
       "      <th>5-9</th>\n",
       "      <th>0</th>\n",
       "      <td>4</td>\n",
       "    </tr>\n",
       "    <tr>\n",
       "      <th rowspan=\"2\" valign=\"top\">50-54</th>\n",
       "      <th>0</th>\n",
       "      <td>5</td>\n",
       "    </tr>\n",
       "    <tr>\n",
       "      <th>1</th>\n",
       "      <td>3</td>\n",
       "    </tr>\n",
       "  </tbody>\n",
       "</table>\n",
       "</div>"
      ],
      "text/plain": [
       "                  class\n",
       "tumor size class       \n",
       "0-4        0          7\n",
       "           1          1\n",
       "10-14      0         27\n",
       "           1          1\n",
       "15-19      0         23\n",
       "           1          7\n",
       "20-24      0         34\n",
       "           1         16\n",
       "25-29      0         36\n",
       "           1         18\n",
       "30-34      0         35\n",
       "           1         25\n",
       "35-39      0         12\n",
       "           1          7\n",
       "40-44      0         16\n",
       "           1          6\n",
       "45-49      0          2\n",
       "           1          1\n",
       "5-9        0          4\n",
       "50-54      0          5\n",
       "           1          3"
      ]
     },
     "execution_count": 18,
     "metadata": {},
     "output_type": "execute_result"
    }
   ],
   "source": [
    "# tumor size by class\n",
    "pd.DataFrame(data.groupby('tumor size')['class'].value_counts())"
   ]
  },
  {
   "cell_type": "code",
   "execution_count": null,
   "id": "a1016ebb",
   "metadata": {},
   "outputs": [],
   "source": []
  },
  {
   "cell_type": "markdown",
   "id": "e3c79256",
   "metadata": {},
   "source": [
    "# Feature Engineering"
   ]
  },
  {
   "cell_type": "code",
   "execution_count": 19,
   "id": "4b81a09e",
   "metadata": {},
   "outputs": [
    {
     "data": {
      "text/html": [
       "<div>\n",
       "<style scoped>\n",
       "    .dataframe tbody tr th:only-of-type {\n",
       "        vertical-align: middle;\n",
       "    }\n",
       "\n",
       "    .dataframe tbody tr th {\n",
       "        vertical-align: top;\n",
       "    }\n",
       "\n",
       "    .dataframe thead th {\n",
       "        text-align: right;\n",
       "    }\n",
       "</style>\n",
       "<table border=\"1\" class=\"dataframe\">\n",
       "  <thead>\n",
       "    <tr style=\"text-align: right;\">\n",
       "      <th></th>\n",
       "      <th>class</th>\n",
       "      <th>age</th>\n",
       "      <th>menopause</th>\n",
       "      <th>tumor size</th>\n",
       "      <th>inv-node</th>\n",
       "      <th>node-gap</th>\n",
       "      <th>deg-malig</th>\n",
       "      <th>breast</th>\n",
       "      <th>breast-quad</th>\n",
       "      <th>irradiat</th>\n",
       "    </tr>\n",
       "  </thead>\n",
       "  <tbody>\n",
       "    <tr>\n",
       "      <th>0</th>\n",
       "      <td>0</td>\n",
       "      <td>30-39</td>\n",
       "      <td>premeno</td>\n",
       "      <td>30-34</td>\n",
       "      <td>0-2</td>\n",
       "      <td>no</td>\n",
       "      <td>3</td>\n",
       "      <td>left</td>\n",
       "      <td>left_low</td>\n",
       "      <td>no</td>\n",
       "    </tr>\n",
       "    <tr>\n",
       "      <th>1</th>\n",
       "      <td>0</td>\n",
       "      <td>40-49</td>\n",
       "      <td>premeno</td>\n",
       "      <td>20-24</td>\n",
       "      <td>0-2</td>\n",
       "      <td>no</td>\n",
       "      <td>2</td>\n",
       "      <td>right</td>\n",
       "      <td>right_up</td>\n",
       "      <td>no</td>\n",
       "    </tr>\n",
       "    <tr>\n",
       "      <th>2</th>\n",
       "      <td>0</td>\n",
       "      <td>40-49</td>\n",
       "      <td>premeno</td>\n",
       "      <td>20-24</td>\n",
       "      <td>0-2</td>\n",
       "      <td>no</td>\n",
       "      <td>2</td>\n",
       "      <td>left</td>\n",
       "      <td>left_low</td>\n",
       "      <td>no</td>\n",
       "    </tr>\n",
       "    <tr>\n",
       "      <th>3</th>\n",
       "      <td>0</td>\n",
       "      <td>60-69</td>\n",
       "      <td>ge40</td>\n",
       "      <td>15-19</td>\n",
       "      <td>0-2</td>\n",
       "      <td>no</td>\n",
       "      <td>2</td>\n",
       "      <td>right</td>\n",
       "      <td>left_up</td>\n",
       "      <td>no</td>\n",
       "    </tr>\n",
       "    <tr>\n",
       "      <th>4</th>\n",
       "      <td>0</td>\n",
       "      <td>40-49</td>\n",
       "      <td>premeno</td>\n",
       "      <td>0-4</td>\n",
       "      <td>0-2</td>\n",
       "      <td>no</td>\n",
       "      <td>2</td>\n",
       "      <td>right</td>\n",
       "      <td>right_low</td>\n",
       "      <td>no</td>\n",
       "    </tr>\n",
       "  </tbody>\n",
       "</table>\n",
       "</div>"
      ],
      "text/plain": [
       "   class    age menopause tumor size inv-node node-gap  deg-malig breast  \\\n",
       "0      0  30-39   premeno      30-34      0-2       no          3   left   \n",
       "1      0  40-49   premeno      20-24      0-2       no          2  right   \n",
       "2      0  40-49   premeno      20-24      0-2       no          2   left   \n",
       "3      0  60-69      ge40      15-19      0-2       no          2  right   \n",
       "4      0  40-49   premeno        0-4      0-2       no          2  right   \n",
       "\n",
       "  breast-quad irradiat  \n",
       "0    left_low       no  \n",
       "1    right_up       no  \n",
       "2    left_low       no  \n",
       "3     left_up       no  \n",
       "4   right_low       no  "
      ]
     },
     "execution_count": 19,
     "metadata": {},
     "output_type": "execute_result"
    }
   ],
   "source": [
    "data.head()"
   ]
  },
  {
   "cell_type": "code",
   "execution_count": 20,
   "id": "07dca255",
   "metadata": {},
   "outputs": [
    {
     "data": {
      "text/plain": [
       "array(['30-39', '40-49', '60-69', '50-59', '70-79', '20-29'], dtype=object)"
      ]
     },
     "execution_count": 20,
     "metadata": {},
     "output_type": "execute_result"
    }
   ],
   "source": [
    "data['age'].unique()"
   ]
  },
  {
   "cell_type": "code",
   "execution_count": 21,
   "id": "e1fc4064",
   "metadata": {},
   "outputs": [
    {
     "data": {
      "text/plain": [
       "50-59    0.335664\n",
       "40-49    0.314685\n",
       "60-69    0.199301\n",
       "30-39    0.125874\n",
       "70-79    0.020979\n",
       "20-29    0.003497\n",
       "Name: age, dtype: float64"
      ]
     },
     "execution_count": 21,
     "metadata": {},
     "output_type": "execute_result"
    }
   ],
   "source": [
    "data['age'].value_counts(normalize=True)"
   ]
  },
  {
   "cell_type": "code",
   "execution_count": 22,
   "id": "8d7ea716",
   "metadata": {},
   "outputs": [
    {
     "data": {
      "text/html": [
       "<div>\n",
       "<style scoped>\n",
       "    .dataframe tbody tr th:only-of-type {\n",
       "        vertical-align: middle;\n",
       "    }\n",
       "\n",
       "    .dataframe tbody tr th {\n",
       "        vertical-align: top;\n",
       "    }\n",
       "\n",
       "    .dataframe thead th {\n",
       "        text-align: right;\n",
       "    }\n",
       "</style>\n",
       "<table border=\"1\" class=\"dataframe\">\n",
       "  <thead>\n",
       "    <tr style=\"text-align: right;\">\n",
       "      <th></th>\n",
       "      <th></th>\n",
       "      <th>class</th>\n",
       "    </tr>\n",
       "    <tr>\n",
       "      <th>inv-node</th>\n",
       "      <th>class</th>\n",
       "      <th></th>\n",
       "    </tr>\n",
       "  </thead>\n",
       "  <tbody>\n",
       "    <tr>\n",
       "      <th rowspan=\"2\" valign=\"top\">0-2</th>\n",
       "      <th>0</th>\n",
       "      <td>167</td>\n",
       "    </tr>\n",
       "    <tr>\n",
       "      <th>1</th>\n",
       "      <td>46</td>\n",
       "    </tr>\n",
       "    <tr>\n",
       "      <th rowspan=\"2\" valign=\"top\">12-14</th>\n",
       "      <th>1</th>\n",
       "      <td>2</td>\n",
       "    </tr>\n",
       "    <tr>\n",
       "      <th>0</th>\n",
       "      <td>1</td>\n",
       "    </tr>\n",
       "    <tr>\n",
       "      <th rowspan=\"2\" valign=\"top\">15-17</th>\n",
       "      <th>0</th>\n",
       "      <td>3</td>\n",
       "    </tr>\n",
       "    <tr>\n",
       "      <th>1</th>\n",
       "      <td>3</td>\n",
       "    </tr>\n",
       "    <tr>\n",
       "      <th>24-26</th>\n",
       "      <th>1</th>\n",
       "      <td>1</td>\n",
       "    </tr>\n",
       "    <tr>\n",
       "      <th rowspan=\"2\" valign=\"top\">3-5</th>\n",
       "      <th>0</th>\n",
       "      <td>19</td>\n",
       "    </tr>\n",
       "    <tr>\n",
       "      <th>1</th>\n",
       "      <td>17</td>\n",
       "    </tr>\n",
       "    <tr>\n",
       "      <th rowspan=\"2\" valign=\"top\">6-8</th>\n",
       "      <th>1</th>\n",
       "      <td>10</td>\n",
       "    </tr>\n",
       "    <tr>\n",
       "      <th>0</th>\n",
       "      <td>7</td>\n",
       "    </tr>\n",
       "    <tr>\n",
       "      <th rowspan=\"2\" valign=\"top\">9-11</th>\n",
       "      <th>1</th>\n",
       "      <td>6</td>\n",
       "    </tr>\n",
       "    <tr>\n",
       "      <th>0</th>\n",
       "      <td>4</td>\n",
       "    </tr>\n",
       "  </tbody>\n",
       "</table>\n",
       "</div>"
      ],
      "text/plain": [
       "                class\n",
       "inv-node class       \n",
       "0-2      0        167\n",
       "         1         46\n",
       "12-14    1          2\n",
       "         0          1\n",
       "15-17    0          3\n",
       "         1          3\n",
       "24-26    1          1\n",
       "3-5      0         19\n",
       "         1         17\n",
       "6-8      1         10\n",
       "         0          7\n",
       "9-11     1          6\n",
       "         0          4"
      ]
     },
     "execution_count": 22,
     "metadata": {},
     "output_type": "execute_result"
    }
   ],
   "source": [
    "pd.DataFrame(data.groupby(['inv-node'])['class'].value_counts())"
   ]
  },
  {
   "cell_type": "code",
   "execution_count": 23,
   "id": "e4f0f0ef",
   "metadata": {},
   "outputs": [],
   "source": [
    "# 20-29 is less than 1% of the observation so we drop it\n",
    "data = data[~data['age'].isin(['20-29', '70-79']) ]\n",
    "\n",
    "# '?' is also less than 1% of the data so we drop that too\n",
    "data= data[data['breast-quad'] != '?']\n",
    "\n",
    "# 24-25 less than 1% of the observation\n",
    "data= data[data['inv-node'] != '24-26']"
   ]
  },
  {
   "cell_type": "code",
   "execution_count": 24,
   "id": "8fc4f622",
   "metadata": {},
   "outputs": [],
   "source": [
    "data= data[~data['tumor size'].isin(['5-9', '45-49']) & \\\n",
    "           ~data['inv-node'].isin(['12-14', '15-17', '9-11']) & \\\n",
    "           ~data['node-gap'].isin(['?'])]\n",
    "\n",
    "\n",
    "data= data[~data['menopause'].isin(['lt40'])]"
   ]
  },
  {
   "cell_type": "code",
   "execution_count": 25,
   "id": "e753b683",
   "metadata": {},
   "outputs": [
    {
     "data": {
      "text/html": [
       "<div>\n",
       "<style scoped>\n",
       "    .dataframe tbody tr th:only-of-type {\n",
       "        vertical-align: middle;\n",
       "    }\n",
       "\n",
       "    .dataframe tbody tr th {\n",
       "        vertical-align: top;\n",
       "    }\n",
       "\n",
       "    .dataframe thead th {\n",
       "        text-align: right;\n",
       "    }\n",
       "</style>\n",
       "<table border=\"1\" class=\"dataframe\">\n",
       "  <thead>\n",
       "    <tr style=\"text-align: right;\">\n",
       "      <th></th>\n",
       "      <th>class</th>\n",
       "      <th>age</th>\n",
       "      <th>menopause</th>\n",
       "      <th>tumor size</th>\n",
       "      <th>inv-node</th>\n",
       "      <th>node-gap</th>\n",
       "      <th>deg-malig</th>\n",
       "      <th>breast</th>\n",
       "      <th>breast-quad</th>\n",
       "      <th>irradiat</th>\n",
       "    </tr>\n",
       "  </thead>\n",
       "  <tbody>\n",
       "    <tr>\n",
       "      <th>0</th>\n",
       "      <td>0</td>\n",
       "      <td>30-39</td>\n",
       "      <td>premeno</td>\n",
       "      <td>30-34</td>\n",
       "      <td>0-2</td>\n",
       "      <td>no</td>\n",
       "      <td>3</td>\n",
       "      <td>left</td>\n",
       "      <td>left_low</td>\n",
       "      <td>no</td>\n",
       "    </tr>\n",
       "    <tr>\n",
       "      <th>1</th>\n",
       "      <td>0</td>\n",
       "      <td>40-49</td>\n",
       "      <td>premeno</td>\n",
       "      <td>20-24</td>\n",
       "      <td>0-2</td>\n",
       "      <td>no</td>\n",
       "      <td>2</td>\n",
       "      <td>right</td>\n",
       "      <td>right_up</td>\n",
       "      <td>no</td>\n",
       "    </tr>\n",
       "    <tr>\n",
       "      <th>2</th>\n",
       "      <td>0</td>\n",
       "      <td>40-49</td>\n",
       "      <td>premeno</td>\n",
       "      <td>20-24</td>\n",
       "      <td>0-2</td>\n",
       "      <td>no</td>\n",
       "      <td>2</td>\n",
       "      <td>left</td>\n",
       "      <td>left_low</td>\n",
       "      <td>no</td>\n",
       "    </tr>\n",
       "    <tr>\n",
       "      <th>3</th>\n",
       "      <td>0</td>\n",
       "      <td>60-69</td>\n",
       "      <td>ge40</td>\n",
       "      <td>15-19</td>\n",
       "      <td>0-2</td>\n",
       "      <td>no</td>\n",
       "      <td>2</td>\n",
       "      <td>right</td>\n",
       "      <td>left_up</td>\n",
       "      <td>no</td>\n",
       "    </tr>\n",
       "    <tr>\n",
       "      <th>4</th>\n",
       "      <td>0</td>\n",
       "      <td>40-49</td>\n",
       "      <td>premeno</td>\n",
       "      <td>0-4</td>\n",
       "      <td>0-2</td>\n",
       "      <td>no</td>\n",
       "      <td>2</td>\n",
       "      <td>right</td>\n",
       "      <td>right_low</td>\n",
       "      <td>no</td>\n",
       "    </tr>\n",
       "  </tbody>\n",
       "</table>\n",
       "</div>"
      ],
      "text/plain": [
       "   class    age menopause tumor size inv-node node-gap  deg-malig breast  \\\n",
       "0      0  30-39   premeno      30-34      0-2       no          3   left   \n",
       "1      0  40-49   premeno      20-24      0-2       no          2  right   \n",
       "2      0  40-49   premeno      20-24      0-2       no          2   left   \n",
       "3      0  60-69      ge40      15-19      0-2       no          2  right   \n",
       "4      0  40-49   premeno        0-4      0-2       no          2  right   \n",
       "\n",
       "  breast-quad irradiat  \n",
       "0    left_low       no  \n",
       "1    right_up       no  \n",
       "2    left_low       no  \n",
       "3     left_up       no  \n",
       "4   right_low       no  "
      ]
     },
     "execution_count": 25,
     "metadata": {},
     "output_type": "execute_result"
    }
   ],
   "source": [
    "data.head()"
   ]
  },
  {
   "cell_type": "code",
   "execution_count": 26,
   "id": "c992037e",
   "metadata": {},
   "outputs": [
    {
     "data": {
      "text/plain": [
       "array(['premeno', 'ge40'], dtype=object)"
      ]
     },
     "execution_count": 26,
     "metadata": {},
     "output_type": "execute_result"
    }
   ],
   "source": [
    "data['menopause'].unique()"
   ]
  },
  {
   "cell_type": "code",
   "execution_count": 27,
   "id": "98e2296f",
   "metadata": {},
   "outputs": [
    {
     "data": {
      "text/plain": [
       "(242, 10)"
      ]
     },
     "execution_count": 27,
     "metadata": {},
     "output_type": "execute_result"
    }
   ],
   "source": [
    "data.shape"
   ]
  },
  {
   "cell_type": "code",
   "execution_count": 28,
   "id": "fce93315",
   "metadata": {},
   "outputs": [
    {
     "data": {
      "image/png": "[encoded data removed]",
      "text/plain": [
       "<Figure size 576x720 with 10 Axes>"
      ]
     },
     "metadata": {
      "needs_background": "light"
     },
     "output_type": "display_data"
    }
   ],
   "source": [
    "plt.figure(figsize=(8, 10))\n",
    "for index, columns in enumerate(data.columns):\n",
    "    plt.subplot(6, 2, index+1)\n",
    "    plt.tight_layout()\n",
    "    sns.countplot(y= data[columns])"
   ]
  },
  {
   "cell_type": "code",
   "execution_count": null,
   "id": "4c86dfde",
   "metadata": {},
   "outputs": [],
   "source": [
    "# create new features"
   ]
  },
  {
   "cell_type": "code",
   "execution_count": 29,
   "id": "ec42c457",
   "metadata": {},
   "outputs": [],
   "source": [
    "data['age group']= np.where(data['age'].isin(['30-39',]), 'young adult', '')\n",
    "data['age group']= np.where(data['age'].isin(['40-49', '50-59',]), 'middle age', data['age group'])\n",
    "data['age group']= np.where(data['age'].isin(['60-69', '70-79',]), 'old age',data['age group'])"
   ]
  },
  {
   "cell_type": "code",
   "execution_count": 30,
   "id": "ea2fa2d3",
   "metadata": {},
   "outputs": [
    {
     "data": {
      "text/html": [
       "<div>\n",
       "<style scoped>\n",
       "    .dataframe tbody tr th:only-of-type {\n",
       "        vertical-align: middle;\n",
       "    }\n",
       "\n",
       "    .dataframe tbody tr th {\n",
       "        vertical-align: top;\n",
       "    }\n",
       "\n",
       "    .dataframe thead th {\n",
       "        text-align: right;\n",
       "    }\n",
       "</style>\n",
       "<table border=\"1\" class=\"dataframe\">\n",
       "  <thead>\n",
       "    <tr style=\"text-align: right;\">\n",
       "      <th></th>\n",
       "      <th>class</th>\n",
       "      <th>age</th>\n",
       "      <th>menopause</th>\n",
       "      <th>tumor size</th>\n",
       "      <th>inv-node</th>\n",
       "      <th>node-gap</th>\n",
       "      <th>deg-malig</th>\n",
       "      <th>breast</th>\n",
       "      <th>breast-quad</th>\n",
       "      <th>irradiat</th>\n",
       "      <th>age group</th>\n",
       "    </tr>\n",
       "  </thead>\n",
       "  <tbody>\n",
       "    <tr>\n",
       "      <th>0</th>\n",
       "      <td>0</td>\n",
       "      <td>30-39</td>\n",
       "      <td>premeno</td>\n",
       "      <td>30-34</td>\n",
       "      <td>0-2</td>\n",
       "      <td>no</td>\n",
       "      <td>3</td>\n",
       "      <td>left</td>\n",
       "      <td>left_low</td>\n",
       "      <td>no</td>\n",
       "      <td>young adult</td>\n",
       "    </tr>\n",
       "    <tr>\n",
       "      <th>1</th>\n",
       "      <td>0</td>\n",
       "      <td>40-49</td>\n",
       "      <td>premeno</td>\n",
       "      <td>20-24</td>\n",
       "      <td>0-2</td>\n",
       "      <td>no</td>\n",
       "      <td>2</td>\n",
       "      <td>right</td>\n",
       "      <td>right_up</td>\n",
       "      <td>no</td>\n",
       "      <td>middle age</td>\n",
       "    </tr>\n",
       "    <tr>\n",
       "      <th>2</th>\n",
       "      <td>0</td>\n",
       "      <td>40-49</td>\n",
       "      <td>premeno</td>\n",
       "      <td>20-24</td>\n",
       "      <td>0-2</td>\n",
       "      <td>no</td>\n",
       "      <td>2</td>\n",
       "      <td>left</td>\n",
       "      <td>left_low</td>\n",
       "      <td>no</td>\n",
       "      <td>middle age</td>\n",
       "    </tr>\n",
       "    <tr>\n",
       "      <th>3</th>\n",
       "      <td>0</td>\n",
       "      <td>60-69</td>\n",
       "      <td>ge40</td>\n",
       "      <td>15-19</td>\n",
       "      <td>0-2</td>\n",
       "      <td>no</td>\n",
       "      <td>2</td>\n",
       "      <td>right</td>\n",
       "      <td>left_up</td>\n",
       "      <td>no</td>\n",
       "      <td>old age</td>\n",
       "    </tr>\n",
       "    <tr>\n",
       "      <th>4</th>\n",
       "      <td>0</td>\n",
       "      <td>40-49</td>\n",
       "      <td>premeno</td>\n",
       "      <td>0-4</td>\n",
       "      <td>0-2</td>\n",
       "      <td>no</td>\n",
       "      <td>2</td>\n",
       "      <td>right</td>\n",
       "      <td>right_low</td>\n",
       "      <td>no</td>\n",
       "      <td>middle age</td>\n",
       "    </tr>\n",
       "  </tbody>\n",
       "</table>\n",
       "</div>"
      ],
      "text/plain": [
       "   class    age menopause tumor size inv-node node-gap  deg-malig breast  \\\n",
       "0      0  30-39   premeno      30-34      0-2       no          3   left   \n",
       "1      0  40-49   premeno      20-24      0-2       no          2  right   \n",
       "2      0  40-49   premeno      20-24      0-2       no          2   left   \n",
       "3      0  60-69      ge40      15-19      0-2       no          2  right   \n",
       "4      0  40-49   premeno        0-4      0-2       no          2  right   \n",
       "\n",
       "  breast-quad irradiat    age group  \n",
       "0    left_low       no  young adult  \n",
       "1    right_up       no   middle age  \n",
       "2    left_low       no   middle age  \n",
       "3     left_up       no      old age  \n",
       "4   right_low       no   middle age  "
      ]
     },
     "execution_count": 30,
     "metadata": {},
     "output_type": "execute_result"
    }
   ],
   "source": [
    "data.head()"
   ]
  },
  {
   "cell_type": "code",
   "execution_count": 31,
   "id": "545f67c6",
   "metadata": {},
   "outputs": [
    {
     "data": {
      "text/plain": [
       "array(['30-34', '20-24', '15-19', '0-4', '25-29', '50-54', '40-44',\n",
       "       '35-39', '10-14'], dtype=object)"
      ]
     },
     "execution_count": 31,
     "metadata": {},
     "output_type": "execute_result"
    }
   ],
   "source": [
    "data['tumor size'].unique()"
   ]
  },
  {
   "cell_type": "code",
   "execution_count": 32,
   "id": "311c9a99",
   "metadata": {},
   "outputs": [],
   "source": [
    "#g1, Grade1\n",
    "#g1, Grade2\n",
    "#g3, Grade3\n",
    "data['tumor size grp'] = np.where(data['tumor size'].isin(['0-4', '5-9', '10-14', '15-19','20-24',]), 'g1', '')\n",
    "data['tumor size grp'] = np.where(data['tumor size'].isin(['25-29', '30-34', '35-39']), 'g2', data['tumor size grp'])\n",
    "data['tumor size grp'] = np.where(data['tumor size'].isin(['40-44','45-49', '50-54',]), 'g2', data['tumor size grp'])"
   ]
  },
  {
   "cell_type": "code",
   "execution_count": 33,
   "id": "02b50db9",
   "metadata": {
    "scrolled": true
   },
   "outputs": [
    {
     "data": {
      "text/html": [
       "<div>\n",
       "<style scoped>\n",
       "    .dataframe tbody tr th:only-of-type {\n",
       "        vertical-align: middle;\n",
       "    }\n",
       "\n",
       "    .dataframe tbody tr th {\n",
       "        vertical-align: top;\n",
       "    }\n",
       "\n",
       "    .dataframe thead th {\n",
       "        text-align: right;\n",
       "    }\n",
       "</style>\n",
       "<table border=\"1\" class=\"dataframe\">\n",
       "  <thead>\n",
       "    <tr style=\"text-align: right;\">\n",
       "      <th></th>\n",
       "      <th>class</th>\n",
       "      <th>age</th>\n",
       "      <th>menopause</th>\n",
       "      <th>tumor size</th>\n",
       "      <th>inv-node</th>\n",
       "      <th>node-gap</th>\n",
       "      <th>deg-malig</th>\n",
       "      <th>breast</th>\n",
       "      <th>breast-quad</th>\n",
       "      <th>irradiat</th>\n",
       "      <th>age group</th>\n",
       "      <th>tumor size grp</th>\n",
       "    </tr>\n",
       "  </thead>\n",
       "  <tbody>\n",
       "    <tr>\n",
       "      <th>0</th>\n",
       "      <td>0</td>\n",
       "      <td>30-39</td>\n",
       "      <td>premeno</td>\n",
       "      <td>30-34</td>\n",
       "      <td>0-2</td>\n",
       "      <td>no</td>\n",
       "      <td>3</td>\n",
       "      <td>left</td>\n",
       "      <td>left_low</td>\n",
       "      <td>no</td>\n",
       "      <td>young adult</td>\n",
       "      <td>g2</td>\n",
       "    </tr>\n",
       "    <tr>\n",
       "      <th>1</th>\n",
       "      <td>0</td>\n",
       "      <td>40-49</td>\n",
       "      <td>premeno</td>\n",
       "      <td>20-24</td>\n",
       "      <td>0-2</td>\n",
       "      <td>no</td>\n",
       "      <td>2</td>\n",
       "      <td>right</td>\n",
       "      <td>right_up</td>\n",
       "      <td>no</td>\n",
       "      <td>middle age</td>\n",
       "      <td>g1</td>\n",
       "    </tr>\n",
       "    <tr>\n",
       "      <th>2</th>\n",
       "      <td>0</td>\n",
       "      <td>40-49</td>\n",
       "      <td>premeno</td>\n",
       "      <td>20-24</td>\n",
       "      <td>0-2</td>\n",
       "      <td>no</td>\n",
       "      <td>2</td>\n",
       "      <td>left</td>\n",
       "      <td>left_low</td>\n",
       "      <td>no</td>\n",
       "      <td>middle age</td>\n",
       "      <td>g1</td>\n",
       "    </tr>\n",
       "    <tr>\n",
       "      <th>3</th>\n",
       "      <td>0</td>\n",
       "      <td>60-69</td>\n",
       "      <td>ge40</td>\n",
       "      <td>15-19</td>\n",
       "      <td>0-2</td>\n",
       "      <td>no</td>\n",
       "      <td>2</td>\n",
       "      <td>right</td>\n",
       "      <td>left_up</td>\n",
       "      <td>no</td>\n",
       "      <td>old age</td>\n",
       "      <td>g1</td>\n",
       "    </tr>\n",
       "    <tr>\n",
       "      <th>4</th>\n",
       "      <td>0</td>\n",
       "      <td>40-49</td>\n",
       "      <td>premeno</td>\n",
       "      <td>0-4</td>\n",
       "      <td>0-2</td>\n",
       "      <td>no</td>\n",
       "      <td>2</td>\n",
       "      <td>right</td>\n",
       "      <td>right_low</td>\n",
       "      <td>no</td>\n",
       "      <td>middle age</td>\n",
       "      <td>g1</td>\n",
       "    </tr>\n",
       "  </tbody>\n",
       "</table>\n",
       "</div>"
      ],
      "text/plain": [
       "   class    age menopause tumor size inv-node node-gap  deg-malig breast  \\\n",
       "0      0  30-39   premeno      30-34      0-2       no          3   left   \n",
       "1      0  40-49   premeno      20-24      0-2       no          2  right   \n",
       "2      0  40-49   premeno      20-24      0-2       no          2   left   \n",
       "3      0  60-69      ge40      15-19      0-2       no          2  right   \n",
       "4      0  40-49   premeno        0-4      0-2       no          2  right   \n",
       "\n",
       "  breast-quad irradiat    age group tumor size grp  \n",
       "0    left_low       no  young adult             g2  \n",
       "1    right_up       no   middle age             g1  \n",
       "2    left_low       no   middle age             g1  \n",
       "3     left_up       no      old age             g1  \n",
       "4   right_low       no   middle age             g1  "
      ]
     },
     "execution_count": 33,
     "metadata": {},
     "output_type": "execute_result"
    }
   ],
   "source": [
    "data.head()"
   ]
  },
  {
   "cell_type": "code",
   "execution_count": 34,
   "id": "8cd108d9",
   "metadata": {},
   "outputs": [],
   "source": [
    "data['deg-malig'] = data['deg-malig'].astype('object')"
   ]
  },
  {
   "cell_type": "code",
   "execution_count": 35,
   "id": "cbc45fea",
   "metadata": {},
   "outputs": [
    {
     "data": {
      "text/plain": [
       "array([3, 2, 1], dtype=object)"
      ]
     },
     "execution_count": 35,
     "metadata": {},
     "output_type": "execute_result"
    }
   ],
   "source": [
    "data['deg-malig'].unique()"
   ]
  },
  {
   "cell_type": "markdown",
   "id": "a400963a",
   "metadata": {},
   "source": [
    "# Model Development"
   ]
  },
  {
   "cell_type": "code",
   "execution_count": 63,
   "id": "ca0190d0",
   "metadata": {},
   "outputs": [],
   "source": [
    "# classifiers\n",
    "import lightgbm as lgm\n",
    "from sklearn.linear_model import LogisticRegression\n",
    "from sklearn.svm import SVC\n",
    "from sklearn.tree import DecisionTreeClassifier\n",
    "from sklearn.ensemble import RandomForestClassifier\n",
    "\n",
    "\n",
    "# preprocessing & splitting & evaluation\n",
    "from sklearn.metrics import confusion_matrix, classification_report, auc, roc_auc_score, accuracy_score\n",
    "from sklearn.model_selection import learning_curve, KFold, train_test_split, cross_val_score\n",
    "from sklearn.preprocessing import OneHotEncoder\n",
    "from sklearn.pipeline import Pipeline\n",
    "from sklearn.compose import ColumnTransformer\n",
    "\n",
    "\n",
    "# to handle imbalance nature of the target class (if there exist any).\n",
    "from imblearn.over_sampling import SMOTE\n",
    "from imblearn.under_sampling import RandomUnderSampler\n",
    "from imblearn.pipeline import Pipeline as Imblearn_Pipeline\n",
    "\n",
    "smote = SMOTE()"
   ]
  },
  {
   "cell_type": "code",
   "execution_count": 37,
   "id": "de875519",
   "metadata": {},
   "outputs": [],
   "source": [
    "X = data.iloc[:, 1:]\n",
    "y = data['class']"
   ]
  },
  {
   "cell_type": "code",
   "execution_count": 38,
   "id": "7e73bea9",
   "metadata": {},
   "outputs": [],
   "source": [
    "# splitting data into training and testing set\n",
    "X_train, X_test, y_train, y_test= train_test_split(X, y, test_size=.3, stratify=y)"
   ]
  },
  {
   "cell_type": "code",
   "execution_count": 39,
   "id": "54bfc9c6",
   "metadata": {},
   "outputs": [
    {
     "name": "stdout",
     "output_type": "stream",
     "text": [
      "Training set:  (169, 11)\n",
      "Testing set:  (73, 11)\n"
     ]
    }
   ],
   "source": [
    "print('Training set: ', X_train.shape)\n",
    "print('Testing set: ', X_test.shape)"
   ]
  },
  {
   "cell_type": "code",
   "execution_count": 40,
   "id": "00e02535",
   "metadata": {},
   "outputs": [
    {
     "data": {
      "text/plain": [
       "['class',\n",
       " 'age',\n",
       " 'menopause',\n",
       " 'tumor size',\n",
       " 'inv-node',\n",
       " 'node-gap',\n",
       " 'deg-malig',\n",
       " 'breast',\n",
       " 'breast-quad',\n",
       " 'irradiat',\n",
       " 'age group',\n",
       " 'tumor size grp']"
      ]
     },
     "execution_count": 40,
     "metadata": {},
     "output_type": "execute_result"
    }
   ],
   "source": [
    "list(data)"
   ]
  },
  {
   "cell_type": "code",
   "execution_count": 41,
   "id": "404b1a9f",
   "metadata": {},
   "outputs": [
    {
     "name": "stdout",
     "output_type": "stream",
     "text": [
      "<class 'pandas.core.frame.DataFrame'>\n",
      "Int64Index: 242 entries, 0 to 285\n",
      "Data columns (total 12 columns):\n",
      " #   Column          Non-Null Count  Dtype \n",
      "---  ------          --------------  ----- \n",
      " 0   class           242 non-null    int64 \n",
      " 1   age             242 non-null    object\n",
      " 2   menopause       242 non-null    object\n",
      " 3   tumor size      242 non-null    object\n",
      " 4   inv-node        242 non-null    object\n",
      " 5   node-gap        242 non-null    object\n",
      " 6   deg-malig       242 non-null    object\n",
      " 7   breast          242 non-null    object\n",
      " 8   breast-quad     242 non-null    object\n",
      " 9   irradiat        242 non-null    object\n",
      " 10  age group       242 non-null    object\n",
      " 11  tumor size grp  242 non-null    object\n",
      "dtypes: int64(1), object(11)\n",
      "memory usage: 32.7+ KB\n"
     ]
    }
   ],
   "source": [
    "data.info()"
   ]
  },
  {
   "cell_type": "code",
   "execution_count": 42,
   "id": "0509dc86",
   "metadata": {},
   "outputs": [],
   "source": [
    "# build a pipeline\n",
    "cols = list(X_train.iloc[:, 0:])\n",
    "\n",
    "transformer = ColumnTransformer([('one hot', OneHotEncoder(), cols )])\n",
    "\n",
    "model_pipe = Pipeline([('transformer', transformer), \n",
    "                       ('classifier', LogisticRegression())\n",
    "                      ])"
   ]
  },
  {
   "cell_type": "code",
   "execution_count": 43,
   "id": "b1aaef4b",
   "metadata": {},
   "outputs": [
    {
     "data": {
      "text/plain": [
       "Pipeline(steps=[('transformer',\n",
       "                 ColumnTransformer(transformers=[('one hot', OneHotEncoder(),\n",
       "                                                  ['age', 'menopause',\n",
       "                                                   'tumor size', 'inv-node',\n",
       "                                                   'node-gap', 'deg-malig',\n",
       "                                                   'breast', 'breast-quad',\n",
       "                                                   'irradiat', 'age group',\n",
       "                                                   'tumor size grp'])])),\n",
       "                ('classifier', LogisticRegression())])"
      ]
     },
     "execution_count": 43,
     "metadata": {},
     "output_type": "execute_result"
    }
   ],
   "source": [
    "model_pipe.fit(X_train, y_train)"
   ]
  },
  {
   "cell_type": "code",
   "execution_count": 44,
   "id": "46effafd",
   "metadata": {},
   "outputs": [
    {
     "data": {
      "text/plain": [
       "array([0, 0, 0, 0, 0, 1, 0, 0, 0, 0, 0, 0, 0, 0, 0, 0, 0, 0, 1, 0, 0, 0,\n",
       "       0, 0, 0, 0, 1, 0, 0, 1, 0, 0, 0, 0, 0, 0, 0, 0, 1])"
      ]
     },
     "execution_count": 44,
     "metadata": {},
     "output_type": "execute_result"
    }
   ],
   "source": [
    "model_pipe.predict(X_test.iloc[1:40, :])"
   ]
  },
  {
   "cell_type": "code",
   "execution_count": 45,
   "id": "a1db3240",
   "metadata": {},
   "outputs": [
    {
     "data": {
      "text/plain": [
       "0.6712328767123288"
      ]
     },
     "execution_count": 45,
     "metadata": {},
     "output_type": "execute_result"
    }
   ],
   "source": [
    "model_pipe.score(X_test, y_test)"
   ]
  },
  {
   "cell_type": "code",
   "execution_count": null,
   "id": "f19906c5",
   "metadata": {},
   "outputs": [],
   "source": []
  },
  {
   "cell_type": "markdown",
   "id": "fa1ba08c",
   "metadata": {},
   "source": [
    "# Evaluation"
   ]
  },
  {
   "cell_type": "code",
   "execution_count": 71,
   "id": "36aa0d67",
   "metadata": {},
   "outputs": [],
   "source": [
    "lr = LogisticRegression(C=1000, class_weight='balanced', max_iter=100000)\n",
    "svc = SVC(C=1000, class_weight='balanced')\n",
    "tree = DecisionTreeClassifier(max_features=5, max_depth=10, max_leaf_nodes=10)\n",
    "rf= RandomForestClassifier(max_depth=20, max_features=7, class_weight='balanced')"
   ]
  },
  {
   "cell_type": "code",
   "execution_count": 47,
   "id": "879297a5",
   "metadata": {},
   "outputs": [],
   "source": [
    "models = [lr, svc, tree, rf]; names= ['logit', 'svc', 'decision tree', 'random forest']"
   ]
  },
  {
   "cell_type": "code",
   "execution_count": 67,
   "id": "2eefecbe",
   "metadata": {},
   "outputs": [],
   "source": [
    "# train different algorithms and score & evaluate them..\n",
    "model_list= []\n",
    "acc = []\n",
    "\n",
    "for name, model in zip(names, models):\n",
    "    \n",
    "    pipe = Imblearn_Pipeline([('transformer', transformer), ('smote', smote),\n",
    "                       ('classifier'+str(name), model)\n",
    "                      ])\n",
    "    pipe.fit(X_train, y_train)\n",
    "    y_pred = pipe.predict(X_test)\n",
    "    accuracy = accuracy_score(y_test, y_pred)\n",
    "    acc.append(accuracy)\n",
    "    model_list.append(pipe)\n",
    "    "
   ]
  },
  {
   "cell_type": "code",
   "execution_count": 68,
   "id": "9d25da43",
   "metadata": {},
   "outputs": [
    {
     "data": {
      "text/plain": [
       "logit            0.616438\n",
       "svc              0.657534\n",
       "decision tree    0.643836\n",
       "random forest    0.753425\n",
       "dtype: float64"
      ]
     },
     "execution_count": 68,
     "metadata": {},
     "output_type": "execute_result"
    }
   ],
   "source": [
    "# accuracy scores\n",
    "pd.Series(acc, index=names)"
   ]
  },
  {
   "cell_type": "code",
   "execution_count": 69,
   "id": "4a04c4cb",
   "metadata": {},
   "outputs": [
    {
     "name": "stdout",
     "output_type": "stream",
     "text": [
      "-------------------------------------------\n",
      "\n",
      "logit classification report\n",
      "              precision    recall  f1-score   support\n",
      "\n",
      "           0       0.74      0.71      0.73        52\n",
      "           1       0.35      0.38      0.36        21\n",
      "\n",
      "    accuracy                           0.62        73\n",
      "   macro avg       0.54      0.55      0.54        73\n",
      "weighted avg       0.63      0.62      0.62        73\n",
      "\n",
      "-------------------------------------------\n",
      "\n",
      "svc classification report\n",
      "              precision    recall  f1-score   support\n",
      "\n",
      "           0       0.73      0.83      0.77        52\n",
      "           1       0.36      0.24      0.29        21\n",
      "\n",
      "    accuracy                           0.66        73\n",
      "   macro avg       0.54      0.53      0.53        73\n",
      "weighted avg       0.62      0.66      0.63        73\n",
      "\n",
      "-------------------------------------------\n",
      "\n",
      "decision tree classification report\n",
      "              precision    recall  f1-score   support\n",
      "\n",
      "           0       0.74      0.77      0.75        52\n",
      "           1       0.37      0.33      0.35        21\n",
      "\n",
      "    accuracy                           0.64        73\n",
      "   macro avg       0.55      0.55      0.55        73\n",
      "weighted avg       0.63      0.64      0.64        73\n",
      "\n",
      "-------------------------------------------\n",
      "\n",
      "random forest classification report\n",
      "              precision    recall  f1-score   support\n",
      "\n",
      "           0       0.76      0.96      0.85        52\n",
      "           1       0.71      0.24      0.36        21\n",
      "\n",
      "    accuracy                           0.75        73\n",
      "   macro avg       0.74      0.60      0.60        73\n",
      "weighted avg       0.75      0.75      0.71        73\n",
      "\n"
     ]
    }
   ],
   "source": [
    "# Classifiction report\n",
    "for name, model in zip(names, model_list):\n",
    "    preds = model.predict(X_test)\n",
    "    print('-------------------------------------------\\n')\n",
    "    print(name+' classification report')\n",
    "    print(classification_report(y_test, preds))"
   ]
  },
  {
   "cell_type": "code",
   "execution_count": null,
   "id": "22bc1fea",
   "metadata": {},
   "outputs": [],
   "source": []
  },
  {
   "cell_type": "code",
   "execution_count": 72,
   "id": "066eaae3",
   "metadata": {},
   "outputs": [],
   "source": [
    "k = KFold(n_splits=20, shuffle=True)\n",
    "\n",
    "myscores = []\n",
    "for  model in model_list:\n",
    "        scores = cross_val_score(\n",
    "            model,\n",
    "            X = X_train,\n",
    "            y = y_train,\n",
    "            scoring='accuracy',\n",
    "            cv=k, )\n",
    "        myscores.append(scores)"
   ]
  },
  {
   "cell_type": "code",
   "execution_count": 73,
   "id": "6f888372",
   "metadata": {},
   "outputs": [
    {
     "data": {
      "text/plain": [
       "Text(0.5, 1.0, 'accuracy scores')"
      ]
     },
     "execution_count": 73,
     "metadata": {},
     "output_type": "execute_result"
    },
    {
     "data": {
      "image/png": "[encoded data removed]",
      "text/plain": [
       "<Figure size 432x288 with 1 Axes>"
      ]
     },
     "metadata": {
      "needs_background": "light"
     },
     "output_type": "display_data"
    }
   ],
   "source": [
    "ax = pd.DataFrame(myscores, index=names).T.boxplot()\n",
    "ax.set_title('accuracy scores')"
   ]
  },
  {
   "cell_type": "code",
   "execution_count": 74,
   "id": "aa306db1",
   "metadata": {},
   "outputs": [
    {
     "data": {
      "text/plain": [
       "<AxesSubplot:title={'center':'Feature Importance (Decision Tree)'}>"
      ]
     },
     "execution_count": 74,
     "metadata": {},
     "output_type": "execute_result"
    },
    {
     "data": {
      "image/png": "[encoded data removed]",
      "text/plain": [
       "<Figure size 720x1152 with 1 Axes>"
      ]
     },
     "metadata": {
      "needs_background": "light"
     },
     "output_type": "display_data"
    }
   ],
   "source": [
    "# decsion tree \n",
    "imps = model_list[2].named_steps['classifierdecision tree'].feature_importances_\n",
    "named = model_list[2].named_steps['transformer'].transformers_[0][1].get_feature_names(cols)\n",
    "pd.Series(imps, index=named).sort_values().plot(kind='barh', figsize=(10, 16), \n",
    "                                                title='Feature Importance (Decision Tree)')"
   ]
  },
  {
   "cell_type": "code",
   "execution_count": 75,
   "id": "922576ef",
   "metadata": {},
   "outputs": [
    {
     "data": {
      "text/plain": [
       "<AxesSubplot:title={'center':'Feature Importance (Random Forest)'}>"
      ]
     },
     "execution_count": 75,
     "metadata": {},
     "output_type": "execute_result"
    },
    {
     "data": {
      "image/png": "[encoded data removed]",
      "text/plain": [
       "<Figure size 720x1152 with 1 Axes>"
      ]
     },
     "metadata": {
      "needs_background": "light"
     },
     "output_type": "display_data"
    }
   ],
   "source": [
    "# random forest classifier generated feature importance\n",
    "imps = model_list[3].named_steps['classifierrandom forest'].feature_importances_\n",
    "named = model_list[3].named_steps['transformer'].transformers_[0][1].get_feature_names(cols)\n",
    "pd.Series(imps, index=named).sort_values().plot(kind='barh', figsize=(10, 16),\n",
    "                                                title='Feature Importance (Random Forest)')"
   ]
  },
  {
   "cell_type": "code",
   "execution_count": null,
   "id": "4f4ef07c",
   "metadata": {},
   "outputs": [],
   "source": []
  },
  {
   "cell_type": "code",
   "execution_count": 55,
   "id": "24190a0b",
   "metadata": {},
   "outputs": [],
   "source": [
    "# testing advance algorithms\n",
    "from  lightgbm import LGBMClassifier"
   ]
  },
  {
   "cell_type": "code",
   "execution_count": 56,
   "id": "ae038698",
   "metadata": {},
   "outputs": [],
   "source": [
    "booster = LGBMClassifier(\n",
    "    boosting_type = 'gbdt',\n",
    "    num_leaves= 100,\n",
    "    max_depth = -1,\n",
    "    learning_rate = 0.01,\n",
    "    n_estimators = 100,\n",
    "    subsample_for_bin = 2000,\n",
    "    class_weight='balanced',\n",
    "    min_child_weight= 0.001,\n",
    "    min_child_samples= 20,\n",
    "    num_iterations= 10000,\n",
    "    n_jobs = -1,\n",
    "    \n",
    ")\n",
    "\n",
    "transformer = ColumnTransformer([('one hot', OneHotEncoder(), cols )])\n",
    "model_pipe1 = Pipeline([('transformer', transformer), \n",
    "                       ('classifier', booster)\n",
    "                      ])"
   ]
  },
  {
   "cell_type": "code",
   "execution_count": 57,
   "id": "b23cecb5",
   "metadata": {},
   "outputs": [
    {
     "name": "stderr",
     "output_type": "stream",
     "text": [
      "/home/michael/python3-dist/anaconda/lib/python3.8/site-packages/lightgbm/engine.py:148: UserWarning: Found `num_iterations` in params. Will use it instead of argument\n",
      "  _log_warning(\"Found `{}` in params. Will use it instead of argument\".format(alias))\n"
     ]
    },
    {
     "data": {
      "text/plain": [
       "Pipeline(steps=[('transformer',\n",
       "                 ColumnTransformer(transformers=[('one hot', OneHotEncoder(),\n",
       "                                                  ['age', 'menopause',\n",
       "                                                   'tumor size', 'inv-node',\n",
       "                                                   'node-gap', 'deg-malig',\n",
       "                                                   'breast', 'breast-quad',\n",
       "                                                   'irradiat', 'age group',\n",
       "                                                   'tumor size grp'])])),\n",
       "                ('classifier',\n",
       "                 LGBMClassifier(class_weight='balanced', learning_rate=0.01,\n",
       "                                num_iterations=10000, num_leaves=100,\n",
       "                                subsample_for_bin=2000))])"
      ]
     },
     "execution_count": 57,
     "metadata": {},
     "output_type": "execute_result"
    }
   ],
   "source": [
    "model_pipe1.fit(X_train, y_train)"
   ]
  },
  {
   "cell_type": "code",
   "execution_count": 58,
   "id": "62e2629d",
   "metadata": {},
   "outputs": [
    {
     "data": {
      "text/plain": [
       "array([0, 0, 0, 0, 0, 1, 1, 0, 0, 0, 0, 0, 0, 1, 0, 1, 0, 0, 0, 0, 1, 0,\n",
       "       1, 1, 0, 1, 0, 0, 0, 0, 0, 0, 0, 0, 0, 0, 0, 1, 0, 1, 0, 0, 0, 1,\n",
       "       0, 0, 0, 1, 0, 0, 1, 0, 1, 0, 0, 0, 0, 0, 0, 0, 0, 0, 0, 0, 0, 0,\n",
       "       1, 0, 0, 1, 0, 1, 0])"
      ]
     },
     "execution_count": 58,
     "metadata": {},
     "output_type": "execute_result"
    }
   ],
   "source": [
    "model_pipe1.predict(X_test)"
   ]
  },
  {
   "cell_type": "code",
   "execution_count": 59,
   "id": "b6fb76cc",
   "metadata": {},
   "outputs": [
    {
     "data": {
      "text/plain": [
       "0.6164383561643836"
      ]
     },
     "execution_count": 59,
     "metadata": {},
     "output_type": "execute_result"
    }
   ],
   "source": [
    "# light gradient boosted model prediction\n",
    "model_pipe1.score(X_test, y_test)"
   ]
  },
  {
   "cell_type": "code",
   "execution_count": null,
   "id": "5ebe7e8a",
   "metadata": {},
   "outputs": [],
   "source": []
  },
  {
   "cell_type": "markdown",
   "id": "4968d1b9",
   "metadata": {},
   "source": [
    "# Hyper-Parameter tuning"
   ]
  },
  {
   "cell_type": "code",
   "execution_count": 81,
   "id": "ac0968cb",
   "metadata": {},
   "outputs": [],
   "source": [
    "# Tuning the best performing model...\n",
    "from sklearn.model_selection import GridSearchCV\n",
    "\n",
    "para_grid = {'clf__max_depth': [10, 11, 13, 17, 20, 31],\n",
    "            'clf__max_features': [3, 4, 5, 6, 7, 10, 12, 17],\n",
    "            'clf__max_leaf_nodes': [2, 10, 13, 17],\n",
    "             'clf__n_estimators': [200]\n",
    "            }\n",
    "\n",
    "rf_pipe = Imblearn_Pipeline([('col transf', transformer), \n",
    "                             ('smote', smote), \n",
    "                             ('clf', RandomForestClassifier())]\n",
    "                           )\n",
    "\n",
    "tuned_rf =GridSearchCV(rf_pipe, para_grid, n_jobs=-1)\n",
    "tuned_rf.fit(X_train, y_train);"
   ]
  },
  {
   "cell_type": "code",
   "execution_count": 82,
   "id": "ce4f97f4",
   "metadata": {},
   "outputs": [
    {
     "data": {
      "text/plain": [
       "0.7458110516934047"
      ]
     },
     "execution_count": 82,
     "metadata": {},
     "output_type": "execute_result"
    }
   ],
   "source": [
    "tuned_rf.best_score_"
   ]
  },
  {
   "cell_type": "code",
   "execution_count": 84,
   "id": "a94f9e74",
   "metadata": {},
   "outputs": [
    {
     "data": {
      "text/plain": [
       "['output/model.pkl']"
      ]
     },
     "execution_count": 84,
     "metadata": {},
     "output_type": "execute_result"
    }
   ],
   "source": [
    "# save the model\n",
    "from joblib import dump\n",
    "\n",
    "dump(tuned_rf, 'output/model.pkl')"
   ]
  },
  {
   "cell_type": "code",
   "execution_count": 86,
   "id": "f004e461",
   "metadata": {},
   "outputs": [],
   "source": [
    "X_test.to_csv('output/sample_final.csv')"
   ]
  },
  {
   "cell_type": "code",
   "execution_count": null,
   "id": "6fc62e57",
   "metadata": {},
   "outputs": [],
   "source": []
  }
 ],
 "metadata": {
  "kernelspec": {
   "display_name": "Python 3",
   "language": "python",
   "name": "python3"
  },
  "language_info": {
   "codemirror_mode": {
    "name": "ipython",
    "version": 3
   },
   "file_extension": ".py",
   "mimetype": "text/x-python",
   "name": "python",
   "nbconvert_exporter": "python",
   "pygments_lexer": "ipython3",
   "version": "3.8.8"
  }
 },
 "nbformat": 4,
 "nbformat_minor": 5
}
